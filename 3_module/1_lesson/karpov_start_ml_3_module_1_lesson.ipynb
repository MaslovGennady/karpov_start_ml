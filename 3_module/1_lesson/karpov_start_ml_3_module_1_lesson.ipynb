{
 "cells": [
  {
   "cell_type": "code",
   "execution_count": 2,
   "metadata": {},
   "outputs": [],
   "source": [
    "import torch"
   ]
  },
  {
   "cell_type": "code",
   "execution_count": 3,
   "metadata": {},
   "outputs": [],
   "source": [
    "def function01(tensor: torch.Tensor, count_over: str) -> torch.Tensor:\n",
    "    if count_over == 'columns':\n",
    "        return tensor.mean(dim=0)\n",
    "    elif count_over == 'rows':\n",
    "        return tensor.mean(dim=1)"
   ]
  },
  {
   "cell_type": "code",
   "execution_count": 13,
   "metadata": {},
   "outputs": [
    {
     "data": {
      "text/plain": [
       "tensor([[1., 2.],\n",
       "        [3., 4.],\n",
       "        [5., 6.]])"
      ]
     },
     "execution_count": 13,
     "metadata": {},
     "output_type": "execute_result"
    }
   ],
   "source": [
    "some_data = [[1, 2], [3, 4], [5, 6]]\n",
    "some_tensor = torch.tensor(some_data, dtype=torch.float32)\n",
    "some_tensor"
   ]
  },
  {
   "cell_type": "code",
   "execution_count": 14,
   "metadata": {},
   "outputs": [
    {
     "data": {
      "text/plain": [
       "tensor([3., 4.])"
      ]
     },
     "execution_count": 14,
     "metadata": {},
     "output_type": "execute_result"
    }
   ],
   "source": [
    "function01(some_tensor, 'columns')"
   ]
  },
  {
   "cell_type": "code",
   "execution_count": 15,
   "metadata": {},
   "outputs": [
    {
     "data": {
      "text/plain": [
       "tensor([1.5000, 3.5000, 5.5000])"
      ]
     },
     "execution_count": 15,
     "metadata": {},
     "output_type": "execute_result"
    }
   ],
   "source": [
    "function01(some_tensor, 'rows')"
   ]
  },
  {
   "cell_type": "code",
   "execution_count": 19,
   "metadata": {},
   "outputs": [
    {
     "data": {
      "text/plain": [
       "2"
      ]
     },
     "execution_count": 19,
     "metadata": {},
     "output_type": "execute_result"
    }
   ],
   "source": [
    "some_tensor.shape[1]"
   ]
  },
  {
   "cell_type": "code",
   "execution_count": 24,
   "metadata": {},
   "outputs": [],
   "source": [
    "def function02(tensor: torch.Tensor) -> torch.Tensor:\n",
    "    shape = tensor.shape[1]\n",
    "    return torch.rand(shape, dtype=torch.float32, requires_grad=True)"
   ]
  },
  {
   "cell_type": "code",
   "execution_count": 25,
   "metadata": {},
   "outputs": [
    {
     "data": {
      "text/plain": [
       "tensor([0.3706, 0.5586], requires_grad=True)"
      ]
     },
     "execution_count": 25,
     "metadata": {},
     "output_type": "execute_result"
    }
   ],
   "source": [
    "function02(some_tensor)"
   ]
  },
  {
   "cell_type": "code",
   "execution_count": 31,
   "metadata": {},
   "outputs": [
    {
     "data": {
      "text/plain": [
       "tensor([1.4068, 0.3196])"
      ]
     },
     "execution_count": 31,
     "metadata": {},
     "output_type": "execute_result"
    }
   ],
   "source": [
    "n_features = 2         # Размерность указана для примера, не нужно использовать её в коде\n",
    "n_objects = 300\n",
    "\n",
    "w_true = torch.randn(n_features)\n",
    "w_true"
   ]
  },
  {
   "cell_type": "code",
   "execution_count": 32,
   "metadata": {},
   "outputs": [],
   "source": [
    "X = (torch.rand(n_objects, n_features) - 0.5) * 5"
   ]
  },
  {
   "cell_type": "code",
   "execution_count": 33,
   "metadata": {},
   "outputs": [],
   "source": [
    "Y = X @ w_true + torch.randn(n_objects) / 2"
   ]
  },
  {
   "cell_type": "code",
   "execution_count": 39,
   "metadata": {},
   "outputs": [],
   "source": [
    "def function03(x: torch.Tensor, y: torch.Tensor):\n",
    "    shape = x.shape[1]\n",
    "    w = torch.rand(shape, dtype=torch.float32, requires_grad=True)\n",
    "    \n",
    "    n_steps = 200\n",
    "    step_size = 1e-2\n",
    "    \n",
    "    for i in range(n_steps):\n",
    "        y_pred = torch.matmul(x, w)\n",
    "        mse = torch.mean((y_pred - y) ** 2)\n",
    "        \n",
    "        if i < 20 or i % 10 == 0:\n",
    "            print(f'MSE на шаге {i + 1} {mse.item():.5f}')\n",
    "            \n",
    "        mse.backward()\n",
    "        \n",
    "        with torch.no_grad():\n",
    "            w -= w.grad * step_size\n",
    "            \n",
    "        w.grad.zero_()\n",
    "    \n",
    "    return w"
   ]
  },
  {
   "cell_type": "code",
   "execution_count": 40,
   "metadata": {},
   "outputs": [
    {
     "name": "stdout",
     "output_type": "stream",
     "text": [
      "MSE на шаге 1 2.57571\n",
      "MSE на шаге 2 2.39131\n",
      "MSE на шаге 3 2.22156\n",
      "MSE на шаге 4 2.06530\n",
      "MSE на шаге 5 1.92145\n",
      "MSE на шаге 6 1.78903\n",
      "MSE на шаге 7 1.66712\n",
      "MSE на шаге 8 1.55490\n",
      "MSE на шаге 9 1.45158\n",
      "MSE на шаге 10 1.35647\n",
      "MSE на шаге 11 1.26890\n",
      "MSE на шаге 12 1.18828\n",
      "MSE на шаге 13 1.11406\n",
      "MSE на шаге 14 1.04573\n",
      "MSE на шаге 15 0.98282\n",
      "MSE на шаге 16 0.92490\n",
      "MSE на шаге 17 0.87157\n",
      "MSE на шаге 18 0.82247\n",
      "MSE на шаге 19 0.77727\n",
      "MSE на шаге 20 0.73564\n",
      "MSE на шаге 21 0.69732\n",
      "MSE на шаге 31 0.44702\n",
      "MSE на шаге 41 0.33729\n",
      "MSE на шаге 51 0.28913\n",
      "MSE на шаге 61 0.26797\n",
      "MSE на шаге 71 0.25866\n",
      "MSE на шаге 81 0.25456\n",
      "MSE на шаге 91 0.25276\n",
      "MSE на шаге 101 0.25196\n",
      "MSE на шаге 111 0.25161\n",
      "MSE на шаге 121 0.25146\n",
      "MSE на шаге 131 0.25139\n",
      "MSE на шаге 141 0.25136\n",
      "MSE на шаге 151 0.25134\n",
      "MSE на шаге 161 0.25134\n",
      "MSE на шаге 171 0.25134\n",
      "MSE на шаге 181 0.25133\n",
      "MSE на шаге 191 0.25133\n"
     ]
    },
    {
     "data": {
      "text/plain": [
       "tensor([1.4190, 0.3203], requires_grad=True)"
      ]
     },
     "execution_count": 40,
     "metadata": {},
     "output_type": "execute_result"
    }
   ],
   "source": [
    "function03(X, Y)"
   ]
  },
  {
   "cell_type": "code",
   "execution_count": 44,
   "metadata": {},
   "outputs": [],
   "source": [
    "from torch import nn"
   ]
  },
  {
   "cell_type": "code",
   "execution_count": 54,
   "metadata": {},
   "outputs": [],
   "source": [
    "def function04(x: torch.Tensor, y: torch.Tensor):\n",
    "    n_features = x.shape[1]\n",
    "    layer = nn.Linear(in_features=n_features, out_features=1)\n",
    "    \n",
    "    n_steps = 200\n",
    "    step_size = 1e-2\n",
    "    \n",
    "    for i in range(n_steps):\n",
    "        y_pred = layer(x).ravel()\n",
    "    \n",
    "        mse = torch.mean((y_pred - y) ** 2)\n",
    "        \n",
    "        if i < 20 or i % 10 == 0:\n",
    "            print(f'MSE на шаге {i + 1} {mse.item():.5f}')\n",
    "    \n",
    "        mse.backward()\n",
    "    \n",
    "        with torch.no_grad():\n",
    "            layer.weight -= layer.weight.grad * step_size\n",
    "        \n",
    "        layer.zero_grad()\n",
    "        \n",
    "    return layer"
   ]
  },
  {
   "cell_type": "code",
   "execution_count": 55,
   "metadata": {},
   "outputs": [
    {
     "name": "stdout",
     "output_type": "stream",
     "text": [
      "MSE на шаге 1 2.22646\n",
      "MSE на шаге 2 2.07369\n",
      "MSE на шаге 3 1.93287\n",
      "MSE на шаге 4 1.80306\n",
      "MSE на шаге 5 1.68340\n",
      "MSE на шаге 6 1.57310\n",
      "MSE на шаге 7 1.47141\n",
      "MSE на шаге 8 1.37768\n",
      "MSE на шаге 9 1.29127\n",
      "MSE на шаге 10 1.21161\n",
      "MSE на шаге 11 1.13818\n",
      "MSE на шаге 12 1.07049\n",
      "MSE на шаге 13 1.00809\n",
      "MSE на шаге 14 0.95056\n",
      "MSE на шаге 15 0.89753\n",
      "MSE на шаге 16 0.84864\n",
      "MSE на шаге 17 0.80357\n",
      "MSE на шаге 18 0.76202\n",
      "MSE на шаге 19 0.72372\n",
      "MSE на шаге 20 0.68841\n",
      "MSE на шаге 21 0.65585\n",
      "MSE на шаге 31 0.44198\n",
      "MSE на шаге 41 0.34709\n",
      "MSE на шаге 51 0.30498\n",
      "MSE на шаге 61 0.28628\n",
      "MSE на шаге 71 0.27797\n",
      "MSE на шаге 81 0.27428\n",
      "MSE на шаге 91 0.27264\n",
      "MSE на шаге 101 0.27191\n",
      "MSE на шаге 111 0.27159\n",
      "MSE на шаге 121 0.27145\n",
      "MSE на шаге 131 0.27138\n",
      "MSE на шаге 141 0.27135\n",
      "MSE на шаге 151 0.27134\n",
      "MSE на шаге 161 0.27133\n",
      "MSE на шаге 171 0.27133\n",
      "MSE на шаге 181 0.27133\n",
      "MSE на шаге 191 0.27133\n"
     ]
    },
    {
     "data": {
      "text/plain": [
       "Linear(in_features=2, out_features=1, bias=True)"
      ]
     },
     "execution_count": 55,
     "metadata": {},
     "output_type": "execute_result"
    }
   ],
   "source": [
    "function04(X, Y)"
   ]
  },
  {
   "cell_type": "code",
   "execution_count": null,
   "metadata": {},
   "outputs": [],
   "source": []
  }
 ],
 "metadata": {
  "kernelspec": {
   "display_name": "Python 3",
   "language": "python",
   "name": "python3"
  },
  "language_info": {
   "codemirror_mode": {
    "name": "ipython",
    "version": 3
   },
   "file_extension": ".py",
   "mimetype": "text/x-python",
   "name": "python",
   "nbconvert_exporter": "python",
   "pygments_lexer": "ipython3",
   "version": "3.7.4"
  }
 },
 "nbformat": 4,
 "nbformat_minor": 2
}
