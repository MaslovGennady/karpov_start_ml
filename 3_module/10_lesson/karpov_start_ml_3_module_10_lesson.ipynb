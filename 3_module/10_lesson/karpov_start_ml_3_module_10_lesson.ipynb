{
 "cells": [
  {
   "cell_type": "code",
   "execution_count": 2,
   "metadata": {},
   "outputs": [
    {
     "name": "stdout",
     "output_type": "stream",
     "text": [
      "Collecting dill==0.3.7\n",
      "  Using cached https://files.pythonhosted.org/packages/f5/3a/74a29b11cf2cdfcd6ba89c0cecd70b37cd1ba7b77978ce611eb7a146a832/dill-0.3.7-py3-none-any.whl\n",
      "Collecting packaging\n",
      "  Using cached https://files.pythonhosted.org/packages/49/df/1fceb2f8900f8639e278b056416d49134fb8d84c5942ffaa01ad34782422/packaging-24.0-py3-none-any.whl\n",
      "Installing collected packages: dill, packaging\n",
      "  Found existing installation: dill 0.3.6\n",
      "    Uninstalling dill-0.3.6:\n",
      "      Successfully uninstalled dill-0.3.6\n",
      "  Found existing installation: packaging 24.0\n",
      "    Uninstalling packaging-24.0:\n",
      "      Successfully uninstalled packaging-24.0\n",
      "Successfully installed dill-0.3.7 packaging-24.0\n"
     ]
    },
    {
     "name": "stderr",
     "output_type": "stream",
     "text": [
      "ERROR: datasets 2.13.2 has requirement dill<0.3.7,>=0.3.0, but you'll have dill 0.3.7 which is incompatible.\n"
     ]
    }
   ],
   "source": [
    "! pip install --upgrade --force-reinstall dill==0.3.7 packaging"
   ]
  },
  {
   "cell_type": "code",
   "execution_count": 4,
   "metadata": {},
   "outputs": [
    {
     "name": "stdout",
     "output_type": "stream",
     "text": [
      "Collecting datasets==2.13.2\n",
      "  Using cached https://files.pythonhosted.org/packages/d3/95/ef83542e7a8e2bfc4432ee2cd8a6b52eb30fb1e605871e8871e94ce65fb1/datasets-2.13.2-py3-none-any.whl\n",
      "Collecting multiprocess (from datasets==2.13.2)\n",
      "  Using cached https://files.pythonhosted.org/packages/ca/3f/8354ce12fd13bd5c5bb4722261a10ca1d6e2eb7c1c08fa3d8a4e9dc98f44/multiprocess-0.70.15-py37-none-any.whl\n",
      "Collecting xxhash (from datasets==2.13.2)\n",
      "  Using cached https://files.pythonhosted.org/packages/2c/c4/b02b3eab279dbaa749d30268b9db71aea03f55249cf91861db5213458729/xxhash-3.5.0-cp37-cp37m-win_amd64.whl\n",
      "Collecting packaging (from datasets==2.13.2)\n",
      "  Using cached https://files.pythonhosted.org/packages/49/df/1fceb2f8900f8639e278b056416d49134fb8d84c5942ffaa01ad34782422/packaging-24.0-py3-none-any.whl\n",
      "Collecting fsspec[http]>=2021.11.1 (from datasets==2.13.2)\n",
      "  Using cached https://files.pythonhosted.org/packages/bd/64/f0d369ede0ca54fdd520bdee5086dbaf0af81dac53a2ce847bd1ec6e0bf1/fsspec-2023.1.0-py3-none-any.whl\n",
      "Collecting huggingface-hub<1.0.0,>=0.11.0 (from datasets==2.13.2)\n",
      "  Using cached https://files.pythonhosted.org/packages/7f/c4/adcbe9a696c135578cabcbdd7331332daad4d49b7c43688bc2d36b3a47d2/huggingface_hub-0.16.4-py3-none-any.whl\n",
      "Collecting pyyaml>=5.1 (from datasets==2.13.2)\n",
      "  Using cached https://files.pythonhosted.org/packages/1e/ae/964ccb88a938f20ece5754878f182cfbd846924930d02d29d06af8d4c69e/PyYAML-6.0.1-cp37-cp37m-win_amd64.whl\n",
      "Collecting importlib-metadata; python_version < \"3.8\" (from datasets==2.13.2)\n",
      "  Using cached https://files.pythonhosted.org/packages/ff/94/64287b38c7de4c90683630338cf28f129decbba0a44f0c6db35a873c73c4/importlib_metadata-6.7.0-py3-none-any.whl\n",
      "Collecting pyarrow>=8.0.0 (from datasets==2.13.2)\n",
      "  Using cached https://files.pythonhosted.org/packages/0b/82/7f70296eb5167bc3bcee96a1460315af109affd7fef43e750c8ee4aac17c/pyarrow-12.0.1-cp37-cp37m-win_amd64.whl\n",
      "Collecting requests>=2.19.0 (from datasets==2.13.2)\n",
      "  Using cached https://files.pythonhosted.org/packages/70/8e/0e2d847013cb52cd35b38c009bb167a1a26b2ce6cd6965bf26b47bc0bf44/requests-2.31.0-py3-none-any.whl\n",
      "Collecting aiohttp (from datasets==2.13.2)\n",
      "  Using cached https://files.pythonhosted.org/packages/51/4c/e7f74722f82269f2482ef321daff341d5461a40af68bb7f9d016b98fba9c/aiohttp-3.8.6-cp37-cp37m-win_amd64.whl\n",
      "Collecting numpy>=1.17 (from datasets==2.13.2)\n",
      "  Using cached https://files.pythonhosted.org/packages/97/9f/da37cc4a188a1d5d203d65ab28d6504e17594b5342e0c1dc5610ee6f4535/numpy-1.21.6-cp37-cp37m-win_amd64.whl\n",
      "Collecting tqdm>=4.62.1 (from datasets==2.13.2)\n",
      "  Using cached https://files.pythonhosted.org/packages/d0/30/dc54f88dd4a2b5dc8a0279bdd7270e735851848b762aeb1c1184ed1f6b14/tqdm-4.67.1-py3-none-any.whl\n",
      "Collecting pandas (from datasets==2.13.2)\n",
      "  Using cached https://files.pythonhosted.org/packages/b2/56/f886ed6f1777ffa9d54c6e80231b69db8a1f52dcc33f5967b06a105dcfe0/pandas-1.3.5-cp37-cp37m-win_amd64.whl\n",
      "Collecting dill<0.3.7,>=0.3.0 (from datasets==2.13.2)\n",
      "  Using cached https://files.pythonhosted.org/packages/be/e3/a84bf2e561beed15813080d693b4b27573262433fced9c1d1fea59e60553/dill-0.3.6-py3-none-any.whl\n",
      "Collecting typing-extensions>=3.7.4.3 (from huggingface-hub<1.0.0,>=0.11.0->datasets==2.13.2)\n",
      "  Using cached https://files.pythonhosted.org/packages/ec/6b/63cc3df74987c36fe26157ee12e09e8f9db4de771e0f3404263117e75b95/typing_extensions-4.7.1-py3-none-any.whl\n",
      "Collecting filelock (from huggingface-hub<1.0.0,>=0.11.0->datasets==2.13.2)\n",
      "  Using cached https://files.pythonhosted.org/packages/00/45/ec3407adf6f6b5bf867a4462b2b0af27597a26bd3cd6e2534cb6ab029938/filelock-3.12.2-py3-none-any.whl\n",
      "Collecting zipp>=0.5 (from importlib-metadata; python_version < \"3.8\"->datasets==2.13.2)\n",
      "  Using cached https://files.pythonhosted.org/packages/5b/fa/c9e82bbe1af6266adf08afb563905eb87cab83fde00a0a08963510621047/zipp-3.15.0-py3-none-any.whl\n",
      "Collecting charset-normalizer<4,>=2 (from requests>=2.19.0->datasets==2.13.2)\n",
      "  Using cached https://files.pythonhosted.org/packages/89/17/74bb34d02d62a21cc626c7d4db475b6f2207980f6beb002051db8342b139/charset_normalizer-3.4.1-cp37-cp37m-win_amd64.whl\n",
      "Collecting certifi>=2017.4.17 (from requests>=2.19.0->datasets==2.13.2)\n",
      "  Using cached https://files.pythonhosted.org/packages/a5/32/8f6669fc4798494966bf446c8c4a162e0b5d893dff088afddf76414f70e1/certifi-2024.12.14-py3-none-any.whl\n",
      "Collecting idna<4,>=2.5 (from requests>=2.19.0->datasets==2.13.2)\n",
      "  Using cached https://files.pythonhosted.org/packages/76/c6/c88e154df9c4e1a2a66ccf0005a88dfb2650c1dffb6f5ce603dfbd452ce3/idna-3.10-py3-none-any.whl\n",
      "Collecting urllib3<3,>=1.21.1 (from requests>=2.19.0->datasets==2.13.2)\n",
      "  Using cached https://files.pythonhosted.org/packages/d2/b2/b157855192a68541a91ba7b2bbcb91f1b4faa51f8bae38d8005c034be524/urllib3-2.0.7-py3-none-any.whl\n",
      "Collecting aiosignal>=1.1.2 (from aiohttp->datasets==2.13.2)\n",
      "  Using cached https://files.pythonhosted.org/packages/76/ac/a7305707cb852b7e16ff80eaf5692309bde30e2b1100a1fcacdc8f731d97/aiosignal-1.3.1-py3-none-any.whl\n",
      "Collecting attrs>=17.3.0 (from aiohttp->datasets==2.13.2)\n",
      "  Using cached https://files.pythonhosted.org/packages/6a/21/5b6702a7f963e95456c0de2d495f67bf5fd62840ac655dc451586d23d39a/attrs-24.2.0-py3-none-any.whl\n",
      "Collecting frozenlist>=1.1.1 (from aiohttp->datasets==2.13.2)\n",
      "  Using cached https://files.pythonhosted.org/packages/20/f9/5beca2597a95de184dc695bc6ff53e551e45dd59f7a885e52514b76bf48b/frozenlist-1.3.3-cp37-cp37m-win_amd64.whl\n",
      "Collecting async-timeout<5.0,>=4.0.0a3 (from aiohttp->datasets==2.13.2)\n",
      "  Using cached https://files.pythonhosted.org/packages/a7/fa/e01228c2938de91d47b307831c62ab9e4001e747789d0b05baf779a6488c/async_timeout-4.0.3-py3-none-any.whl\n",
      "Collecting yarl<2.0,>=1.0 (from aiohttp->datasets==2.13.2)\n",
      "  Using cached https://files.pythonhosted.org/packages/c4/c4/204f384e5a70d5be67b6278d7a93f8ff18eabea53c7f45888648d92f501b/yarl-1.9.4-cp37-cp37m-win_amd64.whl\n",
      "Collecting asynctest==0.13.0; python_version < \"3.8\" (from aiohttp->datasets==2.13.2)\n",
      "  Using cached https://files.pythonhosted.org/packages/e8/b6/8d17e169d577ca7678b11cd0d3ceebb0a6089a7f4a2de4b945fe4b1c86db/asynctest-0.13.0-py3-none-any.whl\n",
      "Collecting multidict<7.0,>=4.5 (from aiohttp->datasets==2.13.2)\n",
      "  Using cached https://files.pythonhosted.org/packages/66/f9/f016a8963b4784a4a013c0c0dac717add7146bb47d51e93a23b8205dfdce/multidict-6.0.5-cp37-cp37m-win_amd64.whl\n",
      "Collecting colorama; platform_system == \"Windows\" (from tqdm>=4.62.1->datasets==2.13.2)\n",
      "  Using cached https://files.pythonhosted.org/packages/d1/d6/3965ed04c63042e047cb6a3e6ed1a63a35087b6a609aa3a15ed8ac56c221/colorama-0.4.6-py2.py3-none-any.whl\n",
      "Collecting python-dateutil>=2.7.3 (from pandas->datasets==2.13.2)\n",
      "  Using cached https://files.pythonhosted.org/packages/ec/57/56b9bcc3c9c6a792fcbaf139543cee77261f3651ca9da0c93f5c1221264b/python_dateutil-2.9.0.post0-py2.py3-none-any.whl\n",
      "Collecting pytz>=2017.3 (from pandas->datasets==2.13.2)\n",
      "  Using cached https://files.pythonhosted.org/packages/11/c3/005fcca25ce078d2cc29fd559379817424e94885510568bc1bc53d7d5846/pytz-2024.2-py2.py3-none-any.whl\n",
      "Collecting six>=1.5 (from python-dateutil>=2.7.3->pandas->datasets==2.13.2)\n",
      "  Using cached https://files.pythonhosted.org/packages/b7/ce/149a00dd41f10bc29e5921b496af8b574d8413afcd5e30dfa0ed46c2cc5e/six-1.17.0-py2.py3-none-any.whl\n",
      "Installing collected packages: dill, multiprocess, xxhash, packaging, charset-normalizer, certifi, idna, urllib3, requests, frozenlist, aiosignal, zipp, typing-extensions, importlib-metadata, attrs, async-timeout, multidict, yarl, asynctest, aiohttp, fsspec, colorama, tqdm, pyyaml, filelock, huggingface-hub, numpy, pyarrow, six, python-dateutil, pytz, pandas, datasets\n",
      "  Found existing installation: dill 0.3.6\n",
      "    Uninstalling dill-0.3.6:\n",
      "      Successfully uninstalled dill-0.3.6\n",
      "  Found existing installation: multiprocess 0.70.15\n",
      "    Uninstalling multiprocess-0.70.15:\n",
      "      Successfully uninstalled multiprocess-0.70.15\n",
      "  Found existing installation: xxhash 3.5.0\n",
      "    Uninstalling xxhash-3.5.0:\n",
      "      Successfully uninstalled xxhash-3.5.0\n",
      "  Found existing installation: packaging 24.0\n",
      "    Uninstalling packaging-24.0:\n",
      "      Successfully uninstalled packaging-24.0\n",
      "  Found existing installation: charset-normalizer 3.4.1\n",
      "    Uninstalling charset-normalizer-3.4.1:\n",
      "      Successfully uninstalled charset-normalizer-3.4.1\n",
      "  Found existing installation: certifi 2019.9.11\n",
      "    Uninstalling certifi-2019.9.11:\n",
      "      Successfully uninstalled certifi-2019.9.11\n",
      "  Found existing installation: idna 2.8\n",
      "    Uninstalling idna-2.8:\n",
      "      Successfully uninstalled idna-2.8\n",
      "  Found existing installation: urllib3 1.24.2\n",
      "    Uninstalling urllib3-1.24.2:\n",
      "      Successfully uninstalled urllib3-1.24.2\n",
      "  Found existing installation: requests 2.22.0\n",
      "    Uninstalling requests-2.22.0:\n",
      "      Successfully uninstalled requests-2.22.0\n",
      "  Found existing installation: frozenlist 1.3.3\n",
      "    Uninstalling frozenlist-1.3.3:\n",
      "      Successfully uninstalled frozenlist-1.3.3\n",
      "  Found existing installation: aiosignal 1.3.1\n",
      "    Uninstalling aiosignal-1.3.1:\n",
      "      Successfully uninstalled aiosignal-1.3.1\n",
      "  Found existing installation: zipp 0.6.0\n",
      "    Uninstalling zipp-0.6.0:\n",
      "      Successfully uninstalled zipp-0.6.0\n",
      "  Found existing installation: typing-extensions 4.4.0\n",
      "    Uninstalling typing-extensions-4.4.0:\n",
      "      Successfully uninstalled typing-extensions-4.4.0\n",
      "  Found existing installation: importlib-metadata 0.23\n",
      "    Uninstalling importlib-metadata-0.23:\n",
      "      Successfully uninstalled importlib-metadata-0.23\n",
      "  Found existing installation: attrs 19.2.0\n",
      "    Uninstalling attrs-19.2.0:\n",
      "      Successfully uninstalled attrs-19.2.0\n",
      "  Found existing installation: async-timeout 4.0.3\n",
      "    Uninstalling async-timeout-4.0.3:\n",
      "      Successfully uninstalled async-timeout-4.0.3\n",
      "  Found existing installation: multidict 6.0.5\n",
      "    Uninstalling multidict-6.0.5:\n",
      "      Successfully uninstalled multidict-6.0.5\n",
      "  Found existing installation: yarl 1.9.4\n",
      "    Uninstalling yarl-1.9.4:\n",
      "      Successfully uninstalled yarl-1.9.4\n",
      "  Found existing installation: asynctest 0.13.0\n",
      "    Uninstalling asynctest-0.13.0:\n",
      "      Successfully uninstalled asynctest-0.13.0\n",
      "  Found existing installation: aiohttp 3.8.6\n",
      "    Uninstalling aiohttp-3.8.6:\n",
      "      Successfully uninstalled aiohttp-3.8.6\n",
      "  Found existing installation: fsspec 2023.1.0\n",
      "    Uninstalling fsspec-2023.1.0:\n",
      "      Successfully uninstalled fsspec-2023.1.0\n",
      "  Found existing installation: colorama 0.4.1\n",
      "    Uninstalling colorama-0.4.1:\n",
      "      Successfully uninstalled colorama-0.4.1\n",
      "  Found existing installation: tqdm 4.67.1\n",
      "    Uninstalling tqdm-4.67.1:\n",
      "      Successfully uninstalled tqdm-4.67.1\n",
      "  Found existing installation: PyYAML 5.1.2\n"
     ]
    },
    {
     "name": "stderr",
     "output_type": "stream",
     "text": [
      "ERROR: conda 22.9.0 requires ruamel_yaml_conda>=0.11.14, which is not installed.\n",
      "ERROR: astroid 2.3.1 requires typed-ast<1.5,>=1.4.0; implementation_name == \"cpython\" and python_version < \"3.8\", which is not installed.\n",
      "ERROR: multiprocess 0.70.15 has requirement dill>=0.3.7, but you'll have dill 0.3.6 which is incompatible.\n",
      "ERROR: astroid 2.3.1 has requirement six==1.12, but you'll have six 1.17.0 which is incompatible.\n",
      "ERROR: Cannot uninstall 'PyYAML'. It is a distutils installed project and thus we cannot accurately determine which files belong to it which would lead to only a partial uninstall.\n"
     ]
    }
   ],
   "source": [
    "! pip install --upgrade --force-reinstall datasets==2.13.2"
   ]
  },
  {
   "cell_type": "code",
   "execution_count": 3,
   "metadata": {},
   "outputs": [
    {
     "name": "stdout",
     "output_type": "stream",
     "text": [
      "Requirement already satisfied: fsspec in c:\\users\\maslo\\anaconda3\\lib\\site-packages (2023.1.0)\n"
     ]
    }
   ],
   "source": [
    "!pip install fsspec"
   ]
  },
  {
   "cell_type": "code",
   "execution_count": 4,
   "metadata": {},
   "outputs": [
    {
     "name": "stdout",
     "output_type": "stream",
     "text": [
      "Requirement already up-to-date: datasets in c:\\users\\maslo\\anaconda3\\lib\\site-packages (2.13.2)\n",
      "Requirement already satisfied, skipping upgrade: xxhash in c:\\users\\maslo\\anaconda3\\lib\\site-packages (from datasets) (3.5.0)\n",
      "Requirement already satisfied, skipping upgrade: fsspec[http]>=2021.11.1 in c:\\users\\maslo\\anaconda3\\lib\\site-packages (from datasets) (2023.1.0)\n",
      "Requirement already satisfied, skipping upgrade: pandas in c:\\users\\maslo\\anaconda3\\lib\\site-packages (from datasets) (1.3.3)\n",
      "Requirement already satisfied, skipping upgrade: pyarrow>=8.0.0 in c:\\users\\maslo\\anaconda3\\lib\\site-packages (from datasets) (12.0.1)\n",
      "Requirement already satisfied, skipping upgrade: requests>=2.19.0 in c:\\users\\maslo\\anaconda3\\lib\\site-packages (from datasets) (2.22.0)\n",
      "Requirement already satisfied, skipping upgrade: numpy>=1.17 in c:\\users\\maslo\\anaconda3\\lib\\site-packages (from datasets) (1.21.6)\n",
      "Requirement already satisfied, skipping upgrade: dill<0.3.7,>=0.3.0 in c:\\users\\maslo\\anaconda3\\lib\\site-packages (from datasets) (0.3.6)\n",
      "Requirement already satisfied, skipping upgrade: tqdm>=4.62.1 in c:\\users\\maslo\\anaconda3\\lib\\site-packages (from datasets) (4.67.1)\n",
      "Requirement already satisfied, skipping upgrade: multiprocess in c:\\users\\maslo\\anaconda3\\lib\\site-packages (from datasets) (0.70.15)\n",
      "Requirement already satisfied, skipping upgrade: packaging in c:\\users\\maslo\\anaconda3\\lib\\site-packages (from datasets) (24.0)\n",
      "Requirement already satisfied, skipping upgrade: pyyaml>=5.1 in c:\\users\\maslo\\anaconda3\\lib\\site-packages (from datasets) (5.1.2)\n",
      "Requirement already satisfied, skipping upgrade: importlib-metadata; python_version < \"3.8\" in c:\\users\\maslo\\anaconda3\\lib\\site-packages (from datasets) (0.23)\n",
      "Requirement already satisfied, skipping upgrade: aiohttp in c:\\users\\maslo\\anaconda3\\lib\\site-packages (from datasets) (3.8.6)\n",
      "Requirement already satisfied, skipping upgrade: huggingface-hub<1.0.0,>=0.11.0 in c:\\users\\maslo\\anaconda3\\lib\\site-packages (from datasets) (0.16.4)\n",
      "Requirement already satisfied, skipping upgrade: python-dateutil>=2.7.3 in c:\\users\\maslo\\anaconda3\\lib\\site-packages (from pandas->datasets) (2.8.0)\n",
      "Requirement already satisfied, skipping upgrade: pytz>=2017.3 in c:\\users\\maslo\\anaconda3\\lib\\site-packages (from pandas->datasets) (2019.3)\n",
      "Requirement already satisfied, skipping upgrade: chardet<3.1.0,>=3.0.2 in c:\\users\\maslo\\anaconda3\\lib\\site-packages (from requests>=2.19.0->datasets) (3.0.4)\n",
      "Requirement already satisfied, skipping upgrade: certifi>=2017.4.17 in c:\\users\\maslo\\anaconda3\\lib\\site-packages (from requests>=2.19.0->datasets) (2019.9.11)\n",
      "Requirement already satisfied, skipping upgrade: urllib3!=1.25.0,!=1.25.1,<1.26,>=1.21.1 in c:\\users\\maslo\\anaconda3\\lib\\site-packages (from requests>=2.19.0->datasets) (1.24.2)\n",
      "Requirement already satisfied, skipping upgrade: idna<2.9,>=2.5 in c:\\users\\maslo\\anaconda3\\lib\\site-packages (from requests>=2.19.0->datasets) (2.8)\n",
      "Requirement already satisfied, skipping upgrade: colorama; platform_system == \"Windows\" in c:\\users\\maslo\\anaconda3\\lib\\site-packages (from tqdm>=4.62.1->datasets) (0.4.1)\n",
      "Requirement already satisfied, skipping upgrade: zipp>=0.5 in c:\\users\\maslo\\anaconda3\\lib\\site-packages (from importlib-metadata; python_version < \"3.8\"->datasets) (0.6.0)\n",
      "Requirement already satisfied, skipping upgrade: frozenlist>=1.1.1 in c:\\users\\maslo\\anaconda3\\lib\\site-packages (from aiohttp->datasets) (1.3.3)\n",
      "Requirement already satisfied, skipping upgrade: asynctest==0.13.0; python_version < \"3.8\" in c:\\users\\maslo\\anaconda3\\lib\\site-packages (from aiohttp->datasets) (0.13.0)\n",
      "Requirement already satisfied, skipping upgrade: charset-normalizer<4.0,>=2.0 in c:\\users\\maslo\\anaconda3\\lib\\site-packages (from aiohttp->datasets) (3.4.1)\n",
      "Requirement already satisfied, skipping upgrade: yarl<2.0,>=1.0 in c:\\users\\maslo\\anaconda3\\lib\\site-packages (from aiohttp->datasets) (1.9.4)\n",
      "Requirement already satisfied, skipping upgrade: aiosignal>=1.1.2 in c:\\users\\maslo\\anaconda3\\lib\\site-packages (from aiohttp->datasets) (1.3.1)\n",
      "Requirement already satisfied, skipping upgrade: multidict<7.0,>=4.5 in c:\\users\\maslo\\anaconda3\\lib\\site-packages (from aiohttp->datasets) (6.0.5)\n",
      "Requirement already satisfied, skipping upgrade: attrs>=17.3.0 in c:\\users\\maslo\\anaconda3\\lib\\site-packages (from aiohttp->datasets) (19.2.0)\n",
      "Requirement already satisfied, skipping upgrade: typing-extensions>=3.7.4; python_version < \"3.8\" in c:\\users\\maslo\\anaconda3\\lib\\site-packages (from aiohttp->datasets) (4.4.0)\n",
      "Requirement already satisfied, skipping upgrade: async-timeout<5.0,>=4.0.0a3 in c:\\users\\maslo\\anaconda3\\lib\\site-packages (from aiohttp->datasets) (4.0.3)\n",
      "Requirement already satisfied, skipping upgrade: filelock in c:\\users\\maslo\\anaconda3\\lib\\site-packages (from huggingface-hub<1.0.0,>=0.11.0->datasets) (3.0.12)\n",
      "Requirement already satisfied, skipping upgrade: six>=1.5 in c:\\users\\maslo\\anaconda3\\lib\\site-packages (from python-dateutil>=2.7.3->pandas->datasets) (1.12.0)\n",
      "Requirement already satisfied, skipping upgrade: more-itertools in c:\\users\\maslo\\anaconda3\\lib\\site-packages (from zipp>=0.5->importlib-metadata; python_version < \"3.8\"->datasets) (7.2.0)\n"
     ]
    }
   ],
   "source": [
    "! pip install -U datasets"
   ]
  },
  {
   "cell_type": "code",
   "execution_count": 12,
   "metadata": {},
   "outputs": [
    {
     "name": "stdout",
     "output_type": "stream",
     "text": [
      "Downloading and preparing dataset None/plain_text to C:/Users/maslo/.cache/huggingface/datasets/parquet/plain_text-cafccae0f4e408dc/0.0.0/14a00e99c0d15a23649d0db8944380ac81082d4b021f398733dd84f3a6c569a7...\n"
     ]
    },
    {
     "data": {
      "application/vnd.jupyter.widget-view+json": {
       "model_id": "8fb683fc98f345009095521790aa5cf3",
       "version_major": 2,
       "version_minor": 0
      },
      "text/plain": [
       "Downloading data files:   0%|          | 0/2 [00:00<?, ?it/s]"
      ]
     },
     "metadata": {},
     "output_type": "display_data"
    },
    {
     "data": {
      "application/vnd.jupyter.widget-view+json": {
       "model_id": "6f3e5cf3145d4063b87720c4bf5fe7b5",
       "version_major": 2,
       "version_minor": 0
      },
      "text/plain": [
       "Extracting data files:   0%|          | 0/2 [00:00<?, ?it/s]"
      ]
     },
     "metadata": {},
     "output_type": "display_data"
    },
    {
     "data": {
      "application/vnd.jupyter.widget-view+json": {
       "model_id": "",
       "version_major": 2,
       "version_minor": 0
      },
      "text/plain": [
       "Generating train split:   0%|          | 0/25000 [00:00<?, ? examples/s]"
      ]
     },
     "metadata": {},
     "output_type": "display_data"
    },
    {
     "data": {
      "application/vnd.jupyter.widget-view+json": {
       "model_id": "",
       "version_major": 2,
       "version_minor": 0
      },
      "text/plain": [
       "Generating test split:   0%|          | 0/25000 [00:00<?, ? examples/s]"
      ]
     },
     "metadata": {},
     "output_type": "display_data"
    },
    {
     "ename": "ExpectedMoreSplits",
     "evalue": "{'unsupervised'}",
     "output_type": "error",
     "traceback": [
      "\u001b[1;31m---------------------------------------------------------------------------\u001b[0m",
      "\u001b[1;31mExpectedMoreSplits\u001b[0m                        Traceback (most recent call last)",
      "\u001b[1;32m<ipython-input-12-36efc644c792>\u001b[0m in \u001b[0;36m<module>\u001b[1;34m\u001b[0m\n\u001b[0;32m      1\u001b[0m \u001b[1;32mfrom\u001b[0m \u001b[0mdatasets\u001b[0m \u001b[1;32mimport\u001b[0m \u001b[0mload_dataset\u001b[0m\u001b[1;33m\u001b[0m\u001b[1;33m\u001b[0m\u001b[0m\n\u001b[0;32m      2\u001b[0m \u001b[1;33m\u001b[0m\u001b[0m\n\u001b[1;32m----> 3\u001b[1;33m \u001b[0mdataset\u001b[0m \u001b[1;33m=\u001b[0m \u001b[0mload_dataset\u001b[0m\u001b[1;33m(\u001b[0m\u001b[1;34m\"imdb\"\u001b[0m\u001b[1;33m,\u001b[0m \u001b[0msplit\u001b[0m\u001b[1;33m=\u001b[0m\u001b[1;34m\"train\"\u001b[0m\u001b[1;33m)\u001b[0m\u001b[1;33m\u001b[0m\u001b[1;33m\u001b[0m\u001b[0m\n\u001b[0m\u001b[0;32m      4\u001b[0m \u001b[1;33m\u001b[0m\u001b[0m\n\u001b[0;32m      5\u001b[0m \u001b[0mnp\u001b[0m\u001b[1;33m.\u001b[0m\u001b[0mrandom\u001b[0m\u001b[1;33m.\u001b[0m\u001b[0mseed\u001b[0m\u001b[1;33m(\u001b[0m\u001b[1;36m100\u001b[0m\u001b[1;33m)\u001b[0m\u001b[1;33m\u001b[0m\u001b[1;33m\u001b[0m\u001b[0m\n",
      "\u001b[1;32m~\\Anaconda3\\lib\\site-packages\\datasets\\load.py\u001b[0m in \u001b[0;36mload_dataset\u001b[1;34m(path, name, data_dir, data_files, split, cache_dir, features, download_config, download_mode, verification_mode, ignore_verifications, keep_in_memory, save_infos, revision, use_auth_token, task, streaming, num_proc, storage_options, **config_kwargs)\u001b[0m\n\u001b[0;32m   1813\u001b[0m         \u001b[0mtry_from_hf_gcs\u001b[0m\u001b[1;33m=\u001b[0m\u001b[0mtry_from_hf_gcs\u001b[0m\u001b[1;33m,\u001b[0m\u001b[1;33m\u001b[0m\u001b[1;33m\u001b[0m\u001b[0m\n\u001b[0;32m   1814\u001b[0m         \u001b[0mnum_proc\u001b[0m\u001b[1;33m=\u001b[0m\u001b[0mnum_proc\u001b[0m\u001b[1;33m,\u001b[0m\u001b[1;33m\u001b[0m\u001b[1;33m\u001b[0m\u001b[0m\n\u001b[1;32m-> 1815\u001b[1;33m         \u001b[0mstorage_options\u001b[0m\u001b[1;33m=\u001b[0m\u001b[0mstorage_options\u001b[0m\u001b[1;33m,\u001b[0m\u001b[1;33m\u001b[0m\u001b[1;33m\u001b[0m\u001b[0m\n\u001b[0m\u001b[0;32m   1816\u001b[0m     )\n\u001b[0;32m   1817\u001b[0m \u001b[1;33m\u001b[0m\u001b[0m\n",
      "\u001b[1;32m~\\Anaconda3\\lib\\site-packages\\datasets\\builder.py\u001b[0m in \u001b[0;36mdownload_and_prepare\u001b[1;34m(self, output_dir, download_config, download_mode, verification_mode, ignore_verifications, try_from_hf_gcs, dl_manager, base_path, use_auth_token, file_format, max_shard_size, num_proc, storage_options, **download_and_prepare_kwargs)\u001b[0m\n\u001b[0;32m    911\u001b[0m                             \u001b[0mverification_mode\u001b[0m\u001b[1;33m=\u001b[0m\u001b[0mverification_mode\u001b[0m\u001b[1;33m,\u001b[0m\u001b[1;33m\u001b[0m\u001b[1;33m\u001b[0m\u001b[0m\n\u001b[0;32m    912\u001b[0m                             \u001b[1;33m**\u001b[0m\u001b[0mprepare_split_kwargs\u001b[0m\u001b[1;33m,\u001b[0m\u001b[1;33m\u001b[0m\u001b[1;33m\u001b[0m\u001b[0m\n\u001b[1;32m--> 913\u001b[1;33m                             \u001b[1;33m**\u001b[0m\u001b[0mdownload_and_prepare_kwargs\u001b[0m\u001b[1;33m,\u001b[0m\u001b[1;33m\u001b[0m\u001b[1;33m\u001b[0m\u001b[0m\n\u001b[0m\u001b[0;32m    914\u001b[0m                         )\n\u001b[0;32m    915\u001b[0m                     \u001b[1;31m# Sync info\u001b[0m\u001b[1;33m\u001b[0m\u001b[1;33m\u001b[0m\u001b[1;33m\u001b[0m\u001b[0m\n",
      "\u001b[1;32m~\\Anaconda3\\lib\\site-packages\\datasets\\builder.py\u001b[0m in \u001b[0;36m_download_and_prepare\u001b[1;34m(self, dl_manager, verification_mode, **prepare_split_kwargs)\u001b[0m\n\u001b[0;32m   1020\u001b[0m \u001b[1;33m\u001b[0m\u001b[0m\n\u001b[0;32m   1021\u001b[0m         \u001b[1;32mif\u001b[0m \u001b[0mverification_mode\u001b[0m \u001b[1;33m==\u001b[0m \u001b[0mVerificationMode\u001b[0m\u001b[1;33m.\u001b[0m\u001b[0mBASIC_CHECKS\u001b[0m \u001b[1;32mor\u001b[0m \u001b[0mverification_mode\u001b[0m \u001b[1;33m==\u001b[0m \u001b[0mVerificationMode\u001b[0m\u001b[1;33m.\u001b[0m\u001b[0mALL_CHECKS\u001b[0m\u001b[1;33m:\u001b[0m\u001b[1;33m\u001b[0m\u001b[1;33m\u001b[0m\u001b[0m\n\u001b[1;32m-> 1022\u001b[1;33m             \u001b[0mverify_splits\u001b[0m\u001b[1;33m(\u001b[0m\u001b[0mself\u001b[0m\u001b[1;33m.\u001b[0m\u001b[0minfo\u001b[0m\u001b[1;33m.\u001b[0m\u001b[0msplits\u001b[0m\u001b[1;33m,\u001b[0m \u001b[0msplit_dict\u001b[0m\u001b[1;33m)\u001b[0m\u001b[1;33m\u001b[0m\u001b[1;33m\u001b[0m\u001b[0m\n\u001b[0m\u001b[0;32m   1023\u001b[0m \u001b[1;33m\u001b[0m\u001b[0m\n\u001b[0;32m   1024\u001b[0m         \u001b[1;31m# Update the info object with the splits.\u001b[0m\u001b[1;33m\u001b[0m\u001b[1;33m\u001b[0m\u001b[1;33m\u001b[0m\u001b[0m\n",
      "\u001b[1;32m~\\Anaconda3\\lib\\site-packages\\datasets\\utils\\info_utils.py\u001b[0m in \u001b[0;36mverify_splits\u001b[1;34m(expected_splits, recorded_splits)\u001b[0m\n\u001b[0;32m     89\u001b[0m         \u001b[1;32mreturn\u001b[0m\u001b[1;33m\u001b[0m\u001b[1;33m\u001b[0m\u001b[0m\n\u001b[0;32m     90\u001b[0m     \u001b[1;32mif\u001b[0m \u001b[0mlen\u001b[0m\u001b[1;33m(\u001b[0m\u001b[0mset\u001b[0m\u001b[1;33m(\u001b[0m\u001b[0mexpected_splits\u001b[0m\u001b[1;33m)\u001b[0m \u001b[1;33m-\u001b[0m \u001b[0mset\u001b[0m\u001b[1;33m(\u001b[0m\u001b[0mrecorded_splits\u001b[0m\u001b[1;33m)\u001b[0m\u001b[1;33m)\u001b[0m \u001b[1;33m>\u001b[0m \u001b[1;36m0\u001b[0m\u001b[1;33m:\u001b[0m\u001b[1;33m\u001b[0m\u001b[1;33m\u001b[0m\u001b[0m\n\u001b[1;32m---> 91\u001b[1;33m         \u001b[1;32mraise\u001b[0m \u001b[0mExpectedMoreSplits\u001b[0m\u001b[1;33m(\u001b[0m\u001b[0mstr\u001b[0m\u001b[1;33m(\u001b[0m\u001b[0mset\u001b[0m\u001b[1;33m(\u001b[0m\u001b[0mexpected_splits\u001b[0m\u001b[1;33m)\u001b[0m \u001b[1;33m-\u001b[0m \u001b[0mset\u001b[0m\u001b[1;33m(\u001b[0m\u001b[0mrecorded_splits\u001b[0m\u001b[1;33m)\u001b[0m\u001b[1;33m)\u001b[0m\u001b[1;33m)\u001b[0m\u001b[1;33m\u001b[0m\u001b[1;33m\u001b[0m\u001b[0m\n\u001b[0m\u001b[0;32m     92\u001b[0m     \u001b[1;32mif\u001b[0m \u001b[0mlen\u001b[0m\u001b[1;33m(\u001b[0m\u001b[0mset\u001b[0m\u001b[1;33m(\u001b[0m\u001b[0mrecorded_splits\u001b[0m\u001b[1;33m)\u001b[0m \u001b[1;33m-\u001b[0m \u001b[0mset\u001b[0m\u001b[1;33m(\u001b[0m\u001b[0mexpected_splits\u001b[0m\u001b[1;33m)\u001b[0m\u001b[1;33m)\u001b[0m \u001b[1;33m>\u001b[0m \u001b[1;36m0\u001b[0m\u001b[1;33m:\u001b[0m\u001b[1;33m\u001b[0m\u001b[1;33m\u001b[0m\u001b[0m\n\u001b[0;32m     93\u001b[0m         \u001b[1;32mraise\u001b[0m \u001b[0mUnexpectedSplits\u001b[0m\u001b[1;33m(\u001b[0m\u001b[0mstr\u001b[0m\u001b[1;33m(\u001b[0m\u001b[0mset\u001b[0m\u001b[1;33m(\u001b[0m\u001b[0mrecorded_splits\u001b[0m\u001b[1;33m)\u001b[0m \u001b[1;33m-\u001b[0m \u001b[0mset\u001b[0m\u001b[1;33m(\u001b[0m\u001b[0mexpected_splits\u001b[0m\u001b[1;33m)\u001b[0m\u001b[1;33m)\u001b[0m\u001b[1;33m)\u001b[0m\u001b[1;33m\u001b[0m\u001b[1;33m\u001b[0m\u001b[0m\n",
      "\u001b[1;31mExpectedMoreSplits\u001b[0m: {'unsupervised'}"
     ]
    }
   ],
   "source": [
    "from datasets import load_dataset\n",
    "\n",
    "dataset = load_dataset(\"imdb\", split=\"train\")\n",
    "\n",
    "np.random.seed(100)\n",
    "idx = np.random.randint(len(dataset), size=200)"
   ]
  },
  {
   "cell_type": "code",
   "execution_count": 1,
   "metadata": {},
   "outputs": [],
   "source": [
    "import pandas as pd"
   ]
  },
  {
   "cell_type": "code",
   "execution_count": 2,
   "metadata": {},
   "outputs": [],
   "source": [
    "text_embeddings = pd.read_csv('C:/Users/maslo/Desktop/karpov_start_ml/3_module/10_lesson/text_embeddings.csv', index_col=0)"
   ]
  },
  {
   "cell_type": "code",
   "execution_count": 3,
   "metadata": {},
   "outputs": [
    {
     "data": {
      "text/html": [
       "<div>\n",
       "<style scoped>\n",
       "    .dataframe tbody tr th:only-of-type {\n",
       "        vertical-align: middle;\n",
       "    }\n",
       "\n",
       "    .dataframe tbody tr th {\n",
       "        vertical-align: top;\n",
       "    }\n",
       "\n",
       "    .dataframe thead th {\n",
       "        text-align: right;\n",
       "    }\n",
       "</style>\n",
       "<table border=\"1\" class=\"dataframe\">\n",
       "  <thead>\n",
       "    <tr style=\"text-align: right;\">\n",
       "      <th></th>\n",
       "      <th>post_id</th>\n",
       "      <th>PC0</th>\n",
       "      <th>PC1</th>\n",
       "      <th>PC2</th>\n",
       "      <th>PC3</th>\n",
       "      <th>PC4</th>\n",
       "      <th>PC5</th>\n",
       "      <th>PC6</th>\n",
       "      <th>PC7</th>\n",
       "      <th>PC8</th>\n",
       "      <th>...</th>\n",
       "      <th>PC10</th>\n",
       "      <th>PC11</th>\n",
       "      <th>PC12</th>\n",
       "      <th>PC13</th>\n",
       "      <th>PC14</th>\n",
       "      <th>PC15</th>\n",
       "      <th>PC16</th>\n",
       "      <th>PC17</th>\n",
       "      <th>PC18</th>\n",
       "      <th>PC19</th>\n",
       "    </tr>\n",
       "  </thead>\n",
       "  <tbody>\n",
       "    <tr>\n",
       "      <th>0</th>\n",
       "      <td>1</td>\n",
       "      <td>3.500321</td>\n",
       "      <td>-10.554127</td>\n",
       "      <td>11.443293</td>\n",
       "      <td>0.846715</td>\n",
       "      <td>14.404195</td>\n",
       "      <td>9.562678</td>\n",
       "      <td>-3.731412</td>\n",
       "      <td>6.060891</td>\n",
       "      <td>6.917934</td>\n",
       "      <td>...</td>\n",
       "      <td>1.141031</td>\n",
       "      <td>-4.023714</td>\n",
       "      <td>13.655045</td>\n",
       "      <td>-1.540065</td>\n",
       "      <td>-5.287159</td>\n",
       "      <td>0.871138</td>\n",
       "      <td>1.230013</td>\n",
       "      <td>-4.582694</td>\n",
       "      <td>-0.031711</td>\n",
       "      <td>0.169429</td>\n",
       "    </tr>\n",
       "    <tr>\n",
       "      <th>1</th>\n",
       "      <td>2</td>\n",
       "      <td>18.671574</td>\n",
       "      <td>-5.137968</td>\n",
       "      <td>1.849811</td>\n",
       "      <td>-5.967701</td>\n",
       "      <td>0.369379</td>\n",
       "      <td>2.440308</td>\n",
       "      <td>-2.113307</td>\n",
       "      <td>0.072210</td>\n",
       "      <td>3.222704</td>\n",
       "      <td>...</td>\n",
       "      <td>0.762847</td>\n",
       "      <td>-1.960697</td>\n",
       "      <td>-2.824781</td>\n",
       "      <td>-3.384867</td>\n",
       "      <td>0.505251</td>\n",
       "      <td>2.872391</td>\n",
       "      <td>-2.057101</td>\n",
       "      <td>4.495288</td>\n",
       "      <td>-3.962610</td>\n",
       "      <td>2.263730</td>\n",
       "    </tr>\n",
       "    <tr>\n",
       "      <th>2</th>\n",
       "      <td>3</td>\n",
       "      <td>13.968039</td>\n",
       "      <td>-4.589651</td>\n",
       "      <td>1.524654</td>\n",
       "      <td>-8.710602</td>\n",
       "      <td>1.043155</td>\n",
       "      <td>7.366778</td>\n",
       "      <td>-1.090990</td>\n",
       "      <td>4.899185</td>\n",
       "      <td>3.291355</td>\n",
       "      <td>...</td>\n",
       "      <td>-7.690031</td>\n",
       "      <td>-3.501015</td>\n",
       "      <td>3.778787</td>\n",
       "      <td>3.028109</td>\n",
       "      <td>0.963784</td>\n",
       "      <td>-0.481186</td>\n",
       "      <td>-2.623369</td>\n",
       "      <td>1.008380</td>\n",
       "      <td>0.519822</td>\n",
       "      <td>0.909738</td>\n",
       "    </tr>\n",
       "    <tr>\n",
       "      <th>3</th>\n",
       "      <td>4</td>\n",
       "      <td>21.775520</td>\n",
       "      <td>0.041360</td>\n",
       "      <td>-15.245056</td>\n",
       "      <td>-1.202087</td>\n",
       "      <td>-1.096143</td>\n",
       "      <td>-0.474863</td>\n",
       "      <td>1.177425</td>\n",
       "      <td>-5.798441</td>\n",
       "      <td>-0.636396</td>\n",
       "      <td>...</td>\n",
       "      <td>1.567016</td>\n",
       "      <td>0.371143</td>\n",
       "      <td>1.368155</td>\n",
       "      <td>2.801944</td>\n",
       "      <td>5.111173</td>\n",
       "      <td>-3.664513</td>\n",
       "      <td>3.177406</td>\n",
       "      <td>3.842894</td>\n",
       "      <td>-1.363071</td>\n",
       "      <td>-1.477227</td>\n",
       "    </tr>\n",
       "    <tr>\n",
       "      <th>4</th>\n",
       "      <td>5</td>\n",
       "      <td>14.218131</td>\n",
       "      <td>1.002445</td>\n",
       "      <td>-13.375771</td>\n",
       "      <td>-3.665664</td>\n",
       "      <td>1.368440</td>\n",
       "      <td>-0.714064</td>\n",
       "      <td>5.984372</td>\n",
       "      <td>-1.590061</td>\n",
       "      <td>-2.126425</td>\n",
       "      <td>...</td>\n",
       "      <td>-0.204347</td>\n",
       "      <td>0.314087</td>\n",
       "      <td>-1.205342</td>\n",
       "      <td>2.404388</td>\n",
       "      <td>-3.078572</td>\n",
       "      <td>-0.399450</td>\n",
       "      <td>-2.173429</td>\n",
       "      <td>-0.123188</td>\n",
       "      <td>2.112833</td>\n",
       "      <td>-0.496121</td>\n",
       "    </tr>\n",
       "    <tr>\n",
       "      <th>...</th>\n",
       "      <td>...</td>\n",
       "      <td>...</td>\n",
       "      <td>...</td>\n",
       "      <td>...</td>\n",
       "      <td>...</td>\n",
       "      <td>...</td>\n",
       "      <td>...</td>\n",
       "      <td>...</td>\n",
       "      <td>...</td>\n",
       "      <td>...</td>\n",
       "      <td>...</td>\n",
       "      <td>...</td>\n",
       "      <td>...</td>\n",
       "      <td>...</td>\n",
       "      <td>...</td>\n",
       "      <td>...</td>\n",
       "      <td>...</td>\n",
       "      <td>...</td>\n",
       "      <td>...</td>\n",
       "      <td>...</td>\n",
       "      <td>...</td>\n",
       "    </tr>\n",
       "    <tr>\n",
       "      <th>7018</th>\n",
       "      <td>7315</td>\n",
       "      <td>-11.655491</td>\n",
       "      <td>-6.354025</td>\n",
       "      <td>-5.219182</td>\n",
       "      <td>-9.544808</td>\n",
       "      <td>0.303797</td>\n",
       "      <td>-2.729472</td>\n",
       "      <td>1.988416</td>\n",
       "      <td>1.083812</td>\n",
       "      <td>-6.699657</td>\n",
       "      <td>...</td>\n",
       "      <td>-0.368224</td>\n",
       "      <td>-2.882448</td>\n",
       "      <td>-0.521882</td>\n",
       "      <td>-3.632641</td>\n",
       "      <td>1.025860</td>\n",
       "      <td>0.398515</td>\n",
       "      <td>-2.544691</td>\n",
       "      <td>3.047159</td>\n",
       "      <td>1.724019</td>\n",
       "      <td>-5.951403</td>\n",
       "    </tr>\n",
       "    <tr>\n",
       "      <th>7019</th>\n",
       "      <td>7316</td>\n",
       "      <td>-14.031900</td>\n",
       "      <td>-3.515837</td>\n",
       "      <td>1.317705</td>\n",
       "      <td>-5.516077</td>\n",
       "      <td>1.923890</td>\n",
       "      <td>-3.453613</td>\n",
       "      <td>1.813950</td>\n",
       "      <td>2.135833</td>\n",
       "      <td>2.385682</td>\n",
       "      <td>...</td>\n",
       "      <td>0.859299</td>\n",
       "      <td>5.260887</td>\n",
       "      <td>1.577359</td>\n",
       "      <td>3.894874</td>\n",
       "      <td>3.642095</td>\n",
       "      <td>-1.613258</td>\n",
       "      <td>-4.488069</td>\n",
       "      <td>-2.539954</td>\n",
       "      <td>1.353190</td>\n",
       "      <td>-0.450315</td>\n",
       "    </tr>\n",
       "    <tr>\n",
       "      <th>7020</th>\n",
       "      <td>7317</td>\n",
       "      <td>-12.519737</td>\n",
       "      <td>-5.040771</td>\n",
       "      <td>-4.923931</td>\n",
       "      <td>-7.651985</td>\n",
       "      <td>0.356563</td>\n",
       "      <td>-0.637029</td>\n",
       "      <td>1.835101</td>\n",
       "      <td>6.786124</td>\n",
       "      <td>-3.118750</td>\n",
       "      <td>...</td>\n",
       "      <td>-3.319621</td>\n",
       "      <td>-0.992389</td>\n",
       "      <td>-2.757275</td>\n",
       "      <td>6.702721</td>\n",
       "      <td>3.893083</td>\n",
       "      <td>5.556788</td>\n",
       "      <td>-0.638900</td>\n",
       "      <td>-2.551707</td>\n",
       "      <td>-5.765186</td>\n",
       "      <td>1.065638</td>\n",
       "    </tr>\n",
       "    <tr>\n",
       "      <th>7021</th>\n",
       "      <td>7318</td>\n",
       "      <td>-12.791195</td>\n",
       "      <td>-7.078714</td>\n",
       "      <td>-5.311069</td>\n",
       "      <td>3.794702</td>\n",
       "      <td>2.513006</td>\n",
       "      <td>4.069836</td>\n",
       "      <td>2.206091</td>\n",
       "      <td>-1.290894</td>\n",
       "      <td>-1.762865</td>\n",
       "      <td>...</td>\n",
       "      <td>-2.517108</td>\n",
       "      <td>-3.440595</td>\n",
       "      <td>1.071891</td>\n",
       "      <td>-0.993795</td>\n",
       "      <td>-1.344589</td>\n",
       "      <td>-1.195211</td>\n",
       "      <td>-1.756481</td>\n",
       "      <td>1.677083</td>\n",
       "      <td>0.144351</td>\n",
       "      <td>1.784589</td>\n",
       "    </tr>\n",
       "    <tr>\n",
       "      <th>7022</th>\n",
       "      <td>7319</td>\n",
       "      <td>-9.455527</td>\n",
       "      <td>-2.712885</td>\n",
       "      <td>-4.359941</td>\n",
       "      <td>1.698886</td>\n",
       "      <td>-5.199707</td>\n",
       "      <td>9.063137</td>\n",
       "      <td>5.127247</td>\n",
       "      <td>-3.702387</td>\n",
       "      <td>5.469174</td>\n",
       "      <td>...</td>\n",
       "      <td>3.370622</td>\n",
       "      <td>5.706404</td>\n",
       "      <td>3.222396</td>\n",
       "      <td>-5.643500</td>\n",
       "      <td>3.421062</td>\n",
       "      <td>-0.716480</td>\n",
       "      <td>1.452271</td>\n",
       "      <td>-0.745790</td>\n",
       "      <td>0.676563</td>\n",
       "      <td>1.773976</td>\n",
       "    </tr>\n",
       "  </tbody>\n",
       "</table>\n",
       "<p>7023 rows × 21 columns</p>\n",
       "</div>"
      ],
      "text/plain": [
       "      post_id        PC0        PC1        PC2       PC3        PC4       PC5  \\\n",
       "0           1   3.500321 -10.554127  11.443293  0.846715  14.404195  9.562678   \n",
       "1           2  18.671574  -5.137968   1.849811 -5.967701   0.369379  2.440308   \n",
       "2           3  13.968039  -4.589651   1.524654 -8.710602   1.043155  7.366778   \n",
       "3           4  21.775520   0.041360 -15.245056 -1.202087  -1.096143 -0.474863   \n",
       "4           5  14.218131   1.002445 -13.375771 -3.665664   1.368440 -0.714064   \n",
       "...       ...        ...        ...        ...       ...        ...       ...   \n",
       "7018     7315 -11.655491  -6.354025  -5.219182 -9.544808   0.303797 -2.729472   \n",
       "7019     7316 -14.031900  -3.515837   1.317705 -5.516077   1.923890 -3.453613   \n",
       "7020     7317 -12.519737  -5.040771  -4.923931 -7.651985   0.356563 -0.637029   \n",
       "7021     7318 -12.791195  -7.078714  -5.311069  3.794702   2.513006  4.069836   \n",
       "7022     7319  -9.455527  -2.712885  -4.359941  1.698886  -5.199707  9.063137   \n",
       "\n",
       "           PC6       PC7       PC8  ...      PC10      PC11       PC12  \\\n",
       "0    -3.731412  6.060891  6.917934  ...  1.141031 -4.023714  13.655045   \n",
       "1    -2.113307  0.072210  3.222704  ...  0.762847 -1.960697  -2.824781   \n",
       "2    -1.090990  4.899185  3.291355  ... -7.690031 -3.501015   3.778787   \n",
       "3     1.177425 -5.798441 -0.636396  ...  1.567016  0.371143   1.368155   \n",
       "4     5.984372 -1.590061 -2.126425  ... -0.204347  0.314087  -1.205342   \n",
       "...        ...       ...       ...  ...       ...       ...        ...   \n",
       "7018  1.988416  1.083812 -6.699657  ... -0.368224 -2.882448  -0.521882   \n",
       "7019  1.813950  2.135833  2.385682  ...  0.859299  5.260887   1.577359   \n",
       "7020  1.835101  6.786124 -3.118750  ... -3.319621 -0.992389  -2.757275   \n",
       "7021  2.206091 -1.290894 -1.762865  ... -2.517108 -3.440595   1.071891   \n",
       "7022  5.127247 -3.702387  5.469174  ...  3.370622  5.706404   3.222396   \n",
       "\n",
       "          PC13      PC14      PC15      PC16      PC17      PC18      PC19  \n",
       "0    -1.540065 -5.287159  0.871138  1.230013 -4.582694 -0.031711  0.169429  \n",
       "1    -3.384867  0.505251  2.872391 -2.057101  4.495288 -3.962610  2.263730  \n",
       "2     3.028109  0.963784 -0.481186 -2.623369  1.008380  0.519822  0.909738  \n",
       "3     2.801944  5.111173 -3.664513  3.177406  3.842894 -1.363071 -1.477227  \n",
       "4     2.404388 -3.078572 -0.399450 -2.173429 -0.123188  2.112833 -0.496121  \n",
       "...        ...       ...       ...       ...       ...       ...       ...  \n",
       "7018 -3.632641  1.025860  0.398515 -2.544691  3.047159  1.724019 -5.951403  \n",
       "7019  3.894874  3.642095 -1.613258 -4.488069 -2.539954  1.353190 -0.450315  \n",
       "7020  6.702721  3.893083  5.556788 -0.638900 -2.551707 -5.765186  1.065638  \n",
       "7021 -0.993795 -1.344589 -1.195211 -1.756481  1.677083  0.144351  1.784589  \n",
       "7022 -5.643500  3.421062 -0.716480  1.452271 -0.745790  0.676563  1.773976  \n",
       "\n",
       "[7023 rows x 21 columns]"
      ]
     },
     "execution_count": 3,
     "metadata": {},
     "output_type": "execute_result"
    }
   ],
   "source": [
    "text_embeddings"
   ]
  },
  {
   "cell_type": "code",
   "execution_count": 4,
   "metadata": {},
   "outputs": [],
   "source": [
    "import pandas as pd\n",
    "from sqlalchemy import create_engine"
   ]
  },
  {
   "cell_type": "code",
   "execution_count": 5,
   "metadata": {},
   "outputs": [],
   "source": [
    "engine = create_engine(\n",
    "    \"postgresql://robot-startml-ro:PASSWORD@\"\n",
    "    \"HOST:6432/startml\"\n",
    ")\n",
    "# посчитал что target=1 лишнее т.к. все равно есть отдельная строка на лайк\n",
    "# за период по объему кол-ва последних строк беру и агрегирую был лайк или нет\n",
    "feed_data = pd.read_sql('''\n",
    "                        with tmp_data as (\n",
    "                        select user_id, \n",
    "                               post_id, \n",
    "                               action,\n",
    "                               timestamp\n",
    "                          from feed_data \n",
    "                         where target != 1\n",
    "                         order by timestamp desc limit 1000000\n",
    "                         ),\n",
    "                         agg_data as (\n",
    "                         select user_id, \n",
    "                                post_id,\n",
    "                                max(timestamp) as timestamp,\n",
    "                                max(case when action='like' then timestamp else null end) like_timestamp,\n",
    "                                max(case when action='like' then 1 else 0 end) as liked\n",
    "                           from tmp_data\n",
    "                          group by user_id, post_id\n",
    "                          )\n",
    "                          select user_id, \n",
    "                                 post_id,\n",
    "                                 coalesce(like_timestamp, timestamp) as timestamp,\n",
    "                                 liked\n",
    "                            from agg_data\n",
    "                        ''', \n",
    "                        con=engine)"
   ]
  },
  {
   "cell_type": "code",
   "execution_count": 6,
   "metadata": {},
   "outputs": [],
   "source": [
    "engine = create_engine(\n",
    "    \"postgresql://robot-startml-ro:PASSWORD@\"\n",
    "    \"HOST:6432/startml\"\n",
    ")\n",
    "user_data = pd.read_sql('''\n",
    "                        select * \n",
    "                        from user_data\n",
    "                        ''', \n",
    "                        con=engine)"
   ]
  },
  {
   "cell_type": "code",
   "execution_count": 18,
   "metadata": {},
   "outputs": [],
   "source": [
    "user_likes = feed_data[feed_data['liked']==1].groupby('user_id')['post_id'].count().copy().reset_index().rename(columns={'post_id': 'user_like_cnt'})"
   ]
  },
  {
   "cell_type": "code",
   "execution_count": 19,
   "metadata": {},
   "outputs": [],
   "source": [
    "user_ignores = feed_data[feed_data['liked']==0].groupby('user_id')['post_id'].count().copy().reset_index().rename(columns={'post_id': 'user_ignore_cnt'})"
   ]
  },
  {
   "cell_type": "code",
   "execution_count": 20,
   "metadata": {},
   "outputs": [],
   "source": [
    "user_data = user_data.merge(user_likes,\n",
    "                            how='left',\n",
    "                            left_on='user_id',\n",
    "                            right_on='user_id')"
   ]
  },
  {
   "cell_type": "code",
   "execution_count": 21,
   "metadata": {},
   "outputs": [],
   "source": [
    "user_data = user_data.merge(user_ignores,\n",
    "                            how='left',\n",
    "                            left_on='user_id',\n",
    "                            right_on='user_id')"
   ]
  },
  {
   "cell_type": "code",
   "execution_count": 22,
   "metadata": {},
   "outputs": [],
   "source": [
    "user_data.user_like_cnt = user_data.user_like_cnt.fillna(0)"
   ]
  },
  {
   "cell_type": "code",
   "execution_count": 23,
   "metadata": {},
   "outputs": [],
   "source": [
    "user_data.user_ignore_cnt = user_data.user_ignore_cnt.fillna(0)"
   ]
  },
  {
   "cell_type": "code",
   "execution_count": 24,
   "metadata": {},
   "outputs": [
    {
     "data": {
      "text/html": [
       "<div>\n",
       "<style scoped>\n",
       "    .dataframe tbody tr th:only-of-type {\n",
       "        vertical-align: middle;\n",
       "    }\n",
       "\n",
       "    .dataframe tbody tr th {\n",
       "        vertical-align: top;\n",
       "    }\n",
       "\n",
       "    .dataframe thead th {\n",
       "        text-align: right;\n",
       "    }\n",
       "</style>\n",
       "<table border=\"1\" class=\"dataframe\">\n",
       "  <thead>\n",
       "    <tr style=\"text-align: right;\">\n",
       "      <th></th>\n",
       "      <th>user_id</th>\n",
       "      <th>gender</th>\n",
       "      <th>age</th>\n",
       "      <th>country</th>\n",
       "      <th>city</th>\n",
       "      <th>exp_group</th>\n",
       "      <th>os</th>\n",
       "      <th>source</th>\n",
       "      <th>user_like_cnt</th>\n",
       "      <th>user_ignore_cnt</th>\n",
       "    </tr>\n",
       "  </thead>\n",
       "  <tbody>\n",
       "    <tr>\n",
       "      <th>0</th>\n",
       "      <td>200</td>\n",
       "      <td>1</td>\n",
       "      <td>34</td>\n",
       "      <td>Russia</td>\n",
       "      <td>Degtyarsk</td>\n",
       "      <td>3</td>\n",
       "      <td>Android</td>\n",
       "      <td>ads</td>\n",
       "      <td>5.0</td>\n",
       "      <td>21.0</td>\n",
       "    </tr>\n",
       "    <tr>\n",
       "      <th>1</th>\n",
       "      <td>201</td>\n",
       "      <td>0</td>\n",
       "      <td>37</td>\n",
       "      <td>Russia</td>\n",
       "      <td>Abakan</td>\n",
       "      <td>0</td>\n",
       "      <td>Android</td>\n",
       "      <td>ads</td>\n",
       "      <td>4.0</td>\n",
       "      <td>22.0</td>\n",
       "    </tr>\n",
       "    <tr>\n",
       "      <th>2</th>\n",
       "      <td>202</td>\n",
       "      <td>1</td>\n",
       "      <td>17</td>\n",
       "      <td>Russia</td>\n",
       "      <td>Smolensk</td>\n",
       "      <td>4</td>\n",
       "      <td>Android</td>\n",
       "      <td>ads</td>\n",
       "      <td>3.0</td>\n",
       "      <td>19.0</td>\n",
       "    </tr>\n",
       "    <tr>\n",
       "      <th>3</th>\n",
       "      <td>203</td>\n",
       "      <td>0</td>\n",
       "      <td>18</td>\n",
       "      <td>Russia</td>\n",
       "      <td>Moscow</td>\n",
       "      <td>1</td>\n",
       "      <td>iOS</td>\n",
       "      <td>ads</td>\n",
       "      <td>0.0</td>\n",
       "      <td>0.0</td>\n",
       "    </tr>\n",
       "    <tr>\n",
       "      <th>4</th>\n",
       "      <td>204</td>\n",
       "      <td>0</td>\n",
       "      <td>36</td>\n",
       "      <td>Russia</td>\n",
       "      <td>Anzhero-Sudzhensk</td>\n",
       "      <td>3</td>\n",
       "      <td>Android</td>\n",
       "      <td>ads</td>\n",
       "      <td>5.0</td>\n",
       "      <td>23.0</td>\n",
       "    </tr>\n",
       "    <tr>\n",
       "      <th>...</th>\n",
       "      <td>...</td>\n",
       "      <td>...</td>\n",
       "      <td>...</td>\n",
       "      <td>...</td>\n",
       "      <td>...</td>\n",
       "      <td>...</td>\n",
       "      <td>...</td>\n",
       "      <td>...</td>\n",
       "      <td>...</td>\n",
       "      <td>...</td>\n",
       "    </tr>\n",
       "    <tr>\n",
       "      <th>163200</th>\n",
       "      <td>168548</td>\n",
       "      <td>0</td>\n",
       "      <td>36</td>\n",
       "      <td>Russia</td>\n",
       "      <td>Kaliningrad</td>\n",
       "      <td>4</td>\n",
       "      <td>Android</td>\n",
       "      <td>organic</td>\n",
       "      <td>0.0</td>\n",
       "      <td>0.0</td>\n",
       "    </tr>\n",
       "    <tr>\n",
       "      <th>163201</th>\n",
       "      <td>168549</td>\n",
       "      <td>0</td>\n",
       "      <td>18</td>\n",
       "      <td>Russia</td>\n",
       "      <td>Tula</td>\n",
       "      <td>2</td>\n",
       "      <td>Android</td>\n",
       "      <td>organic</td>\n",
       "      <td>0.0</td>\n",
       "      <td>0.0</td>\n",
       "    </tr>\n",
       "    <tr>\n",
       "      <th>163202</th>\n",
       "      <td>168550</td>\n",
       "      <td>1</td>\n",
       "      <td>41</td>\n",
       "      <td>Russia</td>\n",
       "      <td>Yekaterinburg</td>\n",
       "      <td>4</td>\n",
       "      <td>Android</td>\n",
       "      <td>organic</td>\n",
       "      <td>0.0</td>\n",
       "      <td>0.0</td>\n",
       "    </tr>\n",
       "    <tr>\n",
       "      <th>163203</th>\n",
       "      <td>168551</td>\n",
       "      <td>0</td>\n",
       "      <td>38</td>\n",
       "      <td>Russia</td>\n",
       "      <td>Moscow</td>\n",
       "      <td>3</td>\n",
       "      <td>iOS</td>\n",
       "      <td>organic</td>\n",
       "      <td>0.0</td>\n",
       "      <td>0.0</td>\n",
       "    </tr>\n",
       "    <tr>\n",
       "      <th>163204</th>\n",
       "      <td>168552</td>\n",
       "      <td>1</td>\n",
       "      <td>16</td>\n",
       "      <td>Russia</td>\n",
       "      <td>Ivanteyevka</td>\n",
       "      <td>4</td>\n",
       "      <td>Android</td>\n",
       "      <td>organic</td>\n",
       "      <td>0.0</td>\n",
       "      <td>0.0</td>\n",
       "    </tr>\n",
       "  </tbody>\n",
       "</table>\n",
       "<p>163205 rows × 10 columns</p>\n",
       "</div>"
      ],
      "text/plain": [
       "        user_id  gender  age country               city  exp_group       os  \\\n",
       "0           200       1   34  Russia          Degtyarsk          3  Android   \n",
       "1           201       0   37  Russia             Abakan          0  Android   \n",
       "2           202       1   17  Russia           Smolensk          4  Android   \n",
       "3           203       0   18  Russia             Moscow          1      iOS   \n",
       "4           204       0   36  Russia  Anzhero-Sudzhensk          3  Android   \n",
       "...         ...     ...  ...     ...                ...        ...      ...   \n",
       "163200   168548       0   36  Russia        Kaliningrad          4  Android   \n",
       "163201   168549       0   18  Russia               Tula          2  Android   \n",
       "163202   168550       1   41  Russia      Yekaterinburg          4  Android   \n",
       "163203   168551       0   38  Russia             Moscow          3      iOS   \n",
       "163204   168552       1   16  Russia        Ivanteyevka          4  Android   \n",
       "\n",
       "         source  user_like_cnt  user_ignore_cnt  \n",
       "0           ads            5.0             21.0  \n",
       "1           ads            4.0             22.0  \n",
       "2           ads            3.0             19.0  \n",
       "3           ads            0.0              0.0  \n",
       "4           ads            5.0             23.0  \n",
       "...         ...            ...              ...  \n",
       "163200  organic            0.0              0.0  \n",
       "163201  organic            0.0              0.0  \n",
       "163202  organic            0.0              0.0  \n",
       "163203  organic            0.0              0.0  \n",
       "163204  organic            0.0              0.0  \n",
       "\n",
       "[163205 rows x 10 columns]"
      ]
     },
     "execution_count": 24,
     "metadata": {},
     "output_type": "execute_result"
    }
   ],
   "source": [
    "user_data"
   ]
  },
  {
   "cell_type": "code",
   "execution_count": null,
   "metadata": {},
   "outputs": [],
   "source": []
  },
  {
   "cell_type": "code",
   "execution_count": 7,
   "metadata": {},
   "outputs": [],
   "source": [
    "engine = create_engine(\n",
    "    \"postgresql://robot-startml-ro:PASSWORD@\"\n",
    "    \"HOST:6432/startml\"\n",
    ")\n",
    "post_text_df = pd.read_sql('select post_id, topic, length(text) as text_len from post_text_df', con=engine)"
   ]
  },
  {
   "cell_type": "code",
   "execution_count": 26,
   "metadata": {},
   "outputs": [],
   "source": [
    "post_likes = feed_data[feed_data['liked']==1].groupby('post_id')['user_id'].count().copy().reset_index().rename(columns={'user_id': 'post_like_cnt'})"
   ]
  },
  {
   "cell_type": "code",
   "execution_count": 27,
   "metadata": {},
   "outputs": [],
   "source": [
    "post_ignores = feed_data[feed_data['liked']==0].groupby('post_id')['user_id'].count().copy().reset_index().rename(columns={'user_id': 'post_ignore_cnt'})"
   ]
  },
  {
   "cell_type": "code",
   "execution_count": 28,
   "metadata": {},
   "outputs": [],
   "source": [
    "post_text_df = post_text_df.merge(post_likes,\n",
    "                            how='left',\n",
    "                            left_on='post_id',\n",
    "                            right_on='post_id')\n",
    "\n",
    "post_text_df = post_text_df.merge(post_ignores,\n",
    "                            how='left',\n",
    "                            left_on='post_id',\n",
    "                            right_on='post_id')"
   ]
  },
  {
   "cell_type": "code",
   "execution_count": 29,
   "metadata": {},
   "outputs": [],
   "source": [
    "post_text_df.post_like_cnt = post_text_df.post_like_cnt.fillna(0)\n",
    "post_text_df.post_ignore_cnt = post_text_df.post_ignore_cnt.fillna(0)"
   ]
  },
  {
   "cell_type": "code",
   "execution_count": 8,
   "metadata": {},
   "outputs": [],
   "source": [
    "df = feed_data.merge(user_data, \n",
    "                     how='left', \n",
    "                     left_on='user_id',\n",
    "                     right_on='user_id')"
   ]
  },
  {
   "cell_type": "code",
   "execution_count": 9,
   "metadata": {},
   "outputs": [],
   "source": [
    "df = df.merge(post_text_df, \n",
    "              how='left', \n",
    "              left_on='post_id',\n",
    "              right_on='post_id')"
   ]
  },
  {
   "cell_type": "code",
   "execution_count": 10,
   "metadata": {},
   "outputs": [
    {
     "data": {
      "text/plain": [
       "6831"
      ]
     },
     "execution_count": 10,
     "metadata": {},
     "output_type": "execute_result"
    }
   ],
   "source": [
    "df.post_id.nunique()"
   ]
  },
  {
   "cell_type": "code",
   "execution_count": 36,
   "metadata": {},
   "outputs": [
    {
     "data": {
      "text/plain": [
       "999734"
      ]
     },
     "execution_count": 36,
     "metadata": {},
     "output_type": "execute_result"
    }
   ],
   "source": [
    "len(df[df['post_id'].isin(text_embeddings['post_id'])])"
   ]
  },
  {
   "cell_type": "code",
   "execution_count": 37,
   "metadata": {},
   "outputs": [
    {
     "data": {
      "text/plain": [
       "999734"
      ]
     },
     "execution_count": 37,
     "metadata": {},
     "output_type": "execute_result"
    }
   ],
   "source": [
    "len(df)"
   ]
  },
  {
   "cell_type": "code",
   "execution_count": 38,
   "metadata": {},
   "outputs": [],
   "source": [
    "df = df.merge(text_embeddings, \n",
    "              how='left', \n",
    "              left_on='post_id',\n",
    "              right_on='post_id')"
   ]
  },
  {
   "cell_type": "code",
   "execution_count": null,
   "metadata": {},
   "outputs": [],
   "source": [
    "# исключим фичи для которых мы подглядывали в таргет"
   ]
  },
  {
   "cell_type": "code",
   "execution_count": 41,
   "metadata": {},
   "outputs": [],
   "source": [
    "df = df[[column for column in df.columns if column not in ('user_like_cnt', 'user_ignore_cnt', 'post_like_cnt', 'post_ignore_cnt')]].copy()"
   ]
  },
  {
   "cell_type": "code",
   "execution_count": 56,
   "metadata": {},
   "outputs": [
    {
     "data": {
      "text/plain": [
       "Index(['user_id', 'post_id', 'timestamp', 'liked', 'gender', 'age', 'country',\n",
       "       'city', 'exp_group', 'os', 'source', 'topic', 'text_len', 'PC0', 'PC1',\n",
       "       'PC2', 'PC3', 'PC4', 'PC5', 'PC6', 'PC7', 'PC8', 'PC9', 'PC10', 'PC11',\n",
       "       'PC12', 'PC13', 'PC14', 'PC15', 'PC16', 'PC17', 'PC18', 'PC19',\n",
       "       'timestamp_dayofweek', 'timestamp_hour'],\n",
       "      dtype='object')"
      ]
     },
     "execution_count": 56,
     "metadata": {},
     "output_type": "execute_result"
    }
   ],
   "source": [
    "df.columns"
   ]
  },
  {
   "cell_type": "code",
   "execution_count": 11,
   "metadata": {},
   "outputs": [],
   "source": [
    "df['timestamp_dayofweek'] = df['timestamp'].dt.dayofweek"
   ]
  },
  {
   "cell_type": "code",
   "execution_count": 12,
   "metadata": {},
   "outputs": [],
   "source": [
    "df['timestamp_hour'] = df['timestamp'].dt.hour"
   ]
  },
  {
   "cell_type": "code",
   "execution_count": 46,
   "metadata": {},
   "outputs": [
    {
     "data": {
      "text/plain": [
       "Index(['user_id', 'post_id', 'timestamp', 'liked', 'gender', 'age', 'country',\n",
       "       'city', 'exp_group', 'os', 'source', 'topic', 'text_len', 'PC0', 'PC1',\n",
       "       'PC2', 'PC3', 'PC4', 'PC5', 'PC6', 'PC7', 'PC8', 'PC9', 'PC10', 'PC11',\n",
       "       'PC12', 'PC13', 'PC14', 'PC15', 'PC16', 'PC17', 'PC18', 'PC19',\n",
       "       'timestamp_dayofweek', 'timestamp_hour'],\n",
       "      dtype='object')"
      ]
     },
     "execution_count": 46,
     "metadata": {},
     "output_type": "execute_result"
    }
   ],
   "source": [
    "df.columns"
   ]
  },
  {
   "cell_type": "code",
   "execution_count": 13,
   "metadata": {},
   "outputs": [],
   "source": [
    "X = df.drop(['user_id', 'post_id', 'liked'], axis=1)\n",
    "y = df[['liked', 'timestamp']]"
   ]
  },
  {
   "cell_type": "code",
   "execution_count": 14,
   "metadata": {},
   "outputs": [
    {
     "data": {
      "text/plain": [
       "0.7985134045656145"
      ]
     },
     "execution_count": 14,
     "metadata": {},
     "output_type": "execute_result"
    }
   ],
   "source": [
    "len(X[X['timestamp'].astype(str) <= '2021-12-29 19:11:05'])/len(X)"
   ]
  },
  {
   "cell_type": "code",
   "execution_count": 15,
   "metadata": {},
   "outputs": [],
   "source": [
    "X_train = X[X['timestamp'] <= '2021-12-29 19:11:05'].drop('timestamp', axis=1)\n",
    "X_test = X[X['timestamp'] > '2021-12-29 19:11:05'].drop('timestamp', axis=1)\n",
    "y_train = y[y['timestamp'] <= '2021-12-29 19:11:05'].drop('timestamp', axis=1)\n",
    "y_test = y[y['timestamp'] > '2021-12-29 19:11:05'].drop('timestamp', axis=1)"
   ]
  },
  {
   "cell_type": "code",
   "execution_count": 16,
   "metadata": {},
   "outputs": [
    {
     "data": {
      "text/html": [
       "<div>\n",
       "<style scoped>\n",
       "    .dataframe tbody tr th:only-of-type {\n",
       "        vertical-align: middle;\n",
       "    }\n",
       "\n",
       "    .dataframe tbody tr th {\n",
       "        vertical-align: top;\n",
       "    }\n",
       "\n",
       "    .dataframe thead th {\n",
       "        text-align: right;\n",
       "    }\n",
       "</style>\n",
       "<table border=\"1\" class=\"dataframe\">\n",
       "  <thead>\n",
       "    <tr style=\"text-align: right;\">\n",
       "      <th></th>\n",
       "      <th>gender</th>\n",
       "      <th>age</th>\n",
       "      <th>country</th>\n",
       "      <th>city</th>\n",
       "      <th>exp_group</th>\n",
       "      <th>os</th>\n",
       "      <th>source</th>\n",
       "      <th>topic</th>\n",
       "      <th>text_len</th>\n",
       "      <th>timestamp_dayofweek</th>\n",
       "      <th>timestamp_hour</th>\n",
       "    </tr>\n",
       "  </thead>\n",
       "  <tbody>\n",
       "    <tr>\n",
       "      <th>0</th>\n",
       "      <td>1</td>\n",
       "      <td>34</td>\n",
       "      <td>Russia</td>\n",
       "      <td>Degtyarsk</td>\n",
       "      <td>3</td>\n",
       "      <td>Android</td>\n",
       "      <td>ads</td>\n",
       "      <td>business</td>\n",
       "      <td>3634</td>\n",
       "      <td>2</td>\n",
       "      <td>15</td>\n",
       "    </tr>\n",
       "    <tr>\n",
       "      <th>1</th>\n",
       "      <td>1</td>\n",
       "      <td>34</td>\n",
       "      <td>Russia</td>\n",
       "      <td>Degtyarsk</td>\n",
       "      <td>3</td>\n",
       "      <td>Android</td>\n",
       "      <td>ads</td>\n",
       "      <td>business</td>\n",
       "      <td>1940</td>\n",
       "      <td>2</td>\n",
       "      <td>15</td>\n",
       "    </tr>\n",
       "    <tr>\n",
       "      <th>2</th>\n",
       "      <td>1</td>\n",
       "      <td>34</td>\n",
       "      <td>Russia</td>\n",
       "      <td>Degtyarsk</td>\n",
       "      <td>3</td>\n",
       "      <td>Android</td>\n",
       "      <td>ads</td>\n",
       "      <td>politics</td>\n",
       "      <td>2572</td>\n",
       "      <td>2</td>\n",
       "      <td>15</td>\n",
       "    </tr>\n",
       "    <tr>\n",
       "      <th>3</th>\n",
       "      <td>1</td>\n",
       "      <td>34</td>\n",
       "      <td>Russia</td>\n",
       "      <td>Degtyarsk</td>\n",
       "      <td>3</td>\n",
       "      <td>Android</td>\n",
       "      <td>ads</td>\n",
       "      <td>politics</td>\n",
       "      <td>1995</td>\n",
       "      <td>2</td>\n",
       "      <td>15</td>\n",
       "    </tr>\n",
       "    <tr>\n",
       "      <th>4</th>\n",
       "      <td>1</td>\n",
       "      <td>34</td>\n",
       "      <td>Russia</td>\n",
       "      <td>Degtyarsk</td>\n",
       "      <td>3</td>\n",
       "      <td>Android</td>\n",
       "      <td>ads</td>\n",
       "      <td>politics</td>\n",
       "      <td>1778</td>\n",
       "      <td>2</td>\n",
       "      <td>15</td>\n",
       "    </tr>\n",
       "    <tr>\n",
       "      <th>...</th>\n",
       "      <td>...</td>\n",
       "      <td>...</td>\n",
       "      <td>...</td>\n",
       "      <td>...</td>\n",
       "      <td>...</td>\n",
       "      <td>...</td>\n",
       "      <td>...</td>\n",
       "      <td>...</td>\n",
       "      <td>...</td>\n",
       "      <td>...</td>\n",
       "      <td>...</td>\n",
       "    </tr>\n",
       "    <tr>\n",
       "      <th>999729</th>\n",
       "      <td>1</td>\n",
       "      <td>17</td>\n",
       "      <td>Russia</td>\n",
       "      <td>Morgaushi</td>\n",
       "      <td>2</td>\n",
       "      <td>Android</td>\n",
       "      <td>organic</td>\n",
       "      <td>movie</td>\n",
       "      <td>1023</td>\n",
       "      <td>2</td>\n",
       "      <td>16</td>\n",
       "    </tr>\n",
       "    <tr>\n",
       "      <th>999730</th>\n",
       "      <td>1</td>\n",
       "      <td>17</td>\n",
       "      <td>Russia</td>\n",
       "      <td>Morgaushi</td>\n",
       "      <td>2</td>\n",
       "      <td>Android</td>\n",
       "      <td>organic</td>\n",
       "      <td>movie</td>\n",
       "      <td>649</td>\n",
       "      <td>2</td>\n",
       "      <td>15</td>\n",
       "    </tr>\n",
       "    <tr>\n",
       "      <th>999731</th>\n",
       "      <td>1</td>\n",
       "      <td>17</td>\n",
       "      <td>Russia</td>\n",
       "      <td>Morgaushi</td>\n",
       "      <td>2</td>\n",
       "      <td>Android</td>\n",
       "      <td>organic</td>\n",
       "      <td>movie</td>\n",
       "      <td>769</td>\n",
       "      <td>2</td>\n",
       "      <td>16</td>\n",
       "    </tr>\n",
       "    <tr>\n",
       "      <th>999732</th>\n",
       "      <td>1</td>\n",
       "      <td>17</td>\n",
       "      <td>Russia</td>\n",
       "      <td>Morgaushi</td>\n",
       "      <td>2</td>\n",
       "      <td>Android</td>\n",
       "      <td>organic</td>\n",
       "      <td>movie</td>\n",
       "      <td>831</td>\n",
       "      <td>2</td>\n",
       "      <td>16</td>\n",
       "    </tr>\n",
       "    <tr>\n",
       "      <th>999733</th>\n",
       "      <td>1</td>\n",
       "      <td>17</td>\n",
       "      <td>Russia</td>\n",
       "      <td>Morgaushi</td>\n",
       "      <td>2</td>\n",
       "      <td>Android</td>\n",
       "      <td>organic</td>\n",
       "      <td>movie</td>\n",
       "      <td>2155</td>\n",
       "      <td>2</td>\n",
       "      <td>16</td>\n",
       "    </tr>\n",
       "  </tbody>\n",
       "</table>\n",
       "<p>798301 rows × 11 columns</p>\n",
       "</div>"
      ],
      "text/plain": [
       "        gender  age country       city  exp_group       os   source     topic  \\\n",
       "0            1   34  Russia  Degtyarsk          3  Android      ads  business   \n",
       "1            1   34  Russia  Degtyarsk          3  Android      ads  business   \n",
       "2            1   34  Russia  Degtyarsk          3  Android      ads  politics   \n",
       "3            1   34  Russia  Degtyarsk          3  Android      ads  politics   \n",
       "4            1   34  Russia  Degtyarsk          3  Android      ads  politics   \n",
       "...        ...  ...     ...        ...        ...      ...      ...       ...   \n",
       "999729       1   17  Russia  Morgaushi          2  Android  organic     movie   \n",
       "999730       1   17  Russia  Morgaushi          2  Android  organic     movie   \n",
       "999731       1   17  Russia  Morgaushi          2  Android  organic     movie   \n",
       "999732       1   17  Russia  Morgaushi          2  Android  organic     movie   \n",
       "999733       1   17  Russia  Morgaushi          2  Android  organic     movie   \n",
       "\n",
       "        text_len  timestamp_dayofweek  timestamp_hour  \n",
       "0           3634                    2              15  \n",
       "1           1940                    2              15  \n",
       "2           2572                    2              15  \n",
       "3           1995                    2              15  \n",
       "4           1778                    2              15  \n",
       "...          ...                  ...             ...  \n",
       "999729      1023                    2              16  \n",
       "999730       649                    2              15  \n",
       "999731       769                    2              16  \n",
       "999732       831                    2              16  \n",
       "999733      2155                    2              16  \n",
       "\n",
       "[798301 rows x 11 columns]"
      ]
     },
     "execution_count": 16,
     "metadata": {},
     "output_type": "execute_result"
    }
   ],
   "source": [
    "X_train"
   ]
  },
  {
   "cell_type": "code",
   "execution_count": 17,
   "metadata": {},
   "outputs": [
    {
     "name": "stdout",
     "output_type": "stream",
     "text": [
      "Learning rate set to 0.178714\n",
      "0:\tlearn: 0.5868130\ttotal: 443ms\tremaining: 7m 22s\n",
      "100:\tlearn: 0.3834841\ttotal: 1m 2s\tremaining: 9m 17s\n",
      "200:\tlearn: 0.3824267\ttotal: 1m 55s\tremaining: 7m 40s\n",
      "300:\tlearn: 0.3815781\ttotal: 2m 53s\tremaining: 6m 42s\n",
      "400:\tlearn: 0.3808146\ttotal: 3m 52s\tremaining: 5m 47s\n",
      "500:\tlearn: 0.3801635\ttotal: 4m 51s\tremaining: 4m 50s\n",
      "600:\tlearn: 0.3794742\ttotal: 5m 51s\tremaining: 3m 53s\n",
      "700:\tlearn: 0.3788640\ttotal: 6m 50s\tremaining: 2m 55s\n",
      "800:\tlearn: 0.3782406\ttotal: 7m 54s\tremaining: 1m 58s\n",
      "900:\tlearn: 0.3776042\ttotal: 9m 5s\tremaining: 59.9s\n",
      "999:\tlearn: 0.3769808\ttotal: 10m 11s\tremaining: 0us\n"
     ]
    },
    {
     "data": {
      "text/plain": [
       "<catboost.core.CatBoostClassifier at 0x1e783c5e948>"
      ]
     },
     "execution_count": 17,
     "metadata": {},
     "output_type": "execute_result"
    }
   ],
   "source": [
    "from catboost import CatBoostClassifier\n",
    "\n",
    "model = CatBoostClassifier()\n",
    "model.fit(X_train, y_train, cat_features=['gender', 'age', 'country', \n",
    "                                          'city', 'exp_group', 'os', \n",
    "                                          'source', 'topic', 'timestamp_dayofweek', \n",
    "                                          'timestamp_hour'], verbose=100)"
   ]
  },
  {
   "cell_type": "code",
   "execution_count": 73,
   "metadata": {},
   "outputs": [],
   "source": [
    "model.save_model(\"C:/Users/maslo/Desktop/karpov_start_ml/3_module/10_lesson/catboost_model_v002\", format=\"cbm\")"
   ]
  },
  {
   "cell_type": "code",
   "execution_count": 18,
   "metadata": {},
   "outputs": [],
   "source": [
    "from sklearn.metrics import f1_score"
   ]
  },
  {
   "cell_type": "code",
   "execution_count": 19,
   "metadata": {},
   "outputs": [
    {
     "data": {
      "text/plain": [
       "0.0004444726649311067"
      ]
     },
     "execution_count": 19,
     "metadata": {},
     "output_type": "execute_result"
    }
   ],
   "source": [
    "f1_score(y_test, model.predict(X_test))"
   ]
  },
  {
   "cell_type": "code",
   "execution_count": 20,
   "metadata": {},
   "outputs": [],
   "source": [
    "from sklearn.metrics import classification_report"
   ]
  },
  {
   "cell_type": "code",
   "execution_count": 21,
   "metadata": {},
   "outputs": [
    {
     "name": "stdout",
     "output_type": "stream",
     "text": [
      "              precision    recall  f1-score   support\n",
      "\n",
      "           0      0.844     1.000     0.915    169955\n",
      "           1      0.350     0.000     0.000     31478\n",
      "\n",
      "    accuracy                          0.844    201433\n",
      "   macro avg      0.597     0.500     0.458    201433\n",
      "weighted avg      0.767     0.844     0.772    201433\n",
      "\n"
     ]
    }
   ],
   "source": [
    "print(classification_report(y_test, model.predict(X_test), digits=3))"
   ]
  },
  {
   "cell_type": "code",
   "execution_count": null,
   "metadata": {},
   "outputs": [],
   "source": [
    "from sklearn.calibration import CalibrationDisplay"
   ]
  },
  {
   "cell_type": "code",
   "execution_count": null,
   "metadata": {},
   "outputs": [],
   "source": [
    "# наверно здорово было бы откалибровать я хз\n",
    "CalibrationDisplay.from_predictions(y_test, \n",
    "                                    model.predict_proba(X_test)[:,1],\n",
    "                                    n_bins=15)"
   ]
  },
  {
   "cell_type": "code",
   "execution_count": null,
   "metadata": {},
   "outputs": [],
   "source": [
    "from sklearn.calibration import CalibratedClassifierCV"
   ]
  },
  {
   "cell_type": "code",
   "execution_count": null,
   "metadata": {},
   "outputs": [],
   "source": [
    "calibration = CalibratedClassifierCV(model, cv=3, method='sigmoid')"
   ]
  },
  {
   "cell_type": "code",
   "execution_count": null,
   "metadata": {},
   "outputs": [],
   "source": [
    "# надо как то по другому\n",
    "calibration.fit(X_train, y_train)"
   ]
  },
  {
   "cell_type": "code",
   "execution_count": null,
   "metadata": {},
   "outputs": [],
   "source": [
    "CalibrationDisplay.from_predictions(y_test, \n",
    "                                    calibration.predict_proba(X_test)[:,1],\n",
    "                                    n_bins=15)"
   ]
  },
  {
   "cell_type": "code",
   "execution_count": 22,
   "metadata": {},
   "outputs": [],
   "source": [
    "result = []\n",
    "for thr in range(1, 30):\n",
    "    thr_val = thr/100\n",
    "    preds = model.predict_proba(X_test)[:,1]\n",
    "    preds_bool = (preds > thr_val) * 1\n",
    "    result.append((thr,\n",
    "                   f1_score(y_test,preds_bool)))"
   ]
  },
  {
   "cell_type": "code",
   "execution_count": 23,
   "metadata": {},
   "outputs": [
    {
     "data": {
      "text/plain": [
       "[(1, 0.2703041544300754),\n",
       " (2, 0.2706190330858806),\n",
       " (3, 0.27194010107079714),\n",
       " (4, 0.2744135583729253),\n",
       " (5, 0.27732948574075067),\n",
       " (6, 0.2810156246438065),\n",
       " (7, 0.2852485661003096),\n",
       " (8, 0.2893399286961512),\n",
       " (9, 0.29412421351735335),\n",
       " (10, 0.2983078282908959),\n",
       " (11, 0.30268304283356184),\n",
       " (12, 0.30581166354211636),\n",
       " (13, 0.30858394215702933),\n",
       " (14, 0.3106263347119725),\n",
       " (15, 0.3118043350908026),\n",
       " (16, 0.3109157040649107),\n",
       " (17, 0.30894009216589857),\n",
       " (18, 0.30474417161255285),\n",
       " (19, 0.2982700681815726),\n",
       " (20, 0.2886163188587402),\n",
       " (21, 0.27529881018600166),\n",
       " (22, 0.25686955462133676),\n",
       " (23, 0.2373376844109049),\n",
       " (24, 0.213712563571294),\n",
       " (25, 0.19003964321110012),\n",
       " (26, 0.1641704296508249),\n",
       " (27, 0.13706401288430567),\n",
       " (28, 0.11099444259482161),\n",
       " (29, 0.08634570702977251)]"
      ]
     },
     "execution_count": 23,
     "metadata": {},
     "output_type": "execute_result"
    }
   ],
   "source": [
    "result"
   ]
  },
  {
   "cell_type": "code",
   "execution_count": null,
   "metadata": {},
   "outputs": [],
   "source": [
    "# лучший порог 0.15, с ним f1 мера принимает значение 0.323 -- с эмбеддингами\n",
    "# лучший порог 0.15, с ним f1 мера принимает значение 0.311 -- без эмбеддингов\n",
    "# но почему метрика хуже чем в модели рассчитанной давным давно?"
   ]
  },
  {
   "cell_type": "code",
   "execution_count": 83,
   "metadata": {},
   "outputs": [
    {
     "data": {
      "text/plain": [
       "<matplotlib.axes._subplots.AxesSubplot at 0x1cf16ad5a88>"
      ]
     },
     "execution_count": 83,
     "metadata": {},
     "output_type": "execute_result"
    },
    {
     "data": {
      "image/png": "[encoded data removed]",
      "text/plain": [
       "<Figure size 432x432 with 1 Axes>"
      ]
     },
     "metadata": {
      "needs_background": "light"
     },
     "output_type": "display_data"
    }
   ],
   "source": [
    "# похоже что как то оно работает\n",
    "from sklearn.metrics import roc_curve\n",
    "fprs, tprs, thrs = roc_curve(y_test,model.predict_proba(X_test)[:,1])\n",
    "roc = pd.DataFrame({'fpr':fprs,'tpr':tprs,'thr':thrs})\n",
    "roc.set_index('fpr')['tpr'].plot(figsize=(6,6))"
   ]
  }
 ],
 "metadata": {
  "kernelspec": {
   "display_name": "Python 3",
   "language": "python",
   "name": "python3"
  },
  "language_info": {
   "codemirror_mode": {
    "name": "ipython",
    "version": 3
   },
   "file_extension": ".py",
   "mimetype": "text/x-python",
   "name": "python",
   "nbconvert_exporter": "python",
   "pygments_lexer": "ipython3",
   "version": "3.7.4"
  }
 },
 "nbformat": 4,
 "nbformat_minor": 2
}
