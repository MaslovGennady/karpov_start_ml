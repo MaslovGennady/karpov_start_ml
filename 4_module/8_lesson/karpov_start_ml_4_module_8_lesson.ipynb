{
 "cells": [
  {
   "cell_type": "code",
   "execution_count": 1,
   "metadata": {},
   "outputs": [],
   "source": [
    "import numpy as np\n",
    "from scipy import stats\n",
    "import matplotlib.pyplot as plt"
   ]
  },
  {
   "cell_type": "code",
   "execution_count": 4,
   "metadata": {},
   "outputs": [],
   "source": [
    "def simulate_bernoulli_ttest(n_samples=1000, probability=0.2, num_simulations=1000):\n",
    "    \"\"\"\n",
    "    Генерирует две выборки из распределения Бернулли, применяет t-критерий Стьюдента и возвращает p-value.\n",
    "\n",
    "    Args:\n",
    "        n_samples (int): Количество элементов в каждой выборке.\n",
    "        probability (float): Вероятность успеха в распределении Бернулли.\n",
    "        num_simulations (int): Количество симуляций.\n",
    "\n",
    "    Returns:\n",
    "        list: Список p-value для каждой симуляции.\n",
    "    \"\"\"\n",
    "    p_values = []\n",
    "    for _ in range(num_simulations):\n",
    "        # Генерируем две выборки из биномиального распределения (аппроксимация Бернулли)\n",
    "        sample1 = np.random.binomial(1, probability, n_samples)\n",
    "        sample2 = np.random.binomial(1, probability, n_samples)\n",
    "\n",
    "        # Применяем t-критерий Стьюдента\n",
    "        result = stats.ttest_ind(sample1, sample2)\n",
    "        p_values.append(result.pvalue)\n",
    "    return p_values"
   ]
  },
  {
   "cell_type": "code",
   "execution_count": 5,
   "metadata": {},
   "outputs": [],
   "source": [
    "num_simulations = 10000\n",
    "p_values = simulate_bernoulli_ttest(num_simulations=num_simulations)"
   ]
  },
  {
   "cell_type": "code",
   "execution_count": 6,
   "metadata": {},
   "outputs": [
    {
     "data": {
      "image/png": "[encoded data removed]",
      "text/plain": [
       "<Figure size 432x288 with 1 Axes>"
      ]
     },
     "metadata": {
      "needs_background": "light"
     },
     "output_type": "display_data"
    }
   ],
   "source": [
    "plt.hist(p_values, bins=20)\n",
    "plt.xlabel('P-value')\n",
    "plt.ylabel('Frequency')\n",
    "plt.title('Distribution of P-values from T-tests on Bernoulli Samples')\n",
    "plt.show()"
   ]
  },
  {
   "cell_type": "code",
   "execution_count": 8,
   "metadata": {},
   "outputs": [
    {
     "data": {
      "text/plain": [
       "0.0504"
      ]
     },
     "execution_count": 8,
     "metadata": {},
     "output_type": "execute_result"
    }
   ],
   "source": [
    "false_positives = sum(p < 0.05 for p in p_values)\n",
    "false_positive_rate = false_positives / len(p_values)\n",
    "false_positive_rate"
   ]
  },
  {
   "cell_type": "code",
   "execution_count": 9,
   "metadata": {},
   "outputs": [],
   "source": [
    "num_simulations = 1000\n",
    "p_values = simulate_bernoulli_ttest(num_simulations=num_simulations)"
   ]
  },
  {
   "cell_type": "code",
   "execution_count": 10,
   "metadata": {},
   "outputs": [
    {
     "data": {
      "image/png": "[encoded data removed]",
      "text/plain": [
       "<Figure size 432x288 with 1 Axes>"
      ]
     },
     "metadata": {
      "needs_background": "light"
     },
     "output_type": "display_data"
    }
   ],
   "source": [
    "plt.hist(p_values, bins=20)\n",
    "plt.xlabel('P-value')\n",
    "plt.ylabel('Frequency')\n",
    "plt.title('Distribution of P-values from T-tests on Bernoulli Samples')\n",
    "plt.show()"
   ]
  },
  {
   "cell_type": "code",
   "execution_count": 11,
   "metadata": {},
   "outputs": [
    {
     "data": {
      "text/plain": [
       "0.044"
      ]
     },
     "execution_count": 11,
     "metadata": {},
     "output_type": "execute_result"
    }
   ],
   "source": [
    "false_positives = sum(p < 0.05 for p in p_values)\n",
    "false_positive_rate = false_positives / len(p_values)\n",
    "false_positive_rate"
   ]
  },
  {
   "cell_type": "code",
   "execution_count": null,
   "metadata": {},
   "outputs": [],
   "source": [
    "# Проверяет, является ли распределение p-value равномерным с помощью критерия Колмогорова-Смирнова."
   ]
  },
  {
   "cell_type": "code",
   "execution_count": 13,
   "metadata": {},
   "outputs": [
    {
     "name": "stdout",
     "output_type": "stream",
     "text": [
      "Kolmogorov-Smirnov test p-value: 0.38120516197691334 True\n"
     ]
    }
   ],
   "source": [
    "ks_statistic, ks_p_value = stats.kstest(p_values, 'uniform')\n",
    "print(f\"Kolmogorov-Smirnov test p-value: {ks_p_value}\", ks_p_value > 0.05)"
   ]
  },
  {
   "cell_type": "code",
   "execution_count": null,
   "metadata": {},
   "outputs": [],
   "source": []
  },
  {
   "cell_type": "code",
   "execution_count": null,
   "metadata": {},
   "outputs": [],
   "source": []
  },
  {
   "cell_type": "code",
   "execution_count": 14,
   "metadata": {},
   "outputs": [
    {
     "name": "stdout",
     "output_type": "stream",
     "text": [
      "Estimated Power: 0.7452\n"
     ]
    }
   ],
   "source": [
    "def estimate_power(\n",
    "    control_mean=200,\n",
    "    control_std=30,\n",
    "    treatment_mean=205,\n",
    "    sample_size=500,\n",
    "    num_simulations=1000,\n",
    "    alpha=0.05,\n",
    "):\n",
    "    \"\"\"\n",
    "    Оценивает мощность t-критерия Стьюдента с помощью симуляций.\n",
    "\n",
    "    Args:\n",
    "        control_mean (float): Среднее значение в контрольной группе.\n",
    "        control_std (float): Среднеквадратичное отклонение в контрольной группе.\n",
    "        treatment_mean (float): Среднее значение в тестовой группе.\n",
    "        sample_size (int): Размер каждой выборки (контрольной и тестовой).\n",
    "        num_simulations (int): Количество симуляций.\n",
    "        alpha (float): Уровень значимости.\n",
    "\n",
    "    Returns:\n",
    "        float: Оценка мощности (доля симуляций, в которых p-value меньше alpha).\n",
    "    \"\"\"\n",
    "    detections = 0\n",
    "    for _ in range(num_simulations):\n",
    "        # Генерируем выборки из нормального распределения\n",
    "        control_sample = np.random.normal(control_mean, control_std, sample_size)\n",
    "        treatment_sample = np.random.normal(treatment_mean, control_std, sample_size)\n",
    "\n",
    "        # Применяем t-критерий Стьюдента\n",
    "        result = stats.ttest_ind(control_sample, treatment_sample, equal_var=True)\n",
    "        p_value = result.pvalue\n",
    "\n",
    "        # Проверяем, отклоняется ли нулевая гипотеза\n",
    "        if p_value < alpha:\n",
    "            detections += 1\n",
    "\n",
    "    # Оцениваем мощность\n",
    "    power = detections / num_simulations\n",
    "    return power\n",
    "\n",
    "\n",
    "# Запускаем симуляции\n",
    "num_simulations = 10000  # Увеличиваем число симуляций для более точной оценки\n",
    "power = estimate_power(num_simulations=num_simulations)\n",
    "\n",
    "print(f\"Estimated Power: {power}\")"
   ]
  },
  {
   "cell_type": "code",
   "execution_count": null,
   "metadata": {},
   "outputs": [],
   "source": []
  }
 ],
 "metadata": {
  "kernelspec": {
   "display_name": "Python 3",
   "language": "python",
   "name": "python3"
  },
  "language_info": {
   "codemirror_mode": {
    "name": "ipython",
    "version": 3
   },
   "file_extension": ".py",
   "mimetype": "text/x-python",
   "name": "python",
   "nbconvert_exporter": "python",
   "pygments_lexer": "ipython3",
   "version": "3.7.4"
  }
 },
 "nbformat": 4,
 "nbformat_minor": 2
}
