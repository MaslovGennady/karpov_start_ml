{
 "cells": [
  {
   "cell_type": "code",
   "execution_count": 1,
   "metadata": {},
   "outputs": [],
   "source": [
    "import pandas as pd\n",
    "import numpy as np\n",
    "\n",
    "# 1. Генерация данных (как в вашем примере)\n",
    "users_num = 10000\n",
    "\n",
    "df = pd.DataFrame()\n",
    "df['user'] = range(users_num)\n",
    "df['group'] = np.random.rand(users_num) < 0.5\n",
    "\n",
    "df['user_mean'] = np.random.lognormal(mean=np.log(1000), sigma=0.5, size=users_num)\n",
    "df['cost_before'] = np.abs(\n",
    "    df['user_mean'] + np.random.normal(0, 100, size=users_num)\n",
    ")\n",
    "df['cost'] = np.abs(\n",
    "    df['user_mean'] + np.random.normal(50, 100, size=users_num)\n",
    ")\n"
   ]
  },
  {
   "cell_type": "code",
   "execution_count": 2,
   "metadata": {},
   "outputs": [],
   "source": [
    "# 2. Расчет параметра theta для CUPED\n",
    "covariance = df['cost_before'].cov(df['cost'])\n",
    "variance_before = df['cost_before'].var()\n",
    "theta = covariance / variance_before"
   ]
  },
  {
   "cell_type": "code",
   "execution_count": 3,
   "metadata": {},
   "outputs": [],
   "source": [
    "df['cost_cuped'] = df['cost'] - theta * df['cost_before']"
   ]
  },
  {
   "cell_type": "code",
   "execution_count": 4,
   "metadata": {},
   "outputs": [],
   "source": [
    "variance_cost = df['cost'].var()\n",
    "variance_cuped = df['cost_cuped'].var()\n",
    "reduction_factor = variance_cost / variance_cuped"
   ]
  },
  {
   "cell_type": "code",
   "execution_count": 5,
   "metadata": {},
   "outputs": [
    {
     "data": {
      "text/plain": [
       "18.890808402708796"
      ]
     },
     "execution_count": 5,
     "metadata": {},
     "output_type": "execute_result"
    }
   ],
   "source": [
    "reduction_factor"
   ]
  },
  {
   "cell_type": "code",
   "execution_count": null,
   "metadata": {},
   "outputs": [],
   "source": []
  },
  {
   "cell_type": "code",
   "execution_count": null,
   "metadata": {},
   "outputs": [],
   "source": []
  },
  {
   "cell_type": "code",
   "execution_count": 6,
   "metadata": {},
   "outputs": [],
   "source": [
    "import hashlib\n",
    "\n",
    "# 1. Генерация данных (как в вашем примере)\n",
    "np.random.seed(6)\n",
    "\n",
    "users_num = 10000\n",
    "mean_user_ctr = 0.2\n",
    "beta = 20\n",
    "alpha = mean_user_ctr * beta / (1 - mean_user_ctr)\n",
    "\n",
    "df = pd.DataFrame()\n",
    "df['user'] = range(users_num)\n",
    "df['group'] = np.random.rand(users_num) < 0.5\n",
    "\n",
    "df['base_user_ctr'] = np.random.beta(alpha, beta, size=users_num)\n",
    "df['views'] = np.random.lognormal(mean=1, sigma=1, size=users_num).astype(int) + 1\n",
    "df['clicks'] = np.random.binomial(df['views'], df['base_user_ctr'])"
   ]
  },
  {
   "cell_type": "code",
   "execution_count": 7,
   "metadata": {},
   "outputs": [],
   "source": [
    "buckets_num = 100\n",
    "salt = 'my_salt'\n",
    "\n",
    "def get_bucket(user_id, salt, buckets_num):\n",
    "    user_str = str(user_id) + salt\n",
    "    hash_object = hashlib.md5(user_str.encode())\n",
    "    hex_dig = hash_object.hexdigest()\n",
    "    bucket = int(hex_dig, 16) % buckets_num\n",
    "    return bucket"
   ]
  },
  {
   "cell_type": "code",
   "execution_count": 8,
   "metadata": {},
   "outputs": [],
   "source": [
    "df['bucket'] = df['user'].apply(lambda user_id: get_bucket(user_id, salt, buckets_num))"
   ]
  },
  {
   "cell_type": "code",
   "execution_count": 9,
   "metadata": {},
   "outputs": [],
   "source": [
    "# Групповой CTR (агрегированный по бакету)\n",
    "bucket_data = df.groupby('bucket').agg({'clicks': 'sum', 'views': 'sum'})\n",
    "bucket_data['group_ctr'] = bucket_data['clicks'] / bucket_data['views']"
   ]
  },
  {
   "cell_type": "code",
   "execution_count": 10,
   "metadata": {},
   "outputs": [],
   "source": [
    "# Обычный средний CTR пользователей в бакете\n",
    "user_ctr = df.groupby('user').agg({'clicks': 'sum', 'views': 'sum'})\n",
    "user_ctr['user_ctr'] = user_ctr['clicks'] / user_ctr['views']\n",
    "df = df.merge(user_ctr['user_ctr'], left_on='user', right_index=True)"
   ]
  },
  {
   "cell_type": "code",
   "execution_count": 11,
   "metadata": {},
   "outputs": [],
   "source": [
    "bucket_user_ctr = df.groupby('bucket')['user_ctr'].mean()\n",
    "bucket_data['avg_user_ctr'] = bucket_user_ctr"
   ]
  },
  {
   "cell_type": "code",
   "execution_count": 12,
   "metadata": {},
   "outputs": [],
   "source": [
    "# Фильтрация по группе\n",
    "bucket_data_group = bucket_data[df.groupby('bucket')['group'].first() == True]"
   ]
  },
  {
   "cell_type": "code",
   "execution_count": 13,
   "metadata": {},
   "outputs": [],
   "source": [
    "std_group_ctr = bucket_data_group['group_ctr'].std()\n",
    "std_avg_user_ctr = bucket_data_group['avg_user_ctr'].std()"
   ]
  },
  {
   "cell_type": "code",
   "execution_count": 14,
   "metadata": {},
   "outputs": [
    {
     "data": {
      "text/plain": [
       "(0.01636165410394264, 0.025414323475555528)"
      ]
     },
     "execution_count": 14,
     "metadata": {},
     "output_type": "execute_result"
    }
   ],
   "source": [
    "std_group_ctr, std_avg_user_ctr"
   ]
  }
 ],
 "metadata": {
  "kernelspec": {
   "display_name": "Python 3",
   "language": "python",
   "name": "python3"
  },
  "language_info": {
   "codemirror_mode": {
    "name": "ipython",
    "version": 3
   },
   "file_extension": ".py",
   "mimetype": "text/x-python",
   "name": "python",
   "nbconvert_exporter": "python",
   "pygments_lexer": "ipython3",
   "version": "3.7.4"
  }
 },
 "nbformat": 4,
 "nbformat_minor": 2
}
