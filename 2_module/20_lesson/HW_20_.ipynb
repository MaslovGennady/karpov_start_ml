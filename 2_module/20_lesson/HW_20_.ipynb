{
 "cells": [
  {
   "cell_type": "code",
   "execution_count": 1,
   "metadata": {},
   "outputs": [
    {
     "name": "stderr",
     "output_type": "stream",
     "text": [
      "C:\\Users\\maslo\\Anaconda3\\lib\\site-packages\\statsmodels\\tools\\_testing.py:19: FutureWarning: pandas.util.testing is deprecated. Use the functions in the public API at pandas.testing instead.\n",
      "  import pandas.util.testing as tm\n"
     ]
    }
   ],
   "source": [
    "import pandas as pd\n",
    "import numpy as np\n",
    "import matplotlib.pyplot as plt\n",
    "import seaborn as sns\n",
    "\n",
    "import matplotlib\n",
    "matplotlib.rcParams['figure.figsize'] = (8, 5)\n",
    "\n",
    "import warnings\n",
    "warnings.filterwarnings('ignore')"
   ]
  },
  {
   "cell_type": "markdown",
   "metadata": {},
   "source": [
    "# Boostings"
   ]
  },
  {
   "cell_type": "markdown",
   "metadata": {},
   "source": [
    "Данные с которыми вы будете работать представляют из себя характеристики клиента страховой компании по которым нужно понять будет ли он заинтересован в страховке. Таким образом, страховая компания может более оптимально таргетить рекламу и выстраивать коммуникацию с клиентами, повышая конверсию.\n",
    "\n",
    "**Описания колонок:**\n",
    "- Gender - Male, Female\n",
    "- Age - Возраст\n",
    "- Driving_License - Наличие водительского удостоверения\n",
    "- Region_Code - Область проживания\n",
    "- Previously_Insured - Пользовался ли раньше услугами страховой компании\n",
    "- Vehicle_Age - Возраст транспортного средства\n",
    "- Vehicle_Damage - Попадало ли траспортное средство в ДТП\n",
    "- Annual_Premium - Ежегодные выплаты клиента\n",
    "- Policy_Sales_Channel - Политика распространения страховых услуг (через посредников, напрямую и т.д.)\n",
    "- Vintage - Количество дней, в течение которых клиент был связан с компанией \n",
    "\n",
    "\n",
    "- **Response** - заинтересован в страховке 1, не откликнулся 0"
   ]
  },
  {
   "cell_type": "code",
   "execution_count": 2,
   "metadata": {},
   "outputs": [
    {
     "data": {
      "text/html": [
       "<div>\n",
       "<style scoped>\n",
       "    .dataframe tbody tr th:only-of-type {\n",
       "        vertical-align: middle;\n",
       "    }\n",
       "\n",
       "    .dataframe tbody tr th {\n",
       "        vertical-align: top;\n",
       "    }\n",
       "\n",
       "    .dataframe thead th {\n",
       "        text-align: right;\n",
       "    }\n",
       "</style>\n",
       "<table border=\"1\" class=\"dataframe\">\n",
       "  <thead>\n",
       "    <tr style=\"text-align: right;\">\n",
       "      <th></th>\n",
       "      <th>Gender</th>\n",
       "      <th>Age</th>\n",
       "      <th>Driving_License</th>\n",
       "      <th>Region_Code</th>\n",
       "      <th>Previously_Insured</th>\n",
       "      <th>Vehicle_Age</th>\n",
       "      <th>Vehicle_Damage</th>\n",
       "      <th>Annual_Premium</th>\n",
       "      <th>Policy_Sales_Channel</th>\n",
       "      <th>Vintage</th>\n",
       "      <th>Response</th>\n",
       "    </tr>\n",
       "  </thead>\n",
       "  <tbody>\n",
       "    <tr>\n",
       "      <th>0</th>\n",
       "      <td>Male</td>\n",
       "      <td>44</td>\n",
       "      <td>1</td>\n",
       "      <td>28.0</td>\n",
       "      <td>0</td>\n",
       "      <td>&gt; 2 Years</td>\n",
       "      <td>Yes</td>\n",
       "      <td>40454.0</td>\n",
       "      <td>26.0</td>\n",
       "      <td>217</td>\n",
       "      <td>1</td>\n",
       "    </tr>\n",
       "    <tr>\n",
       "      <th>1</th>\n",
       "      <td>Male</td>\n",
       "      <td>76</td>\n",
       "      <td>1</td>\n",
       "      <td>3.0</td>\n",
       "      <td>0</td>\n",
       "      <td>1-2 Year</td>\n",
       "      <td>No</td>\n",
       "      <td>33536.0</td>\n",
       "      <td>26.0</td>\n",
       "      <td>183</td>\n",
       "      <td>0</td>\n",
       "    </tr>\n",
       "    <tr>\n",
       "      <th>2</th>\n",
       "      <td>Male</td>\n",
       "      <td>47</td>\n",
       "      <td>1</td>\n",
       "      <td>28.0</td>\n",
       "      <td>0</td>\n",
       "      <td>&gt; 2 Years</td>\n",
       "      <td>Yes</td>\n",
       "      <td>38294.0</td>\n",
       "      <td>26.0</td>\n",
       "      <td>27</td>\n",
       "      <td>1</td>\n",
       "    </tr>\n",
       "    <tr>\n",
       "      <th>3</th>\n",
       "      <td>Male</td>\n",
       "      <td>21</td>\n",
       "      <td>1</td>\n",
       "      <td>11.0</td>\n",
       "      <td>1</td>\n",
       "      <td>&lt; 1 Year</td>\n",
       "      <td>No</td>\n",
       "      <td>28619.0</td>\n",
       "      <td>152.0</td>\n",
       "      <td>203</td>\n",
       "      <td>0</td>\n",
       "    </tr>\n",
       "    <tr>\n",
       "      <th>4</th>\n",
       "      <td>Female</td>\n",
       "      <td>29</td>\n",
       "      <td>1</td>\n",
       "      <td>41.0</td>\n",
       "      <td>1</td>\n",
       "      <td>&lt; 1 Year</td>\n",
       "      <td>No</td>\n",
       "      <td>27496.0</td>\n",
       "      <td>152.0</td>\n",
       "      <td>39</td>\n",
       "      <td>0</td>\n",
       "    </tr>\n",
       "    <tr>\n",
       "      <th>...</th>\n",
       "      <td>...</td>\n",
       "      <td>...</td>\n",
       "      <td>...</td>\n",
       "      <td>...</td>\n",
       "      <td>...</td>\n",
       "      <td>...</td>\n",
       "      <td>...</td>\n",
       "      <td>...</td>\n",
       "      <td>...</td>\n",
       "      <td>...</td>\n",
       "      <td>...</td>\n",
       "    </tr>\n",
       "    <tr>\n",
       "      <th>9995</th>\n",
       "      <td>Female</td>\n",
       "      <td>24</td>\n",
       "      <td>1</td>\n",
       "      <td>37.0</td>\n",
       "      <td>1</td>\n",
       "      <td>&lt; 1 Year</td>\n",
       "      <td>No</td>\n",
       "      <td>21243.0</td>\n",
       "      <td>152.0</td>\n",
       "      <td>21</td>\n",
       "      <td>0</td>\n",
       "    </tr>\n",
       "    <tr>\n",
       "      <th>9996</th>\n",
       "      <td>Male</td>\n",
       "      <td>28</td>\n",
       "      <td>1</td>\n",
       "      <td>35.0</td>\n",
       "      <td>1</td>\n",
       "      <td>&lt; 1 Year</td>\n",
       "      <td>No</td>\n",
       "      <td>23589.0</td>\n",
       "      <td>160.0</td>\n",
       "      <td>173</td>\n",
       "      <td>0</td>\n",
       "    </tr>\n",
       "    <tr>\n",
       "      <th>9997</th>\n",
       "      <td>Female</td>\n",
       "      <td>27</td>\n",
       "      <td>1</td>\n",
       "      <td>15.0</td>\n",
       "      <td>0</td>\n",
       "      <td>&lt; 1 Year</td>\n",
       "      <td>Yes</td>\n",
       "      <td>33340.0</td>\n",
       "      <td>152.0</td>\n",
       "      <td>207</td>\n",
       "      <td>0</td>\n",
       "    </tr>\n",
       "    <tr>\n",
       "      <th>9998</th>\n",
       "      <td>Female</td>\n",
       "      <td>28</td>\n",
       "      <td>1</td>\n",
       "      <td>14.0</td>\n",
       "      <td>1</td>\n",
       "      <td>&lt; 1 Year</td>\n",
       "      <td>No</td>\n",
       "      <td>25426.0</td>\n",
       "      <td>152.0</td>\n",
       "      <td>247</td>\n",
       "      <td>0</td>\n",
       "    </tr>\n",
       "    <tr>\n",
       "      <th>9999</th>\n",
       "      <td>Female</td>\n",
       "      <td>25</td>\n",
       "      <td>1</td>\n",
       "      <td>45.0</td>\n",
       "      <td>1</td>\n",
       "      <td>&lt; 1 Year</td>\n",
       "      <td>No</td>\n",
       "      <td>18843.0</td>\n",
       "      <td>152.0</td>\n",
       "      <td>131</td>\n",
       "      <td>0</td>\n",
       "    </tr>\n",
       "  </tbody>\n",
       "</table>\n",
       "<p>10000 rows × 11 columns</p>\n",
       "</div>"
      ],
      "text/plain": [
       "      Gender  Age  Driving_License  Region_Code  Previously_Insured  \\\n",
       "0       Male   44                1         28.0                   0   \n",
       "1       Male   76                1          3.0                   0   \n",
       "2       Male   47                1         28.0                   0   \n",
       "3       Male   21                1         11.0                   1   \n",
       "4     Female   29                1         41.0                   1   \n",
       "...      ...  ...              ...          ...                 ...   \n",
       "9995  Female   24                1         37.0                   1   \n",
       "9996    Male   28                1         35.0                   1   \n",
       "9997  Female   27                1         15.0                   0   \n",
       "9998  Female   28                1         14.0                   1   \n",
       "9999  Female   25                1         45.0                   1   \n",
       "\n",
       "     Vehicle_Age Vehicle_Damage  Annual_Premium  Policy_Sales_Channel  \\\n",
       "0      > 2 Years            Yes         40454.0                  26.0   \n",
       "1       1-2 Year             No         33536.0                  26.0   \n",
       "2      > 2 Years            Yes         38294.0                  26.0   \n",
       "3       < 1 Year             No         28619.0                 152.0   \n",
       "4       < 1 Year             No         27496.0                 152.0   \n",
       "...          ...            ...             ...                   ...   \n",
       "9995    < 1 Year             No         21243.0                 152.0   \n",
       "9996    < 1 Year             No         23589.0                 160.0   \n",
       "9997    < 1 Year            Yes         33340.0                 152.0   \n",
       "9998    < 1 Year             No         25426.0                 152.0   \n",
       "9999    < 1 Year             No         18843.0                 152.0   \n",
       "\n",
       "      Vintage  Response  \n",
       "0         217         1  \n",
       "1         183         0  \n",
       "2          27         1  \n",
       "3         203         0  \n",
       "4          39         0  \n",
       "...       ...       ...  \n",
       "9995       21         0  \n",
       "9996      173         0  \n",
       "9997      207         0  \n",
       "9998      247         0  \n",
       "9999      131         0  \n",
       "\n",
       "[10000 rows x 11 columns]"
      ]
     },
     "execution_count": 2,
     "metadata": {},
     "output_type": "execute_result"
    }
   ],
   "source": [
    "data = pd.read_csv('C:/Users/maslo/Desktop/karpov_start_ml/2_module/20_lesson/materials/vehicle_insurance.csv')\n",
    "\n",
    "data"
   ]
  },
  {
   "cell_type": "markdown",
   "metadata": {},
   "source": [
    "**Задание 0.** Проведите небольшой EDA. Посмотрите на распределения некоторых колонок, на матрицу корреляций. Также проверьте баланс классов и посмотрите на распределение возраста транспортного средства в зависимости от response. \\\n",
    "Закодируйте признаки типа `object` с помощью `one-hot` кодирования.\n",
    "\n",
    "P.S. некоторые не `object`колонки по смыслу очевидно являются категориальными. Так как мы будем строить ансамбли на основе деревьев, их можно оставить в первоначальном виде."
   ]
  },
  {
   "cell_type": "code",
   "execution_count": 6,
   "metadata": {},
   "outputs": [
    {
     "data": {
      "text/plain": [
       "Gender                   object\n",
       "Age                       int64\n",
       "Driving_License           int64\n",
       "Region_Code             float64\n",
       "Previously_Insured        int64\n",
       "Vehicle_Age              object\n",
       "Vehicle_Damage           object\n",
       "Annual_Premium          float64\n",
       "Policy_Sales_Channel    float64\n",
       "Vintage                   int64\n",
       "Response                  int64\n",
       "dtype: object"
      ]
     },
     "execution_count": 6,
     "metadata": {},
     "output_type": "execute_result"
    }
   ],
   "source": [
    "data.dtypes"
   ]
  },
  {
   "cell_type": "code",
   "execution_count": 8,
   "metadata": {},
   "outputs": [
    {
     "data": {
      "text/html": [
       "<div>\n",
       "<style scoped>\n",
       "    .dataframe tbody tr th:only-of-type {\n",
       "        vertical-align: middle;\n",
       "    }\n",
       "\n",
       "    .dataframe tbody tr th {\n",
       "        vertical-align: top;\n",
       "    }\n",
       "\n",
       "    .dataframe thead th {\n",
       "        text-align: right;\n",
       "    }\n",
       "</style>\n",
       "<table border=\"1\" class=\"dataframe\">\n",
       "  <thead>\n",
       "    <tr style=\"text-align: right;\">\n",
       "      <th></th>\n",
       "      <th>Age</th>\n",
       "      <th>Driving_License</th>\n",
       "      <th>Region_Code</th>\n",
       "      <th>Previously_Insured</th>\n",
       "      <th>Annual_Premium</th>\n",
       "      <th>Policy_Sales_Channel</th>\n",
       "      <th>Vintage</th>\n",
       "      <th>Response</th>\n",
       "    </tr>\n",
       "  </thead>\n",
       "  <tbody>\n",
       "    <tr>\n",
       "      <th>count</th>\n",
       "      <td>10000.000000</td>\n",
       "      <td>10000.000000</td>\n",
       "      <td>10000.000000</td>\n",
       "      <td>10000.000000</td>\n",
       "      <td>10000.000000</td>\n",
       "      <td>10000.000000</td>\n",
       "      <td>10000.000000</td>\n",
       "      <td>10000.000000</td>\n",
       "    </tr>\n",
       "    <tr>\n",
       "      <th>mean</th>\n",
       "      <td>38.812900</td>\n",
       "      <td>0.997800</td>\n",
       "      <td>26.425400</td>\n",
       "      <td>0.443800</td>\n",
       "      <td>30609.649700</td>\n",
       "      <td>112.414400</td>\n",
       "      <td>155.560300</td>\n",
       "      <td>0.124700</td>\n",
       "    </tr>\n",
       "    <tr>\n",
       "      <th>std</th>\n",
       "      <td>15.514785</td>\n",
       "      <td>0.046855</td>\n",
       "      <td>13.153552</td>\n",
       "      <td>0.496856</td>\n",
       "      <td>16562.392967</td>\n",
       "      <td>53.975042</td>\n",
       "      <td>83.923849</td>\n",
       "      <td>0.330395</td>\n",
       "    </tr>\n",
       "    <tr>\n",
       "      <th>min</th>\n",
       "      <td>20.000000</td>\n",
       "      <td>0.000000</td>\n",
       "      <td>0.000000</td>\n",
       "      <td>0.000000</td>\n",
       "      <td>2630.000000</td>\n",
       "      <td>1.000000</td>\n",
       "      <td>10.000000</td>\n",
       "      <td>0.000000</td>\n",
       "    </tr>\n",
       "    <tr>\n",
       "      <th>25%</th>\n",
       "      <td>25.000000</td>\n",
       "      <td>1.000000</td>\n",
       "      <td>15.000000</td>\n",
       "      <td>0.000000</td>\n",
       "      <td>24458.250000</td>\n",
       "      <td>30.000000</td>\n",
       "      <td>83.000000</td>\n",
       "      <td>0.000000</td>\n",
       "    </tr>\n",
       "    <tr>\n",
       "      <th>50%</th>\n",
       "      <td>36.000000</td>\n",
       "      <td>1.000000</td>\n",
       "      <td>28.000000</td>\n",
       "      <td>0.000000</td>\n",
       "      <td>31746.000000</td>\n",
       "      <td>136.000000</td>\n",
       "      <td>156.000000</td>\n",
       "      <td>0.000000</td>\n",
       "    </tr>\n",
       "    <tr>\n",
       "      <th>75%</th>\n",
       "      <td>49.000000</td>\n",
       "      <td>1.000000</td>\n",
       "      <td>35.000000</td>\n",
       "      <td>1.000000</td>\n",
       "      <td>39572.250000</td>\n",
       "      <td>152.000000</td>\n",
       "      <td>228.000000</td>\n",
       "      <td>0.000000</td>\n",
       "    </tr>\n",
       "    <tr>\n",
       "      <th>max</th>\n",
       "      <td>84.000000</td>\n",
       "      <td>1.000000</td>\n",
       "      <td>52.000000</td>\n",
       "      <td>1.000000</td>\n",
       "      <td>267698.000000</td>\n",
       "      <td>163.000000</td>\n",
       "      <td>299.000000</td>\n",
       "      <td>1.000000</td>\n",
       "    </tr>\n",
       "  </tbody>\n",
       "</table>\n",
       "</div>"
      ],
      "text/plain": [
       "                Age  Driving_License   Region_Code  Previously_Insured  \\\n",
       "count  10000.000000     10000.000000  10000.000000        10000.000000   \n",
       "mean      38.812900         0.997800     26.425400            0.443800   \n",
       "std       15.514785         0.046855     13.153552            0.496856   \n",
       "min       20.000000         0.000000      0.000000            0.000000   \n",
       "25%       25.000000         1.000000     15.000000            0.000000   \n",
       "50%       36.000000         1.000000     28.000000            0.000000   \n",
       "75%       49.000000         1.000000     35.000000            1.000000   \n",
       "max       84.000000         1.000000     52.000000            1.000000   \n",
       "\n",
       "       Annual_Premium  Policy_Sales_Channel       Vintage      Response  \n",
       "count    10000.000000          10000.000000  10000.000000  10000.000000  \n",
       "mean     30609.649700            112.414400    155.560300      0.124700  \n",
       "std      16562.392967             53.975042     83.923849      0.330395  \n",
       "min       2630.000000              1.000000     10.000000      0.000000  \n",
       "25%      24458.250000             30.000000     83.000000      0.000000  \n",
       "50%      31746.000000            136.000000    156.000000      0.000000  \n",
       "75%      39572.250000            152.000000    228.000000      0.000000  \n",
       "max     267698.000000            163.000000    299.000000      1.000000  "
      ]
     },
     "execution_count": 8,
     "metadata": {},
     "output_type": "execute_result"
    }
   ],
   "source": [
    "data.describe()"
   ]
  },
  {
   "cell_type": "code",
   "execution_count": 10,
   "metadata": {},
   "outputs": [
    {
     "data": {
      "text/plain": [
       "0    8753\n",
       "1    1247\n",
       "Name: Response, dtype: int64"
      ]
     },
     "execution_count": 10,
     "metadata": {},
     "output_type": "execute_result"
    }
   ],
   "source": [
    "data['Response'].value_counts()"
   ]
  },
  {
   "cell_type": "code",
   "execution_count": 14,
   "metadata": {},
   "outputs": [
    {
     "data": {
      "image/png": "[encoded data removed]",
      "text/plain": [
       "<Figure size 288x288 with 1 Axes>"
      ]
     },
     "metadata": {
      "needs_background": "light"
     },
     "output_type": "display_data"
    }
   ],
   "source": [
    "import matplotlib.pyplot as plt\n",
    "\n",
    "plt.matshow(data.corr())\n",
    "plt.show()"
   ]
  },
  {
   "cell_type": "code",
   "execution_count": 16,
   "metadata": {},
   "outputs": [
    {
     "data": {
      "text/html": [
       "<style type=\"text/css\">\n",
       "#T_22a23_row0_col0, #T_22a23_row1_col1, #T_22a23_row2_col2, #T_22a23_row3_col3, #T_22a23_row4_col4, #T_22a23_row5_col5, #T_22a23_row6_col6, #T_22a23_row7_col7 {\n",
       "  background-color: #b40426;\n",
       "  color: #f1f1f1;\n",
       "}\n",
       "#T_22a23_row0_col1, #T_22a23_row0_col5, #T_22a23_row2_col6, #T_22a23_row3_col7, #T_22a23_row4_col6, #T_22a23_row5_col0, #T_22a23_row5_col2, #T_22a23_row5_col4, #T_22a23_row5_col6, #T_22a23_row7_col3, #T_22a23_row7_col6 {\n",
       "  background-color: #3b4cc0;\n",
       "  color: #f1f1f1;\n",
       "}\n",
       "#T_22a23_row0_col2 {\n",
       "  background-color: #4f69d9;\n",
       "  color: #f1f1f1;\n",
       "}\n",
       "#T_22a23_row0_col3 {\n",
       "  background-color: #4a63d3;\n",
       "  color: #f1f1f1;\n",
       "}\n",
       "#T_22a23_row0_col4 {\n",
       "  background-color: #7597f6;\n",
       "  color: #f1f1f1;\n",
       "}\n",
       "#T_22a23_row0_col6, #T_22a23_row1_col6 {\n",
       "  background-color: #3d50c3;\n",
       "  color: #f1f1f1;\n",
       "}\n",
       "#T_22a23_row0_col7 {\n",
       "  background-color: #aac7fd;\n",
       "  color: #000000;\n",
       "}\n",
       "#T_22a23_row1_col0 {\n",
       "  background-color: #a3c2fe;\n",
       "  color: #000000;\n",
       "}\n",
       "#T_22a23_row1_col2 {\n",
       "  background-color: #465ecf;\n",
       "  color: #f1f1f1;\n",
       "}\n",
       "#T_22a23_row1_col3 {\n",
       "  background-color: #92b4fe;\n",
       "  color: #000000;\n",
       "}\n",
       "#T_22a23_row1_col4, #T_22a23_row3_col1 {\n",
       "  background-color: #5875e1;\n",
       "  color: #f1f1f1;\n",
       "}\n",
       "#T_22a23_row1_col5 {\n",
       "  background-color: #bed2f6;\n",
       "  color: #000000;\n",
       "}\n",
       "#T_22a23_row1_col7 {\n",
       "  background-color: #90b2fe;\n",
       "  color: #000000;\n",
       "}\n",
       "#T_22a23_row2_col0 {\n",
       "  background-color: #bbd1f8;\n",
       "  color: #000000;\n",
       "}\n",
       "#T_22a23_row2_col1 {\n",
       "  background-color: #536edd;\n",
       "  color: #f1f1f1;\n",
       "}\n",
       "#T_22a23_row2_col3 {\n",
       "  background-color: #86a9fc;\n",
       "  color: #f1f1f1;\n",
       "}\n",
       "#T_22a23_row2_col4 {\n",
       "  background-color: #5977e3;\n",
       "  color: #f1f1f1;\n",
       "}\n",
       "#T_22a23_row2_col5 {\n",
       "  background-color: #adc9fd;\n",
       "  color: #000000;\n",
       "}\n",
       "#T_22a23_row2_col7 {\n",
       "  background-color: #8fb1fe;\n",
       "  color: #000000;\n",
       "}\n",
       "#T_22a23_row3_col0 {\n",
       "  background-color: #7b9ff9;\n",
       "  color: #f1f1f1;\n",
       "}\n",
       "#T_22a23_row3_col2 {\n",
       "  background-color: #3f53c6;\n",
       "  color: #f1f1f1;\n",
       "}\n",
       "#T_22a23_row3_col4 {\n",
       "  background-color: #5b7ae5;\n",
       "  color: #f1f1f1;\n",
       "}\n",
       "#T_22a23_row3_col5 {\n",
       "  background-color: #dfdbd9;\n",
       "  color: #000000;\n",
       "}\n",
       "#T_22a23_row3_col6, #T_22a23_row6_col2 {\n",
       "  background-color: #4358cb;\n",
       "  color: #f1f1f1;\n",
       "}\n",
       "#T_22a23_row4_col0 {\n",
       "  background-color: #c5d6f2;\n",
       "  color: #000000;\n",
       "}\n",
       "#T_22a23_row4_col1 {\n",
       "  background-color: #4c66d6;\n",
       "  color: #f1f1f1;\n",
       "}\n",
       "#T_22a23_row4_col2 {\n",
       "  background-color: #4257c9;\n",
       "  color: #f1f1f1;\n",
       "}\n",
       "#T_22a23_row4_col3 {\n",
       "  background-color: #8caffe;\n",
       "  color: #000000;\n",
       "}\n",
       "#T_22a23_row4_col5 {\n",
       "  background-color: #9abbff;\n",
       "  color: #000000;\n",
       "}\n",
       "#T_22a23_row4_col7, #T_22a23_row7_col5 {\n",
       "  background-color: #94b6ff;\n",
       "  color: #000000;\n",
       "}\n",
       "#T_22a23_row5_col1 {\n",
       "  background-color: #5e7de7;\n",
       "  color: #f1f1f1;\n",
       "}\n",
       "#T_22a23_row5_col3 {\n",
       "  background-color: #c6d6f1;\n",
       "  color: #000000;\n",
       "}\n",
       "#T_22a23_row5_col7, #T_22a23_row7_col4 {\n",
       "  background-color: #6687ed;\n",
       "  color: #f1f1f1;\n",
       "}\n",
       "#T_22a23_row6_col0 {\n",
       "  background-color: #b5cdfa;\n",
       "  color: #000000;\n",
       "}\n",
       "#T_22a23_row6_col1 {\n",
       "  background-color: #516ddb;\n",
       "  color: #f1f1f1;\n",
       "}\n",
       "#T_22a23_row6_col3 {\n",
       "  background-color: #93b5fe;\n",
       "  color: #000000;\n",
       "}\n",
       "#T_22a23_row6_col4 {\n",
       "  background-color: #5a78e4;\n",
       "  color: #f1f1f1;\n",
       "}\n",
       "#T_22a23_row6_col5 {\n",
       "  background-color: #b3cdfb;\n",
       "  color: #000000;\n",
       "}\n",
       "#T_22a23_row6_col7 {\n",
       "  background-color: #8badfd;\n",
       "  color: #000000;\n",
       "}\n",
       "#T_22a23_row7_col0 {\n",
       "  background-color: #ccd9ed;\n",
       "  color: #000000;\n",
       "}\n",
       "#T_22a23_row7_col1 {\n",
       "  background-color: #5470de;\n",
       "  color: #f1f1f1;\n",
       "}\n",
       "#T_22a23_row7_col2 {\n",
       "  background-color: #4961d2;\n",
       "  color: #f1f1f1;\n",
       "}\n",
       "</style>\n",
       "<table id=\"T_22a23_\">\n",
       "  <thead>\n",
       "    <tr>\n",
       "      <th class=\"blank level0\" >&nbsp;</th>\n",
       "      <th class=\"col_heading level0 col0\" >Age</th>\n",
       "      <th class=\"col_heading level0 col1\" >Driving_License</th>\n",
       "      <th class=\"col_heading level0 col2\" >Region_Code</th>\n",
       "      <th class=\"col_heading level0 col3\" >Previously_Insured</th>\n",
       "      <th class=\"col_heading level0 col4\" >Annual_Premium</th>\n",
       "      <th class=\"col_heading level0 col5\" >Policy_Sales_Channel</th>\n",
       "      <th class=\"col_heading level0 col6\" >Vintage</th>\n",
       "      <th class=\"col_heading level0 col7\" >Response</th>\n",
       "    </tr>\n",
       "  </thead>\n",
       "  <tbody>\n",
       "    <tr>\n",
       "      <th id=\"T_22a23_level0_row0\" class=\"row_heading level0 row0\" >Age</th>\n",
       "      <td id=\"T_22a23_row0_col0\" class=\"data row0 col0\" >1.000000</td>\n",
       "      <td id=\"T_22a23_row0_col1\" class=\"data row0 col1\" >-0.081323</td>\n",
       "      <td id=\"T_22a23_row0_col2\" class=\"data row0 col2\" >0.030638</td>\n",
       "      <td id=\"T_22a23_row0_col3\" class=\"data row0 col3\" >-0.261456</td>\n",
       "      <td id=\"T_22a23_row0_col4\" class=\"data row0 col4\" >0.081564</td>\n",
       "      <td id=\"T_22a23_row0_col5\" class=\"data row0 col5\" >-0.576066</td>\n",
       "      <td id=\"T_22a23_row0_col6\" class=\"data row0 col6\" >0.000030</td>\n",
       "      <td id=\"T_22a23_row0_col7\" class=\"data row0 col7\" >0.113888</td>\n",
       "    </tr>\n",
       "    <tr>\n",
       "      <th id=\"T_22a23_level0_row1\" class=\"row_heading level0 row1\" >Driving_License</th>\n",
       "      <td id=\"T_22a23_row1_col0\" class=\"data row1 col0\" >-0.081323</td>\n",
       "      <td id=\"T_22a23_row1_col1\" class=\"data row1 col1\" >1.000000</td>\n",
       "      <td id=\"T_22a23_row1_col2\" class=\"data row1 col2\" >0.004926</td>\n",
       "      <td id=\"T_22a23_row1_col3\" class=\"data row1 col3\" >0.020464</td>\n",
       "      <td id=\"T_22a23_row1_col4\" class=\"data row1 col4\" >-0.014338</td>\n",
       "      <td id=\"T_22a23_row1_col5\" class=\"data row1 col5\" >0.044335</td>\n",
       "      <td id=\"T_22a23_row1_col6\" class=\"data row1 col6\" >0.002704</td>\n",
       "      <td id=\"T_22a23_row1_col7\" class=\"data row1 col7\" >0.011263</td>\n",
       "    </tr>\n",
       "    <tr>\n",
       "      <th id=\"T_22a23_level0_row2\" class=\"row_heading level0 row2\" >Region_Code</th>\n",
       "      <td id=\"T_22a23_row2_col0\" class=\"data row2 col0\" >0.030638</td>\n",
       "      <td id=\"T_22a23_row2_col1\" class=\"data row2 col1\" >0.004926</td>\n",
       "      <td id=\"T_22a23_row2_col2\" class=\"data row2 col2\" >1.000000</td>\n",
       "      <td id=\"T_22a23_row2_col3\" class=\"data row2 col3\" >-0.021270</td>\n",
       "      <td id=\"T_22a23_row2_col4\" class=\"data row2 col4\" >-0.012213</td>\n",
       "      <td id=\"T_22a23_row2_col5\" class=\"data row2 col5\" >-0.039733</td>\n",
       "      <td id=\"T_22a23_row2_col6\" class=\"data row2 col6\" >-0.008527</td>\n",
       "      <td id=\"T_22a23_row2_col7\" class=\"data row2 col7\" >0.010230</td>\n",
       "    </tr>\n",
       "    <tr>\n",
       "      <th id=\"T_22a23_level0_row3\" class=\"row_heading level0 row3\" >Previously_Insured</th>\n",
       "      <td id=\"T_22a23_row3_col0\" class=\"data row3 col0\" >-0.261456</td>\n",
       "      <td id=\"T_22a23_row3_col1\" class=\"data row3 col1\" >0.020464</td>\n",
       "      <td id=\"T_22a23_row3_col2\" class=\"data row3 col2\" >-0.021270</td>\n",
       "      <td id=\"T_22a23_row3_col3\" class=\"data row3 col3\" >1.000000</td>\n",
       "      <td id=\"T_22a23_row3_col4\" class=\"data row3 col4\" >-0.005164</td>\n",
       "      <td id=\"T_22a23_row3_col5\" class=\"data row3 col5\" >0.224719</td>\n",
       "      <td id=\"T_22a23_row3_col6\" class=\"data row3 col6\" >0.022350</td>\n",
       "      <td id=\"T_22a23_row3_col7\" class=\"data row3 col7\" >-0.333502</td>\n",
       "    </tr>\n",
       "    <tr>\n",
       "      <th id=\"T_22a23_level0_row4\" class=\"row_heading level0 row4\" >Annual_Premium</th>\n",
       "      <td id=\"T_22a23_row4_col0\" class=\"data row4 col0\" >0.081564</td>\n",
       "      <td id=\"T_22a23_row4_col1\" class=\"data row4 col1\" >-0.014338</td>\n",
       "      <td id=\"T_22a23_row4_col2\" class=\"data row4 col2\" >-0.012213</td>\n",
       "      <td id=\"T_22a23_row4_col3\" class=\"data row4 col3\" >-0.005164</td>\n",
       "      <td id=\"T_22a23_row4_col4\" class=\"data row4 col4\" >1.000000</td>\n",
       "      <td id=\"T_22a23_row4_col5\" class=\"data row4 col5\" >-0.123851</td>\n",
       "      <td id=\"T_22a23_row4_col6\" class=\"data row4 col6\" >-0.008878</td>\n",
       "      <td id=\"T_22a23_row4_col7\" class=\"data row4 col7\" >0.029839</td>\n",
       "    </tr>\n",
       "    <tr>\n",
       "      <th id=\"T_22a23_level0_row5\" class=\"row_heading level0 row5\" >Policy_Sales_Channel</th>\n",
       "      <td id=\"T_22a23_row5_col0\" class=\"data row5 col0\" >-0.576066</td>\n",
       "      <td id=\"T_22a23_row5_col1\" class=\"data row5 col1\" >0.044335</td>\n",
       "      <td id=\"T_22a23_row5_col2\" class=\"data row5 col2\" >-0.039733</td>\n",
       "      <td id=\"T_22a23_row5_col3\" class=\"data row5 col3\" >0.224719</td>\n",
       "      <td id=\"T_22a23_row5_col4\" class=\"data row5 col4\" >-0.123851</td>\n",
       "      <td id=\"T_22a23_row5_col5\" class=\"data row5 col5\" >1.000000</td>\n",
       "      <td id=\"T_22a23_row5_col6\" class=\"data row5 col6\" >-0.006131</td>\n",
       "      <td id=\"T_22a23_row5_col7\" class=\"data row5 col7\" >-0.146421</td>\n",
       "    </tr>\n",
       "    <tr>\n",
       "      <th id=\"T_22a23_level0_row6\" class=\"row_heading level0 row6\" >Vintage</th>\n",
       "      <td id=\"T_22a23_row6_col0\" class=\"data row6 col0\" >0.000030</td>\n",
       "      <td id=\"T_22a23_row6_col1\" class=\"data row6 col1\" >0.002704</td>\n",
       "      <td id=\"T_22a23_row6_col2\" class=\"data row6 col2\" >-0.008527</td>\n",
       "      <td id=\"T_22a23_row6_col3\" class=\"data row6 col3\" >0.022350</td>\n",
       "      <td id=\"T_22a23_row6_col4\" class=\"data row6 col4\" >-0.008878</td>\n",
       "      <td id=\"T_22a23_row6_col5\" class=\"data row6 col5\" >-0.006131</td>\n",
       "      <td id=\"T_22a23_row6_col6\" class=\"data row6 col6\" >1.000000</td>\n",
       "      <td id=\"T_22a23_row6_col7\" class=\"data row6 col7\" >-0.007187</td>\n",
       "    </tr>\n",
       "    <tr>\n",
       "      <th id=\"T_22a23_level0_row7\" class=\"row_heading level0 row7\" >Response</th>\n",
       "      <td id=\"T_22a23_row7_col0\" class=\"data row7 col0\" >0.113888</td>\n",
       "      <td id=\"T_22a23_row7_col1\" class=\"data row7 col1\" >0.011263</td>\n",
       "      <td id=\"T_22a23_row7_col2\" class=\"data row7 col2\" >0.010230</td>\n",
       "      <td id=\"T_22a23_row7_col3\" class=\"data row7 col3\" >-0.333502</td>\n",
       "      <td id=\"T_22a23_row7_col4\" class=\"data row7 col4\" >0.029839</td>\n",
       "      <td id=\"T_22a23_row7_col5\" class=\"data row7 col5\" >-0.146421</td>\n",
       "      <td id=\"T_22a23_row7_col6\" class=\"data row7 col6\" >-0.007187</td>\n",
       "      <td id=\"T_22a23_row7_col7\" class=\"data row7 col7\" >1.000000</td>\n",
       "    </tr>\n",
       "  </tbody>\n",
       "</table>\n"
      ],
      "text/plain": [
       "<pandas.io.formats.style.Styler at 0x1c2ec91de08>"
      ]
     },
     "execution_count": 16,
     "metadata": {},
     "output_type": "execute_result"
    }
   ],
   "source": [
    "data.corr().style.background_gradient(cmap='coolwarm')"
   ]
  },
  {
   "cell_type": "code",
   "execution_count": 32,
   "metadata": {},
   "outputs": [
    {
     "data": {
      "text/html": [
       "<div>\n",
       "<style scoped>\n",
       "    .dataframe tbody tr th:only-of-type {\n",
       "        vertical-align: middle;\n",
       "    }\n",
       "\n",
       "    .dataframe tbody tr th {\n",
       "        vertical-align: top;\n",
       "    }\n",
       "\n",
       "    .dataframe thead th {\n",
       "        text-align: right;\n",
       "    }\n",
       "</style>\n",
       "<table border=\"1\" class=\"dataframe\">\n",
       "  <thead>\n",
       "    <tr style=\"text-align: right;\">\n",
       "      <th></th>\n",
       "      <th></th>\n",
       "      <th>0</th>\n",
       "    </tr>\n",
       "    <tr>\n",
       "      <th>Vehicle_Age</th>\n",
       "      <th>Response</th>\n",
       "      <th></th>\n",
       "    </tr>\n",
       "  </thead>\n",
       "  <tbody>\n",
       "    <tr>\n",
       "      <th rowspan=\"2\" valign=\"top\">1-2 Year</th>\n",
       "      <th>0</th>\n",
       "      <td>4308</td>\n",
       "    </tr>\n",
       "    <tr>\n",
       "      <th>1</th>\n",
       "      <td>955</td>\n",
       "    </tr>\n",
       "    <tr>\n",
       "      <th rowspan=\"2\" valign=\"top\">&lt; 1 Year</th>\n",
       "      <th>0</th>\n",
       "      <td>4157</td>\n",
       "    </tr>\n",
       "    <tr>\n",
       "      <th>1</th>\n",
       "      <td>173</td>\n",
       "    </tr>\n",
       "    <tr>\n",
       "      <th rowspan=\"2\" valign=\"top\">&gt; 2 Years</th>\n",
       "      <th>0</th>\n",
       "      <td>288</td>\n",
       "    </tr>\n",
       "    <tr>\n",
       "      <th>1</th>\n",
       "      <td>119</td>\n",
       "    </tr>\n",
       "  </tbody>\n",
       "</table>\n",
       "</div>"
      ],
      "text/plain": [
       "                         0\n",
       "Vehicle_Age Response      \n",
       "1-2 Year    0         4308\n",
       "            1          955\n",
       "< 1 Year    0         4157\n",
       "            1          173\n",
       "> 2 Years   0          288\n",
       "            1          119"
      ]
     },
     "execution_count": 32,
     "metadata": {},
     "output_type": "execute_result"
    }
   ],
   "source": [
    "pd.DataFrame(data[['Vehicle_Age', 'Response']].value_counts()).sort_values(by='Vehicle_Age')"
   ]
  },
  {
   "cell_type": "code",
   "execution_count": 33,
   "metadata": {},
   "outputs": [
    {
     "data": {
      "text/plain": [
       "Index(['Gender', 'Vehicle_Age', 'Vehicle_Damage'], dtype='object')"
      ]
     },
     "execution_count": 33,
     "metadata": {},
     "output_type": "execute_result"
    }
   ],
   "source": [
    "data.select_dtypes(include='object').columns"
   ]
  },
  {
   "cell_type": "code",
   "execution_count": null,
   "metadata": {},
   "outputs": [],
   "source": []
  },
  {
   "cell_type": "code",
   "execution_count": 3,
   "metadata": {},
   "outputs": [],
   "source": [
    "from sklearn.preprocessing import OneHotEncoder\n",
    "\n",
    "for cat_col in list(data.select_dtypes(include='object').columns):\n",
    "    encoder = OneHotEncoder(drop='first')\n",
    "    encoder.fit(data[[cat_col]])\n",
    "    encoder_columns = list(encoder.get_feature_names_out([cat_col]))\n",
    "    encoded_data = encoder.transform(data[[cat_col]]).toarray()\n",
    "    encoded_data = pd.DataFrame(encoded_data,\n",
    "                                columns=encoder_columns,\n",
    "                                index=data.index)\n",
    "    data = pd.concat([data, encoded_data], axis=1)"
   ]
  },
  {
   "cell_type": "code",
   "execution_count": 4,
   "metadata": {},
   "outputs": [],
   "source": [
    "data = data.drop(['Gender', 'Vehicle_Age', 'Vehicle_Damage'], axis=1)"
   ]
  },
  {
   "cell_type": "code",
   "execution_count": 40,
   "metadata": {},
   "outputs": [
    {
     "data": {
      "text/html": [
       "<div>\n",
       "<style scoped>\n",
       "    .dataframe tbody tr th:only-of-type {\n",
       "        vertical-align: middle;\n",
       "    }\n",
       "\n",
       "    .dataframe tbody tr th {\n",
       "        vertical-align: top;\n",
       "    }\n",
       "\n",
       "    .dataframe thead th {\n",
       "        text-align: right;\n",
       "    }\n",
       "</style>\n",
       "<table border=\"1\" class=\"dataframe\">\n",
       "  <thead>\n",
       "    <tr style=\"text-align: right;\">\n",
       "      <th></th>\n",
       "      <th>Age</th>\n",
       "      <th>Driving_License</th>\n",
       "      <th>Region_Code</th>\n",
       "      <th>Previously_Insured</th>\n",
       "      <th>Annual_Premium</th>\n",
       "      <th>Policy_Sales_Channel</th>\n",
       "      <th>Vintage</th>\n",
       "      <th>Response</th>\n",
       "      <th>Gender_Male</th>\n",
       "      <th>Vehicle_Age_&lt; 1 Year</th>\n",
       "      <th>Vehicle_Age_&gt; 2 Years</th>\n",
       "      <th>Vehicle_Damage_Yes</th>\n",
       "    </tr>\n",
       "  </thead>\n",
       "  <tbody>\n",
       "    <tr>\n",
       "      <th>0</th>\n",
       "      <td>44</td>\n",
       "      <td>1</td>\n",
       "      <td>28.0</td>\n",
       "      <td>0</td>\n",
       "      <td>40454.0</td>\n",
       "      <td>26.0</td>\n",
       "      <td>217</td>\n",
       "      <td>1</td>\n",
       "      <td>1.0</td>\n",
       "      <td>0.0</td>\n",
       "      <td>1.0</td>\n",
       "      <td>1.0</td>\n",
       "    </tr>\n",
       "    <tr>\n",
       "      <th>1</th>\n",
       "      <td>76</td>\n",
       "      <td>1</td>\n",
       "      <td>3.0</td>\n",
       "      <td>0</td>\n",
       "      <td>33536.0</td>\n",
       "      <td>26.0</td>\n",
       "      <td>183</td>\n",
       "      <td>0</td>\n",
       "      <td>1.0</td>\n",
       "      <td>0.0</td>\n",
       "      <td>0.0</td>\n",
       "      <td>0.0</td>\n",
       "    </tr>\n",
       "    <tr>\n",
       "      <th>2</th>\n",
       "      <td>47</td>\n",
       "      <td>1</td>\n",
       "      <td>28.0</td>\n",
       "      <td>0</td>\n",
       "      <td>38294.0</td>\n",
       "      <td>26.0</td>\n",
       "      <td>27</td>\n",
       "      <td>1</td>\n",
       "      <td>1.0</td>\n",
       "      <td>0.0</td>\n",
       "      <td>1.0</td>\n",
       "      <td>1.0</td>\n",
       "    </tr>\n",
       "    <tr>\n",
       "      <th>3</th>\n",
       "      <td>21</td>\n",
       "      <td>1</td>\n",
       "      <td>11.0</td>\n",
       "      <td>1</td>\n",
       "      <td>28619.0</td>\n",
       "      <td>152.0</td>\n",
       "      <td>203</td>\n",
       "      <td>0</td>\n",
       "      <td>1.0</td>\n",
       "      <td>1.0</td>\n",
       "      <td>0.0</td>\n",
       "      <td>0.0</td>\n",
       "    </tr>\n",
       "    <tr>\n",
       "      <th>4</th>\n",
       "      <td>29</td>\n",
       "      <td>1</td>\n",
       "      <td>41.0</td>\n",
       "      <td>1</td>\n",
       "      <td>27496.0</td>\n",
       "      <td>152.0</td>\n",
       "      <td>39</td>\n",
       "      <td>0</td>\n",
       "      <td>0.0</td>\n",
       "      <td>1.0</td>\n",
       "      <td>0.0</td>\n",
       "      <td>0.0</td>\n",
       "    </tr>\n",
       "    <tr>\n",
       "      <th>...</th>\n",
       "      <td>...</td>\n",
       "      <td>...</td>\n",
       "      <td>...</td>\n",
       "      <td>...</td>\n",
       "      <td>...</td>\n",
       "      <td>...</td>\n",
       "      <td>...</td>\n",
       "      <td>...</td>\n",
       "      <td>...</td>\n",
       "      <td>...</td>\n",
       "      <td>...</td>\n",
       "      <td>...</td>\n",
       "    </tr>\n",
       "    <tr>\n",
       "      <th>9995</th>\n",
       "      <td>24</td>\n",
       "      <td>1</td>\n",
       "      <td>37.0</td>\n",
       "      <td>1</td>\n",
       "      <td>21243.0</td>\n",
       "      <td>152.0</td>\n",
       "      <td>21</td>\n",
       "      <td>0</td>\n",
       "      <td>0.0</td>\n",
       "      <td>1.0</td>\n",
       "      <td>0.0</td>\n",
       "      <td>0.0</td>\n",
       "    </tr>\n",
       "    <tr>\n",
       "      <th>9996</th>\n",
       "      <td>28</td>\n",
       "      <td>1</td>\n",
       "      <td>35.0</td>\n",
       "      <td>1</td>\n",
       "      <td>23589.0</td>\n",
       "      <td>160.0</td>\n",
       "      <td>173</td>\n",
       "      <td>0</td>\n",
       "      <td>1.0</td>\n",
       "      <td>1.0</td>\n",
       "      <td>0.0</td>\n",
       "      <td>0.0</td>\n",
       "    </tr>\n",
       "    <tr>\n",
       "      <th>9997</th>\n",
       "      <td>27</td>\n",
       "      <td>1</td>\n",
       "      <td>15.0</td>\n",
       "      <td>0</td>\n",
       "      <td>33340.0</td>\n",
       "      <td>152.0</td>\n",
       "      <td>207</td>\n",
       "      <td>0</td>\n",
       "      <td>0.0</td>\n",
       "      <td>1.0</td>\n",
       "      <td>0.0</td>\n",
       "      <td>1.0</td>\n",
       "    </tr>\n",
       "    <tr>\n",
       "      <th>9998</th>\n",
       "      <td>28</td>\n",
       "      <td>1</td>\n",
       "      <td>14.0</td>\n",
       "      <td>1</td>\n",
       "      <td>25426.0</td>\n",
       "      <td>152.0</td>\n",
       "      <td>247</td>\n",
       "      <td>0</td>\n",
       "      <td>0.0</td>\n",
       "      <td>1.0</td>\n",
       "      <td>0.0</td>\n",
       "      <td>0.0</td>\n",
       "    </tr>\n",
       "    <tr>\n",
       "      <th>9999</th>\n",
       "      <td>25</td>\n",
       "      <td>1</td>\n",
       "      <td>45.0</td>\n",
       "      <td>1</td>\n",
       "      <td>18843.0</td>\n",
       "      <td>152.0</td>\n",
       "      <td>131</td>\n",
       "      <td>0</td>\n",
       "      <td>0.0</td>\n",
       "      <td>1.0</td>\n",
       "      <td>0.0</td>\n",
       "      <td>0.0</td>\n",
       "    </tr>\n",
       "  </tbody>\n",
       "</table>\n",
       "<p>10000 rows × 12 columns</p>\n",
       "</div>"
      ],
      "text/plain": [
       "      Age  Driving_License  Region_Code  Previously_Insured  Annual_Premium  \\\n",
       "0      44                1         28.0                   0         40454.0   \n",
       "1      76                1          3.0                   0         33536.0   \n",
       "2      47                1         28.0                   0         38294.0   \n",
       "3      21                1         11.0                   1         28619.0   \n",
       "4      29                1         41.0                   1         27496.0   \n",
       "...   ...              ...          ...                 ...             ...   \n",
       "9995   24                1         37.0                   1         21243.0   \n",
       "9996   28                1         35.0                   1         23589.0   \n",
       "9997   27                1         15.0                   0         33340.0   \n",
       "9998   28                1         14.0                   1         25426.0   \n",
       "9999   25                1         45.0                   1         18843.0   \n",
       "\n",
       "      Policy_Sales_Channel  Vintage  Response  Gender_Male  \\\n",
       "0                     26.0      217         1          1.0   \n",
       "1                     26.0      183         0          1.0   \n",
       "2                     26.0       27         1          1.0   \n",
       "3                    152.0      203         0          1.0   \n",
       "4                    152.0       39         0          0.0   \n",
       "...                    ...      ...       ...          ...   \n",
       "9995                 152.0       21         0          0.0   \n",
       "9996                 160.0      173         0          1.0   \n",
       "9997                 152.0      207         0          0.0   \n",
       "9998                 152.0      247         0          0.0   \n",
       "9999                 152.0      131         0          0.0   \n",
       "\n",
       "      Vehicle_Age_< 1 Year  Vehicle_Age_> 2 Years  Vehicle_Damage_Yes  \n",
       "0                      0.0                    1.0                 1.0  \n",
       "1                      0.0                    0.0                 0.0  \n",
       "2                      0.0                    1.0                 1.0  \n",
       "3                      1.0                    0.0                 0.0  \n",
       "4                      1.0                    0.0                 0.0  \n",
       "...                    ...                    ...                 ...  \n",
       "9995                   1.0                    0.0                 0.0  \n",
       "9996                   1.0                    0.0                 0.0  \n",
       "9997                   1.0                    0.0                 1.0  \n",
       "9998                   1.0                    0.0                 0.0  \n",
       "9999                   1.0                    0.0                 0.0  \n",
       "\n",
       "[10000 rows x 12 columns]"
      ]
     },
     "execution_count": 40,
     "metadata": {},
     "output_type": "execute_result"
    }
   ],
   "source": [
    "data"
   ]
  },
  {
   "cell_type": "markdown",
   "metadata": {},
   "source": [
    "**Задание 1.** Обучите градиентный бустинг из sklearn на данных и замерьте accuracy и f1-score на тестовой выборке. В качестве параметров ансамбля установите `learning_rate = 1`, `random_state = 1`, `n_estimators = 100`. Изобразите ROC-кривую и посчитайте AUC, оцените качество классификации. (2б)\n",
    "\n",
    "P.S. для всех прочих моделей в этом домашнем задании тоже фиксируйте `random_state = 1`. Как думаете, что может быть случайного в процедуре обучения градиентного бустинга?"
   ]
  },
  {
   "cell_type": "code",
   "execution_count": 6,
   "metadata": {},
   "outputs": [],
   "source": [
    "from sklearn.model_selection import train_test_split\n",
    "from sklearn.metrics import classification_report, f1_score, roc_curve, auc\n",
    "\n",
    "X = data.drop('Response', axis=1)\n",
    "y = data['Response']\n",
    "\n",
    "X_train, X_test, y_train, y_test = train_test_split(X, y,\n",
    "                                                    random_state=0,\n",
    "                                                    shuffle=True,\n",
    "                                                    test_size=0.2)"
   ]
  },
  {
   "cell_type": "code",
   "execution_count": 47,
   "metadata": {},
   "outputs": [
    {
     "data": {
      "text/plain": [
       "GradientBoostingClassifier(learning_rate=1, random_state=1)"
      ]
     },
     "execution_count": 47,
     "metadata": {},
     "output_type": "execute_result"
    }
   ],
   "source": [
    "from sklearn.ensemble import GradientBoostingClassifier\n",
    "\n",
    "model = GradientBoostingClassifier(\n",
    "    learning_rate = 1, \n",
    "    random_state = 1, \n",
    "    n_estimators = 100\n",
    ")\n",
    "\n",
    "model.fit(X_train, y_train)"
   ]
  },
  {
   "cell_type": "code",
   "execution_count": 52,
   "metadata": {},
   "outputs": [
    {
     "name": "stdout",
     "output_type": "stream",
     "text": [
      "AUC ROC = 0.8282399901744043\n",
      "AUC ROC = 0.8282399901744043\n"
     ]
    },
    {
     "data": {
      "text/plain": [
       "<sklearn.metrics._plot.roc_curve.RocCurveDisplay at 0x1c2ed5dba88>"
      ]
     },
     "execution_count": 52,
     "metadata": {},
     "output_type": "execute_result"
    },
    {
     "data": {
      "image/png": "[encoded data removed]",
      "text/plain": [
       "<Figure size 432x288 with 1 Axes>"
      ]
     },
     "metadata": {
      "needs_background": "light"
     },
     "output_type": "display_data"
    }
   ],
   "source": [
    "from sklearn.metrics import roc_curve\n",
    "from sklearn.metrics import auc, roc_auc_score\n",
    "from sklearn.metrics import RocCurveDisplay\n",
    "from sklearn.metrics import classification_report\n",
    "\n",
    "tpr, fpr, thresholds  = roc_curve(y_test, model.predict_proba(X_test)[:,1])\n",
    "print('AUC ROC =', auc(tpr, fpr))\n",
    "print('AUC ROC =', roc_auc_score(y_test, model.predict_proba(X_test)[:,1]))\n",
    "RocCurveDisplay.from_estimator(model, X_test, y_test)"
   ]
  },
  {
   "cell_type": "code",
   "execution_count": 49,
   "metadata": {},
   "outputs": [
    {
     "name": "stdout",
     "output_type": "stream",
     "text": [
      "              precision    recall  f1-score   support\n",
      "\n",
      "           0      0.904     0.931     0.917      1770\n",
      "           1      0.311     0.239     0.270       230\n",
      "\n",
      "    accuracy                          0.852      2000\n",
      "   macro avg      0.607     0.585     0.594      2000\n",
      "weighted avg      0.836     0.852     0.843      2000\n",
      "\n"
     ]
    }
   ],
   "source": [
    "print(classification_report(y_test, model.predict(X_test), digits=3))"
   ]
  },
  {
   "cell_type": "markdown",
   "metadata": {},
   "source": [
    "**Задание 2.** Переберите параметры `n_estimators` и `learning_rate` по двумерной сетке. При обучении в цикле сразу считайте f1-score на тестовой выборке и сохраняйте результат в матрицу. Для какого алгоритма качество окажется максимальным?\n",
    "\n",
    "Постройте кривые для метрики f1-score в зависимости от числа шагов для нескольких learning_rate. Изобразите heatmap полученной матрицы. Сделайте вывод, как количество шагов влияет на качество совместно с различной скоростью обучения? (2б)\n",
    "\n",
    "P.S. для подсчета f1-score передайте в функцию параметр `average='weighted'`, чтобы учитывался еще и баланс классов (вспомните микро/макро-усреднения)."
   ]
  },
  {
   "cell_type": "code",
   "execution_count": 54,
   "metadata": {},
   "outputs": [],
   "source": [
    "### Задаем сетку параметров\n",
    "n_estimators_list = [5, 10, 20, 50, 100, 200, 700, 1000]\n",
    "learning_rate_list = [1, 0.1, 0.01]"
   ]
  },
  {
   "cell_type": "code",
   "execution_count": 61,
   "metadata": {
    "scrolled": true
   },
   "outputs": [],
   "source": [
    "from sklearn.metrics import f1_score\n",
    "\n",
    "metrics = []\n",
    "\n",
    "for estimators in n_estimators_list:\n",
    "    for learning_rate in learning_rate_list:\n",
    "        model = GradientBoostingClassifier(\n",
    "            learning_rate = learning_rate, \n",
    "            random_state = 1, \n",
    "            n_estimators = estimators,\n",
    "            max_depth=5\n",
    "        )\n",
    "\n",
    "        model.fit(X_train, y_train)\n",
    "        \n",
    "        metrics.append((learning_rate, estimators, f1_score(y_test, model.predict(X_test), average='weighted')))\n",
    "\n",
    "\n"
   ]
  },
  {
   "cell_type": "code",
   "execution_count": 62,
   "metadata": {},
   "outputs": [],
   "source": [
    "metrics = pd.DataFrame(metrics, columns=['learning_rate','estimators','f1_score'])"
   ]
  },
  {
   "cell_type": "code",
   "execution_count": 72,
   "metadata": {},
   "outputs": [
    {
     "data": {
      "text/html": [
       "<style type=\"text/css\">\n",
       "#T_ade90_row0_col0, #T_ade90_row4_col0, #T_ade90_row5_col0, #T_ade90_row8_col0, #T_ade90_row8_col1 {\n",
       "  background-color: #482173;\n",
       "  color: #f1f1f1;\n",
       "}\n",
       "#T_ade90_row0_col1, #T_ade90_row0_col2, #T_ade90_row1_col0, #T_ade90_row1_col1, #T_ade90_row2_col0, #T_ade90_row3_col0, #T_ade90_row6_col0, #T_ade90_row7_col0, #T_ade90_row9_col1 {\n",
       "  background-color: #fde725;\n",
       "  color: #000000;\n",
       "}\n",
       "#T_ade90_row1_col2 {\n",
       "  background-color: #eae51a;\n",
       "  color: #000000;\n",
       "}\n",
       "#T_ade90_row2_col1 {\n",
       "  background-color: #450457;\n",
       "  color: #f1f1f1;\n",
       "}\n",
       "#T_ade90_row2_col2 {\n",
       "  background-color: #75d054;\n",
       "  color: #000000;\n",
       "}\n",
       "#T_ade90_row3_col1, #T_ade90_row3_col2, #T_ade90_row5_col1 {\n",
       "  background-color: #42be71;\n",
       "  color: #f1f1f1;\n",
       "}\n",
       "#T_ade90_row4_col1, #T_ade90_row6_col1 {\n",
       "  background-color: #424186;\n",
       "  color: #f1f1f1;\n",
       "}\n",
       "#T_ade90_row4_col2 {\n",
       "  background-color: #37b878;\n",
       "  color: #f1f1f1;\n",
       "}\n",
       "#T_ade90_row5_col2 {\n",
       "  background-color: #27ad81;\n",
       "  color: #f1f1f1;\n",
       "}\n",
       "#T_ade90_row6_col2 {\n",
       "  background-color: #1f998a;\n",
       "  color: #f1f1f1;\n",
       "}\n",
       "#T_ade90_row7_col1, #T_ade90_row9_col0, #T_ade90_row9_col2 {\n",
       "  background-color: #440154;\n",
       "  color: #f1f1f1;\n",
       "}\n",
       "#T_ade90_row7_col2 {\n",
       "  background-color: #46327e;\n",
       "  color: #f1f1f1;\n",
       "}\n",
       "#T_ade90_row8_col2 {\n",
       "  background-color: #481a6c;\n",
       "  color: #f1f1f1;\n",
       "}\n",
       "</style>\n",
       "<table id=\"T_ade90_\">\n",
       "  <thead>\n",
       "    <tr>\n",
       "      <th class=\"blank level0\" >&nbsp;</th>\n",
       "      <th class=\"col_heading level0 col0\" >learning_rate</th>\n",
       "      <th class=\"col_heading level0 col1\" >estimators</th>\n",
       "      <th class=\"col_heading level0 col2\" >f1_score</th>\n",
       "    </tr>\n",
       "  </thead>\n",
       "  <tbody>\n",
       "    <tr>\n",
       "      <th id=\"T_ade90_level0_row0\" class=\"row_heading level0 row0\" >22</th>\n",
       "      <td id=\"T_ade90_row0_col0\" class=\"data row0 col0\" >0.100000</td>\n",
       "      <td id=\"T_ade90_row0_col1\" class=\"data row0 col1\" >1000</td>\n",
       "      <td id=\"T_ade90_row0_col2\" class=\"data row0 col2\" >0.846063</td>\n",
       "    </tr>\n",
       "    <tr>\n",
       "      <th id=\"T_ade90_level0_row1\" class=\"row_heading level0 row1\" >21</th>\n",
       "      <td id=\"T_ade90_row1_col0\" class=\"data row1 col0\" >1.000000</td>\n",
       "      <td id=\"T_ade90_row1_col1\" class=\"data row1 col1\" >1000</td>\n",
       "      <td id=\"T_ade90_row1_col2\" class=\"data row1 col2\" >0.845763</td>\n",
       "    </tr>\n",
       "    <tr>\n",
       "      <th id=\"T_ade90_level0_row2\" class=\"row_heading level0 row2\" >6</th>\n",
       "      <td id=\"T_ade90_row2_col0\" class=\"data row2 col0\" >1.000000</td>\n",
       "      <td id=\"T_ade90_row2_col1\" class=\"data row2 col1\" >20</td>\n",
       "      <td id=\"T_ade90_row2_col2\" class=\"data row2 col2\" >0.844182</td>\n",
       "    </tr>\n",
       "    <tr>\n",
       "      <th id=\"T_ade90_level0_row3\" class=\"row_heading level0 row3\" >18</th>\n",
       "      <td id=\"T_ade90_row3_col0\" class=\"data row3 col0\" >1.000000</td>\n",
       "      <td id=\"T_ade90_row3_col1\" class=\"data row3 col1\" >700</td>\n",
       "      <td id=\"T_ade90_row3_col2\" class=\"data row3 col2\" >0.843336</td>\n",
       "    </tr>\n",
       "    <tr>\n",
       "      <th id=\"T_ade90_level0_row4\" class=\"row_heading level0 row4\" >16</th>\n",
       "      <td id=\"T_ade90_row4_col0\" class=\"data row4 col0\" >0.100000</td>\n",
       "      <td id=\"T_ade90_row4_col1\" class=\"data row4 col1\" >200</td>\n",
       "      <td id=\"T_ade90_row4_col2\" class=\"data row4 col2\" >0.843124</td>\n",
       "    </tr>\n",
       "    <tr>\n",
       "      <th id=\"T_ade90_level0_row5\" class=\"row_heading level0 row5\" >19</th>\n",
       "      <td id=\"T_ade90_row5_col0\" class=\"data row5 col0\" >0.100000</td>\n",
       "      <td id=\"T_ade90_row5_col1\" class=\"data row5 col1\" >700</td>\n",
       "      <td id=\"T_ade90_row5_col2\" class=\"data row5 col2\" >0.842680</td>\n",
       "    </tr>\n",
       "    <tr>\n",
       "      <th id=\"T_ade90_level0_row6\" class=\"row_heading level0 row6\" >15</th>\n",
       "      <td id=\"T_ade90_row6_col0\" class=\"data row6 col0\" >1.000000</td>\n",
       "      <td id=\"T_ade90_row6_col1\" class=\"data row6 col1\" >200</td>\n",
       "      <td id=\"T_ade90_row6_col2\" class=\"data row6 col2\" >0.841933</td>\n",
       "    </tr>\n",
       "    <tr>\n",
       "      <th id=\"T_ade90_level0_row7\" class=\"row_heading level0 row7\" >3</th>\n",
       "      <td id=\"T_ade90_row7_col0\" class=\"data row7 col0\" >1.000000</td>\n",
       "      <td id=\"T_ade90_row7_col1\" class=\"data row7 col1\" >10</td>\n",
       "      <td id=\"T_ade90_row7_col2\" class=\"data row7 col2\" >0.838400</td>\n",
       "    </tr>\n",
       "    <tr>\n",
       "      <th id=\"T_ade90_level0_row8\" class=\"row_heading level0 row8\" >13</th>\n",
       "      <td id=\"T_ade90_row8_col0\" class=\"data row8 col0\" >0.100000</td>\n",
       "      <td id=\"T_ade90_row8_col1\" class=\"data row8 col1\" >100</td>\n",
       "      <td id=\"T_ade90_row8_col2\" class=\"data row8 col2\" >0.837728</td>\n",
       "    </tr>\n",
       "    <tr>\n",
       "      <th id=\"T_ade90_level0_row9\" class=\"row_heading level0 row9\" >23</th>\n",
       "      <td id=\"T_ade90_row9_col0\" class=\"data row9 col0\" >0.010000</td>\n",
       "      <td id=\"T_ade90_row9_col1\" class=\"data row9 col1\" >1000</td>\n",
       "      <td id=\"T_ade90_row9_col2\" class=\"data row9 col2\" >0.837111</td>\n",
       "    </tr>\n",
       "  </tbody>\n",
       "</table>\n"
      ],
      "text/plain": [
       "<pandas.io.formats.style.Styler at 0x1c2ee963e48>"
      ]
     },
     "execution_count": 72,
     "metadata": {},
     "output_type": "execute_result"
    }
   ],
   "source": [
    "metrics.sort_values(by='f1_score', ascending=False).head(10).style.background_gradient(cmap ='viridis')"
   ]
  },
  {
   "cell_type": "code",
   "execution_count": 68,
   "metadata": {},
   "outputs": [
    {
     "data": {
      "text/plain": [
       "<matplotlib.axes._subplots.AxesSubplot at 0x1c2ee8f0f08>"
      ]
     },
     "execution_count": 68,
     "metadata": {},
     "output_type": "execute_result"
    },
    {
     "data": {
      "image/png": "[encoded data removed]",
      "text/plain": [
       "<Figure size 432x288 with 1 Axes>"
      ]
     },
     "metadata": {
      "needs_background": "light"
     },
     "output_type": "display_data"
    }
   ],
   "source": [
    "metrics[metrics['learning_rate'] == 0.1].plot(x='estimators', y='f1_score')"
   ]
  },
  {
   "cell_type": "code",
   "execution_count": 69,
   "metadata": {},
   "outputs": [
    {
     "data": {
      "text/plain": [
       "<matplotlib.axes._subplots.AxesSubplot at 0x1c2ee975cc8>"
      ]
     },
     "execution_count": 69,
     "metadata": {},
     "output_type": "execute_result"
    },
    {
     "data": {
      "image/png": "[encoded data removed]",
      "text/plain": [
       "<Figure size 432x288 with 1 Axes>"
      ]
     },
     "metadata": {
      "needs_background": "light"
     },
     "output_type": "display_data"
    }
   ],
   "source": [
    "metrics[metrics['learning_rate'] == 1].plot(x='estimators', y='f1_score')"
   ]
  },
  {
   "cell_type": "code",
   "execution_count": 70,
   "metadata": {},
   "outputs": [
    {
     "data": {
      "text/plain": [
       "<matplotlib.axes._subplots.AxesSubplot at 0x1c2ee9eb2c8>"
      ]
     },
     "execution_count": 70,
     "metadata": {},
     "output_type": "execute_result"
    },
    {
     "data": {
      "image/png": "[encoded data removed]",
      "text/plain": [
       "<Figure size 432x288 with 1 Axes>"
      ]
     },
     "metadata": {
      "needs_background": "light"
     },
     "output_type": "display_data"
    }
   ],
   "source": [
    "metrics[metrics['learning_rate'] == 0.01].plot(x='estimators', y='f1_score')"
   ]
  },
  {
   "cell_type": "markdown",
   "metadata": {},
   "source": [
    "**Задание 3.** Вам потребуется обучить 4 модели и посчитать метрику f1-score на тестовой и обучающей выборках для каждой модели. \n",
    "1. Случайный лес с максимальной глубиной деревьев 5,\n",
    "2. Случайный лес с максимальной глубиной деревьев 5000,\n",
    "3. Градиентный бустинг с максимальной глубиной деревьев 5,\n",
    "4. Градиентный бустинг с максимальной глубиной деревьев 5000.\n",
    "\n",
    "Для каждой модели перебирайте значения `n_estimators`, как в предыдущем задании. Отрисуйте графики зависимости f1-score от количества шагов, используя `average='weighted'` для учёта баланса классов. \n",
    "\n",
    "Если в качестве базовой модели брать неглубокие деревья, то какая модель лучше запоминает обучающую выборку: случайный лес или градиентный бустинг? Какая из них лучше предсказывает на тестовой выборке? Как изменятся ответы, если базовая модель - это глубокое решающее дерево?\n",
    "\n",
    "Подвержен ли переобучению случайный лес и градиентный бустинг? Как это отражается на графиках? (4б)"
   ]
  },
  {
   "cell_type": "code",
   "execution_count": 80,
   "metadata": {},
   "outputs": [],
   "source": [
    "from sklearn.ensemble import RandomForestClassifier\n",
    "\n",
    "n_estimators_list = [2, 3, 4, 5, 10, 20, 50, 70, 100, 200, 700, 1000, 2000]\n",
    "metrics = []\n",
    "for estimators in n_estimators_list:\n",
    "    rf_model_md_5 = RandomForestClassifier(max_depth=5, n_estimators=estimators)\n",
    "    rf_model_md_5000 = RandomForestClassifier(max_depth=5000, n_estimators=estimators)\n",
    "    gb_model_md_5 = GradientBoostingClassifier(max_depth=5, n_estimators=estimators)\n",
    "    gb_model_md_5000 = GradientBoostingClassifier(max_depth=5000, n_estimators=estimators)\n",
    "    \n",
    "    rf_model_md_5.fit(X_train, y_train)\n",
    "    metrics.append(('rf_model_md_5', \n",
    "                    estimators, \n",
    "                    f1_score(y_test, rf_model_md_5.predict(X_test), average='weighted'),\n",
    "                    f1_score(y_train, rf_model_md_5.predict(X_train), average='weighted')))\n",
    "    \n",
    "    rf_model_md_5000.fit(X_train, y_train)\n",
    "    metrics.append(('rf_model_md_5000', \n",
    "                    estimators, \n",
    "                    f1_score(y_test, rf_model_md_5000.predict(X_test), average='weighted'),\n",
    "                    f1_score(y_train, rf_model_md_5000.predict(X_train), average='weighted')))\n",
    "    \n",
    "    gb_model_md_5.fit(X_train, y_train)\n",
    "    metrics.append(('gb_model_md_5', \n",
    "                    estimators, \n",
    "                    f1_score(y_test, gb_model_md_5.predict(X_test), average='weighted'),\n",
    "                    f1_score(y_train, gb_model_md_5.predict(X_train), average='weighted')))\n",
    "    \n",
    "    gb_model_md_5000.fit(X_train, y_train)\n",
    "    metrics.append(('gb_model_md_5000', \n",
    "                    estimators, \n",
    "                    f1_score(y_test, gb_model_md_5000.predict(X_test), average='weighted'),\n",
    "                    f1_score(y_train, gb_model_md_5000.predict(X_train), average='weighted')))"
   ]
  },
  {
   "cell_type": "code",
   "execution_count": 81,
   "metadata": {},
   "outputs": [],
   "source": [
    "metrics = pd.DataFrame(metrics, columns=['model_name','estimators','f1_score_test', 'f1_score_train'])"
   ]
  },
  {
   "cell_type": "code",
   "execution_count": 89,
   "metadata": {},
   "outputs": [
    {
     "data": {
      "text/plain": [
       "<matplotlib.legend.Legend at 0x1c2fffa1c08>"
      ]
     },
     "execution_count": 89,
     "metadata": {},
     "output_type": "execute_result"
    },
    {
     "data": {
      "image/png": "[encoded data removed]",
      "text/plain": [
       "<Figure size 1152x720 with 1 Axes>"
      ]
     },
     "metadata": {
      "needs_background": "light"
     },
     "output_type": "display_data"
    }
   ],
   "source": [
    "fig = plt.figure()\n",
    "fig.set_size_inches(16, 10)\n",
    "\n",
    "for model in ['rf_model_md_5', 'rf_model_md_5000', 'gb_model_md_5', 'gb_model_md_5000']:\n",
    "    plot_data = metrics[metrics['model_name']==model]\n",
    "    plt.plot(plot_data['estimators'], plot_data['f1_score_train'])\n",
    "\n",
    "plt.legend(['rf_model_md_5', 'rf_model_md_5000', 'gb_model_md_5', 'gb_model_md_5000'])"
   ]
  },
  {
   "cell_type": "markdown",
   "metadata": {},
   "source": [
    "**Задание 4.** Установите библиотеку `catboost`. Главной особенностью catboost явялется наличие встроенной обработки категориальных признаков. Для каждого категориального столбца вычисляется следующее значение\n",
    "$$\n",
    "avg\\_target = \\dfrac{countInClass + prior}{totalCount + 1},\n",
    "$$\n",
    "* countInClass - количество объектов положительного класса для данной категории **до текущего объекта**,\n",
    "* prior - некоторая константа для числителя, обычно равна доле положительного класса в таргете,\n",
    "* totalCount - количество наблюдаемых категорий вплоть **до текущего** с той же категорией, что и у текущего.\n",
    "\n",
    "Так как первые такие значения будут иметь больший разброс, чем последние, то выборку перемешивают несколько раз и полученные статистики усредняют. \n",
    "В отличие от target encoder подсчитанные значения зависят от наблюдаемой истории, т.е. вычисляются только из наблюдений до них, таким образом не происходит target leakage. \n",
    "\n",
    "Почитать подробнее можно здесь: [Transforming categorical features](https://catboost.ai/en/docs/concepts/algorithm-main-stages_cat-to-numberic)\n",
    "\n",
    "Обучите CatBoostClassifier с дефолтными параметрами. Используйте датасет до  (разбейте на train/test по старой логике с тем же random state'ом). Категориальные колонки передайте в параметр `cat_features` метода `fit`. Catboost сам с ними разберется.\n",
    "\n",
    "Сравните качество с моделью из предыдущего задания. Стало ли лучше?\n",
    "\n",
    "Сравните feature importances в модели из задания 2 и в catboost с помощью соответствующих методов, изобразите их, используя `barplot`. \\\n",
    "Какие признаки стали более важными с новым методом кодирования? (4б)"
   ]
  },
  {
   "cell_type": "code",
   "execution_count": 92,
   "metadata": {},
   "outputs": [
    {
     "data": {
      "text/html": [
       "<div>\n",
       "<style scoped>\n",
       "    .dataframe tbody tr th:only-of-type {\n",
       "        vertical-align: middle;\n",
       "    }\n",
       "\n",
       "    .dataframe tbody tr th {\n",
       "        vertical-align: top;\n",
       "    }\n",
       "\n",
       "    .dataframe thead th {\n",
       "        text-align: right;\n",
       "    }\n",
       "</style>\n",
       "<table border=\"1\" class=\"dataframe\">\n",
       "  <thead>\n",
       "    <tr style=\"text-align: right;\">\n",
       "      <th></th>\n",
       "      <th>Age</th>\n",
       "      <th>Driving_License</th>\n",
       "      <th>Region_Code</th>\n",
       "      <th>Previously_Insured</th>\n",
       "      <th>Annual_Premium</th>\n",
       "      <th>Policy_Sales_Channel</th>\n",
       "      <th>Vintage</th>\n",
       "      <th>Response</th>\n",
       "      <th>Gender_Male</th>\n",
       "      <th>Vehicle_Age_&lt; 1 Year</th>\n",
       "      <th>Vehicle_Age_&gt; 2 Years</th>\n",
       "      <th>Vehicle_Damage_Yes</th>\n",
       "    </tr>\n",
       "  </thead>\n",
       "  <tbody>\n",
       "    <tr>\n",
       "      <th>0</th>\n",
       "      <td>44</td>\n",
       "      <td>1</td>\n",
       "      <td>28.0</td>\n",
       "      <td>0</td>\n",
       "      <td>40454.0</td>\n",
       "      <td>26.0</td>\n",
       "      <td>217</td>\n",
       "      <td>1</td>\n",
       "      <td>1.0</td>\n",
       "      <td>0.0</td>\n",
       "      <td>1.0</td>\n",
       "      <td>1.0</td>\n",
       "    </tr>\n",
       "    <tr>\n",
       "      <th>1</th>\n",
       "      <td>76</td>\n",
       "      <td>1</td>\n",
       "      <td>3.0</td>\n",
       "      <td>0</td>\n",
       "      <td>33536.0</td>\n",
       "      <td>26.0</td>\n",
       "      <td>183</td>\n",
       "      <td>0</td>\n",
       "      <td>1.0</td>\n",
       "      <td>0.0</td>\n",
       "      <td>0.0</td>\n",
       "      <td>0.0</td>\n",
       "    </tr>\n",
       "    <tr>\n",
       "      <th>2</th>\n",
       "      <td>47</td>\n",
       "      <td>1</td>\n",
       "      <td>28.0</td>\n",
       "      <td>0</td>\n",
       "      <td>38294.0</td>\n",
       "      <td>26.0</td>\n",
       "      <td>27</td>\n",
       "      <td>1</td>\n",
       "      <td>1.0</td>\n",
       "      <td>0.0</td>\n",
       "      <td>1.0</td>\n",
       "      <td>1.0</td>\n",
       "    </tr>\n",
       "    <tr>\n",
       "      <th>3</th>\n",
       "      <td>21</td>\n",
       "      <td>1</td>\n",
       "      <td>11.0</td>\n",
       "      <td>1</td>\n",
       "      <td>28619.0</td>\n",
       "      <td>152.0</td>\n",
       "      <td>203</td>\n",
       "      <td>0</td>\n",
       "      <td>1.0</td>\n",
       "      <td>1.0</td>\n",
       "      <td>0.0</td>\n",
       "      <td>0.0</td>\n",
       "    </tr>\n",
       "    <tr>\n",
       "      <th>4</th>\n",
       "      <td>29</td>\n",
       "      <td>1</td>\n",
       "      <td>41.0</td>\n",
       "      <td>1</td>\n",
       "      <td>27496.0</td>\n",
       "      <td>152.0</td>\n",
       "      <td>39</td>\n",
       "      <td>0</td>\n",
       "      <td>0.0</td>\n",
       "      <td>1.0</td>\n",
       "      <td>0.0</td>\n",
       "      <td>0.0</td>\n",
       "    </tr>\n",
       "    <tr>\n",
       "      <th>...</th>\n",
       "      <td>...</td>\n",
       "      <td>...</td>\n",
       "      <td>...</td>\n",
       "      <td>...</td>\n",
       "      <td>...</td>\n",
       "      <td>...</td>\n",
       "      <td>...</td>\n",
       "      <td>...</td>\n",
       "      <td>...</td>\n",
       "      <td>...</td>\n",
       "      <td>...</td>\n",
       "      <td>...</td>\n",
       "    </tr>\n",
       "    <tr>\n",
       "      <th>9995</th>\n",
       "      <td>24</td>\n",
       "      <td>1</td>\n",
       "      <td>37.0</td>\n",
       "      <td>1</td>\n",
       "      <td>21243.0</td>\n",
       "      <td>152.0</td>\n",
       "      <td>21</td>\n",
       "      <td>0</td>\n",
       "      <td>0.0</td>\n",
       "      <td>1.0</td>\n",
       "      <td>0.0</td>\n",
       "      <td>0.0</td>\n",
       "    </tr>\n",
       "    <tr>\n",
       "      <th>9996</th>\n",
       "      <td>28</td>\n",
       "      <td>1</td>\n",
       "      <td>35.0</td>\n",
       "      <td>1</td>\n",
       "      <td>23589.0</td>\n",
       "      <td>160.0</td>\n",
       "      <td>173</td>\n",
       "      <td>0</td>\n",
       "      <td>1.0</td>\n",
       "      <td>1.0</td>\n",
       "      <td>0.0</td>\n",
       "      <td>0.0</td>\n",
       "    </tr>\n",
       "    <tr>\n",
       "      <th>9997</th>\n",
       "      <td>27</td>\n",
       "      <td>1</td>\n",
       "      <td>15.0</td>\n",
       "      <td>0</td>\n",
       "      <td>33340.0</td>\n",
       "      <td>152.0</td>\n",
       "      <td>207</td>\n",
       "      <td>0</td>\n",
       "      <td>0.0</td>\n",
       "      <td>1.0</td>\n",
       "      <td>0.0</td>\n",
       "      <td>1.0</td>\n",
       "    </tr>\n",
       "    <tr>\n",
       "      <th>9998</th>\n",
       "      <td>28</td>\n",
       "      <td>1</td>\n",
       "      <td>14.0</td>\n",
       "      <td>1</td>\n",
       "      <td>25426.0</td>\n",
       "      <td>152.0</td>\n",
       "      <td>247</td>\n",
       "      <td>0</td>\n",
       "      <td>0.0</td>\n",
       "      <td>1.0</td>\n",
       "      <td>0.0</td>\n",
       "      <td>0.0</td>\n",
       "    </tr>\n",
       "    <tr>\n",
       "      <th>9999</th>\n",
       "      <td>25</td>\n",
       "      <td>1</td>\n",
       "      <td>45.0</td>\n",
       "      <td>1</td>\n",
       "      <td>18843.0</td>\n",
       "      <td>152.0</td>\n",
       "      <td>131</td>\n",
       "      <td>0</td>\n",
       "      <td>0.0</td>\n",
       "      <td>1.0</td>\n",
       "      <td>0.0</td>\n",
       "      <td>0.0</td>\n",
       "    </tr>\n",
       "  </tbody>\n",
       "</table>\n",
       "<p>10000 rows × 12 columns</p>\n",
       "</div>"
      ],
      "text/plain": [
       "      Age  Driving_License  Region_Code  Previously_Insured  Annual_Premium  \\\n",
       "0      44                1         28.0                   0         40454.0   \n",
       "1      76                1          3.0                   0         33536.0   \n",
       "2      47                1         28.0                   0         38294.0   \n",
       "3      21                1         11.0                   1         28619.0   \n",
       "4      29                1         41.0                   1         27496.0   \n",
       "...   ...              ...          ...                 ...             ...   \n",
       "9995   24                1         37.0                   1         21243.0   \n",
       "9996   28                1         35.0                   1         23589.0   \n",
       "9997   27                1         15.0                   0         33340.0   \n",
       "9998   28                1         14.0                   1         25426.0   \n",
       "9999   25                1         45.0                   1         18843.0   \n",
       "\n",
       "      Policy_Sales_Channel  Vintage  Response  Gender_Male  \\\n",
       "0                     26.0      217         1          1.0   \n",
       "1                     26.0      183         0          1.0   \n",
       "2                     26.0       27         1          1.0   \n",
       "3                    152.0      203         0          1.0   \n",
       "4                    152.0       39         0          0.0   \n",
       "...                    ...      ...       ...          ...   \n",
       "9995                 152.0       21         0          0.0   \n",
       "9996                 160.0      173         0          1.0   \n",
       "9997                 152.0      207         0          0.0   \n",
       "9998                 152.0      247         0          0.0   \n",
       "9999                 152.0      131         0          0.0   \n",
       "\n",
       "      Vehicle_Age_< 1 Year  Vehicle_Age_> 2 Years  Vehicle_Damage_Yes  \n",
       "0                      0.0                    1.0                 1.0  \n",
       "1                      0.0                    0.0                 0.0  \n",
       "2                      0.0                    1.0                 1.0  \n",
       "3                      1.0                    0.0                 0.0  \n",
       "4                      1.0                    0.0                 0.0  \n",
       "...                    ...                    ...                 ...  \n",
       "9995                   1.0                    0.0                 0.0  \n",
       "9996                   1.0                    0.0                 0.0  \n",
       "9997                   1.0                    0.0                 1.0  \n",
       "9998                   1.0                    0.0                 0.0  \n",
       "9999                   1.0                    0.0                 0.0  \n",
       "\n",
       "[10000 rows x 12 columns]"
      ]
     },
     "execution_count": 92,
     "metadata": {},
     "output_type": "execute_result"
    }
   ],
   "source": [
    "data"
   ]
  },
  {
   "cell_type": "code",
   "execution_count": 93,
   "metadata": {},
   "outputs": [],
   "source": [
    "data_orig = pd.read_csv('C:/Users/maslo/Desktop/karpov_start_ml/2_module/20_lesson/materials/vehicle_insurance.csv')"
   ]
  },
  {
   "cell_type": "code",
   "execution_count": 95,
   "metadata": {},
   "outputs": [
    {
     "name": "stdout",
     "output_type": "stream",
     "text": [
      "Learning rate set to 0.025035\n",
      "0:\tlearn: 0.6524209\ttotal: 21.9ms\tremaining: 21.8s\n",
      "100:\tlearn: 0.2744558\ttotal: 2.15s\tremaining: 19.1s\n",
      "200:\tlearn: 0.2623058\ttotal: 4.53s\tremaining: 18s\n",
      "300:\tlearn: 0.2549623\ttotal: 6.91s\tremaining: 16s\n",
      "400:\tlearn: 0.2471914\ttotal: 9.32s\tremaining: 13.9s\n",
      "500:\tlearn: 0.2384713\ttotal: 12s\tremaining: 12s\n",
      "600:\tlearn: 0.2309064\ttotal: 15s\tremaining: 9.95s\n",
      "700:\tlearn: 0.2237543\ttotal: 18s\tremaining: 7.67s\n",
      "800:\tlearn: 0.2165234\ttotal: 22.8s\tremaining: 5.67s\n",
      "900:\tlearn: 0.2103005\ttotal: 25.6s\tremaining: 2.81s\n",
      "999:\tlearn: 0.2042360\ttotal: 27.9s\tremaining: 0us\n"
     ]
    },
    {
     "data": {
      "text/plain": [
       "<catboost.core.CatBoostClassifier at 0x1c2849273c8>"
      ]
     },
     "execution_count": 95,
     "metadata": {},
     "output_type": "execute_result"
    }
   ],
   "source": [
    "from catboost import CatBoostClassifier\n",
    "\n",
    "X = data_orig.drop('Response', axis=1)\n",
    "y = data_orig['Response']\n",
    "\n",
    "X_train, X_test, y_train, y_test = train_test_split(X, y,\n",
    "                                                    random_state=0,\n",
    "                                                    shuffle=True,\n",
    "                                                    test_size=0.2)\n",
    "\n",
    "model = CatBoostClassifier()\n",
    "model.fit(X_train, y_train, cat_features=['Gender', 'Vehicle_Age', 'Vehicle_Damage'], verbose=100)"
   ]
  },
  {
   "cell_type": "code",
   "execution_count": 96,
   "metadata": {},
   "outputs": [
    {
     "name": "stdout",
     "output_type": "stream",
     "text": [
      "AUC ROC = 0.85114468189634\n",
      "AUC ROC = 0.85114468189634\n"
     ]
    },
    {
     "data": {
      "text/plain": [
       "<sklearn.metrics._plot.roc_curve.RocCurveDisplay at 0x1c2849361c8>"
      ]
     },
     "execution_count": 96,
     "metadata": {},
     "output_type": "execute_result"
    },
    {
     "data": {
      "image/png": "[encoded data removed]",
      "text/plain": [
       "<Figure size 432x288 with 1 Axes>"
      ]
     },
     "metadata": {
      "needs_background": "light"
     },
     "output_type": "display_data"
    }
   ],
   "source": [
    "tpr, fpr, thresholds  = roc_curve(y_test, model.predict_proba(X_test)[:,1])\n",
    "print('AUC ROC =', auc(tpr, fpr))\n",
    "print('AUC ROC =', roc_auc_score(y_test, model.predict_proba(X_test)[:,1]))\n",
    "RocCurveDisplay.from_estimator(model, X_test, y_test)"
   ]
  },
  {
   "cell_type": "code",
   "execution_count": 97,
   "metadata": {},
   "outputs": [
    {
     "name": "stdout",
     "output_type": "stream",
     "text": [
      "              precision    recall  f1-score   support\n",
      "\n",
      "           0      0.889     0.987     0.935      1770\n",
      "           1      0.343     0.052     0.091       230\n",
      "\n",
      "    accuracy                          0.879      2000\n",
      "   macro avg      0.616     0.520     0.513      2000\n",
      "weighted avg      0.826     0.879     0.838      2000\n",
      "\n"
     ]
    }
   ],
   "source": [
    "print(classification_report(y_test, model.predict(X_test), digits=3))"
   ]
  },
  {
   "cell_type": "code",
   "execution_count": 100,
   "metadata": {},
   "outputs": [
    {
     "data": {
      "text/plain": [
       "Index(['Gender', 'Age', 'Driving_License', 'Region_Code', 'Previously_Insured',\n",
       "       'Vehicle_Age', 'Vehicle_Damage', 'Annual_Premium',\n",
       "       'Policy_Sales_Channel', 'Vintage'],\n",
       "      dtype='object')"
      ]
     },
     "execution_count": 100,
     "metadata": {},
     "output_type": "execute_result"
    }
   ],
   "source": [
    "X_test.columns"
   ]
  },
  {
   "cell_type": "code",
   "execution_count": 99,
   "metadata": {},
   "outputs": [
    {
     "data": {
      "text/plain": [
       "array([ 3.1033428 , 11.36658464,  0.03227638,  7.43228013, 27.35891126,\n",
       "        4.74671151, 21.36760853,  9.26128996,  6.2198574 ,  9.11113739])"
      ]
     },
     "execution_count": 99,
     "metadata": {},
     "output_type": "execute_result"
    }
   ],
   "source": [
    "model.get_feature_importance()"
   ]
  },
  {
   "cell_type": "code",
   "execution_count": 102,
   "metadata": {},
   "outputs": [
    {
     "data": {
      "text/plain": [
       "<BarContainer object of 10 artists>"
      ]
     },
     "execution_count": 102,
     "metadata": {},
     "output_type": "execute_result"
    },
    {
     "data": {
      "image/png": "[encoded data removed]",
      "text/plain": [
       "<Figure size 1152x720 with 1 Axes>"
      ]
     },
     "metadata": {
      "needs_background": "light"
     },
     "output_type": "display_data"
    }
   ],
   "source": [
    "fig = plt.figure()\n",
    "fig.set_size_inches(16, 10)\n",
    "\n",
    "plt.bar(x=list(X_test.columns),height=model.get_feature_importance())"
   ]
  },
  {
   "attachments": {
    "%D0%B8%D0%B7%D0%BE%D0%B1%D1%80%D0%B0%D0%B6%D0%B5%D0%BD%D0%B8%D0%B5-2.png": {
     "image/png": "[encoded data removed]"
    },
    "%D0%B8%D0%B7%D0%BE%D0%B1%D1%80%D0%B0%D0%B6%D0%B5%D0%BD%D0%B8%D0%B5.png": {
     "image/png": "[encoded data removed]"
    }
   },
   "cell_type": "markdown",
   "metadata": {},
   "source": [
    "**Задание 5.** Установите библиотеку `lightgbm`. На сегодняшний день это наиболее быстрый метод градиентного бустинга, при этом расходующий небольшое количество оперативной памяти. Достигает он этого за счет построения деревьев вглубь по листьям (leaf-wise), а не по уровням (level-wise), как другие методы, например XGBoost. \n",
    "Более понятно это на картинке:\n",
    "\n",
    "![%D0%B8%D0%B7%D0%BE%D0%B1%D1%80%D0%B0%D0%B6%D0%B5%D0%BD%D0%B8%D0%B5.png](attachment:%D0%B8%D0%B7%D0%BE%D0%B1%D1%80%D0%B0%D0%B6%D0%B5%D0%BD%D0%B8%D0%B5.png)\n",
    "\n",
    "![%D0%B8%D0%B7%D0%BE%D0%B1%D1%80%D0%B0%D0%B6%D0%B5%D0%BD%D0%B8%D0%B5-2.png](attachment:%D0%B8%D0%B7%D0%BE%D0%B1%D1%80%D0%B0%D0%B6%D0%B5%D0%BD%D0%B8%D0%B5-2.png)\n",
    "\n",
    "В то время, как XGBoost за раз разделяет вершины на целом уровне той же глубины, LightGBM разделяет одну вершину за раз. Отсюда прирост в скорости.\n",
    "\n",
    "Обучите `LGBMClassifier` на изначальных(закодированных) данных и добейтесь максимального качества на тестовой выборке, перебрав параметры глубины деревьев, количества шагов, скорости обучения и т.д."
   ]
  },
  {
   "cell_type": "code",
   "execution_count": 5,
   "metadata": {},
   "outputs": [
    {
     "ename": "NameError",
     "evalue": "name 'train_test_split' is not defined",
     "output_type": "error",
     "traceback": [
      "\u001b[1;31m---------------------------------------------------------------------------\u001b[0m",
      "\u001b[1;31mNameError\u001b[0m                                 Traceback (most recent call last)",
      "\u001b[1;32m<ipython-input-5-391c77ccf253>\u001b[0m in \u001b[0;36m<module>\u001b[1;34m\u001b[0m\n\u001b[0;32m      2\u001b[0m \u001b[0my\u001b[0m \u001b[1;33m=\u001b[0m \u001b[0mdata\u001b[0m\u001b[1;33m[\u001b[0m\u001b[1;34m'Response'\u001b[0m\u001b[1;33m]\u001b[0m\u001b[1;33m\u001b[0m\u001b[1;33m\u001b[0m\u001b[0m\n\u001b[0;32m      3\u001b[0m \u001b[1;33m\u001b[0m\u001b[0m\n\u001b[1;32m----> 4\u001b[1;33m X_train, X_test, y_train, y_test = train_test_split(X, y,\n\u001b[0m\u001b[0;32m      5\u001b[0m                                                     \u001b[0mrandom_state\u001b[0m\u001b[1;33m=\u001b[0m\u001b[1;36m0\u001b[0m\u001b[1;33m,\u001b[0m\u001b[1;33m\u001b[0m\u001b[1;33m\u001b[0m\u001b[0m\n\u001b[0;32m      6\u001b[0m                                                     \u001b[0mshuffle\u001b[0m\u001b[1;33m=\u001b[0m\u001b[1;32mTrue\u001b[0m\u001b[1;33m,\u001b[0m\u001b[1;33m\u001b[0m\u001b[1;33m\u001b[0m\u001b[0m\n",
      "\u001b[1;31mNameError\u001b[0m: name 'train_test_split' is not defined"
     ]
    }
   ],
   "source": [
    "X = data.drop('Response', axis=1)\n",
    "y = data['Response']\n",
    "\n",
    "X_train, X_test, y_train, y_test = train_test_split(X, y,\n",
    "                                                    random_state=0,\n",
    "                                                    shuffle=True,\n",
    "                                                    test_size=0.2)"
   ]
  },
  {
   "cell_type": "code",
   "execution_count": 7,
   "metadata": {},
   "outputs": [
    {
     "name": "stdout",
     "output_type": "stream",
     "text": [
      "Requirement already satisfied: lightgbm==3.3.2 in c:\\users\\maslo\\anaconda3\\lib\\site-packages (3.3.2)\n",
      "Requirement already satisfied: wheel in c:\\users\\maslo\\anaconda3\\lib\\site-packages (from lightgbm==3.3.2) (0.33.6)\n",
      "Requirement already satisfied: numpy in c:\\users\\maslo\\anaconda3\\lib\\site-packages (from lightgbm==3.3.2) (1.21.6)\n",
      "Requirement already satisfied: scipy in c:\\users\\maslo\\anaconda3\\lib\\site-packages (from lightgbm==3.3.2) (1.3.1)\n",
      "Requirement already satisfied: scikit-learn!=0.22.0 in c:\\users\\maslo\\anaconda3\\lib\\site-packages (from lightgbm==3.3.2) (1.0)\n",
      "Requirement already satisfied: joblib>=0.11 in c:\\users\\maslo\\anaconda3\\lib\\site-packages (from scikit-learn!=0.22.0->lightgbm==3.3.2) (0.13.2)\n",
      "Requirement already satisfied: threadpoolctl>=2.0.0 in c:\\users\\maslo\\anaconda3\\lib\\site-packages (from scikit-learn!=0.22.0->lightgbm==3.3.2) (3.1.0)\n"
     ]
    }
   ],
   "source": [
    "!pip install lightgbm==3.3.2"
   ]
  },
  {
   "cell_type": "code",
   "execution_count": 8,
   "metadata": {},
   "outputs": [
    {
     "data": {
      "text/plain": [
       "GridSearchCV(estimator=LGBMClassifier(),\n",
       "             param_grid={'learning_rate': [0.1, 0.01, 0.001],\n",
       "                         'max_depth': [2, 3, 5, 100],\n",
       "                         'n_estimators': [100, 500, 1000, 2000]})"
      ]
     },
     "execution_count": 8,
     "metadata": {},
     "output_type": "execute_result"
    }
   ],
   "source": [
    "from lightgbm import LGBMClassifier\n",
    "from sklearn.model_selection import GridSearchCV\n",
    "\n",
    "params = {'n_estimators': [100, 500, 1000, 2000],\n",
    "          'max_depth': [2, 3, 5, 100],\n",
    "          'learning_rate': [0.1, 0.01, 0.001]}\n",
    "model = LGBMClassifier()\n",
    "search = GridSearchCV(model, params)\n",
    "search.fit(X_train, y_train)"
   ]
  },
  {
   "cell_type": "code",
   "execution_count": 9,
   "metadata": {},
   "outputs": [
    {
     "data": {
      "text/plain": [
       "{'learning_rate': 0.01, 'max_depth': 2, 'n_estimators': 100}"
      ]
     },
     "execution_count": 9,
     "metadata": {},
     "output_type": "execute_result"
    }
   ],
   "source": [
    "search.best_params_"
   ]
  },
  {
   "cell_type": "code",
   "execution_count": 12,
   "metadata": {},
   "outputs": [],
   "source": [
    "model = LGBMClassifier(learning_rate=0.01, max_depth=2, n_estimators=100)"
   ]
  },
  {
   "cell_type": "code",
   "execution_count": 13,
   "metadata": {},
   "outputs": [
    {
     "data": {
      "text/plain": [
       "LGBMClassifier(learning_rate=0.01, max_depth=2)"
      ]
     },
     "execution_count": 13,
     "metadata": {},
     "output_type": "execute_result"
    }
   ],
   "source": [
    "model.fit(X_train, y_train)"
   ]
  },
  {
   "cell_type": "code",
   "execution_count": 14,
   "metadata": {},
   "outputs": [
    {
     "name": "stdout",
     "output_type": "stream",
     "text": [
      "              precision    recall  f1-score   support\n",
      "\n",
      "           0      0.885     1.000     0.939      1770\n",
      "           1      0.000     0.000     0.000       230\n",
      "\n",
      "    accuracy                          0.885      2000\n",
      "   macro avg      0.443     0.500     0.469      2000\n",
      "weighted avg      0.783     0.885     0.831      2000\n",
      "\n"
     ]
    }
   ],
   "source": [
    "print(classification_report(y_test, model.predict(X_test), digits=3))"
   ]
  },
  {
   "cell_type": "code",
   "execution_count": null,
   "metadata": {},
   "outputs": [],
   "source": []
  }
 ],
 "metadata": {
  "kernelspec": {
   "display_name": "Python 3",
   "language": "python",
   "name": "python3"
  },
  "language_info": {
   "codemirror_mode": {
    "name": "ipython",
    "version": 3
   },
   "file_extension": ".py",
   "mimetype": "text/x-python",
   "name": "python",
   "nbconvert_exporter": "python",
   "pygments_lexer": "ipython3",
   "version": "3.7.4"
  }
 },
 "nbformat": 4,
 "nbformat_minor": 5
}
