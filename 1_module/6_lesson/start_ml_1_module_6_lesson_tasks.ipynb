{
 "cells": [
  {
   "cell_type": "code",
   "execution_count": 1,
   "metadata": {},
   "outputs": [],
   "source": [
    "import psycopg2"
   ]
  },
  {
   "cell_type": "code",
   "execution_count": 2,
   "metadata": {},
   "outputs": [],
   "source": [
    "conn_string = \"host='HOST' dbname='startml' user='robot-startml-ro' password='' port='6432'\""
   ]
  },
  {
   "cell_type": "code",
   "execution_count": 10,
   "metadata": {},
   "outputs": [],
   "source": [
    "def get_query_result(conn_string,\n",
    "                     query,\n",
    "                     conn=None):\n",
    "    \n",
    "    if conn is None:\n",
    "        with psycopg2.connect(conn_string) as conn:\n",
    "            cursor = conn.cursor()\n",
    "            cursor.execute(query)\n",
    "            res = cursor.fetchall()\n",
    "    else:\n",
    "        cursor = conn.cursor()\n",
    "        cursor.execute(query)\n",
    "        res = cursor.fetchall()\n",
    "        \n",
    "    return res"
   ]
  },
  {
   "cell_type": "code",
   "execution_count": 26,
   "metadata": {},
   "outputs": [],
   "source": [
    "def print_result(query):\n",
    "    global conn_string\n",
    "    print(get_query_result(conn_string, query, None))"
   ]
  },
  {
   "cell_type": "code",
   "execution_count": 23,
   "metadata": {},
   "outputs": [],
   "source": [
    "query = \\\n",
    "    \"\"\"\n",
    "    SELECT * \n",
    "      FROM \"user\" \n",
    "     LIMIT 1\n",
    "    \"\"\""
   ]
  },
  {
   "cell_type": "code",
   "execution_count": 27,
   "metadata": {},
   "outputs": [
    {
     "name": "stdout",
     "output_type": "stream",
     "text": [
      "[(200, 1, 34, 'Russia', 'Degtyarsk', 3, 'Android', 'ads')]\n"
     ]
    }
   ],
   "source": [
    "print_result(query)"
   ]
  },
  {
   "cell_type": "code",
   "execution_count": 29,
   "metadata": {},
   "outputs": [],
   "source": [
    "query = \\\n",
    "    \"\"\"\n",
    "    SELECT COUNT(DISTINCT topic), \n",
    "           MAX(LENGTH(topic)) \n",
    "      FROM post\n",
    "    \"\"\""
   ]
  },
  {
   "cell_type": "code",
   "execution_count": 30,
   "metadata": {},
   "outputs": [
    {
     "name": "stdout",
     "output_type": "stream",
     "text": [
      "[(7, 13)]\n"
     ]
    }
   ],
   "source": [
    "print_result(query)"
   ]
  },
  {
   "cell_type": "code",
   "execution_count": 33,
   "metadata": {},
   "outputs": [],
   "source": [
    "query = \\\n",
    "    \"\"\"\n",
    "    SELECT distinct topic\n",
    "      FROM post\n",
    "     WHERE LENGTH(topic) = 13\n",
    "    \"\"\""
   ]
  },
  {
   "cell_type": "code",
   "execution_count": 34,
   "metadata": {},
   "outputs": [
    {
     "name": "stdout",
     "output_type": "stream",
     "text": [
      "[('entertainment',)]\n"
     ]
    }
   ],
   "source": [
    "print_result(query)"
   ]
  },
  {
   "cell_type": "code",
   "execution_count": 40,
   "metadata": {},
   "outputs": [],
   "source": [
    "query = \\\n",
    "    \"\"\"\n",
    "    SELECT *\n",
    "      FROM \"user\"\n",
    "     WHERE age > 30\n",
    "       AND os = 'iOS'\n",
    "     LIMIT 1\n",
    "    \"\"\""
   ]
  },
  {
   "cell_type": "code",
   "execution_count": 41,
   "metadata": {},
   "outputs": [
    {
     "name": "stdout",
     "output_type": "stream",
     "text": [
      "[(212, 1, 47, 'Russia', 'Podolsk', 0, 'iOS', 'ads')]\n"
     ]
    }
   ],
   "source": [
    "print_result(query)"
   ]
  },
  {
   "cell_type": "code",
   "execution_count": 47,
   "metadata": {},
   "outputs": [],
   "source": [
    "query = \\\n",
    "    \"\"\"\n",
    "    SELECT id\n",
    "      FROM \"user\"\n",
    "     WHERE country != 'Russia'\n",
    "       AND (exp_group not in (0, 3) or city = 'Minsk')\n",
    "     LIMIT 4\n",
    "    \"\"\""
   ]
  },
  {
   "cell_type": "code",
   "execution_count": 48,
   "metadata": {},
   "outputs": [
    {
     "name": "stdout",
     "output_type": "stream",
     "text": [
      "[(211,), (213,), (216,), (218,)]\n"
     ]
    }
   ],
   "source": [
    "print_result(query)"
   ]
  },
  {
   "cell_type": "code",
   "execution_count": 51,
   "metadata": {},
   "outputs": [],
   "source": [
    "query = \\\n",
    "    \"\"\"\n",
    "    SELECT country, ROUND(AVG(age), 2)\n",
    "      FROM \"user\"\n",
    "     GROUP BY country\n",
    "    \"\"\""
   ]
  },
  {
   "cell_type": "code",
   "execution_count": 52,
   "metadata": {},
   "outputs": [
    {
     "name": "stdout",
     "output_type": "stream",
     "text": [
      "[('Azerbaijan', Decimal('26.78')), ('Belarus', Decimal('27.28')), ('Cyprus', Decimal('28.07')), ('Estonia', Decimal('28.15')), ('Finland', Decimal('27.13')), ('Kazakhstan', Decimal('27.22')), ('Latvia', Decimal('27.22')), ('Russia', Decimal('27.19')), ('Switzerland', Decimal('27.95')), ('Turkey', Decimal('27.45')), ('Ukraine', Decimal('27.26'))]\n"
     ]
    }
   ],
   "source": [
    "print_result(query)"
   ]
  },
  {
   "cell_type": "code",
   "execution_count": 55,
   "metadata": {},
   "outputs": [],
   "source": [
    "query = \\\n",
    "    \"\"\"\n",
    "    SELECT exp_group, os,\n",
    "           COUNT(id) total_users,\n",
    "           MAX(age) max_age,\n",
    "           MIN(age) min_age\n",
    "     GROUP BY exp_group, os\n",
    "    \"\"\""
   ]
  },
  {
   "cell_type": "code",
   "execution_count": 56,
   "metadata": {},
   "outputs": [
    {
     "name": "stdout",
     "output_type": "stream",
     "text": [
      "[(0, 'Android', 21234, 95, 14), (0, 'iOS', 11489, 79, 14), (1, 'Android', 21232, 92, 14), (1, 'iOS', 11406, 87, 14), (2, 'Android', 21102, 78, 14), (2, 'iOS', 11512, 74, 14), (3, 'Android', 21319, 84, 14), (3, 'iOS', 11449, 85, 14), (4, 'Android', 21085, 84, 14), (4, 'iOS', 11377, 78, 14)]\n"
     ]
    }
   ],
   "source": [
    "print_result(query)"
   ]
  },
  {
   "cell_type": "code",
   "execution_count": 57,
   "metadata": {},
   "outputs": [],
   "source": [
    "query = \\\n",
    "    \"\"\"\n",
    "    SELECT topic, MAX(LENGTH(text))\n",
    "      FROM post\n",
    "     GROUP BY topic\n",
    "    \"\"\""
   ]
  },
  {
   "cell_type": "code",
   "execution_count": 58,
   "metadata": {},
   "outputs": [
    {
     "name": "stdout",
     "output_type": "stream",
     "text": [
      "[('tech', 16063), ('covid', 148), ('movie', 10234), ('entertainment', 19004), ('politics', 25392), ('sport', 9438), ('business', 5378)]\n"
     ]
    }
   ],
   "source": [
    "print_result(query)"
   ]
  },
  {
   "cell_type": "code",
   "execution_count": 59,
   "metadata": {},
   "outputs": [],
   "source": [
    "query = \\\n",
    "    \"\"\"\n",
    "    SELECT country, COUNT(id)\n",
    "      FROM \"user\"\n",
    "     GROUP BY country\n",
    "    HAVING COUNT(id) > 1000\n",
    "     ORDER BY COUNT(id) ASC\n",
    "    \"\"\""
   ]
  },
  {
   "cell_type": "code",
   "execution_count": 60,
   "metadata": {},
   "outputs": [
    {
     "name": "stdout",
     "output_type": "stream",
     "text": [
      "[('Azerbaijan', 1542), ('Finland', 1599), ('Turkey', 1606), ('Kazakhstan', 3172), ('Belarus', 3293), ('Ukraine', 8273), ('Russia', 143035)]\n"
     ]
    }
   ],
   "source": [
    "print_result(query)"
   ]
  },
  {
   "cell_type": "code",
   "execution_count": 64,
   "metadata": {},
   "outputs": [],
   "source": [
    "query = \\\n",
    "    \"\"\"\n",
    "    SELECT COUNT(id)\n",
    "      FROM \"user\"\n",
    "     WHERE city = 'Moscow'\n",
    "     GROUP BY exp_group\n",
    "    HAVING AVG(age) > 27.2\n",
    "    \"\"\""
   ]
  },
  {
   "cell_type": "code",
   "execution_count": 65,
   "metadata": {},
   "outputs": [
    {
     "name": "stdout",
     "output_type": "stream",
     "text": [
      "[(4414,), (4378,)]\n"
     ]
    }
   ],
   "source": [
    "print_result(query)"
   ]
  },
  {
   "cell_type": "code",
   "execution_count": 70,
   "metadata": {},
   "outputs": [],
   "source": [
    "query = \\\n",
    "    \"\"\"\n",
    "    SELECT topic\n",
    "      FROM post\n",
    "     GROUP BY topic\n",
    "     ORDER BY COUNT(id) DESC\n",
    "     LIMIT 3\n",
    "    \"\"\""
   ]
  },
  {
   "cell_type": "code",
   "execution_count": 71,
   "metadata": {},
   "outputs": [
    {
     "name": "stdout",
     "output_type": "stream",
     "text": [
      "[('movie',), ('covid',), ('sport',)]\n"
     ]
    }
   ],
   "source": [
    "print_result(query)"
   ]
  },
  {
   "cell_type": "code",
   "execution_count": 74,
   "metadata": {},
   "outputs": [],
   "source": [
    "query = \\\n",
    "    \"\"\"\n",
    "    SELECT id\n",
    "      FROM \"user\"\n",
    "     WHERE city = 'Voronezh'\n",
    "     ORDER BY age DESC, exp_group ASC\n",
    "     LIMIT 2\n",
    "    \"\"\""
   ]
  },
  {
   "cell_type": "code",
   "execution_count": 75,
   "metadata": {},
   "outputs": [
    {
     "name": "stdout",
     "output_type": "stream",
     "text": [
      "[(89990,), (2441,)]\n"
     ]
    }
   ],
   "source": [
    "print_result(query)"
   ]
  },
  {
   "cell_type": "code",
   "execution_count": 76,
   "metadata": {},
   "outputs": [],
   "source": [
    "query = \\\n",
    "    \"\"\"\n",
    "    SELECT fa.post_id, fa.time, \n",
    "           u.age, u.os\n",
    "      FROM feed_action fa \n",
    "           JOIN \"user\" u on fa.user_id = u.id\n",
    "     WHERE u.city = 'Omsk'\n",
    "       AND action = 'like'\n",
    "     ORDER BY fa.time DESC\n",
    "     LIMIT 100\n",
    "    \"\"\""
   ]
  },
  {
   "cell_type": "code",
   "execution_count": null,
   "metadata": {},
   "outputs": [],
   "source": [
    "print_result(query)"
   ]
  },
  {
   "cell_type": "code",
   "execution_count": 77,
   "metadata": {},
   "outputs": [],
   "source": [
    "query = \\\n",
    "    \"\"\"\n",
    "    SELECT city\n",
    "      FROM feed_action fa \n",
    "           JOIN \"user\" u ON fa.user_id = u.id\n",
    "           JOIN post p ON p.id = fa.post_id\n",
    "     WHERE fa.time::DATE = '2021-12-01'\n",
    "       AND u.age = 36\n",
    "       AND p.topic = 'covid'\n",
    "       AND fa.action = 'view'\n",
    "     GROUP BY city \n",
    "     ORDER BY COUNT(fa.action) ASC\n",
    "     LIMIT 1\n",
    "    \"\"\""
   ]
  },
  {
   "cell_type": "code",
   "execution_count": 78,
   "metadata": {},
   "outputs": [
    {
     "name": "stdout",
     "output_type": "stream",
     "text": [
      "[('Arkhangelsk',)]\n"
     ]
    }
   ],
   "source": [
    "print_result(query)"
   ]
  },
  {
   "cell_type": "code",
   "execution_count": 83,
   "metadata": {},
   "outputs": [],
   "source": [
    "query = \\\n",
    "    \"\"\"\n",
    "    SELECT post_id, \n",
    "           COUNT(DISTINCT user_id),\n",
    "           MAX(CASE WHEN action = 'like' THEN time ELSE NULL END)\n",
    "      FROM feed_action\n",
    "     GROUP BY post_id\n",
    "     ORDER BY SUM(CASE WHEN action = 'like' THEN 1 ELSE 0 END) DESC\n",
    "     LIMIT 3\n",
    "    \"\"\""
   ]
  },
  {
   "cell_type": "code",
   "execution_count": null,
   "metadata": {},
   "outputs": [],
   "source": [
    "print_result(query)"
   ]
  },
  {
   "cell_type": "code",
   "execution_count": null,
   "metadata": {},
   "outputs": [],
   "source": []
  }
 ],
 "metadata": {
  "kernelspec": {
   "display_name": "Python 3",
   "language": "python",
   "name": "python3"
  },
  "language_info": {
   "codemirror_mode": {
    "name": "ipython",
    "version": 3
   },
   "file_extension": ".py",
   "mimetype": "text/x-python",
   "name": "python",
   "nbconvert_exporter": "python",
   "pygments_lexer": "ipython3",
   "version": "3.7.4"
  }
 },
 "nbformat": 4,
 "nbformat_minor": 2
}
