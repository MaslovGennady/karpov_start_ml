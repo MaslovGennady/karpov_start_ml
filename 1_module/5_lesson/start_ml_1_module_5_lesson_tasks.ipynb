{
 "cells": [
  {
   "cell_type": "code",
   "execution_count": 1,
   "metadata": {},
   "outputs": [],
   "source": [
    "import pandas as pd"
   ]
  },
  {
   "cell_type": "code",
   "execution_count": 2,
   "metadata": {},
   "outputs": [],
   "source": [
    "df = pd.read_csv('C:/Users/maslo/Desktop/karpov_start_ml/1_module/5_lesson/data.csv')"
   ]
  },
  {
   "cell_type": "code",
   "execution_count": 3,
   "metadata": {},
   "outputs": [
    {
     "data": {
      "text/html": [
       "<div>\n",
       "<style scoped>\n",
       "    .dataframe tbody tr th:only-of-type {\n",
       "        vertical-align: middle;\n",
       "    }\n",
       "\n",
       "    .dataframe tbody tr th {\n",
       "        vertical-align: top;\n",
       "    }\n",
       "\n",
       "    .dataframe thead th {\n",
       "        text-align: right;\n",
       "    }\n",
       "</style>\n",
       "<table border=\"1\" class=\"dataframe\">\n",
       "  <thead>\n",
       "    <tr style=\"text-align: right;\">\n",
       "      <th></th>\n",
       "      <th>id</th>\n",
       "      <th>address</th>\n",
       "      <th>categories</th>\n",
       "      <th>city</th>\n",
       "      <th>cuisines</th>\n",
       "      <th>dateAdded</th>\n",
       "      <th>dateUpdated</th>\n",
       "      <th>latitude</th>\n",
       "      <th>longitude</th>\n",
       "      <th>menus.category</th>\n",
       "      <th>menus.currency</th>\n",
       "      <th>menus.dateSeen</th>\n",
       "      <th>menus.description</th>\n",
       "      <th>menus.name</th>\n",
       "      <th>name</th>\n",
       "      <th>province</th>\n",
       "    </tr>\n",
       "  </thead>\n",
       "  <tbody>\n",
       "    <tr>\n",
       "      <th>0</th>\n",
       "      <td>AVwc__cikufWRAb51QjV</td>\n",
       "      <td>610 Commercial St</td>\n",
       "      <td>Restaurant Delivery Service,Restaurants,Pizza,...</td>\n",
       "      <td>Atchison</td>\n",
       "      <td>Restaurant Delivery Service</td>\n",
       "      <td>2016-03-02T11:49:34Z</td>\n",
       "      <td>2017-02-01T18:04:44Z</td>\n",
       "      <td>39.561570</td>\n",
       "      <td>-95.121020</td>\n",
       "      <td>NaN</td>\n",
       "      <td>NaN</td>\n",
       "      <td>2017-02-01T18:04:44Z</td>\n",
       "      <td>NaN</td>\n",
       "      <td>Taco</td>\n",
       "      <td>Gambino's Pizza</td>\n",
       "      <td>KS</td>\n",
       "    </tr>\n",
       "    <tr>\n",
       "      <th>1</th>\n",
       "      <td>AVwc__cikufWRAb51QjV</td>\n",
       "      <td>610 Commercial St</td>\n",
       "      <td>Restaurant Delivery Service,Restaurants,Pizza,...</td>\n",
       "      <td>Atchison</td>\n",
       "      <td>Restaurant Delivery Service</td>\n",
       "      <td>2016-03-02T11:49:34Z</td>\n",
       "      <td>2017-02-01T18:04:44Z</td>\n",
       "      <td>39.561570</td>\n",
       "      <td>-95.121020</td>\n",
       "      <td>NaN</td>\n",
       "      <td>NaN</td>\n",
       "      <td>2016-03-02T11:49:34Z</td>\n",
       "      <td>Beef, onion, cheddar cheese, lettuce,  refried...</td>\n",
       "      <td>Taco</td>\n",
       "      <td>Gambino's Pizza</td>\n",
       "      <td>KS</td>\n",
       "    </tr>\n",
       "    <tr>\n",
       "      <th>2</th>\n",
       "      <td>AVwc__dF_7pvs4fz1Ncy</td>\n",
       "      <td>9521 Morton Davis Dr</td>\n",
       "      <td>Golf Course, American Restaurant, and Resort</td>\n",
       "      <td>Patterson</td>\n",
       "      <td>NaN</td>\n",
       "      <td>2016-10-14T01:58:25Z</td>\n",
       "      <td>2016-10-14T01:58:25Z</td>\n",
       "      <td>37.401855</td>\n",
       "      <td>-121.266703</td>\n",
       "      <td>NaN</td>\n",
       "      <td>NaN</td>\n",
       "      <td>2016-10-14T01:58:25Z</td>\n",
       "      <td>Beef barbacoa or chicken, spanish rice, pico d...</td>\n",
       "      <td>Smotherd Burrito</td>\n",
       "      <td>Diablo Grande Golf &amp; Country Club</td>\n",
       "      <td>Grayson</td>\n",
       "    </tr>\n",
       "    <tr>\n",
       "      <th>3</th>\n",
       "      <td>AVwc__kCByjofQCxkdm-</td>\n",
       "      <td>10550 W I 25 Frontage Rd</td>\n",
       "      <td>Fast Food Restaurant</td>\n",
       "      <td>Longmont</td>\n",
       "      <td>NaN</td>\n",
       "      <td>2016-09-09T17:30:34Z</td>\n",
       "      <td>2016-10-04T05:15:17Z</td>\n",
       "      <td>NaN</td>\n",
       "      <td>NaN</td>\n",
       "      <td>NaN</td>\n",
       "      <td>NaN</td>\n",
       "      <td>2016-09-09T17:30:34Z</td>\n",
       "      <td>NaN</td>\n",
       "      <td>Sausage Burrito</td>\n",
       "      <td>Mcdonald's</td>\n",
       "      <td>Niwot</td>\n",
       "    </tr>\n",
       "    <tr>\n",
       "      <th>4</th>\n",
       "      <td>AVwc__WtByjofQCxkdkR</td>\n",
       "      <td>8495 W 3rd St</td>\n",
       "      <td>Mexican Restaurant Mid-City West,Mexican Resta...</td>\n",
       "      <td>Los Angeles</td>\n",
       "      <td>Mexican</td>\n",
       "      <td>2016-05-19T11:50:25Z</td>\n",
       "      <td>2016-09-11T00:06:37Z</td>\n",
       "      <td>34.080724</td>\n",
       "      <td>-118.389578</td>\n",
       "      <td>NaN</td>\n",
       "      <td>NaN</td>\n",
       "      <td>2016-05-19T11:50:25Z</td>\n",
       "      <td>Wahoo, avocado, cabbage, pico de gallo  and av...</td>\n",
       "      <td>Wahoo Tacogrilled</td>\n",
       "      <td>Baja Fresh Mexican Grill</td>\n",
       "      <td>Bicentennial</td>\n",
       "    </tr>\n",
       "    <tr>\n",
       "      <th>...</th>\n",
       "      <td>...</td>\n",
       "      <td>...</td>\n",
       "      <td>...</td>\n",
       "      <td>...</td>\n",
       "      <td>...</td>\n",
       "      <td>...</td>\n",
       "      <td>...</td>\n",
       "      <td>...</td>\n",
       "      <td>...</td>\n",
       "      <td>...</td>\n",
       "      <td>...</td>\n",
       "      <td>...</td>\n",
       "      <td>...</td>\n",
       "      <td>...</td>\n",
       "      <td>...</td>\n",
       "      <td>...</td>\n",
       "    </tr>\n",
       "    <tr>\n",
       "      <th>77255</th>\n",
       "      <td>AVzRLlQNLD2H7whiWdH_</td>\n",
       "      <td>3919 24th St.</td>\n",
       "      <td>Restaurant</td>\n",
       "      <td>San Francisco</td>\n",
       "      <td>Mexican</td>\n",
       "      <td>2017-06-22T19:01:33Z</td>\n",
       "      <td>2017-06-22T19:01:33Z</td>\n",
       "      <td>37.751392</td>\n",
       "      <td>-122.430180</td>\n",
       "      <td>NaN</td>\n",
       "      <td>USD</td>\n",
       "      <td>2017-06-22T16:40:06.448Z</td>\n",
       "      <td>meat, rice, beans, guacamole, sour cream, chee...</td>\n",
       "      <td>Super Burrito</td>\n",
       "      <td>La Casona Taqueria</td>\n",
       "      <td>California</td>\n",
       "    </tr>\n",
       "    <tr>\n",
       "      <th>77256</th>\n",
       "      <td>AVzRLlQNLD2H7whiWdH_</td>\n",
       "      <td>3919 24th St.</td>\n",
       "      <td>Restaurant</td>\n",
       "      <td>San Francisco</td>\n",
       "      <td>Mexican</td>\n",
       "      <td>2017-06-22T19:01:33Z</td>\n",
       "      <td>2017-06-22T19:01:33Z</td>\n",
       "      <td>37.751392</td>\n",
       "      <td>-122.430180</td>\n",
       "      <td>NaN</td>\n",
       "      <td>USD</td>\n",
       "      <td>2017-06-22T16:40:06.448Z</td>\n",
       "      <td>melted cheese, rice, beans &amp; salsa</td>\n",
       "      <td>Steamed Broccoli Burrito</td>\n",
       "      <td>La Casona Taqueria</td>\n",
       "      <td>California</td>\n",
       "    </tr>\n",
       "    <tr>\n",
       "      <th>77257</th>\n",
       "      <td>AVzRLlQNLD2H7whiWdH_</td>\n",
       "      <td>3919 24th St.</td>\n",
       "      <td>Restaurant</td>\n",
       "      <td>San Francisco</td>\n",
       "      <td>Mexican</td>\n",
       "      <td>2017-06-22T19:01:33Z</td>\n",
       "      <td>2017-06-22T19:01:33Z</td>\n",
       "      <td>37.751392</td>\n",
       "      <td>-122.430180</td>\n",
       "      <td>NaN</td>\n",
       "      <td>USD</td>\n",
       "      <td>2017-06-22T16:40:06.448Z</td>\n",
       "      <td>meat &amp; salsa</td>\n",
       "      <td>Regular Taco</td>\n",
       "      <td>La Casona Taqueria</td>\n",
       "      <td>California</td>\n",
       "    </tr>\n",
       "    <tr>\n",
       "      <th>77258</th>\n",
       "      <td>AVzRLlQNLD2H7whiWdH_</td>\n",
       "      <td>3919 24th St.</td>\n",
       "      <td>Restaurant</td>\n",
       "      <td>San Francisco</td>\n",
       "      <td>Mexican</td>\n",
       "      <td>2017-06-22T19:01:33Z</td>\n",
       "      <td>2017-06-22T19:01:33Z</td>\n",
       "      <td>37.751392</td>\n",
       "      <td>-122.430180</td>\n",
       "      <td>NaN</td>\n",
       "      <td>USD</td>\n",
       "      <td>2017-06-22T16:40:06.448Z</td>\n",
       "      <td>meat, rice, beans &amp; salsa</td>\n",
       "      <td>Regular Burrito</td>\n",
       "      <td>La Casona Taqueria</td>\n",
       "      <td>California</td>\n",
       "    </tr>\n",
       "    <tr>\n",
       "      <th>77259</th>\n",
       "      <td>AVzRLlQNLD2H7whiWdH_</td>\n",
       "      <td>3919 24th St.</td>\n",
       "      <td>Restaurant</td>\n",
       "      <td>San Francisco</td>\n",
       "      <td>Mexican</td>\n",
       "      <td>2017-06-22T19:01:33Z</td>\n",
       "      <td>2017-06-22T19:01:33Z</td>\n",
       "      <td>37.751392</td>\n",
       "      <td>-122.430180</td>\n",
       "      <td>NaN</td>\n",
       "      <td>USD</td>\n",
       "      <td>2017-06-22T16:40:06.448Z</td>\n",
       "      <td>stuffed with rice, beans, meat, topped with en...</td>\n",
       "      <td>Azteca Burrito</td>\n",
       "      <td>La Casona Taqueria</td>\n",
       "      <td>California</td>\n",
       "    </tr>\n",
       "  </tbody>\n",
       "</table>\n",
       "<p>77260 rows × 16 columns</p>\n",
       "</div>"
      ],
      "text/plain": [
       "                         id                   address  \\\n",
       "0      AVwc__cikufWRAb51QjV         610 Commercial St   \n",
       "1      AVwc__cikufWRAb51QjV         610 Commercial St   \n",
       "2      AVwc__dF_7pvs4fz1Ncy      9521 Morton Davis Dr   \n",
       "3      AVwc__kCByjofQCxkdm-  10550 W I 25 Frontage Rd   \n",
       "4      AVwc__WtByjofQCxkdkR             8495 W 3rd St   \n",
       "...                     ...                       ...   \n",
       "77255  AVzRLlQNLD2H7whiWdH_             3919 24th St.   \n",
       "77256  AVzRLlQNLD2H7whiWdH_             3919 24th St.   \n",
       "77257  AVzRLlQNLD2H7whiWdH_             3919 24th St.   \n",
       "77258  AVzRLlQNLD2H7whiWdH_             3919 24th St.   \n",
       "77259  AVzRLlQNLD2H7whiWdH_             3919 24th St.   \n",
       "\n",
       "                                              categories           city  \\\n",
       "0      Restaurant Delivery Service,Restaurants,Pizza,...       Atchison   \n",
       "1      Restaurant Delivery Service,Restaurants,Pizza,...       Atchison   \n",
       "2           Golf Course, American Restaurant, and Resort      Patterson   \n",
       "3                                   Fast Food Restaurant       Longmont   \n",
       "4      Mexican Restaurant Mid-City West,Mexican Resta...    Los Angeles   \n",
       "...                                                  ...            ...   \n",
       "77255                                         Restaurant  San Francisco   \n",
       "77256                                         Restaurant  San Francisco   \n",
       "77257                                         Restaurant  San Francisco   \n",
       "77258                                         Restaurant  San Francisco   \n",
       "77259                                         Restaurant  San Francisco   \n",
       "\n",
       "                          cuisines             dateAdded  \\\n",
       "0      Restaurant Delivery Service  2016-03-02T11:49:34Z   \n",
       "1      Restaurant Delivery Service  2016-03-02T11:49:34Z   \n",
       "2                              NaN  2016-10-14T01:58:25Z   \n",
       "3                              NaN  2016-09-09T17:30:34Z   \n",
       "4                          Mexican  2016-05-19T11:50:25Z   \n",
       "...                            ...                   ...   \n",
       "77255                      Mexican  2017-06-22T19:01:33Z   \n",
       "77256                      Mexican  2017-06-22T19:01:33Z   \n",
       "77257                      Mexican  2017-06-22T19:01:33Z   \n",
       "77258                      Mexican  2017-06-22T19:01:33Z   \n",
       "77259                      Mexican  2017-06-22T19:01:33Z   \n",
       "\n",
       "                dateUpdated   latitude   longitude menus.category  \\\n",
       "0      2017-02-01T18:04:44Z  39.561570  -95.121020            NaN   \n",
       "1      2017-02-01T18:04:44Z  39.561570  -95.121020            NaN   \n",
       "2      2016-10-14T01:58:25Z  37.401855 -121.266703            NaN   \n",
       "3      2016-10-04T05:15:17Z        NaN         NaN            NaN   \n",
       "4      2016-09-11T00:06:37Z  34.080724 -118.389578            NaN   \n",
       "...                     ...        ...         ...            ...   \n",
       "77255  2017-06-22T19:01:33Z  37.751392 -122.430180            NaN   \n",
       "77256  2017-06-22T19:01:33Z  37.751392 -122.430180            NaN   \n",
       "77257  2017-06-22T19:01:33Z  37.751392 -122.430180            NaN   \n",
       "77258  2017-06-22T19:01:33Z  37.751392 -122.430180            NaN   \n",
       "77259  2017-06-22T19:01:33Z  37.751392 -122.430180            NaN   \n",
       "\n",
       "      menus.currency            menus.dateSeen  \\\n",
       "0                NaN      2017-02-01T18:04:44Z   \n",
       "1                NaN      2016-03-02T11:49:34Z   \n",
       "2                NaN      2016-10-14T01:58:25Z   \n",
       "3                NaN      2016-09-09T17:30:34Z   \n",
       "4                NaN      2016-05-19T11:50:25Z   \n",
       "...              ...                       ...   \n",
       "77255            USD  2017-06-22T16:40:06.448Z   \n",
       "77256            USD  2017-06-22T16:40:06.448Z   \n",
       "77257            USD  2017-06-22T16:40:06.448Z   \n",
       "77258            USD  2017-06-22T16:40:06.448Z   \n",
       "77259            USD  2017-06-22T16:40:06.448Z   \n",
       "\n",
       "                                       menus.description  \\\n",
       "0                                                    NaN   \n",
       "1      Beef, onion, cheddar cheese, lettuce,  refried...   \n",
       "2      Beef barbacoa or chicken, spanish rice, pico d...   \n",
       "3                                                    NaN   \n",
       "4      Wahoo, avocado, cabbage, pico de gallo  and av...   \n",
       "...                                                  ...   \n",
       "77255  meat, rice, beans, guacamole, sour cream, chee...   \n",
       "77256                 melted cheese, rice, beans & salsa   \n",
       "77257                                       meat & salsa   \n",
       "77258                          meat, rice, beans & salsa   \n",
       "77259  stuffed with rice, beans, meat, topped with en...   \n",
       "\n",
       "                     menus.name                               name  \\\n",
       "0                          Taco                    Gambino's Pizza   \n",
       "1                          Taco                    Gambino's Pizza   \n",
       "2              Smotherd Burrito  Diablo Grande Golf & Country Club   \n",
       "3               Sausage Burrito                         Mcdonald's   \n",
       "4             Wahoo Tacogrilled           Baja Fresh Mexican Grill   \n",
       "...                         ...                                ...   \n",
       "77255             Super Burrito                 La Casona Taqueria   \n",
       "77256  Steamed Broccoli Burrito                 La Casona Taqueria   \n",
       "77257              Regular Taco                 La Casona Taqueria   \n",
       "77258           Regular Burrito                 La Casona Taqueria   \n",
       "77259            Azteca Burrito                 La Casona Taqueria   \n",
       "\n",
       "           province  \n",
       "0                KS  \n",
       "1                KS  \n",
       "2           Grayson  \n",
       "3             Niwot  \n",
       "4      Bicentennial  \n",
       "...             ...  \n",
       "77255    California  \n",
       "77256    California  \n",
       "77257    California  \n",
       "77258    California  \n",
       "77259    California  \n",
       "\n",
       "[77260 rows x 16 columns]"
      ]
     },
     "execution_count": 3,
     "metadata": {},
     "output_type": "execute_result"
    }
   ],
   "source": [
    "df"
   ]
  },
  {
   "cell_type": "code",
   "execution_count": 78,
   "metadata": {},
   "outputs": [
    {
     "data": {
      "text/plain": [
       "'2016-03-02T11:49:34Z, 2016-03-02T11:49:34Z, 2016-10-14T01:58:25Z'"
      ]
     },
     "execution_count": 78,
     "metadata": {},
     "output_type": "execute_result"
    }
   ],
   "source": [
    "', '.join(list(df['dateAdded'].head(3)))"
   ]
  },
  {
   "cell_type": "code",
   "execution_count": 79,
   "metadata": {
    "scrolled": true
   },
   "outputs": [
    {
     "data": {
      "text/plain": [
       "id                    object\n",
       "address               object\n",
       "categories            object\n",
       "city                  object\n",
       "cuisines              object\n",
       "dateAdded             object\n",
       "dateUpdated           object\n",
       "latitude             float64\n",
       "longitude            float64\n",
       "menus.category        object\n",
       "menus.currency        object\n",
       "menus.dateSeen        object\n",
       "menus.description     object\n",
       "menus.name            object\n",
       "name                  object\n",
       "province              object\n",
       "dtype: object"
      ]
     },
     "execution_count": 79,
     "metadata": {},
     "output_type": "execute_result"
    }
   ],
   "source": [
    "df.dtypes"
   ]
  },
  {
   "cell_type": "code",
   "execution_count": 80,
   "metadata": {},
   "outputs": [
    {
     "data": {
      "text/html": [
       "<div>\n",
       "<style scoped>\n",
       "    .dataframe tbody tr th:only-of-type {\n",
       "        vertical-align: middle;\n",
       "    }\n",
       "\n",
       "    .dataframe tbody tr th {\n",
       "        vertical-align: top;\n",
       "    }\n",
       "\n",
       "    .dataframe thead th {\n",
       "        text-align: right;\n",
       "    }\n",
       "</style>\n",
       "<table border=\"1\" class=\"dataframe\">\n",
       "  <thead>\n",
       "    <tr style=\"text-align: right;\">\n",
       "      <th></th>\n",
       "      <th>latitude</th>\n",
       "      <th>longitude</th>\n",
       "    </tr>\n",
       "  </thead>\n",
       "  <tbody>\n",
       "    <tr>\n",
       "      <th>count</th>\n",
       "      <td>55636.000000</td>\n",
       "      <td>55636.000000</td>\n",
       "    </tr>\n",
       "    <tr>\n",
       "      <th>mean</th>\n",
       "      <td>36.694846</td>\n",
       "      <td>-98.713309</td>\n",
       "    </tr>\n",
       "    <tr>\n",
       "      <th>std</th>\n",
       "      <td>4.835124</td>\n",
       "      <td>18.245857</td>\n",
       "    </tr>\n",
       "    <tr>\n",
       "      <th>min</th>\n",
       "      <td>-31.986438</td>\n",
       "      <td>-159.492690</td>\n",
       "    </tr>\n",
       "    <tr>\n",
       "      <th>25%</th>\n",
       "      <td>33.668355</td>\n",
       "      <td>-117.647150</td>\n",
       "    </tr>\n",
       "    <tr>\n",
       "      <th>50%</th>\n",
       "      <td>36.047195</td>\n",
       "      <td>-96.682320</td>\n",
       "    </tr>\n",
       "    <tr>\n",
       "      <th>75%</th>\n",
       "      <td>40.588380</td>\n",
       "      <td>-82.679930</td>\n",
       "    </tr>\n",
       "    <tr>\n",
       "      <th>max</th>\n",
       "      <td>61.219460</td>\n",
       "      <td>115.903696</td>\n",
       "    </tr>\n",
       "  </tbody>\n",
       "</table>\n",
       "</div>"
      ],
      "text/plain": [
       "           latitude     longitude\n",
       "count  55636.000000  55636.000000\n",
       "mean      36.694846    -98.713309\n",
       "std        4.835124     18.245857\n",
       "min      -31.986438   -159.492690\n",
       "25%       33.668355   -117.647150\n",
       "50%       36.047195    -96.682320\n",
       "75%       40.588380    -82.679930\n",
       "max       61.219460    115.903696"
      ]
     },
     "execution_count": 80,
     "metadata": {},
     "output_type": "execute_result"
    }
   ],
   "source": [
    "df.describe()"
   ]
  },
  {
   "cell_type": "code",
   "execution_count": 81,
   "metadata": {},
   "outputs": [
    {
     "data": {
      "text/plain": [
       "77260"
      ]
     },
     "execution_count": 81,
     "metadata": {},
     "output_type": "execute_result"
    }
   ],
   "source": [
    "len(df)"
   ]
  },
  {
   "cell_type": "code",
   "execution_count": 82,
   "metadata": {},
   "outputs": [
    {
     "data": {
      "text/plain": [
       "1925"
      ]
     },
     "execution_count": 82,
     "metadata": {},
     "output_type": "execute_result"
    }
   ],
   "source": [
    "len(df.dropna())"
   ]
  },
  {
   "cell_type": "code",
   "execution_count": 83,
   "metadata": {},
   "outputs": [
    {
     "data": {
      "text/plain": [
       "Int64Index([40483, 52930, 52931, 52932, 52933, 52934, 52935, 52936, 52937,\n",
       "            52938, 52939, 65070],\n",
       "           dtype='int64')"
      ]
     },
     "execution_count": 83,
     "metadata": {},
     "output_type": "execute_result"
    }
   ],
   "source": [
    "df[df['city'] == 'California'].index"
   ]
  },
  {
   "cell_type": "code",
   "execution_count": 84,
   "metadata": {},
   "outputs": [
    {
     "data": {
      "text/plain": [
       "[52930, 52931, 52932, 52933, 52934, 52935, 52936, 52937, 52938, 52939]"
      ]
     },
     "execution_count": 84,
     "metadata": {},
     "output_type": "execute_result"
    }
   ],
   "source": [
    "list(df[(df['city'] == 'California') & (df['name'] == 'Taco Bell')].index)"
   ]
  },
  {
   "cell_type": "code",
   "execution_count": 4,
   "metadata": {},
   "outputs": [],
   "source": [
    "data = df"
   ]
  },
  {
   "cell_type": "code",
   "execution_count": 86,
   "metadata": {},
   "outputs": [],
   "source": [
    "result = data[((data['city'] == 'New York') | (data['name'] == 'Taco Bell'))\n",
    "              & ~(data['menus.name'].isin(['Volcano Taco', 'Fresco Soft Taco']))]"
   ]
  },
  {
   "cell_type": "code",
   "execution_count": 88,
   "metadata": {},
   "outputs": [],
   "source": [
    "result = data[~(data['menus.currency'].isna())]"
   ]
  },
  {
   "cell_type": "code",
   "execution_count": 90,
   "metadata": {},
   "outputs": [
    {
     "data": {
      "text/plain": [
       "0        Restaurant Delivery Service,Restaurants,Pizza,...\n",
       "1        Restaurant Delivery Service,Restaurants,Pizza,...\n",
       "2             Golf Course, American Restaurant, and Resort\n",
       "3                                     Fast Food Restaurant\n",
       "4        Mexican Restaurant Mid-City West,Mexican Resta...\n",
       "                               ...                        \n",
       "77255                                           Restaurant\n",
       "77256                                           Restaurant\n",
       "77257                                           Restaurant\n",
       "77258                                           Restaurant\n",
       "77259                                           Restaurant\n",
       "Name: categories, Length: 77260, dtype: object"
      ]
     },
     "execution_count": 90,
     "metadata": {},
     "output_type": "execute_result"
    }
   ],
   "source": [
    "data['categories']"
   ]
  },
  {
   "cell_type": "code",
   "execution_count": 91,
   "metadata": {},
   "outputs": [
    {
     "data": {
      "text/plain": [
       "pandas.core.series.Series"
      ]
     },
     "execution_count": 91,
     "metadata": {},
     "output_type": "execute_result"
    }
   ],
   "source": [
    "type(data['categories'])"
   ]
  },
  {
   "cell_type": "code",
   "execution_count": 92,
   "metadata": {},
   "outputs": [
    {
     "data": {
      "text/html": [
       "<div>\n",
       "<style scoped>\n",
       "    .dataframe tbody tr th:only-of-type {\n",
       "        vertical-align: middle;\n",
       "    }\n",
       "\n",
       "    .dataframe tbody tr th {\n",
       "        vertical-align: top;\n",
       "    }\n",
       "\n",
       "    .dataframe thead th {\n",
       "        text-align: right;\n",
       "    }\n",
       "</style>\n",
       "<table border=\"1\" class=\"dataframe\">\n",
       "  <thead>\n",
       "    <tr style=\"text-align: right;\">\n",
       "      <th></th>\n",
       "      <th>categories</th>\n",
       "    </tr>\n",
       "  </thead>\n",
       "  <tbody>\n",
       "    <tr>\n",
       "      <th>0</th>\n",
       "      <td>Restaurant Delivery Service,Restaurants,Pizza,...</td>\n",
       "    </tr>\n",
       "    <tr>\n",
       "      <th>1</th>\n",
       "      <td>Restaurant Delivery Service,Restaurants,Pizza,...</td>\n",
       "    </tr>\n",
       "    <tr>\n",
       "      <th>2</th>\n",
       "      <td>Golf Course, American Restaurant, and Resort</td>\n",
       "    </tr>\n",
       "    <tr>\n",
       "      <th>3</th>\n",
       "      <td>Fast Food Restaurant</td>\n",
       "    </tr>\n",
       "    <tr>\n",
       "      <th>4</th>\n",
       "      <td>Mexican Restaurant Mid-City West,Mexican Resta...</td>\n",
       "    </tr>\n",
       "    <tr>\n",
       "      <th>...</th>\n",
       "      <td>...</td>\n",
       "    </tr>\n",
       "    <tr>\n",
       "      <th>77255</th>\n",
       "      <td>Restaurant</td>\n",
       "    </tr>\n",
       "    <tr>\n",
       "      <th>77256</th>\n",
       "      <td>Restaurant</td>\n",
       "    </tr>\n",
       "    <tr>\n",
       "      <th>77257</th>\n",
       "      <td>Restaurant</td>\n",
       "    </tr>\n",
       "    <tr>\n",
       "      <th>77258</th>\n",
       "      <td>Restaurant</td>\n",
       "    </tr>\n",
       "    <tr>\n",
       "      <th>77259</th>\n",
       "      <td>Restaurant</td>\n",
       "    </tr>\n",
       "  </tbody>\n",
       "</table>\n",
       "<p>77260 rows × 1 columns</p>\n",
       "</div>"
      ],
      "text/plain": [
       "                                              categories\n",
       "0      Restaurant Delivery Service,Restaurants,Pizza,...\n",
       "1      Restaurant Delivery Service,Restaurants,Pizza,...\n",
       "2           Golf Course, American Restaurant, and Resort\n",
       "3                                   Fast Food Restaurant\n",
       "4      Mexican Restaurant Mid-City West,Mexican Resta...\n",
       "...                                                  ...\n",
       "77255                                         Restaurant\n",
       "77256                                         Restaurant\n",
       "77257                                         Restaurant\n",
       "77258                                         Restaurant\n",
       "77259                                         Restaurant\n",
       "\n",
       "[77260 rows x 1 columns]"
      ]
     },
     "execution_count": 92,
     "metadata": {},
     "output_type": "execute_result"
    }
   ],
   "source": [
    "data[['categories']]"
   ]
  },
  {
   "cell_type": "code",
   "execution_count": 93,
   "metadata": {},
   "outputs": [
    {
     "data": {
      "text/plain": [
       "pandas.core.frame.DataFrame"
      ]
     },
     "execution_count": 93,
     "metadata": {},
     "output_type": "execute_result"
    }
   ],
   "source": [
    "type(data[['categories']])"
   ]
  },
  {
   "cell_type": "code",
   "execution_count": 94,
   "metadata": {},
   "outputs": [
    {
     "data": {
      "text/plain": [
       "'San Diego, Los Angeles, Chicago, San Francisco, New York'"
      ]
     },
     "execution_count": 94,
     "metadata": {},
     "output_type": "execute_result"
    }
   ],
   "source": [
    "', '.join(\n",
    "    list(\n",
    "        data\n",
    "        .groupby('city')['city']\n",
    "        .count()\n",
    "        .sort_values(ascending=False)\n",
    "        .head(5)\n",
    "        .index\n",
    "    )\n",
    ")"
   ]
  },
  {
   "cell_type": "code",
   "execution_count": 95,
   "metadata": {},
   "outputs": [],
   "source": [
    "result = data \\\n",
    "    [data['name'] == 'Taco Bell'] \\\n",
    "    .groupby('city')['city'] \\\n",
    "    .count() \\\n",
    "    .sort_values(ascending=False) \\\n",
    "    .head(5)"
   ]
  },
  {
   "cell_type": "code",
   "execution_count": 96,
   "metadata": {},
   "outputs": [
    {
     "data": {
      "text/plain": [
       "city\n",
       "Indianapolis    84\n",
       "Columbus        63\n",
       "Charleston      63\n",
       "Tampa           62\n",
       "Fresno          42\n",
       "Name: city, dtype: int64"
      ]
     },
     "execution_count": 96,
     "metadata": {},
     "output_type": "execute_result"
    }
   ],
   "source": [
    "result"
   ]
  },
  {
   "cell_type": "code",
   "execution_count": 97,
   "metadata": {},
   "outputs": [
    {
     "data": {
      "text/plain": [
       "[2, 21, 22, 23, 24]"
      ]
     },
     "execution_count": 97,
     "metadata": {},
     "output_type": "execute_result"
    }
   ],
   "source": [
    "list(\n",
    "    data\n",
    "    [pd.to_datetime(data['dateAdded'])\n",
    "     .dt\n",
    "     .month == 10]\n",
    "    .head(5)\n",
    "    .index\n",
    ")"
   ]
  },
  {
   "cell_type": "code",
   "execution_count": 98,
   "metadata": {},
   "outputs": [],
   "source": [
    "result = pd.DataFrame(\n",
    "    data.\n",
    "    groupby(pd.\n",
    "            to_datetime(data['dateAdded'])\n",
    "            .dt\n",
    "            .month\n",
    "           )\n",
    "    ['id']\n",
    "    .nunique()\n",
    ")"
   ]
  },
  {
   "cell_type": "code",
   "execution_count": 99,
   "metadata": {},
   "outputs": [
    {
     "data": {
      "text/html": [
       "<div>\n",
       "<style scoped>\n",
       "    .dataframe tbody tr th:only-of-type {\n",
       "        vertical-align: middle;\n",
       "    }\n",
       "\n",
       "    .dataframe tbody tr th {\n",
       "        vertical-align: top;\n",
       "    }\n",
       "\n",
       "    .dataframe thead th {\n",
       "        text-align: right;\n",
       "    }\n",
       "</style>\n",
       "<table border=\"1\" class=\"dataframe\">\n",
       "  <thead>\n",
       "    <tr style=\"text-align: right;\">\n",
       "      <th></th>\n",
       "      <th>id</th>\n",
       "    </tr>\n",
       "    <tr>\n",
       "      <th>dateAdded</th>\n",
       "      <th></th>\n",
       "    </tr>\n",
       "  </thead>\n",
       "  <tbody>\n",
       "    <tr>\n",
       "      <th>1</th>\n",
       "      <td>308</td>\n",
       "    </tr>\n",
       "    <tr>\n",
       "      <th>2</th>\n",
       "      <td>257</td>\n",
       "    </tr>\n",
       "    <tr>\n",
       "      <th>3</th>\n",
       "      <td>4970</td>\n",
       "    </tr>\n",
       "    <tr>\n",
       "      <th>4</th>\n",
       "      <td>3224</td>\n",
       "    </tr>\n",
       "    <tr>\n",
       "      <th>5</th>\n",
       "      <td>1141</td>\n",
       "    </tr>\n",
       "    <tr>\n",
       "      <th>6</th>\n",
       "      <td>1356</td>\n",
       "    </tr>\n",
       "    <tr>\n",
       "      <th>7</th>\n",
       "      <td>645</td>\n",
       "    </tr>\n",
       "    <tr>\n",
       "      <th>8</th>\n",
       "      <td>479</td>\n",
       "    </tr>\n",
       "    <tr>\n",
       "      <th>9</th>\n",
       "      <td>554</td>\n",
       "    </tr>\n",
       "    <tr>\n",
       "      <th>10</th>\n",
       "      <td>4716</td>\n",
       "    </tr>\n",
       "    <tr>\n",
       "      <th>11</th>\n",
       "      <td>1550</td>\n",
       "    </tr>\n",
       "    <tr>\n",
       "      <th>12</th>\n",
       "      <td>239</td>\n",
       "    </tr>\n",
       "  </tbody>\n",
       "</table>\n",
       "</div>"
      ],
      "text/plain": [
       "             id\n",
       "dateAdded      \n",
       "1           308\n",
       "2           257\n",
       "3          4970\n",
       "4          3224\n",
       "5          1141\n",
       "6          1356\n",
       "7           645\n",
       "8           479\n",
       "9           554\n",
       "10         4716\n",
       "11         1550\n",
       "12          239"
      ]
     },
     "execution_count": 99,
     "metadata": {},
     "output_type": "execute_result"
    }
   ],
   "source": [
    "result"
   ]
  },
  {
   "cell_type": "code",
   "execution_count": 100,
   "metadata": {},
   "outputs": [],
   "source": [
    "data['update_delta'] = (pd.to_datetime(data['dateUpdated']) - pd.to_datetime(data['dateAdded'])).dt.days"
   ]
  },
  {
   "cell_type": "code",
   "execution_count": 105,
   "metadata": {},
   "outputs": [],
   "source": [
    "result = data \\\n",
    "    .groupby('city', as_index=False) \\\n",
    "    .agg({'update_delta':'mean', \n",
    "          'latitude': 'max'\n",
    "         }\n",
    "        )"
   ]
  },
  {
   "cell_type": "code",
   "execution_count": 106,
   "metadata": {},
   "outputs": [
    {
     "data": {
      "text/html": [
       "<div>\n",
       "<style scoped>\n",
       "    .dataframe tbody tr th:only-of-type {\n",
       "        vertical-align: middle;\n",
       "    }\n",
       "\n",
       "    .dataframe tbody tr th {\n",
       "        vertical-align: top;\n",
       "    }\n",
       "\n",
       "    .dataframe thead th {\n",
       "        text-align: right;\n",
       "    }\n",
       "</style>\n",
       "<table border=\"1\" class=\"dataframe\">\n",
       "  <thead>\n",
       "    <tr style=\"text-align: right;\">\n",
       "      <th></th>\n",
       "      <th>city</th>\n",
       "      <th>update_delta</th>\n",
       "      <th>latitude</th>\n",
       "    </tr>\n",
       "  </thead>\n",
       "  <tbody>\n",
       "    <tr>\n",
       "      <th>0</th>\n",
       "      <td>Abbeville</td>\n",
       "      <td>114.857143</td>\n",
       "      <td>29.982108</td>\n",
       "    </tr>\n",
       "    <tr>\n",
       "      <th>1</th>\n",
       "      <td>Aberdeen</td>\n",
       "      <td>81.625000</td>\n",
       "      <td>46.975110</td>\n",
       "    </tr>\n",
       "    <tr>\n",
       "      <th>2</th>\n",
       "      <td>Abilene</td>\n",
       "      <td>206.454545</td>\n",
       "      <td>32.453090</td>\n",
       "    </tr>\n",
       "    <tr>\n",
       "      <th>3</th>\n",
       "      <td>Abingdon</td>\n",
       "      <td>303.500000</td>\n",
       "      <td>36.712800</td>\n",
       "    </tr>\n",
       "    <tr>\n",
       "      <th>4</th>\n",
       "      <td>Abington</td>\n",
       "      <td>393.000000</td>\n",
       "      <td>40.124851</td>\n",
       "    </tr>\n",
       "    <tr>\n",
       "      <th>...</th>\n",
       "      <td>...</td>\n",
       "      <td>...</td>\n",
       "      <td>...</td>\n",
       "    </tr>\n",
       "    <tr>\n",
       "      <th>3596</th>\n",
       "      <td>Zebulon</td>\n",
       "      <td>0.000000</td>\n",
       "      <td>33.102090</td>\n",
       "    </tr>\n",
       "    <tr>\n",
       "      <th>3597</th>\n",
       "      <td>Zephyr Cove</td>\n",
       "      <td>105.500000</td>\n",
       "      <td>38.984947</td>\n",
       "    </tr>\n",
       "    <tr>\n",
       "      <th>3598</th>\n",
       "      <td>Zephyrhills</td>\n",
       "      <td>329.695652</td>\n",
       "      <td>28.271183</td>\n",
       "    </tr>\n",
       "    <tr>\n",
       "      <th>3599</th>\n",
       "      <td>Zieglerville</td>\n",
       "      <td>621.000000</td>\n",
       "      <td>40.291611</td>\n",
       "    </tr>\n",
       "    <tr>\n",
       "      <th>3600</th>\n",
       "      <td>Zionsville</td>\n",
       "      <td>151.500000</td>\n",
       "      <td>39.954970</td>\n",
       "    </tr>\n",
       "  </tbody>\n",
       "</table>\n",
       "<p>3601 rows × 3 columns</p>\n",
       "</div>"
      ],
      "text/plain": [
       "              city  update_delta   latitude\n",
       "0        Abbeville    114.857143  29.982108\n",
       "1         Aberdeen     81.625000  46.975110\n",
       "2          Abilene    206.454545  32.453090\n",
       "3         Abingdon    303.500000  36.712800\n",
       "4         Abington    393.000000  40.124851\n",
       "...            ...           ...        ...\n",
       "3596       Zebulon      0.000000  33.102090\n",
       "3597   Zephyr Cove    105.500000  38.984947\n",
       "3598   Zephyrhills    329.695652  28.271183\n",
       "3599  Zieglerville    621.000000  40.291611\n",
       "3600    Zionsville    151.500000  39.954970\n",
       "\n",
       "[3601 rows x 3 columns]"
      ]
     },
     "execution_count": 106,
     "metadata": {},
     "output_type": "execute_result"
    }
   ],
   "source": [
    "result"
   ]
  },
  {
   "cell_type": "code",
   "execution_count": 111,
   "metadata": {},
   "outputs": [],
   "source": [
    "zep_mean = data \\\n",
    "    [data['city'] == 'Zephyrhills'] \\\n",
    "    .groupby('city', as_index=False) \\\n",
    "    ['update_delta'] \\\n",
    "    .mean() \\\n",
    "    .loc[0] \\\n",
    "    ['update_delta']"
   ]
  },
  {
   "cell_type": "code",
   "execution_count": 112,
   "metadata": {},
   "outputs": [
    {
     "data": {
      "text/plain": [
       "329.69565217391306"
      ]
     },
     "execution_count": 112,
     "metadata": {},
     "output_type": "execute_result"
    }
   ],
   "source": [
    "zep_mean"
   ]
  },
  {
   "cell_type": "code",
   "execution_count": 131,
   "metadata": {},
   "outputs": [
    {
     "data": {
      "text/plain": [
       "66"
      ]
     },
     "execution_count": 131,
     "metadata": {},
     "output_type": "execute_result"
    }
   ],
   "source": [
    "data[data['categories'].str.contains('Pizza')].head(3).index[2]"
   ]
  },
  {
   "cell_type": "code",
   "execution_count": 138,
   "metadata": {},
   "outputs": [
    {
     "name": "stdout",
     "output_type": "stream",
     "text": [
      "326.22 364.0\n"
     ]
    }
   ],
   "source": [
    "print(\n",
    "    round(data['update_delta'].mean(), 2),\n",
    "    round(data['update_delta'].median(), 2)\n",
    ")"
   ]
  },
  {
   "cell_type": "code",
   "execution_count": 149,
   "metadata": {},
   "outputs": [
    {
     "data": {
      "text/plain": [
       "77260"
      ]
     },
     "execution_count": 149,
     "metadata": {},
     "output_type": "execute_result"
    }
   ],
   "source": [
    "len(data)"
   ]
  },
  {
   "cell_type": "code",
   "execution_count": 12,
   "metadata": {},
   "outputs": [
    {
     "data": {
      "text/html": [
       "<div>\n",
       "<style scoped>\n",
       "    .dataframe tbody tr th:only-of-type {\n",
       "        vertical-align: middle;\n",
       "    }\n",
       "\n",
       "    .dataframe tbody tr th {\n",
       "        vertical-align: top;\n",
       "    }\n",
       "\n",
       "    .dataframe thead th {\n",
       "        text-align: right;\n",
       "    }\n",
       "</style>\n",
       "<table border=\"1\" class=\"dataframe\">\n",
       "  <thead>\n",
       "    <tr style=\"text-align: right;\">\n",
       "      <th></th>\n",
       "      <th>id</th>\n",
       "      <th>address</th>\n",
       "      <th>categories</th>\n",
       "      <th>city</th>\n",
       "      <th>cuisines</th>\n",
       "      <th>dateAdded</th>\n",
       "      <th>dateUpdated</th>\n",
       "      <th>latitude</th>\n",
       "      <th>longitude</th>\n",
       "      <th>menus.category</th>\n",
       "      <th>menus.currency</th>\n",
       "      <th>menus.dateSeen</th>\n",
       "      <th>menus.description</th>\n",
       "      <th>menus.name</th>\n",
       "      <th>name</th>\n",
       "      <th>province</th>\n",
       "    </tr>\n",
       "  </thead>\n",
       "  <tbody>\n",
       "    <tr>\n",
       "      <th>0</th>\n",
       "      <td>AVwc__cikufWRAb51QjV</td>\n",
       "      <td>610 Commercial St</td>\n",
       "      <td>Restaurant Delivery Service,Restaurants,Pizza,...</td>\n",
       "      <td>Atchison</td>\n",
       "      <td>Restaurant Delivery Service</td>\n",
       "      <td>2016-03-02T11:49:34Z</td>\n",
       "      <td>2017-02-01T18:04:44Z</td>\n",
       "      <td>39.561570</td>\n",
       "      <td>-95.121020</td>\n",
       "      <td>NaN</td>\n",
       "      <td>NaN</td>\n",
       "      <td>2017-02-01T18:04:44Z</td>\n",
       "      <td>NaN</td>\n",
       "      <td>Taco</td>\n",
       "      <td>Gambino's Pizza</td>\n",
       "      <td>KS</td>\n",
       "    </tr>\n",
       "    <tr>\n",
       "      <th>1</th>\n",
       "      <td>AVwc__cikufWRAb51QjV</td>\n",
       "      <td>610 Commercial St</td>\n",
       "      <td>Restaurant Delivery Service,Restaurants,Pizza,...</td>\n",
       "      <td>Atchison</td>\n",
       "      <td>Restaurant Delivery Service</td>\n",
       "      <td>2016-03-02T11:49:34Z</td>\n",
       "      <td>2017-02-01T18:04:44Z</td>\n",
       "      <td>39.561570</td>\n",
       "      <td>-95.121020</td>\n",
       "      <td>NaN</td>\n",
       "      <td>NaN</td>\n",
       "      <td>2016-03-02T11:49:34Z</td>\n",
       "      <td>Beef, onion, cheddar cheese, lettuce,  refried...</td>\n",
       "      <td>Taco</td>\n",
       "      <td>Gambino's Pizza</td>\n",
       "      <td>KS</td>\n",
       "    </tr>\n",
       "    <tr>\n",
       "      <th>2</th>\n",
       "      <td>AVwc__dF_7pvs4fz1Ncy</td>\n",
       "      <td>9521 Morton Davis Dr</td>\n",
       "      <td>Golf Course, American Restaurant, and Resort</td>\n",
       "      <td>Patterson</td>\n",
       "      <td>NaN</td>\n",
       "      <td>2016-10-14T01:58:25Z</td>\n",
       "      <td>2016-10-14T01:58:25Z</td>\n",
       "      <td>37.401855</td>\n",
       "      <td>-121.266703</td>\n",
       "      <td>NaN</td>\n",
       "      <td>NaN</td>\n",
       "      <td>2016-10-14T01:58:25Z</td>\n",
       "      <td>Beef barbacoa or chicken, spanish rice, pico d...</td>\n",
       "      <td>Smotherd Burrito</td>\n",
       "      <td>Diablo Grande Golf &amp; Country Club</td>\n",
       "      <td>Grayson</td>\n",
       "    </tr>\n",
       "  </tbody>\n",
       "</table>\n",
       "</div>"
      ],
      "text/plain": [
       "                     id               address  \\\n",
       "0  AVwc__cikufWRAb51QjV     610 Commercial St   \n",
       "1  AVwc__cikufWRAb51QjV     610 Commercial St   \n",
       "2  AVwc__dF_7pvs4fz1Ncy  9521 Morton Davis Dr   \n",
       "\n",
       "                                          categories       city  \\\n",
       "0  Restaurant Delivery Service,Restaurants,Pizza,...   Atchison   \n",
       "1  Restaurant Delivery Service,Restaurants,Pizza,...   Atchison   \n",
       "2       Golf Course, American Restaurant, and Resort  Patterson   \n",
       "\n",
       "                      cuisines             dateAdded           dateUpdated  \\\n",
       "0  Restaurant Delivery Service  2016-03-02T11:49:34Z  2017-02-01T18:04:44Z   \n",
       "1  Restaurant Delivery Service  2016-03-02T11:49:34Z  2017-02-01T18:04:44Z   \n",
       "2                          NaN  2016-10-14T01:58:25Z  2016-10-14T01:58:25Z   \n",
       "\n",
       "    latitude   longitude menus.category menus.currency        menus.dateSeen  \\\n",
       "0  39.561570  -95.121020            NaN            NaN  2017-02-01T18:04:44Z   \n",
       "1  39.561570  -95.121020            NaN            NaN  2016-03-02T11:49:34Z   \n",
       "2  37.401855 -121.266703            NaN            NaN  2016-10-14T01:58:25Z   \n",
       "\n",
       "                                   menus.description        menus.name  \\\n",
       "0                                                NaN              Taco   \n",
       "1  Beef, onion, cheddar cheese, lettuce,  refried...              Taco   \n",
       "2  Beef barbacoa or chicken, spanish rice, pico d...  Smotherd Burrito   \n",
       "\n",
       "                                name province  \n",
       "0                    Gambino's Pizza       KS  \n",
       "1                    Gambino's Pizza       KS  \n",
       "2  Diablo Grande Golf & Country Club  Grayson  "
      ]
     },
     "execution_count": 12,
     "metadata": {},
     "output_type": "execute_result"
    }
   ],
   "source": [
    "data.head(3)"
   ]
  },
  {
   "cell_type": "code",
   "execution_count": 11,
   "metadata": {},
   "outputs": [
    {
     "data": {
      "text/plain": [
       "3"
      ]
     },
     "execution_count": 11,
     "metadata": {},
     "output_type": "execute_result"
    }
   ],
   "source": [
    "len(data.loc[3]['categories'].split())"
   ]
  },
  {
   "cell_type": "code",
   "execution_count": 13,
   "metadata": {},
   "outputs": [],
   "source": [
    "def get_categories_len(row):\n",
    "    return len(row['categories'].split(','))"
   ]
  },
  {
   "cell_type": "code",
   "execution_count": 14,
   "metadata": {},
   "outputs": [],
   "source": [
    "data['categories_len'] = data.apply(get_categories_len, axis=1)"
   ]
  },
  {
   "cell_type": "code",
   "execution_count": 15,
   "metadata": {},
   "outputs": [
    {
     "data": {
      "text/plain": [
       "34"
      ]
     },
     "execution_count": 15,
     "metadata": {},
     "output_type": "execute_result"
    }
   ],
   "source": [
    "len(data[data['categories_len'] > 20])"
   ]
  },
  {
   "cell_type": "code",
   "execution_count": 16,
   "metadata": {},
   "outputs": [],
   "source": [
    "result = data[data['categories_len'] > 20].groupby('province')['longitude'].min().round(3)"
   ]
  },
  {
   "cell_type": "code",
   "execution_count": 17,
   "metadata": {},
   "outputs": [
    {
     "data": {
      "text/plain": [
       "13"
      ]
     },
     "execution_count": 17,
     "metadata": {},
     "output_type": "execute_result"
    }
   ],
   "source": [
    "len(result)"
   ]
  },
  {
   "cell_type": "code",
   "execution_count": 19,
   "metadata": {},
   "outputs": [],
   "source": [
    "result.to_csv('C:/Users/maslo/Desktop/karpov_start_ml/1_module/5_lesson/result.csv', sep=';')"
   ]
  },
  {
   "cell_type": "code",
   "execution_count": null,
   "metadata": {},
   "outputs": [],
   "source": []
  }
 ],
 "metadata": {
  "kernelspec": {
   "display_name": "Python 3",
   "language": "python",
   "name": "python3"
  },
  "language_info": {
   "codemirror_mode": {
    "name": "ipython",
    "version": 3
   },
   "file_extension": ".py",
   "mimetype": "text/x-python",
   "name": "python",
   "nbconvert_exporter": "python",
   "pygments_lexer": "ipython3",
   "version": "3.7.4"
  }
 },
 "nbformat": 4,
 "nbformat_minor": 2
}
