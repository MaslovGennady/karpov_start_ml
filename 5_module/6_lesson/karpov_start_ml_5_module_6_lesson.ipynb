{
 "cells": [
  {
   "cell_type": "code",
   "execution_count": 1,
   "metadata": {},
   "outputs": [],
   "source": [
    "import pandas as pd\n",
    "import numpy as np\n",
    "from sklearn.preprocessing import StandardScaler, OneHotEncoder\n",
    "from sklearn.model_selection import train_test_split\n",
    "from sklearn.calibration import CalibratedClassifierCV\n",
    "from sklearn.calibration import CalibrationDisplay\n",
    "from sklearn.decomposition import PCA\n",
    "from sklearn.model_selection import TimeSeriesSplit\n",
    "from catboost import CatBoostClassifier\n",
    "from sklearn.metrics import f1_score\n",
    "from sklearn.metrics import roc_curve, roc_auc_score\n",
    "from sklearn.model_selection import GridSearchCV\n",
    "from sklearn.pipeline import Pipeline\n",
    "from sklearn.ensemble import RandomForestClassifier\n",
    "from sklearn.compose import ColumnTransformer\n",
    "import itertools\n",
    "\n",
    "import warnings\n",
    "warnings.filterwarnings('ignore')"
   ]
  },
  {
   "cell_type": "code",
   "execution_count": 90,
   "metadata": {},
   "outputs": [
    {
     "name": "stdout",
     "output_type": "stream",
     "text": [
      "Package                            Version   \n",
      "---------------------------------- ----------\n",
      "-cipy                              1.3.1     \n",
      "aiohttp                            3.8.6     \n",
      "aiosignal                          1.3.1     \n",
      "alabaster                          0.7.12    \n",
      "anaconda-client                    1.7.2     \n",
      "anaconda-navigator                 1.9.7     \n",
      "anaconda-project                   0.8.3     \n",
      "asn1crypto                         1.0.1     \n",
      "astroid                            2.3.1     \n",
      "astropy                            3.2.1     \n",
      "async-timeout                      4.0.3     \n",
      "asynctest                          0.13.0    \n",
      "atomicwrites                       1.3.0     \n",
      "attrs                              24.2.0    \n",
      "Babel                              2.7.0     \n",
      "backcall                           0.1.0     \n",
      "backports.functools-lru-cache      1.6.4     \n",
      "backports.os                       0.1.1     \n",
      "backports.shutil-get-terminal-size 1.0.0     \n",
      "backports.tempfile                 1.0       \n",
      "backports.weakref                  1.0.post1 \n",
      "beautifulsoup4                     4.8.0     \n",
      "bitarray                           1.0.1     \n",
      "bkcharts                           0.2       \n",
      "bleach                             3.1.0     \n",
      "bokeh                              1.3.4     \n",
      "boto                               2.49.0    \n",
      "Bottleneck                         1.2.1     \n",
      "catboost                           1.0.6     \n",
      "category-encoders                  2.2.2     \n",
      "certifi                            2024.12.14\n",
      "cffi                               1.12.3    \n",
      "chardet                            3.0.4     \n",
      "charset-normalizer                 3.4.1     \n",
      "Click                              7.0       \n",
      "cloudpickle                        1.2.2     \n",
      "clyent                             1.2.2     \n",
      "colorama                           0.4.6     \n",
      "comtypes                           1.1.7     \n",
      "conda                              22.9.0    \n",
      "conda-build                        3.23.3    \n",
      "conda-package-handling             1.6.0     \n",
      "conda-verify                       3.4.2     \n",
      "contextlib2                        0.6.0     \n",
      "cryptography                       2.7       \n",
      "cycler                             0.10.0    \n",
      "Cython                             0.29.13   \n",
      "cytoolz                            0.10.0    \n",
      "dask                               2.5.2     \n",
      "datasets                           2.13.2    \n",
      "datatest                           0.11.1    \n",
      "decorator                          4.4.0     \n",
      "defusedxml                         0.6.0     \n",
      "dill                               0.3.6     \n",
      "distributed                        2.5.2     \n",
      "docutils                           0.15.2    \n",
      "entrypoints                        0.3       \n",
      "et-xmlfile                         1.0.1     \n",
      "fastcache                          1.1.0     \n",
      "fdb                                2.0.1     \n",
      "filelock                           3.0.12    \n",
      "firebirdsql                        1.1.4     \n",
      "Flask                              1.1.1     \n",
      "flit-core                          3.6.0     \n",
      "frozenlist                         1.3.3     \n",
      "fsspec                             2023.1.0  \n",
      "future                             0.18.3    \n",
      "gevent                             1.4.0     \n",
      "glob2                              0.7       \n",
      "graphviz                           0.20.1    \n",
      "greenlet                           0.4.15    \n",
      "h5py                               2.9.0     \n",
      "HeapDict                           1.0.1     \n",
      "html5lib                           1.0.1     \n",
      "huggingface-hub                    0.16.4    \n",
      "idna                               3.10      \n",
      "imageio                            2.6.0     \n",
      "imagesize                          1.1.0     \n",
      "importlib-metadata                 6.7.0     \n",
      "ipykernel                          5.1.2     \n",
      "ipython                            7.8.0     \n",
      "ipython-genutils                   0.2.0     \n",
      "ipywidgets                         7.5.1     \n",
      "isort                              4.3.21    \n",
      "itsdangerous                       1.1.0     \n",
      "jdcal                              1.4.1     \n",
      "jedi                               0.15.1    \n",
      "Jinja2                             2.10.3    \n",
      "joblib                             0.13.2    \n",
      "json5                              0.8.5     \n",
      "jsonschema                         3.0.2     \n",
      "jupyter                            1.0.0     \n",
      "jupyter-client                     5.3.3     \n",
      "jupyter-console                    6.0.0     \n",
      "jupyter-core                       4.5.0     \n",
      "jupyterlab                         1.1.4     \n",
      "jupyterlab-server                  1.0.6     \n",
      "keyboard                           0.13.5    \n",
      "keyring                            18.0.0    \n",
      "kiwisolver                         1.1.0     \n",
      "lazy-object-proxy                  1.4.2     \n",
      "libarchive-c                       2.8       \n",
      "lightgbm                           3.3.2     \n",
      "llvmlite                           0.29.0    \n",
      "locket                             0.2.0     \n",
      "lxml                               4.4.1     \n",
      "MarkupSafe                         1.1.1     \n",
      "matplotlib                         3.2.2     \n",
      "mccabe                             0.6.1     \n",
      "menuinst                           1.4.16    \n",
      "mistune                            0.8.4     \n",
      "mkl-fft                            1.0.14    \n",
      "mkl-random                         1.1.0     \n",
      "mkl-service                        2.3.0     \n",
      "mock                               3.0.5     \n",
      "more-itertools                     7.2.0     \n",
      "mpmath                             1.1.0     \n",
      "msgpack                            0.6.1     \n",
      "multidict                          6.0.5     \n",
      "multipledispatch                   0.6.0     \n",
      "multiprocess                       0.70.15   \n",
      "navigator-updater                  0.2.1     \n",
      "nbconvert                          5.6.0     \n",
      "nbformat                           4.4.0     \n",
      "networkx                           2.3       \n",
      "nltk                               3.4.5     \n",
      "nose                               1.3.7     \n",
      "notebook                           6.0.1     \n",
      "numba                              0.45.1    \n",
      "numexpr                            2.7.0     \n",
      "numpy                              1.21.6    \n",
      "numpydoc                           0.9.1     \n",
      "olefile                            0.46      \n",
      "openpyxl                           3.0.0     \n",
      "packaging                          24.0      \n",
      "pandas                             1.3.3     \n",
      "pandasql                           0.7.3     \n",
      "pandocfilters                      1.4.2     \n",
      "parso                              0.5.1     \n",
      "partd                              1.0.0     \n",
      "path.py                            12.0.1    \n",
      "pathlib2                           2.3.5     \n",
      "patsy                              0.5.1     \n",
      "pep8                               1.7.1     \n",
      "pickleshare                        0.7.5     \n",
      "Pillow                             6.2.0     \n",
      "pip                                19.2.3    \n",
      "pkginfo                            1.5.0.1   \n",
      "plotly                             5.9.0     \n",
      "pluggy                             0.13.0    \n",
      "ply                                3.11      \n",
      "prometheus-client                  0.7.1     \n",
      "prompt-toolkit                     2.0.10    \n",
      "psutil                             5.6.3     \n",
      "psycopg2                           2.8.6     \n",
      "py                                 1.8.0     \n",
      "py4j                               0.10.9    \n",
      "pyarrow                            12.0.1    \n",
      "pycodestyle                        2.5.0     \n",
      "pycosat                            0.6.3     \n",
      "pycparser                          2.19      \n",
      "pycrypto                           2.6.1     \n",
      "pycurl                             7.43.0.3  \n",
      "pyflakes                           2.1.1     \n",
      "Pygments                           2.4.2     \n",
      "pylint                             2.4.2     \n",
      "pyodbc                             4.0.27    \n",
      "pyOpenSSL                          19.0.0    \n",
      "pyparsing                          2.4.2     \n",
      "pyreadline                         2.1       \n",
      "pyrsistent                         0.15.4    \n",
      "PySocks                            1.7.1     \n",
      "pyspark                            3.1.2     \n",
      "pytest                             5.2.1     \n",
      "pytest-arraydiff                   0.3       \n",
      "pytest-astropy                     0.5.0     \n",
      "pytest-doctestplus                 0.4.0     \n",
      "pytest-openfiles                   0.4.0     \n",
      "pytest-remotedata                  0.3.2     \n",
      "python-dateutil                    2.8.0     \n",
      "pytz                               2019.3    \n",
      "PyWavelets                         1.0.3     \n",
      "pywin32                            223       \n",
      "pywinpty                           0.5.5     \n",
      "PyYAML                             5.1.2     \n",
      "pyzmq                              18.1.0    \n",
      "QtAwesome                          0.6.0     \n",
      "qtconsole                          4.5.5     \n",
      "QtPy                               1.9.0     \n",
      "requests                           2.31.0    \n",
      "rope                               0.14.0    \n",
      "ruamel-yaml                        0.15.46   \n",
      "scikit-image                       0.15.0    \n",
      "scikit-learn                       1.0       \n",
      "scipy                              1.7.3     \n",
      "seaborn                            0.9.0     \n",
      "Send2Trash                         1.5.0     \n",
      "setuptools                         41.4.0    \n",
      "simplegeneric                      0.8.1     \n",
      "singledispatch                     3.4.0.3   \n",
      "six                                1.12.0    \n",
      "snowballstemmer                    2.0.0     \n",
      "sortedcollections                  1.1.2     \n",
      "sortedcontainers                   2.1.0     \n",
      "soupsieve                          1.9.3     \n",
      "Sphinx                             2.2.0     \n",
      "sphinxcontrib-applehelp            1.0.1     \n",
      "sphinxcontrib-devhelp              1.0.1     \n",
      "sphinxcontrib-htmlhelp             1.0.2     \n",
      "sphinxcontrib-jsmath               1.0.1     \n",
      "sphinxcontrib-qthelp               1.0.2     \n",
      "sphinxcontrib-serializinghtml      1.1.3     \n",
      "sphinxcontrib-websupport           1.1.2     \n",
      "spyder                             3.3.6     \n",
      "spyder-kernels                     0.5.2     \n",
      "SQLAlchemy                         1.4.17    \n",
      "statsmodels                        0.10.1    \n",
      "sympy                              1.4       \n",
      "tables                             3.5.2     \n",
      "tblib                              1.4.0     \n",
      "tenacity                           8.0.1     \n",
      "terminado                          0.8.2     \n",
      "testpath                           0.4.2     \n",
      "threadpoolctl                      3.1.0     \n",
      "toml                               0.10.2    \n",
      "toolz                              0.10.0    \n",
      "torch                              1.13.1    \n",
      "torchaudio                         0.13.1    \n",
      "torchvision                        0.14.1    \n",
      "tornado                            6.0.3     \n",
      "tqdm                               4.67.1    \n",
      "traitlets                          4.3.3     \n",
      "typing-extensions                  4.7.1     \n",
      "unicodecsv                         0.14.1    \n",
      "urllib3                            2.0.7     \n",
      "wcwidth                            0.1.7     \n",
      "webencodings                       0.5.1     \n",
      "Werkzeug                           0.16.0    \n",
      "wheel                              0.33.6    \n",
      "widgetsnbextension                 3.5.1     \n",
      "win-inet-pton                      1.1.0     \n",
      "win-unicode-console                0.5       \n",
      "wincertstore                       0.2       \n",
      "wrapt                              1.11.2    \n",
      "xlrd                               1.2.0     \n",
      "XlsxWriter                         1.2.1     \n",
      "xlwings                            0.15.10   \n",
      "xlwt                               1.3.0     \n",
      "xxhash                             3.5.0     \n",
      "yarl                               1.9.4     \n",
      "zict                               1.0.0     \n",
      "zipp                               3.15.0    \n"
     ]
    }
   ],
   "source": [
    "# на случай если захочется воспроизвести результаты\n",
    "# тут еще не зватает зафиксировать random seed для всего и версию python\n",
    "!pip list"
   ]
  },
  {
   "cell_type": "code",
   "execution_count": 2,
   "metadata": {
    "scrolled": true
   },
   "outputs": [
    {
     "data": {
      "text/html": [
       "<div>\n",
       "<style scoped>\n",
       "    .dataframe tbody tr th:only-of-type {\n",
       "        vertical-align: middle;\n",
       "    }\n",
       "\n",
       "    .dataframe tbody tr th {\n",
       "        vertical-align: top;\n",
       "    }\n",
       "\n",
       "    .dataframe thead th {\n",
       "        text-align: right;\n",
       "    }\n",
       "</style>\n",
       "<table border=\"1\" class=\"dataframe\">\n",
       "  <thead>\n",
       "    <tr style=\"text-align: right;\">\n",
       "      <th></th>\n",
       "      <th>Deal_id</th>\n",
       "      <th>Deal_date</th>\n",
       "      <th>First_deal_date</th>\n",
       "      <th>Secret_dwarf_info_1</th>\n",
       "      <th>Secret_dwarf_info_2</th>\n",
       "      <th>Secret_dwarf_info_3</th>\n",
       "      <th>First_default_date</th>\n",
       "      <th>Successful_deals_count</th>\n",
       "      <th>Region</th>\n",
       "      <th>Tavern</th>\n",
       "      <th>Hashed_deal_detail_1</th>\n",
       "      <th>Hashed_deal_detail_2</th>\n",
       "      <th>Hashed_deal_detail_3</th>\n",
       "      <th>Hashed_deal_detail_4</th>\n",
       "      <th>Hashed_deal_detail_5</th>\n",
       "      <th>Hashed_deal_detail_6</th>\n",
       "      <th>Age</th>\n",
       "      <th>Gender</th>\n",
       "      <th>Default</th>\n",
       "    </tr>\n",
       "  </thead>\n",
       "  <tbody>\n",
       "    <tr>\n",
       "      <th>0</th>\n",
       "      <td>22487461</td>\n",
       "      <td>2015-11-05</td>\n",
       "      <td>2015-08-29</td>\n",
       "      <td>NaN</td>\n",
       "      <td>NaN</td>\n",
       "      <td>NaN</td>\n",
       "      <td>NaN</td>\n",
       "      <td>0.0</td>\n",
       "      <td>Tavern_district_3</td>\n",
       "      <td>7</td>\n",
       "      <td>2.5</td>\n",
       "      <td>-3</td>\n",
       "      <td>8</td>\n",
       "      <td>2.5</td>\n",
       "      <td>-3</td>\n",
       "      <td>5</td>\n",
       "      <td>36.0</td>\n",
       "      <td>Male</td>\n",
       "      <td>0</td>\n",
       "    </tr>\n",
       "    <tr>\n",
       "      <th>1</th>\n",
       "      <td>62494261</td>\n",
       "      <td>2016-08-26</td>\n",
       "      <td>2015-12-21</td>\n",
       "      <td>3.5</td>\n",
       "      <td>-2.0</td>\n",
       "      <td>5.0</td>\n",
       "      <td>2016-07-30</td>\n",
       "      <td>2.0</td>\n",
       "      <td>Tavern_district_4</td>\n",
       "      <td>7</td>\n",
       "      <td>2.5</td>\n",
       "      <td>-3</td>\n",
       "      <td>14</td>\n",
       "      <td>3.5</td>\n",
       "      <td>-3</td>\n",
       "      <td>5</td>\n",
       "      <td>29.0</td>\n",
       "      <td>Female</td>\n",
       "      <td>1</td>\n",
       "    </tr>\n",
       "    <tr>\n",
       "      <th>2</th>\n",
       "      <td>34822849</td>\n",
       "      <td>2016-02-18</td>\n",
       "      <td>2015-11-11</td>\n",
       "      <td>NaN</td>\n",
       "      <td>NaN</td>\n",
       "      <td>NaN</td>\n",
       "      <td>NaN</td>\n",
       "      <td>0.0</td>\n",
       "      <td>Tavern_district_6</td>\n",
       "      <td>7</td>\n",
       "      <td>2.5</td>\n",
       "      <td>-3</td>\n",
       "      <td>8</td>\n",
       "      <td>2.5</td>\n",
       "      <td>-3</td>\n",
       "      <td>5</td>\n",
       "      <td>56.0</td>\n",
       "      <td>Female</td>\n",
       "      <td>0</td>\n",
       "    </tr>\n",
       "    <tr>\n",
       "      <th>3</th>\n",
       "      <td>46893387</td>\n",
       "      <td>2016-04-30</td>\n",
       "      <td>2016-03-22</td>\n",
       "      <td>NaN</td>\n",
       "      <td>NaN</td>\n",
       "      <td>NaN</td>\n",
       "      <td>NaN</td>\n",
       "      <td>0.0</td>\n",
       "      <td>Tavern_district_2</td>\n",
       "      <td>13</td>\n",
       "      <td>2.5</td>\n",
       "      <td>-2</td>\n",
       "      <td>5</td>\n",
       "      <td>2.5</td>\n",
       "      <td>-3</td>\n",
       "      <td>5</td>\n",
       "      <td>27.0</td>\n",
       "      <td>Female</td>\n",
       "      <td>0</td>\n",
       "    </tr>\n",
       "    <tr>\n",
       "      <th>4</th>\n",
       "      <td>67128275</td>\n",
       "      <td>2016-09-19</td>\n",
       "      <td>2016-07-21</td>\n",
       "      <td>NaN</td>\n",
       "      <td>NaN</td>\n",
       "      <td>NaN</td>\n",
       "      <td>NaN</td>\n",
       "      <td>0.0</td>\n",
       "      <td>Tavern_district_4</td>\n",
       "      <td>39</td>\n",
       "      <td>2.5</td>\n",
       "      <td>-3</td>\n",
       "      <td>7</td>\n",
       "      <td>2.5</td>\n",
       "      <td>-3</td>\n",
       "      <td>5</td>\n",
       "      <td>37.0</td>\n",
       "      <td>Female</td>\n",
       "      <td>0</td>\n",
       "    </tr>\n",
       "  </tbody>\n",
       "</table>\n",
       "</div>"
      ],
      "text/plain": [
       "    Deal_id   Deal_date First_deal_date  Secret_dwarf_info_1  \\\n",
       "0  22487461  2015-11-05      2015-08-29                  NaN   \n",
       "1  62494261  2016-08-26      2015-12-21                  3.5   \n",
       "2  34822849  2016-02-18      2015-11-11                  NaN   \n",
       "3  46893387  2016-04-30      2016-03-22                  NaN   \n",
       "4  67128275  2016-09-19      2016-07-21                  NaN   \n",
       "\n",
       "   Secret_dwarf_info_2  Secret_dwarf_info_3 First_default_date  \\\n",
       "0                  NaN                  NaN                NaN   \n",
       "1                 -2.0                  5.0         2016-07-30   \n",
       "2                  NaN                  NaN                NaN   \n",
       "3                  NaN                  NaN                NaN   \n",
       "4                  NaN                  NaN                NaN   \n",
       "\n",
       "   Successful_deals_count             Region  Tavern  Hashed_deal_detail_1  \\\n",
       "0                     0.0  Tavern_district_3       7                   2.5   \n",
       "1                     2.0  Tavern_district_4       7                   2.5   \n",
       "2                     0.0  Tavern_district_6       7                   2.5   \n",
       "3                     0.0  Tavern_district_2      13                   2.5   \n",
       "4                     0.0  Tavern_district_4      39                   2.5   \n",
       "\n",
       "   Hashed_deal_detail_2  Hashed_deal_detail_3  Hashed_deal_detail_4  \\\n",
       "0                    -3                     8                   2.5   \n",
       "1                    -3                    14                   3.5   \n",
       "2                    -3                     8                   2.5   \n",
       "3                    -2                     5                   2.5   \n",
       "4                    -3                     7                   2.5   \n",
       "\n",
       "   Hashed_deal_detail_5  Hashed_deal_detail_6   Age  Gender  Default  \n",
       "0                    -3                     5  36.0    Male        0  \n",
       "1                    -3                     5  29.0  Female        1  \n",
       "2                    -3                     5  56.0  Female        0  \n",
       "3                    -3                     5  27.0  Female        0  \n",
       "4                    -3                     5  37.0  Female        0  "
      ]
     },
     "execution_count": 2,
     "metadata": {},
     "output_type": "execute_result"
    }
   ],
   "source": [
    "df = pd.read_csv(\"C:/Users/maslo/курсы/karpov_start_ml/5_module/6_lesson/materials/train.csv\")\n",
    "df.head()"
   ]
  },
  {
   "cell_type": "markdown",
   "metadata": {},
   "source": [
    "# Анализ датасета"
   ]
  },
  {
   "cell_type": "markdown",
   "metadata": {},
   "source": [
    "Рассмотрим данные в отрыве от того что они могут вообще значить"
   ]
  },
  {
   "cell_type": "code",
   "execution_count": 3,
   "metadata": {},
   "outputs": [
    {
     "data": {
      "text/plain": [
       "Deal_id                     int64\n",
       "Deal_date                  object\n",
       "First_deal_date            object\n",
       "Secret_dwarf_info_1       float64\n",
       "Secret_dwarf_info_2       float64\n",
       "Secret_dwarf_info_3       float64\n",
       "First_default_date         object\n",
       "Successful_deals_count    float64\n",
       "Region                     object\n",
       "Tavern                      int64\n",
       "Hashed_deal_detail_1      float64\n",
       "Hashed_deal_detail_2        int64\n",
       "Hashed_deal_detail_3        int64\n",
       "Hashed_deal_detail_4      float64\n",
       "Hashed_deal_detail_5        int64\n",
       "Hashed_deal_detail_6        int64\n",
       "Age                       float64\n",
       "Gender                     object\n",
       "Default                     int64\n",
       "dtype: object"
      ]
     },
     "execution_count": 3,
     "metadata": {},
     "output_type": "execute_result"
    }
   ],
   "source": [
    "# типы колонок\n",
    "df.dtypes"
   ]
  },
  {
   "cell_type": "markdown",
   "metadata": {},
   "source": [
    "Имеет смысл сразу привести Deal_date, First_deal_date, First_default_date к типу даты"
   ]
  },
  {
   "cell_type": "code",
   "execution_count": 4,
   "metadata": {},
   "outputs": [],
   "source": [
    "df['Deal_date'] = pd.to_datetime(df['Deal_date'], format='%Y-%m-%d')\n",
    "df['First_deal_date'] = pd.to_datetime(df['First_deal_date'], format='%Y-%m-%d')\n",
    "df['First_default_date'] = pd.to_datetime(df['First_default_date'], format='%Y-%m-%d')"
   ]
  },
  {
   "cell_type": "code",
   "execution_count": 5,
   "metadata": {},
   "outputs": [
    {
     "data": {
      "text/html": [
       "<div>\n",
       "<style scoped>\n",
       "    .dataframe tbody tr th:only-of-type {\n",
       "        vertical-align: middle;\n",
       "    }\n",
       "\n",
       "    .dataframe tbody tr th {\n",
       "        vertical-align: top;\n",
       "    }\n",
       "\n",
       "    .dataframe thead th {\n",
       "        text-align: right;\n",
       "    }\n",
       "</style>\n",
       "<table border=\"1\" class=\"dataframe\">\n",
       "  <thead>\n",
       "    <tr style=\"text-align: right;\">\n",
       "      <th></th>\n",
       "      <th>Deal_id</th>\n",
       "      <th>Secret_dwarf_info_1</th>\n",
       "      <th>Secret_dwarf_info_2</th>\n",
       "      <th>Secret_dwarf_info_3</th>\n",
       "      <th>Successful_deals_count</th>\n",
       "      <th>Tavern</th>\n",
       "      <th>Hashed_deal_detail_1</th>\n",
       "      <th>Hashed_deal_detail_2</th>\n",
       "      <th>Hashed_deal_detail_3</th>\n",
       "      <th>Hashed_deal_detail_4</th>\n",
       "      <th>Hashed_deal_detail_5</th>\n",
       "      <th>Hashed_deal_detail_6</th>\n",
       "      <th>Age</th>\n",
       "      <th>Default</th>\n",
       "    </tr>\n",
       "  </thead>\n",
       "  <tbody>\n",
       "    <tr>\n",
       "      <th>count</th>\n",
       "      <td>3.168000e+03</td>\n",
       "      <td>535.000000</td>\n",
       "      <td>535.000000</td>\n",
       "      <td>535.000000</td>\n",
       "      <td>3154.000000</td>\n",
       "      <td>3168.000000</td>\n",
       "      <td>3168.000000</td>\n",
       "      <td>3168.000000</td>\n",
       "      <td>3168.000000</td>\n",
       "      <td>3168.000000</td>\n",
       "      <td>3168.000000</td>\n",
       "      <td>3168.0</td>\n",
       "      <td>3168.000000</td>\n",
       "      <td>3168.000000</td>\n",
       "    </tr>\n",
       "    <tr>\n",
       "      <th>mean</th>\n",
       "      <td>4.605727e+07</td>\n",
       "      <td>3.935514</td>\n",
       "      <td>-2.299065</td>\n",
       "      <td>5.267290</td>\n",
       "      <td>1.043754</td>\n",
       "      <td>13.350694</td>\n",
       "      <td>2.518939</td>\n",
       "      <td>-2.404356</td>\n",
       "      <td>8.462437</td>\n",
       "      <td>3.193813</td>\n",
       "      <td>-2.981692</td>\n",
       "      <td>5.0</td>\n",
       "      <td>36.411616</td>\n",
       "      <td>0.110795</td>\n",
       "    </tr>\n",
       "    <tr>\n",
       "      <th>std</th>\n",
       "      <td>5.370953e+07</td>\n",
       "      <td>0.888467</td>\n",
       "      <td>0.734579</td>\n",
       "      <td>0.498645</td>\n",
       "      <td>1.649416</td>\n",
       "      <td>8.851891</td>\n",
       "      <td>0.351308</td>\n",
       "      <td>2.474564</td>\n",
       "      <td>3.521127</td>\n",
       "      <td>2.048743</td>\n",
       "      <td>0.245540</td>\n",
       "      <td>0.0</td>\n",
       "      <td>10.821444</td>\n",
       "      <td>0.313928</td>\n",
       "    </tr>\n",
       "    <tr>\n",
       "      <th>min</th>\n",
       "      <td>5.856790e+05</td>\n",
       "      <td>2.500000</td>\n",
       "      <td>-3.000000</td>\n",
       "      <td>5.000000</td>\n",
       "      <td>0.000000</td>\n",
       "      <td>2.000000</td>\n",
       "      <td>2.500000</td>\n",
       "      <td>-3.000000</td>\n",
       "      <td>5.000000</td>\n",
       "      <td>2.500000</td>\n",
       "      <td>-3.000000</td>\n",
       "      <td>5.0</td>\n",
       "      <td>20.000000</td>\n",
       "      <td>0.000000</td>\n",
       "    </tr>\n",
       "    <tr>\n",
       "      <th>25%</th>\n",
       "      <td>2.761608e+07</td>\n",
       "      <td>3.500000</td>\n",
       "      <td>-3.000000</td>\n",
       "      <td>5.000000</td>\n",
       "      <td>0.000000</td>\n",
       "      <td>7.000000</td>\n",
       "      <td>2.500000</td>\n",
       "      <td>-3.000000</td>\n",
       "      <td>6.000000</td>\n",
       "      <td>2.500000</td>\n",
       "      <td>-3.000000</td>\n",
       "      <td>5.0</td>\n",
       "      <td>28.000000</td>\n",
       "      <td>0.000000</td>\n",
       "    </tr>\n",
       "    <tr>\n",
       "      <th>50%</th>\n",
       "      <td>4.349426e+07</td>\n",
       "      <td>3.500000</td>\n",
       "      <td>-2.000000</td>\n",
       "      <td>5.000000</td>\n",
       "      <td>0.000000</td>\n",
       "      <td>8.000000</td>\n",
       "      <td>2.500000</td>\n",
       "      <td>-3.000000</td>\n",
       "      <td>8.000000</td>\n",
       "      <td>2.500000</td>\n",
       "      <td>-3.000000</td>\n",
       "      <td>5.0</td>\n",
       "      <td>34.000000</td>\n",
       "      <td>0.000000</td>\n",
       "    </tr>\n",
       "    <tr>\n",
       "      <th>75%</th>\n",
       "      <td>5.778544e+07</td>\n",
       "      <td>4.500000</td>\n",
       "      <td>-2.000000</td>\n",
       "      <td>5.000000</td>\n",
       "      <td>2.000000</td>\n",
       "      <td>15.000000</td>\n",
       "      <td>2.500000</td>\n",
       "      <td>-3.000000</td>\n",
       "      <td>10.000000</td>\n",
       "      <td>2.500000</td>\n",
       "      <td>-3.000000</td>\n",
       "      <td>5.0</td>\n",
       "      <td>43.000000</td>\n",
       "      <td>0.000000</td>\n",
       "    </tr>\n",
       "    <tr>\n",
       "      <th>max</th>\n",
       "      <td>6.927701e+08</td>\n",
       "      <td>9.500000</td>\n",
       "      <td>2.000000</td>\n",
       "      <td>8.000000</td>\n",
       "      <td>17.000000</td>\n",
       "      <td>58.000000</td>\n",
       "      <td>17.500000</td>\n",
       "      <td>78.000000</td>\n",
       "      <td>29.000000</td>\n",
       "      <td>37.500000</td>\n",
       "      <td>4.000000</td>\n",
       "      <td>5.0</td>\n",
       "      <td>72.000000</td>\n",
       "      <td>1.000000</td>\n",
       "    </tr>\n",
       "  </tbody>\n",
       "</table>\n",
       "</div>"
      ],
      "text/plain": [
       "            Deal_id  Secret_dwarf_info_1  Secret_dwarf_info_2  \\\n",
       "count  3.168000e+03           535.000000           535.000000   \n",
       "mean   4.605727e+07             3.935514            -2.299065   \n",
       "std    5.370953e+07             0.888467             0.734579   \n",
       "min    5.856790e+05             2.500000            -3.000000   \n",
       "25%    2.761608e+07             3.500000            -3.000000   \n",
       "50%    4.349426e+07             3.500000            -2.000000   \n",
       "75%    5.778544e+07             4.500000            -2.000000   \n",
       "max    6.927701e+08             9.500000             2.000000   \n",
       "\n",
       "       Secret_dwarf_info_3  Successful_deals_count       Tavern  \\\n",
       "count           535.000000             3154.000000  3168.000000   \n",
       "mean              5.267290                1.043754    13.350694   \n",
       "std               0.498645                1.649416     8.851891   \n",
       "min               5.000000                0.000000     2.000000   \n",
       "25%               5.000000                0.000000     7.000000   \n",
       "50%               5.000000                0.000000     8.000000   \n",
       "75%               5.000000                2.000000    15.000000   \n",
       "max               8.000000               17.000000    58.000000   \n",
       "\n",
       "       Hashed_deal_detail_1  Hashed_deal_detail_2  Hashed_deal_detail_3  \\\n",
       "count           3168.000000           3168.000000           3168.000000   \n",
       "mean               2.518939             -2.404356              8.462437   \n",
       "std                0.351308              2.474564              3.521127   \n",
       "min                2.500000             -3.000000              5.000000   \n",
       "25%                2.500000             -3.000000              6.000000   \n",
       "50%                2.500000             -3.000000              8.000000   \n",
       "75%                2.500000             -3.000000             10.000000   \n",
       "max               17.500000             78.000000             29.000000   \n",
       "\n",
       "       Hashed_deal_detail_4  Hashed_deal_detail_5  Hashed_deal_detail_6  \\\n",
       "count           3168.000000           3168.000000                3168.0   \n",
       "mean               3.193813             -2.981692                   5.0   \n",
       "std                2.048743              0.245540                   0.0   \n",
       "min                2.500000             -3.000000                   5.0   \n",
       "25%                2.500000             -3.000000                   5.0   \n",
       "50%                2.500000             -3.000000                   5.0   \n",
       "75%                2.500000             -3.000000                   5.0   \n",
       "max               37.500000              4.000000                   5.0   \n",
       "\n",
       "               Age      Default  \n",
       "count  3168.000000  3168.000000  \n",
       "mean     36.411616     0.110795  \n",
       "std      10.821444     0.313928  \n",
       "min      20.000000     0.000000  \n",
       "25%      28.000000     0.000000  \n",
       "50%      34.000000     0.000000  \n",
       "75%      43.000000     0.000000  \n",
       "max      72.000000     1.000000  "
      ]
     },
     "execution_count": 5,
     "metadata": {},
     "output_type": "execute_result"
    }
   ],
   "source": [
    "# статистики\n",
    "df.describe()"
   ]
  },
  {
   "cell_type": "code",
   "execution_count": 6,
   "metadata": {
    "scrolled": true
   },
   "outputs": [
    {
     "data": {
      "text/plain": [
       "Deal_id                   0.000000\n",
       "Deal_date                 0.000000\n",
       "First_deal_date           0.000000\n",
       "Secret_dwarf_info_1       0.831124\n",
       "Secret_dwarf_info_2       0.831124\n",
       "Secret_dwarf_info_3       0.831124\n",
       "First_default_date        0.831124\n",
       "Successful_deals_count    0.004419\n",
       "Region                    0.002210\n",
       "Tavern                    0.000000\n",
       "Hashed_deal_detail_1      0.000000\n",
       "Hashed_deal_detail_2      0.000000\n",
       "Hashed_deal_detail_3      0.000000\n",
       "Hashed_deal_detail_4      0.000000\n",
       "Hashed_deal_detail_5      0.000000\n",
       "Hashed_deal_detail_6      0.000000\n",
       "Age                       0.000000\n",
       "Gender                    0.000000\n",
       "Default                   0.000000\n",
       "dtype: float64"
      ]
     },
     "execution_count": 6,
     "metadata": {},
     "output_type": "execute_result"
    }
   ],
   "source": [
    "# пустые значения\n",
    "df.isna().mean()"
   ]
  },
  {
   "cell_type": "markdown",
   "metadata": {},
   "source": [
    "Видим что Secret_dwarf_info_1, Secret_dwarf_info_2, Secret_dwarf_info_3 в основном пустые \\\n",
    "Есть соблазн исключить их сразу из датасета \\\n",
    "Но видно по доле пустых значений что есть связь между заполненностью Secret_dwarf_info_N и First_default_date \\\n",
    "Вероятно есть связь между фактом дефолта в прошлом и информацией Secret_dwarf_info_N \\\n",
    "Проверим что удалять Secret_dwarf_info_N не стоит "
   ]
  },
  {
   "cell_type": "code",
   "execution_count": 7,
   "metadata": {},
   "outputs": [
    {
     "data": {
      "text/html": [
       "<div>\n",
       "<style scoped>\n",
       "    .dataframe tbody tr th:only-of-type {\n",
       "        vertical-align: middle;\n",
       "    }\n",
       "\n",
       "    .dataframe tbody tr th {\n",
       "        vertical-align: top;\n",
       "    }\n",
       "\n",
       "    .dataframe thead th {\n",
       "        text-align: right;\n",
       "    }\n",
       "</style>\n",
       "<table border=\"1\" class=\"dataframe\">\n",
       "  <thead>\n",
       "    <tr style=\"text-align: right;\">\n",
       "      <th></th>\n",
       "      <th>Secret_dwarf_info_1</th>\n",
       "      <th>Secret_dwarf_info_2</th>\n",
       "      <th>Secret_dwarf_info_3</th>\n",
       "      <th>First_default_date</th>\n",
       "    </tr>\n",
       "  </thead>\n",
       "  <tbody>\n",
       "    <tr>\n",
       "      <th>Secret_dwarf_info_1</th>\n",
       "      <td>1.0</td>\n",
       "      <td>1.0</td>\n",
       "      <td>1.0</td>\n",
       "      <td>1.0</td>\n",
       "    </tr>\n",
       "    <tr>\n",
       "      <th>Secret_dwarf_info_2</th>\n",
       "      <td>1.0</td>\n",
       "      <td>1.0</td>\n",
       "      <td>1.0</td>\n",
       "      <td>1.0</td>\n",
       "    </tr>\n",
       "    <tr>\n",
       "      <th>Secret_dwarf_info_3</th>\n",
       "      <td>1.0</td>\n",
       "      <td>1.0</td>\n",
       "      <td>1.0</td>\n",
       "      <td>1.0</td>\n",
       "    </tr>\n",
       "    <tr>\n",
       "      <th>First_default_date</th>\n",
       "      <td>1.0</td>\n",
       "      <td>1.0</td>\n",
       "      <td>1.0</td>\n",
       "      <td>1.0</td>\n",
       "    </tr>\n",
       "  </tbody>\n",
       "</table>\n",
       "</div>"
      ],
      "text/plain": [
       "                     Secret_dwarf_info_1  Secret_dwarf_info_2  \\\n",
       "Secret_dwarf_info_1                  1.0                  1.0   \n",
       "Secret_dwarf_info_2                  1.0                  1.0   \n",
       "Secret_dwarf_info_3                  1.0                  1.0   \n",
       "First_default_date                   1.0                  1.0   \n",
       "\n",
       "                     Secret_dwarf_info_3  First_default_date  \n",
       "Secret_dwarf_info_1                  1.0                 1.0  \n",
       "Secret_dwarf_info_2                  1.0                 1.0  \n",
       "Secret_dwarf_info_3                  1.0                 1.0  \n",
       "First_default_date                   1.0                 1.0  "
      ]
     },
     "execution_count": 7,
     "metadata": {},
     "output_type": "execute_result"
    }
   ],
   "source": [
    "# корреляция меджду фактами заполненности атрибутов Secret_dwarf_info_N и First_default_date стопроцентная \n",
    "# вероятно Secret_dwarf_info_N чтото нам рассказывают о произошедшем в прошлом дефолте\n",
    "df[\n",
    "    ['Secret_dwarf_info_1', \n",
    "     'Secret_dwarf_info_2', \n",
    "     'Secret_dwarf_info_3', \n",
    "     'First_default_date']\n",
    "].isna()\\\n",
    ".astype(int)\\\n",
    ".corr()"
   ]
  },
  {
   "cell_type": "code",
   "execution_count": 8,
   "metadata": {},
   "outputs": [
    {
     "data": {
      "text/plain": [
       "Deal_id                   3168\n",
       "Deal_date                  486\n",
       "First_deal_date            545\n",
       "Secret_dwarf_info_1          8\n",
       "Secret_dwarf_info_2          6\n",
       "Secret_dwarf_info_3          4\n",
       "First_default_date          68\n",
       "Successful_deals_count      14\n",
       "Region                       8\n",
       "Tavern                      19\n",
       "Hashed_deal_detail_1         7\n",
       "Hashed_deal_detail_2        23\n",
       "Hashed_deal_detail_3        23\n",
       "Hashed_deal_detail_4        21\n",
       "Hashed_deal_detail_5         7\n",
       "Hashed_deal_detail_6         1\n",
       "Age                         50\n",
       "Gender                       2\n",
       "Default                      2\n",
       "dtype: int64"
      ]
     },
     "execution_count": 8,
     "metadata": {},
     "output_type": "execute_result"
    }
   ],
   "source": [
    "# уникальные значения\n",
    "df.nunique()"
   ]
  },
  {
   "cell_type": "markdown",
   "metadata": {},
   "source": [
    "Помимо очевидно категориальных переменных интересны атрибуты Hashed_deal_detail_N и Secret_dwarf_info_N - взглянем на них подробнее"
   ]
  },
  {
   "cell_type": "code",
   "execution_count": 9,
   "metadata": {},
   "outputs": [
    {
     "data": {
      "text/plain": [
       "<matplotlib.axes._subplots.AxesSubplot at 0x1bbd9989308>"
      ]
     },
     "execution_count": 9,
     "metadata": {},
     "output_type": "execute_result"
    }
   ],
   "source": [
    "# похоже что это почти константный признак\n",
    "df[['Hashed_deal_detail_1']].plot(kind='hist')"
   ]
  },
  {
   "cell_type": "code",
   "execution_count": 10,
   "metadata": {},
   "outputs": [
    {
     "data": {
      "text/plain": [
       "Hashed_deal_detail_1\n",
       "2.5     3147\n",
       "3.5       10\n",
       "4.5        4\n",
       "5.5        3\n",
       "7.5        2\n",
       "10.5       1\n",
       "17.5       1\n",
       "Name: Deal_id, dtype: int64"
      ]
     },
     "execution_count": 10,
     "metadata": {},
     "output_type": "execute_result"
    }
   ],
   "source": [
    "# мало того что Hashed_deal_detail_1 категориален скорее всего\n",
    "# так он еще и бесполезен т.к. почти всюду одно значение\n",
    "df.groupby('Hashed_deal_detail_1')['Deal_id'].count()"
   ]
  },
  {
   "cell_type": "code",
   "execution_count": 11,
   "metadata": {},
   "outputs": [
    {
     "data": {
      "text/plain": [
       "Hashed_deal_detail_2\n",
       "-3    2736\n",
       "-2     108\n",
       "-1      76\n",
       " 0      70\n",
       " 1      37\n",
       " 2      31\n",
       " 3      26\n",
       " 4      22\n",
       " 5      12\n",
       " 6      12\n",
       "Name: Deal_id, dtype: int64"
      ]
     },
     "execution_count": 11,
     "metadata": {},
     "output_type": "execute_result"
    }
   ],
   "source": [
    "# получше чем Hashed_deal_detail_1 но также подавляющее большинство измрений имеют одно значение\n",
    "df.groupby('Hashed_deal_detail_2')['Deal_id'].count().head(10)"
   ]
  },
  {
   "cell_type": "code",
   "execution_count": 12,
   "metadata": {},
   "outputs": [
    {
     "data": {
      "text/plain": [
       "Hashed_deal_detail_3\n",
       "5     723\n",
       "6     428\n",
       "7     369\n",
       "8     460\n",
       "9     233\n",
       "10    205\n",
       "11    236\n",
       "12    114\n",
       "13     92\n",
       "14     88\n",
       "Name: Deal_id, dtype: int64"
      ]
     },
     "execution_count": 12,
     "metadata": {},
     "output_type": "execute_result"
    }
   ],
   "source": [
    "# вот так то лучше, смело оставим признак и назначим его категориальным\n",
    "df.groupby('Hashed_deal_detail_3')['Deal_id'].count().head(10)"
   ]
  },
  {
   "cell_type": "code",
   "execution_count": 13,
   "metadata": {},
   "outputs": [
    {
     "data": {
      "text/plain": [
       "Hashed_deal_detail_4\n",
       "2.5     2562\n",
       "3.5      176\n",
       "4.5      108\n",
       "5.5      102\n",
       "6.5       56\n",
       "7.5       40\n",
       "8.5       44\n",
       "9.5       19\n",
       "10.5      14\n",
       "11.5      12\n",
       "Name: Deal_id, dtype: int64"
      ]
     },
     "execution_count": 13,
     "metadata": {},
     "output_type": "execute_result"
    }
   ],
   "source": [
    "# ситуация примерно как у Hashed_deal_detail_2, слабый признак?\n",
    "df.groupby('Hashed_deal_detail_4')['Deal_id'].count().head(10)"
   ]
  },
  {
   "cell_type": "code",
   "execution_count": 14,
   "metadata": {},
   "outputs": [
    {
     "data": {
      "text/plain": [
       "Hashed_deal_detail_5\n",
       "-3    3139\n",
       "-2      19\n",
       "-1       2\n",
       " 0       2\n",
       " 1       3\n",
       " 2       2\n",
       " 4       1\n",
       "Name: Deal_id, dtype: int64"
      ]
     },
     "execution_count": 14,
     "metadata": {},
     "output_type": "execute_result"
    }
   ],
   "source": [
    "# аналогично Hashed_deal_detail_1, подлежит исключению\n",
    "df.groupby('Hashed_deal_detail_5')['Deal_id'].count().head(10)"
   ]
  },
  {
   "cell_type": "code",
   "execution_count": 15,
   "metadata": {},
   "outputs": [
    {
     "data": {
      "text/plain": [
       "Hashed_deal_detail_6\n",
       "5    3168\n",
       "Name: Deal_id, dtype: int64"
      ]
     },
     "execution_count": 15,
     "metadata": {},
     "output_type": "execute_result"
    }
   ],
   "source": [
    "# аналогично Hashed_deal_detail_1, подлежит исключению\n",
    "df.groupby('Hashed_deal_detail_6')['Deal_id'].count().head(10)"
   ]
  },
  {
   "cell_type": "code",
   "execution_count": 16,
   "metadata": {},
   "outputs": [],
   "source": [
    "# теперь на Secret_dwarf_info_N посмотрим "
   ]
  },
  {
   "cell_type": "code",
   "execution_count": 17,
   "metadata": {},
   "outputs": [
    {
     "data": {
      "text/plain": [
       "Secret_dwarf_info_1\n",
       "2.5      4\n",
       "3.5    384\n",
       "4.5     89\n",
       "5.5     39\n",
       "6.5     11\n",
       "7.5      4\n",
       "8.5      3\n",
       "9.5      1\n",
       "Name: Deal_id, dtype: int64"
      ]
     },
     "execution_count": 17,
     "metadata": {},
     "output_type": "execute_result"
    }
   ],
   "source": [
    "# есть дисбалланс но вероятно можно оставить, категориальная фича\n",
    "# надежда что есть сильная связь с фактом дефолта в прошлом, а значит и в будущем\n",
    "df.groupby('Secret_dwarf_info_1')['Deal_id'].count().head(10)"
   ]
  },
  {
   "cell_type": "code",
   "execution_count": 18,
   "metadata": {},
   "outputs": [
    {
     "data": {
      "text/plain": [
       "Secret_dwarf_info_2\n",
       "-3.0    232\n",
       "-2.0    243\n",
       "-1.0     51\n",
       " 0.0      7\n",
       " 1.0      1\n",
       " 2.0      1\n",
       "Name: Deal_id, dtype: int64"
      ]
     },
     "execution_count": 18,
     "metadata": {},
     "output_type": "execute_result"
    }
   ],
   "source": [
    "# категориальная, оставляем\n",
    "# надежда что есть сильная связь с фактом дефолта в прошлом, а значит и в будущем\n",
    "df.groupby('Secret_dwarf_info_2')['Deal_id'].count().head(10)"
   ]
  },
  {
   "cell_type": "code",
   "execution_count": 19,
   "metadata": {},
   "outputs": [
    {
     "data": {
      "text/plain": [
       "Secret_dwarf_info_3\n",
       "5.0    405\n",
       "6.0    118\n",
       "7.0     11\n",
       "8.0      1\n",
       "Name: Deal_id, dtype: int64"
      ]
     },
     "execution_count": 19,
     "metadata": {},
     "output_type": "execute_result"
    }
   ],
   "source": [
    "# есть дисбалланс но вероятно можно оставить, категориальная\n",
    "# надежда что есть сильная связь с фактом дефолта в прошлом, а значит и в будущем\n",
    "df.groupby('Secret_dwarf_info_3')['Deal_id'].count().head(10)"
   ]
  },
  {
   "cell_type": "markdown",
   "metadata": {},
   "source": [
    "Делаем следующие выводы:\n",
    "* Region - категориален по смыслу атрибута + мало уников\n",
    "* Tavern - категориален по смыслу атрибута + мало уников\n",
    "* Gender - категориален по смыслу атрибута + мало уников\n",
    "* Hashed_deal_detail_1 - исключается, слабый признак\n",
    "* Hashed_deal_detail_2 - слабый категориальный признак, скрепя сердце пока оставим\n",
    "* Hashed_deal_detail_3 - хороший категориальный признак\n",
    "* Hashed_deal_detail_4 - слабый категориальный признак, скрепя сердце пока оставим\n",
    "* Hashed_deal_detail_5 - исключается, слабый признак\n",
    "* Hashed_deal_detail_6 - исключается, слабый признак\n",
    "* Secret_dwarf_info_1 - категориальный признак, слаб с виду но надежда на связь с таргетом\n",
    "* Secret_dwarf_info_2 - категориальный признак, надежда на связь с таргетом\n",
    "* Secret_dwarf_info_3 - категориальный признак, слаб с виду но надежда на связь с таргетом"
   ]
  },
  {
   "cell_type": "code",
   "execution_count": 20,
   "metadata": {},
   "outputs": [],
   "source": [
    "# собственно исключение\n",
    "df = df[\n",
    "    [column \\\n",
    "     for column in df.columns \\\n",
    "     if column not in ('Hashed_deal_detail_1', 'Hashed_deal_detail_5', 'Hashed_deal_detail_6')]\n",
    "]"
   ]
  },
  {
   "cell_type": "markdown",
   "metadata": {},
   "source": [
    "# EDA"
   ]
  },
  {
   "cell_type": "markdown",
   "metadata": {},
   "source": [
    "Мы его фактически уже начали выше, продолжим"
   ]
  },
  {
   "cell_type": "markdown",
   "metadata": {},
   "source": [
    "Идеи:\n",
    "* оценить балланс классов\n",
    "* корреляция между дефолтом и дефолтом в прошлом\n",
    "* корреляции атрибутов, нелинейные тоже\n",
    "* корреляция атрибутов с таргетом\n",
    "* корреляция категорий c таргетом\n",
    "* корреляция категорий между собой"
   ]
  },
  {
   "cell_type": "code",
   "execution_count": 21,
   "metadata": {},
   "outputs": [
    {
     "data": {
      "text/plain": [
       "Default\n",
       "0    2817\n",
       "1     351\n",
       "Name: Deal_id, dtype: int64"
      ]
     },
     "execution_count": 21,
     "metadata": {},
     "output_type": "execute_result"
    }
   ],
   "source": [
    "# дисбалланс имеется на train-test-split надо попробовать применить стратификацию\n",
    "df.groupby('Default')['Deal_id'].count()"
   ]
  },
  {
   "cell_type": "code",
   "execution_count": 22,
   "metadata": {},
   "outputs": [
    {
     "data": {
      "text/plain": [
       "0.152267081984355"
      ]
     },
     "execution_count": 22,
     "metadata": {},
     "output_type": "execute_result"
    }
   ],
   "source": [
    "# корреляция между дефолтом и дефолтом в прошлом довольно небольшая\n",
    "df['Default'].corr(~df['First_default_date'].isna())"
   ]
  },
  {
   "cell_type": "markdown",
   "metadata": {},
   "source": [
    "Корреляция между заполненностью First_default_date и Default не удовлетворила ожиданий \\\n",
    "А значит и связанные с First_default_date атрибуты Secret_dwarf_info_N которые к тому же плохо заполнены могут только мешать обучению хорошей модели \\\n",
    "Запомним это на будущее чтобы попробовать обучить модель без них и посмотреть на метрики"
   ]
  },
  {
   "cell_type": "code",
   "execution_count": 23,
   "metadata": {},
   "outputs": [
    {
     "data": {
      "text/html": [
       "<style type=\"text/css\">\n",
       "#T_423a0_row0_col0, #T_423a0_row1_col1, #T_423a0_row2_col2, #T_423a0_row3_col3, #T_423a0_row4_col4, #T_423a0_row5_col5, #T_423a0_row6_col6, #T_423a0_row7_col7 {\n",
       "  background-color: #b40426;\n",
       "  color: #f1f1f1;\n",
       "}\n",
       "#T_423a0_row0_col1 {\n",
       "  background-color: #cfdaea;\n",
       "  color: #000000;\n",
       "}\n",
       "#T_423a0_row0_col2, #T_423a0_row4_col3 {\n",
       "  background-color: #82a6fb;\n",
       "  color: #f1f1f1;\n",
       "}\n",
       "#T_423a0_row0_col3 {\n",
       "  background-color: #5e7de7;\n",
       "  color: #f1f1f1;\n",
       "}\n",
       "#T_423a0_row0_col4 {\n",
       "  background-color: #6384eb;\n",
       "  color: #f1f1f1;\n",
       "}\n",
       "#T_423a0_row0_col5 {\n",
       "  background-color: #a7c5fe;\n",
       "  color: #000000;\n",
       "}\n",
       "#T_423a0_row0_col6 {\n",
       "  background-color: #799cf8;\n",
       "  color: #f1f1f1;\n",
       "}\n",
       "#T_423a0_row0_col7, #T_423a0_row2_col3, #T_423a0_row4_col1, #T_423a0_row5_col4, #T_423a0_row5_col6, #T_423a0_row6_col5, #T_423a0_row7_col0, #T_423a0_row7_col2 {\n",
       "  background-color: #3b4cc0;\n",
       "  color: #f1f1f1;\n",
       "}\n",
       "#T_423a0_row1_col0 {\n",
       "  background-color: #d8dce2;\n",
       "  color: #000000;\n",
       "}\n",
       "#T_423a0_row1_col2 {\n",
       "  background-color: #ead5c9;\n",
       "  color: #000000;\n",
       "}\n",
       "#T_423a0_row1_col3, #T_423a0_row1_col7, #T_423a0_row3_col7 {\n",
       "  background-color: #5470de;\n",
       "  color: #f1f1f1;\n",
       "}\n",
       "#T_423a0_row1_col4, #T_423a0_row6_col0 {\n",
       "  background-color: #5572df;\n",
       "  color: #f1f1f1;\n",
       "}\n",
       "#T_423a0_row1_col5 {\n",
       "  background-color: #92b4fe;\n",
       "  color: #000000;\n",
       "}\n",
       "#T_423a0_row1_col6, #T_423a0_row6_col3 {\n",
       "  background-color: #84a7fc;\n",
       "  color: #f1f1f1;\n",
       "}\n",
       "#T_423a0_row2_col0 {\n",
       "  background-color: #8fb1fe;\n",
       "  color: #000000;\n",
       "}\n",
       "#T_423a0_row2_col1 {\n",
       "  background-color: #e8d6cc;\n",
       "  color: #000000;\n",
       "}\n",
       "#T_423a0_row2_col4, #T_423a0_row5_col1 {\n",
       "  background-color: #6180e9;\n",
       "  color: #f1f1f1;\n",
       "}\n",
       "#T_423a0_row2_col5 {\n",
       "  background-color: #7b9ff9;\n",
       "  color: #f1f1f1;\n",
       "}\n",
       "#T_423a0_row2_col6 {\n",
       "  background-color: #779af7;\n",
       "  color: #f1f1f1;\n",
       "}\n",
       "#T_423a0_row2_col7 {\n",
       "  background-color: #465ecf;\n",
       "  color: #f1f1f1;\n",
       "}\n",
       "#T_423a0_row3_col0 {\n",
       "  background-color: #7093f3;\n",
       "  color: #f1f1f1;\n",
       "}\n",
       "#T_423a0_row3_col1 {\n",
       "  background-color: #5673e0;\n",
       "  color: #f1f1f1;\n",
       "}\n",
       "#T_423a0_row3_col2, #T_423a0_row6_col7 {\n",
       "  background-color: #3f53c6;\n",
       "  color: #f1f1f1;\n",
       "}\n",
       "#T_423a0_row3_col4 {\n",
       "  background-color: #9dbdff;\n",
       "  color: #000000;\n",
       "}\n",
       "#T_423a0_row3_col5 {\n",
       "  background-color: #f2cbb7;\n",
       "  color: #000000;\n",
       "}\n",
       "#T_423a0_row3_col6 {\n",
       "  background-color: #b1cbfc;\n",
       "  color: #000000;\n",
       "}\n",
       "#T_423a0_row4_col0, #T_423a0_row7_col4 {\n",
       "  background-color: #5977e3;\n",
       "  color: #f1f1f1;\n",
       "}\n",
       "#T_423a0_row4_col2 {\n",
       "  background-color: #4961d2;\n",
       "  color: #f1f1f1;\n",
       "}\n",
       "#T_423a0_row4_col5 {\n",
       "  background-color: #536edd;\n",
       "  color: #f1f1f1;\n",
       "}\n",
       "#T_423a0_row4_col6 {\n",
       "  background-color: #7597f6;\n",
       "  color: #f1f1f1;\n",
       "}\n",
       "#T_423a0_row4_col7 {\n",
       "  background-color: #4e68d8;\n",
       "  color: #f1f1f1;\n",
       "}\n",
       "#T_423a0_row5_col0 {\n",
       "  background-color: #88abfd;\n",
       "  color: #000000;\n",
       "}\n",
       "#T_423a0_row5_col2 {\n",
       "  background-color: #4c66d6;\n",
       "  color: #f1f1f1;\n",
       "}\n",
       "#T_423a0_row5_col3 {\n",
       "  background-color: #e1dad6;\n",
       "  color: #000000;\n",
       "}\n",
       "#T_423a0_row5_col7 {\n",
       "  background-color: #688aef;\n",
       "  color: #f1f1f1;\n",
       "}\n",
       "#T_423a0_row6_col1 {\n",
       "  background-color: #516ddb;\n",
       "  color: #f1f1f1;\n",
       "}\n",
       "#T_423a0_row6_col2 {\n",
       "  background-color: #485fd1;\n",
       "  color: #f1f1f1;\n",
       "}\n",
       "#T_423a0_row6_col4 {\n",
       "  background-color: #5b7ae5;\n",
       "  color: #f1f1f1;\n",
       "}\n",
       "#T_423a0_row7_col1 {\n",
       "  background-color: #445acc;\n",
       "  color: #f1f1f1;\n",
       "}\n",
       "#T_423a0_row7_col3 {\n",
       "  background-color: #4257c9;\n",
       "  color: #f1f1f1;\n",
       "}\n",
       "#T_423a0_row7_col5 {\n",
       "  background-color: #8badfd;\n",
       "  color: #000000;\n",
       "}\n",
       "#T_423a0_row7_col6 {\n",
       "  background-color: #6282ea;\n",
       "  color: #f1f1f1;\n",
       "}\n",
       "</style>\n",
       "<table id=\"T_423a0_\">\n",
       "  <thead>\n",
       "    <tr>\n",
       "      <th class=\"blank level0\" >&nbsp;</th>\n",
       "      <th class=\"col_heading level0 col0\" >Secret_dwarf_info_1</th>\n",
       "      <th class=\"col_heading level0 col1\" >Secret_dwarf_info_2</th>\n",
       "      <th class=\"col_heading level0 col2\" >Secret_dwarf_info_3</th>\n",
       "      <th class=\"col_heading level0 col3\" >Successful_deals_count</th>\n",
       "      <th class=\"col_heading level0 col4\" >Hashed_deal_detail_2</th>\n",
       "      <th class=\"col_heading level0 col5\" >Hashed_deal_detail_3</th>\n",
       "      <th class=\"col_heading level0 col6\" >Hashed_deal_detail_4</th>\n",
       "      <th class=\"col_heading level0 col7\" >Age</th>\n",
       "    </tr>\n",
       "  </thead>\n",
       "  <tbody>\n",
       "    <tr>\n",
       "      <th id=\"T_423a0_level0_row0\" class=\"row_heading level0 row0\" >Secret_dwarf_info_1</th>\n",
       "      <td id=\"T_423a0_row0_col0\" class=\"data row0 col0\" >1.000000</td>\n",
       "      <td id=\"T_423a0_row0_col1\" class=\"data row0 col1\" >0.426617</td>\n",
       "      <td id=\"T_423a0_row0_col2\" class=\"data row0 col2\" >0.176354</td>\n",
       "      <td id=\"T_423a0_row0_col3\" class=\"data row0 col3\" >0.082703</td>\n",
       "      <td id=\"T_423a0_row0_col4\" class=\"data row0 col4\" >0.004882</td>\n",
       "      <td id=\"T_423a0_row0_col5\" class=\"data row0 col5\" >0.156950</td>\n",
       "      <td id=\"T_423a0_row0_col6\" class=\"data row0 col6\" >-0.007211</td>\n",
       "      <td id=\"T_423a0_row0_col7\" class=\"data row0 col7\" >-0.104886</td>\n",
       "    </tr>\n",
       "    <tr>\n",
       "      <th id=\"T_423a0_level0_row1\" class=\"row_heading level0 row1\" >Secret_dwarf_info_2</th>\n",
       "      <td id=\"T_423a0_row1_col0\" class=\"data row1 col0\" >0.426617</td>\n",
       "      <td id=\"T_423a0_row1_col1\" class=\"data row1 col1\" >1.000000</td>\n",
       "      <td id=\"T_423a0_row1_col2\" class=\"data row1 col2\" >0.525387</td>\n",
       "      <td id=\"T_423a0_row1_col3\" class=\"data row1 col3\" >0.049089</td>\n",
       "      <td id=\"T_423a0_row1_col4\" class=\"data row1 col4\" >-0.044794</td>\n",
       "      <td id=\"T_423a0_row1_col5\" class=\"data row1 col5\" >0.082687</td>\n",
       "      <td id=\"T_423a0_row1_col6\" class=\"data row1 col6\" >0.034021</td>\n",
       "      <td id=\"T_423a0_row1_col7\" class=\"data row1 col7\" >-0.010920</td>\n",
       "    </tr>\n",
       "    <tr>\n",
       "      <th id=\"T_423a0_level0_row2\" class=\"row_heading level0 row2\" >Secret_dwarf_info_3</th>\n",
       "      <td id=\"T_423a0_row2_col0\" class=\"data row2 col0\" >0.176354</td>\n",
       "      <td id=\"T_423a0_row2_col1\" class=\"data row2 col1\" >0.525387</td>\n",
       "      <td id=\"T_423a0_row2_col2\" class=\"data row2 col2\" >1.000000</td>\n",
       "      <td id=\"T_423a0_row2_col3\" class=\"data row2 col3\" >-0.037311</td>\n",
       "      <td id=\"T_423a0_row2_col4\" class=\"data row2 col4\" >-0.007853</td>\n",
       "      <td id=\"T_423a0_row2_col5\" class=\"data row2 col5\" >0.005243</td>\n",
       "      <td id=\"T_423a0_row2_col6\" class=\"data row2 col6\" >-0.010199</td>\n",
       "      <td id=\"T_423a0_row2_col7\" class=\"data row2 col7\" >-0.057643</td>\n",
       "    </tr>\n",
       "    <tr>\n",
       "      <th id=\"T_423a0_level0_row3\" class=\"row_heading level0 row3\" >Successful_deals_count</th>\n",
       "      <td id=\"T_423a0_row3_col0\" class=\"data row3 col0\" >0.082703</td>\n",
       "      <td id=\"T_423a0_row3_col1\" class=\"data row3 col1\" >0.049089</td>\n",
       "      <td id=\"T_423a0_row3_col2\" class=\"data row3 col2\" >-0.037311</td>\n",
       "      <td id=\"T_423a0_row3_col3\" class=\"data row3 col3\" >1.000000</td>\n",
       "      <td id=\"T_423a0_row3_col4\" class=\"data row3 col4\" >0.193038</td>\n",
       "      <td id=\"T_423a0_row3_col5\" class=\"data row3 col5\" >0.499717</td>\n",
       "      <td id=\"T_423a0_row3_col6\" class=\"data row3 col6\" >0.194539</td>\n",
       "      <td id=\"T_423a0_row3_col7\" class=\"data row3 col7\" >-0.012298</td>\n",
       "    </tr>\n",
       "    <tr>\n",
       "      <th id=\"T_423a0_level0_row4\" class=\"row_heading level0 row4\" >Hashed_deal_detail_2</th>\n",
       "      <td id=\"T_423a0_row4_col0\" class=\"data row4 col0\" >0.004882</td>\n",
       "      <td id=\"T_423a0_row4_col1\" class=\"data row4 col1\" >-0.044794</td>\n",
       "      <td id=\"T_423a0_row4_col2\" class=\"data row4 col2\" >-0.007853</td>\n",
       "      <td id=\"T_423a0_row4_col3\" class=\"data row4 col3\" >0.193038</td>\n",
       "      <td id=\"T_423a0_row4_col4\" class=\"data row4 col4\" >1.000000</td>\n",
       "      <td id=\"T_423a0_row4_col5\" class=\"data row4 col5\" >-0.147369</td>\n",
       "      <td id=\"T_423a0_row4_col6\" class=\"data row4 col6\" >-0.022062</td>\n",
       "      <td id=\"T_423a0_row4_col7\" class=\"data row4 col7\" >-0.032211</td>\n",
       "    </tr>\n",
       "    <tr>\n",
       "      <th id=\"T_423a0_level0_row5\" class=\"row_heading level0 row5\" >Hashed_deal_detail_3</th>\n",
       "      <td id=\"T_423a0_row5_col0\" class=\"data row5 col0\" >0.156950</td>\n",
       "      <td id=\"T_423a0_row5_col1\" class=\"data row5 col1\" >0.082687</td>\n",
       "      <td id=\"T_423a0_row5_col2\" class=\"data row5 col2\" >0.005243</td>\n",
       "      <td id=\"T_423a0_row5_col3\" class=\"data row5 col3\" >0.499717</td>\n",
       "      <td id=\"T_423a0_row5_col4\" class=\"data row5 col4\" >-0.147369</td>\n",
       "      <td id=\"T_423a0_row5_col5\" class=\"data row5 col5\" >1.000000</td>\n",
       "      <td id=\"T_423a0_row5_col6\" class=\"data row5 col6\" >-0.247673</td>\n",
       "      <td id=\"T_423a0_row5_col7\" class=\"data row5 col7\" >0.059002</td>\n",
       "    </tr>\n",
       "    <tr>\n",
       "      <th id=\"T_423a0_level0_row6\" class=\"row_heading level0 row6\" >Hashed_deal_detail_4</th>\n",
       "      <td id=\"T_423a0_row6_col0\" class=\"data row6 col0\" >-0.007211</td>\n",
       "      <td id=\"T_423a0_row6_col1\" class=\"data row6 col1\" >0.034021</td>\n",
       "      <td id=\"T_423a0_row6_col2\" class=\"data row6 col2\" >-0.010199</td>\n",
       "      <td id=\"T_423a0_row6_col3\" class=\"data row6 col3\" >0.194539</td>\n",
       "      <td id=\"T_423a0_row6_col4\" class=\"data row6 col4\" >-0.022062</td>\n",
       "      <td id=\"T_423a0_row6_col5\" class=\"data row6 col5\" >-0.247673</td>\n",
       "      <td id=\"T_423a0_row6_col6\" class=\"data row6 col6\" >1.000000</td>\n",
       "      <td id=\"T_423a0_row6_col7\" class=\"data row6 col7\" >-0.087401</td>\n",
       "    </tr>\n",
       "    <tr>\n",
       "      <th id=\"T_423a0_level0_row7\" class=\"row_heading level0 row7\" >Age</th>\n",
       "      <td id=\"T_423a0_row7_col0\" class=\"data row7 col0\" >-0.104886</td>\n",
       "      <td id=\"T_423a0_row7_col1\" class=\"data row7 col1\" >-0.010920</td>\n",
       "      <td id=\"T_423a0_row7_col2\" class=\"data row7 col2\" >-0.057643</td>\n",
       "      <td id=\"T_423a0_row7_col3\" class=\"data row7 col3\" >-0.012298</td>\n",
       "      <td id=\"T_423a0_row7_col4\" class=\"data row7 col4\" >-0.032211</td>\n",
       "      <td id=\"T_423a0_row7_col5\" class=\"data row7 col5\" >0.059002</td>\n",
       "      <td id=\"T_423a0_row7_col6\" class=\"data row7 col6\" >-0.087401</td>\n",
       "      <td id=\"T_423a0_row7_col7\" class=\"data row7 col7\" >1.000000</td>\n",
       "    </tr>\n",
       "  </tbody>\n",
       "</table>\n"
      ],
      "text/plain": [
       "<pandas.io.formats.style.Styler at 0x1bbd9699c48>"
      ]
     },
     "execution_count": 23,
     "metadata": {},
     "output_type": "execute_result"
    }
   ],
   "source": [
    "# корреляции между признаками которые (пока что) вещественные\n",
    "df[\n",
    "    [\n",
    "        'Secret_dwarf_info_1',\n",
    "        'Secret_dwarf_info_2',\n",
    "        'Secret_dwarf_info_3',\n",
    "        'Successful_deals_count',\n",
    "        'Hashed_deal_detail_2',\n",
    "        'Hashed_deal_detail_3',\n",
    "        'Hashed_deal_detail_4',\n",
    "        'Age'\n",
    "    ]\n",
    "  ].corr().style.background_gradient(cmap='coolwarm')"
   ]
  },
  {
   "cell_type": "markdown",
   "metadata": {},
   "source": [
    "Нечто происходит между:\n",
    "* Secret_dwarf_info_1 и Secret_dwarf_info_2 = 0.426617\n",
    "* Secret_dwarf_info_3 и Secret_dwarf_info_2 = 0.525387 \n",
    "\n",
    "Возможно стоит слепить их в один атрибут через PCA?\n",
    "\n",
    "Также между:\n",
    "* Hashed_deal_detail_3 и Successful_deals_count = 0.499717\n",
    "\n",
    "Что это значит и что с этим делать?"
   ]
  },
  {
   "cell_type": "code",
   "execution_count": 24,
   "metadata": {},
   "outputs": [
    {
     "data": {
      "text/html": [
       "<style type=\"text/css\">\n",
       "#T_07324_row0_col0, #T_07324_row1_col1, #T_07324_row2_col2, #T_07324_row3_col3, #T_07324_row4_col4, #T_07324_row5_col5, #T_07324_row6_col6, #T_07324_row7_col7 {\n",
       "  background-color: #b40426;\n",
       "  color: #f1f1f1;\n",
       "}\n",
       "#T_07324_row0_col1 {\n",
       "  background-color: #bbd1f8;\n",
       "  color: #000000;\n",
       "}\n",
       "#T_07324_row0_col2, #T_07324_row6_col4 {\n",
       "  background-color: #7699f6;\n",
       "  color: #f1f1f1;\n",
       "}\n",
       "#T_07324_row0_col3 {\n",
       "  background-color: #6384eb;\n",
       "  color: #f1f1f1;\n",
       "}\n",
       "#T_07324_row0_col4 {\n",
       "  background-color: #7ea1fa;\n",
       "  color: #f1f1f1;\n",
       "}\n",
       "#T_07324_row0_col5 {\n",
       "  background-color: #b7cff9;\n",
       "  color: #000000;\n",
       "}\n",
       "#T_07324_row0_col6 {\n",
       "  background-color: #9abbff;\n",
       "  color: #000000;\n",
       "}\n",
       "#T_07324_row0_col7, #T_07324_row4_col2 {\n",
       "  background-color: #3f53c6;\n",
       "  color: #f1f1f1;\n",
       "}\n",
       "#T_07324_row1_col0 {\n",
       "  background-color: #c6d6f1;\n",
       "  color: #000000;\n",
       "}\n",
       "#T_07324_row1_col2 {\n",
       "  background-color: #e4d9d2;\n",
       "  color: #000000;\n",
       "}\n",
       "#T_07324_row1_col3 {\n",
       "  background-color: #5977e3;\n",
       "  color: #f1f1f1;\n",
       "}\n",
       "#T_07324_row1_col4 {\n",
       "  background-color: #7093f3;\n",
       "  color: #f1f1f1;\n",
       "}\n",
       "#T_07324_row1_col5, #T_07324_row3_col6 {\n",
       "  background-color: #abc8fd;\n",
       "  color: #000000;\n",
       "}\n",
       "#T_07324_row1_col6, #T_07324_row3_col4 {\n",
       "  background-color: #a2c1ff;\n",
       "  color: #000000;\n",
       "}\n",
       "#T_07324_row1_col7 {\n",
       "  background-color: #6788ee;\n",
       "  color: #f1f1f1;\n",
       "}\n",
       "#T_07324_row2_col0 {\n",
       "  background-color: #89acfd;\n",
       "  color: #000000;\n",
       "}\n",
       "#T_07324_row2_col1 {\n",
       "  background-color: #e5d8d1;\n",
       "  color: #000000;\n",
       "}\n",
       "#T_07324_row2_col3, #T_07324_row3_col2, #T_07324_row4_col1, #T_07324_row5_col4, #T_07324_row5_col6, #T_07324_row6_col5, #T_07324_row6_col7, #T_07324_row7_col0 {\n",
       "  background-color: #3b4cc0;\n",
       "  color: #f1f1f1;\n",
       "}\n",
       "#T_07324_row2_col4, #T_07324_row5_col7 {\n",
       "  background-color: #799cf8;\n",
       "  color: #f1f1f1;\n",
       "}\n",
       "#T_07324_row2_col5 {\n",
       "  background-color: #98b9ff;\n",
       "  color: #000000;\n",
       "}\n",
       "#T_07324_row2_col6 {\n",
       "  background-color: #9ebeff;\n",
       "  color: #000000;\n",
       "}\n",
       "#T_07324_row2_col7 {\n",
       "  background-color: #5572df;\n",
       "  color: #f1f1f1;\n",
       "}\n",
       "#T_07324_row3_col0 {\n",
       "  background-color: #779af7;\n",
       "  color: #f1f1f1;\n",
       "}\n",
       "#T_07324_row3_col1 {\n",
       "  background-color: #5b7ae5;\n",
       "  color: #f1f1f1;\n",
       "}\n",
       "#T_07324_row3_col5 {\n",
       "  background-color: #edd2c3;\n",
       "  color: #000000;\n",
       "}\n",
       "#T_07324_row3_col7, #T_07324_row6_col3 {\n",
       "  background-color: #5e7de7;\n",
       "  color: #f1f1f1;\n",
       "}\n",
       "#T_07324_row4_col0 {\n",
       "  background-color: #5a78e4;\n",
       "  color: #f1f1f1;\n",
       "}\n",
       "#T_07324_row4_col3 {\n",
       "  background-color: #6e90f2;\n",
       "  color: #f1f1f1;\n",
       "}\n",
       "#T_07324_row4_col5 {\n",
       "  background-color: #5673e0;\n",
       "  color: #f1f1f1;\n",
       "}\n",
       "#T_07324_row4_col6 {\n",
       "  background-color: #90b2fe;\n",
       "  color: #000000;\n",
       "}\n",
       "#T_07324_row4_col7 {\n",
       "  background-color: #536edd;\n",
       "  color: #f1f1f1;\n",
       "}\n",
       "#T_07324_row5_col0 {\n",
       "  background-color: #81a4fb;\n",
       "  color: #f1f1f1;\n",
       "}\n",
       "#T_07324_row5_col1 {\n",
       "  background-color: #6282ea;\n",
       "  color: #f1f1f1;\n",
       "}\n",
       "#T_07324_row5_col2 {\n",
       "  background-color: #465ecf;\n",
       "  color: #f1f1f1;\n",
       "}\n",
       "#T_07324_row5_col3 {\n",
       "  background-color: #c7d7f0;\n",
       "  color: #000000;\n",
       "}\n",
       "#T_07324_row6_col0 {\n",
       "  background-color: #5d7ce6;\n",
       "  color: #f1f1f1;\n",
       "}\n",
       "#T_07324_row6_col1 {\n",
       "  background-color: #5470de;\n",
       "  color: #f1f1f1;\n",
       "}\n",
       "#T_07324_row6_col2 {\n",
       "  background-color: #4c66d6;\n",
       "  color: #f1f1f1;\n",
       "}\n",
       "#T_07324_row7_col1 {\n",
       "  background-color: #506bda;\n",
       "  color: #f1f1f1;\n",
       "}\n",
       "#T_07324_row7_col2 {\n",
       "  background-color: #3c4ec2;\n",
       "  color: #f1f1f1;\n",
       "}\n",
       "#T_07324_row7_col3 {\n",
       "  background-color: #445acc;\n",
       "  color: #f1f1f1;\n",
       "}\n",
       "#T_07324_row7_col4 {\n",
       "  background-color: #7295f4;\n",
       "  color: #f1f1f1;\n",
       "}\n",
       "#T_07324_row7_col5 {\n",
       "  background-color: #adc9fd;\n",
       "  color: #000000;\n",
       "}\n",
       "#T_07324_row7_col6 {\n",
       "  background-color: #7597f6;\n",
       "  color: #f1f1f1;\n",
       "}\n",
       "</style>\n",
       "<table id=\"T_07324_\">\n",
       "  <thead>\n",
       "    <tr>\n",
       "      <th class=\"blank level0\" >&nbsp;</th>\n",
       "      <th class=\"col_heading level0 col0\" >Secret_dwarf_info_1</th>\n",
       "      <th class=\"col_heading level0 col1\" >Secret_dwarf_info_2</th>\n",
       "      <th class=\"col_heading level0 col2\" >Secret_dwarf_info_3</th>\n",
       "      <th class=\"col_heading level0 col3\" >Successful_deals_count</th>\n",
       "      <th class=\"col_heading level0 col4\" >Hashed_deal_detail_2</th>\n",
       "      <th class=\"col_heading level0 col5\" >Hashed_deal_detail_3</th>\n",
       "      <th class=\"col_heading level0 col6\" >Hashed_deal_detail_4</th>\n",
       "      <th class=\"col_heading level0 col7\" >Age</th>\n",
       "    </tr>\n",
       "  </thead>\n",
       "  <tbody>\n",
       "    <tr>\n",
       "      <th id=\"T_07324_level0_row0\" class=\"row_heading level0 row0\" >Secret_dwarf_info_1</th>\n",
       "      <td id=\"T_07324_row0_col0\" class=\"data row0 col0\" >1.000000</td>\n",
       "      <td id=\"T_07324_row0_col1\" class=\"data row0 col1\" >0.351038</td>\n",
       "      <td id=\"T_07324_row0_col2\" class=\"data row0 col2\" >0.149119</td>\n",
       "      <td id=\"T_07324_row0_col3\" class=\"data row0 col3\" >0.092963</td>\n",
       "      <td id=\"T_07324_row0_col4\" class=\"data row0 col4\" >-0.004723</td>\n",
       "      <td id=\"T_07324_row0_col5\" class=\"data row0 col5\" >0.121594</td>\n",
       "      <td id=\"T_07324_row0_col6\" class=\"data row0 col6\" >0.003855</td>\n",
       "      <td id=\"T_07324_row0_col7\" class=\"data row0 col7\" >-0.120056</td>\n",
       "    </tr>\n",
       "    <tr>\n",
       "      <th id=\"T_07324_level0_row1\" class=\"row_heading level0 row1\" >Secret_dwarf_info_2</th>\n",
       "      <td id=\"T_07324_row1_col0\" class=\"data row1 col0\" >0.351038</td>\n",
       "      <td id=\"T_07324_row1_col1\" class=\"data row1 col1\" >1.000000</td>\n",
       "      <td id=\"T_07324_row1_col2\" class=\"data row1 col2\" >0.506345</td>\n",
       "      <td id=\"T_07324_row1_col3\" class=\"data row1 col3\" >0.059225</td>\n",
       "      <td id=\"T_07324_row1_col4\" class=\"data row1 col4\" >-0.054741</td>\n",
       "      <td id=\"T_07324_row1_col5\" class=\"data row1 col5\" >0.077505</td>\n",
       "      <td id=\"T_07324_row1_col6\" class=\"data row1 col6\" >0.034973</td>\n",
       "      <td id=\"T_07324_row1_col7\" class=\"data row1 col7\" >0.023458</td>\n",
       "    </tr>\n",
       "    <tr>\n",
       "      <th id=\"T_07324_level0_row2\" class=\"row_heading level0 row2\" >Secret_dwarf_info_3</th>\n",
       "      <td id=\"T_07324_row2_col0\" class=\"data row2 col0\" >0.149119</td>\n",
       "      <td id=\"T_07324_row2_col1\" class=\"data row2 col1\" >0.506345</td>\n",
       "      <td id=\"T_07324_row2_col2\" class=\"data row2 col2\" >1.000000</td>\n",
       "      <td id=\"T_07324_row2_col3\" class=\"data row2 col3\" >-0.045661</td>\n",
       "      <td id=\"T_07324_row2_col4\" class=\"data row2 col4\" >-0.026977</td>\n",
       "      <td id=\"T_07324_row2_col5\" class=\"data row2 col5\" >-0.001927</td>\n",
       "      <td id=\"T_07324_row2_col6\" class=\"data row2 col6\" >0.018880</td>\n",
       "      <td id=\"T_07324_row2_col7\" class=\"data row2 col7\" >-0.039896</td>\n",
       "    </tr>\n",
       "    <tr>\n",
       "      <th id=\"T_07324_level0_row3\" class=\"row_heading level0 row3\" >Successful_deals_count</th>\n",
       "      <td id=\"T_07324_row3_col0\" class=\"data row3 col0\" >0.092963</td>\n",
       "      <td id=\"T_07324_row3_col1\" class=\"data row3 col1\" >0.059225</td>\n",
       "      <td id=\"T_07324_row3_col2\" class=\"data row3 col2\" >-0.045661</td>\n",
       "      <td id=\"T_07324_row3_col3\" class=\"data row3 col3\" >1.000000</td>\n",
       "      <td id=\"T_07324_row3_col4\" class=\"data row3 col4\" >0.121863</td>\n",
       "      <td id=\"T_07324_row3_col5\" class=\"data row3 col5\" >0.399418</td>\n",
       "      <td id=\"T_07324_row3_col6\" class=\"data row3 col6\" >0.073833</td>\n",
       "      <td id=\"T_07324_row3_col7\" class=\"data row3 col7\" >-0.010849</td>\n",
       "    </tr>\n",
       "    <tr>\n",
       "      <th id=\"T_07324_level0_row4\" class=\"row_heading level0 row4\" >Hashed_deal_detail_2</th>\n",
       "      <td id=\"T_07324_row4_col0\" class=\"data row4 col0\" >-0.004723</td>\n",
       "      <td id=\"T_07324_row4_col1\" class=\"data row4 col1\" >-0.054741</td>\n",
       "      <td id=\"T_07324_row4_col2\" class=\"data row4 col2\" >-0.026977</td>\n",
       "      <td id=\"T_07324_row4_col3\" class=\"data row4 col3\" >0.121863</td>\n",
       "      <td id=\"T_07324_row4_col4\" class=\"data row4 col4\" >1.000000</td>\n",
       "      <td id=\"T_07324_row4_col5\" class=\"data row4 col5\" >-0.270686</td>\n",
       "      <td id=\"T_07324_row4_col6\" class=\"data row4 col6\" >-0.036585</td>\n",
       "      <td id=\"T_07324_row4_col7\" class=\"data row4 col7\" >-0.051373</td>\n",
       "    </tr>\n",
       "    <tr>\n",
       "      <th id=\"T_07324_level0_row5\" class=\"row_heading level0 row5\" >Hashed_deal_detail_3</th>\n",
       "      <td id=\"T_07324_row5_col0\" class=\"data row5 col0\" >0.121594</td>\n",
       "      <td id=\"T_07324_row5_col1\" class=\"data row5 col1\" >0.077505</td>\n",
       "      <td id=\"T_07324_row5_col2\" class=\"data row5 col2\" >-0.001927</td>\n",
       "      <td id=\"T_07324_row5_col3\" class=\"data row5 col3\" >0.399418</td>\n",
       "      <td id=\"T_07324_row5_col4\" class=\"data row5 col4\" >-0.270686</td>\n",
       "      <td id=\"T_07324_row5_col5\" class=\"data row5 col5\" >1.000000</td>\n",
       "      <td id=\"T_07324_row5_col6\" class=\"data row5 col6\" >-0.396962</td>\n",
       "      <td id=\"T_07324_row5_col7\" class=\"data row5 col7\" >0.079520</td>\n",
       "    </tr>\n",
       "    <tr>\n",
       "      <th id=\"T_07324_level0_row6\" class=\"row_heading level0 row6\" >Hashed_deal_detail_4</th>\n",
       "      <td id=\"T_07324_row6_col0\" class=\"data row6 col0\" >0.003855</td>\n",
       "      <td id=\"T_07324_row6_col1\" class=\"data row6 col1\" >0.034973</td>\n",
       "      <td id=\"T_07324_row6_col2\" class=\"data row6 col2\" >0.018880</td>\n",
       "      <td id=\"T_07324_row6_col3\" class=\"data row6 col3\" >0.073833</td>\n",
       "      <td id=\"T_07324_row6_col4\" class=\"data row6 col4\" >-0.036585</td>\n",
       "      <td id=\"T_07324_row6_col5\" class=\"data row6 col5\" >-0.396962</td>\n",
       "      <td id=\"T_07324_row6_col6\" class=\"data row6 col6\" >1.000000</td>\n",
       "      <td id=\"T_07324_row6_col7\" class=\"data row6 col7\" >-0.141049</td>\n",
       "    </tr>\n",
       "    <tr>\n",
       "      <th id=\"T_07324_level0_row7\" class=\"row_heading level0 row7\" >Age</th>\n",
       "      <td id=\"T_07324_row7_col0\" class=\"data row7 col0\" >-0.120056</td>\n",
       "      <td id=\"T_07324_row7_col1\" class=\"data row7 col1\" >0.023458</td>\n",
       "      <td id=\"T_07324_row7_col2\" class=\"data row7 col2\" >-0.039896</td>\n",
       "      <td id=\"T_07324_row7_col3\" class=\"data row7 col3\" >-0.010849</td>\n",
       "      <td id=\"T_07324_row7_col4\" class=\"data row7 col4\" >-0.051373</td>\n",
       "      <td id=\"T_07324_row7_col5\" class=\"data row7 col5\" >0.079520</td>\n",
       "      <td id=\"T_07324_row7_col6\" class=\"data row7 col6\" >-0.141049</td>\n",
       "      <td id=\"T_07324_row7_col7\" class=\"data row7 col7\" >1.000000</td>\n",
       "    </tr>\n",
       "  </tbody>\n",
       "</table>\n"
      ],
      "text/plain": [
       "<pandas.io.formats.style.Styler at 0x1bbdbed5e88>"
      ]
     },
     "execution_count": 24,
     "metadata": {},
     "output_type": "execute_result"
    }
   ],
   "source": [
    "# Spearman correlation\n",
    "df[\n",
    "    [\n",
    "        'Secret_dwarf_info_1',\n",
    "        'Secret_dwarf_info_2',\n",
    "        'Secret_dwarf_info_3',\n",
    "        'Successful_deals_count',\n",
    "        'Hashed_deal_detail_2',\n",
    "        'Hashed_deal_detail_3',\n",
    "        'Hashed_deal_detail_4',\n",
    "        'Age'\n",
    "    ]\n",
    "  ].corr(method='spearman').style.background_gradient(cmap='coolwarm')"
   ]
  },
  {
   "cell_type": "markdown",
   "metadata": {},
   "source": [
    "По мнению Спирмана есть некая неприязнь между Hashed_deal_detail_4 и Hashed_deal_detail_3 = -0.396962"
   ]
  },
  {
   "cell_type": "code",
   "execution_count": 25,
   "metadata": {},
   "outputs": [
    {
     "data": {
      "text/html": [
       "<style type=\"text/css\">\n",
       "#T_a3396_row0_col0, #T_a3396_row1_col1, #T_a3396_row2_col2, #T_a3396_row3_col3, #T_a3396_row4_col4, #T_a3396_row5_col5, #T_a3396_row6_col6, #T_a3396_row7_col7 {\n",
       "  background-color: #b40426;\n",
       "  color: #f1f1f1;\n",
       "}\n",
       "#T_a3396_row0_col1, #T_a3396_row5_col3 {\n",
       "  background-color: #b2ccfb;\n",
       "  color: #000000;\n",
       "}\n",
       "#T_a3396_row0_col2, #T_a3396_row5_col0 {\n",
       "  background-color: #7396f5;\n",
       "  color: #f1f1f1;\n",
       "}\n",
       "#T_a3396_row0_col3, #T_a3396_row1_col7 {\n",
       "  background-color: #5f7fe8;\n",
       "  color: #f1f1f1;\n",
       "}\n",
       "#T_a3396_row0_col4 {\n",
       "  background-color: #7597f6;\n",
       "  color: #f1f1f1;\n",
       "}\n",
       "#T_a3396_row0_col5 {\n",
       "  background-color: #a6c4fe;\n",
       "  color: #000000;\n",
       "}\n",
       "#T_a3396_row0_col6 {\n",
       "  background-color: #8db0fe;\n",
       "  color: #000000;\n",
       "}\n",
       "#T_a3396_row0_col7, #T_a3396_row4_col2 {\n",
       "  background-color: #3e51c5;\n",
       "  color: #f1f1f1;\n",
       "}\n",
       "#T_a3396_row1_col0 {\n",
       "  background-color: #bbd1f8;\n",
       "  color: #000000;\n",
       "}\n",
       "#T_a3396_row1_col2 {\n",
       "  background-color: #dedcdb;\n",
       "  color: #000000;\n",
       "}\n",
       "#T_a3396_row1_col3 {\n",
       "  background-color: #5572df;\n",
       "  color: #f1f1f1;\n",
       "}\n",
       "#T_a3396_row1_col4 {\n",
       "  background-color: #6788ee;\n",
       "  color: #f1f1f1;\n",
       "}\n",
       "#T_a3396_row1_col5 {\n",
       "  background-color: #9dbdff;\n",
       "  color: #000000;\n",
       "}\n",
       "#T_a3396_row1_col6 {\n",
       "  background-color: #94b6ff;\n",
       "  color: #000000;\n",
       "}\n",
       "#T_a3396_row2_col0 {\n",
       "  background-color: #81a4fb;\n",
       "  color: #f1f1f1;\n",
       "}\n",
       "#T_a3396_row2_col1 {\n",
       "  background-color: #e0dbd8;\n",
       "  color: #000000;\n",
       "}\n",
       "#T_a3396_row2_col3, #T_a3396_row3_col2, #T_a3396_row4_col1, #T_a3396_row5_col4, #T_a3396_row5_col6, #T_a3396_row6_col5, #T_a3396_row6_col7, #T_a3396_row7_col0 {\n",
       "  background-color: #3b4cc0;\n",
       "  color: #f1f1f1;\n",
       "}\n",
       "#T_a3396_row2_col4, #T_a3396_row3_col0, #T_a3396_row7_col6 {\n",
       "  background-color: #6e90f2;\n",
       "  color: #f1f1f1;\n",
       "}\n",
       "#T_a3396_row2_col5 {\n",
       "  background-color: #8caffe;\n",
       "  color: #000000;\n",
       "}\n",
       "#T_a3396_row2_col6 {\n",
       "  background-color: #90b2fe;\n",
       "  color: #000000;\n",
       "}\n",
       "#T_a3396_row2_col7 {\n",
       "  background-color: #506bda;\n",
       "  color: #f1f1f1;\n",
       "}\n",
       "#T_a3396_row3_col1 {\n",
       "  background-color: #5875e1;\n",
       "  color: #f1f1f1;\n",
       "}\n",
       "#T_a3396_row3_col4 {\n",
       "  background-color: #96b7ff;\n",
       "  color: #000000;\n",
       "}\n",
       "#T_a3396_row3_col5 {\n",
       "  background-color: #dcdddd;\n",
       "  color: #000000;\n",
       "}\n",
       "#T_a3396_row3_col6 {\n",
       "  background-color: #9ebeff;\n",
       "  color: #000000;\n",
       "}\n",
       "#T_a3396_row3_col7, #T_a3396_row6_col0 {\n",
       "  background-color: #5673e0;\n",
       "  color: #f1f1f1;\n",
       "}\n",
       "#T_a3396_row4_col0 {\n",
       "  background-color: #5470de;\n",
       "  color: #f1f1f1;\n",
       "}\n",
       "#T_a3396_row4_col3 {\n",
       "  background-color: #688aef;\n",
       "  color: #f1f1f1;\n",
       "}\n",
       "#T_a3396_row4_col5 {\n",
       "  background-color: #516ddb;\n",
       "  color: #f1f1f1;\n",
       "}\n",
       "#T_a3396_row4_col6 {\n",
       "  background-color: #82a6fb;\n",
       "  color: #f1f1f1;\n",
       "}\n",
       "#T_a3396_row4_col7, #T_a3396_row7_col1 {\n",
       "  background-color: #4e68d8;\n",
       "  color: #f1f1f1;\n",
       "}\n",
       "#T_a3396_row5_col1 {\n",
       "  background-color: #5b7ae5;\n",
       "  color: #f1f1f1;\n",
       "}\n",
       "#T_a3396_row5_col2 {\n",
       "  background-color: #455cce;\n",
       "  color: #f1f1f1;\n",
       "}\n",
       "#T_a3396_row5_col7, #T_a3396_row7_col4 {\n",
       "  background-color: #6a8bef;\n",
       "  color: #f1f1f1;\n",
       "}\n",
       "#T_a3396_row6_col1 {\n",
       "  background-color: #536edd;\n",
       "  color: #f1f1f1;\n",
       "}\n",
       "#T_a3396_row6_col2 {\n",
       "  background-color: #4b64d5;\n",
       "  color: #f1f1f1;\n",
       "}\n",
       "#T_a3396_row6_col3 {\n",
       "  background-color: #5a78e4;\n",
       "  color: #f1f1f1;\n",
       "}\n",
       "#T_a3396_row6_col4 {\n",
       "  background-color: #6c8ff1;\n",
       "  color: #f1f1f1;\n",
       "}\n",
       "#T_a3396_row7_col2 {\n",
       "  background-color: #3d50c3;\n",
       "  color: #f1f1f1;\n",
       "}\n",
       "#T_a3396_row7_col3 {\n",
       "  background-color: #445acc;\n",
       "  color: #f1f1f1;\n",
       "}\n",
       "#T_a3396_row7_col5 {\n",
       "  background-color: #9bbcff;\n",
       "  color: #000000;\n",
       "}\n",
       "</style>\n",
       "<table id=\"T_a3396_\">\n",
       "  <thead>\n",
       "    <tr>\n",
       "      <th class=\"blank level0\" >&nbsp;</th>\n",
       "      <th class=\"col_heading level0 col0\" >Secret_dwarf_info_1</th>\n",
       "      <th class=\"col_heading level0 col1\" >Secret_dwarf_info_2</th>\n",
       "      <th class=\"col_heading level0 col2\" >Secret_dwarf_info_3</th>\n",
       "      <th class=\"col_heading level0 col3\" >Successful_deals_count</th>\n",
       "      <th class=\"col_heading level0 col4\" >Hashed_deal_detail_2</th>\n",
       "      <th class=\"col_heading level0 col5\" >Hashed_deal_detail_3</th>\n",
       "      <th class=\"col_heading level0 col6\" >Hashed_deal_detail_4</th>\n",
       "      <th class=\"col_heading level0 col7\" >Age</th>\n",
       "    </tr>\n",
       "  </thead>\n",
       "  <tbody>\n",
       "    <tr>\n",
       "      <th id=\"T_a3396_level0_row0\" class=\"row_heading level0 row0\" >Secret_dwarf_info_1</th>\n",
       "      <td id=\"T_a3396_row0_col0\" class=\"data row0 col0\" >1.000000</td>\n",
       "      <td id=\"T_a3396_row0_col1\" class=\"data row0 col1\" >0.327208</td>\n",
       "      <td id=\"T_a3396_row0_col2\" class=\"data row0 col2\" >0.142394</td>\n",
       "      <td id=\"T_a3396_row0_col3\" class=\"data row0 col3\" >0.081026</td>\n",
       "      <td id=\"T_a3396_row0_col4\" class=\"data row0 col4\" >-0.004203</td>\n",
       "      <td id=\"T_a3396_row0_col5\" class=\"data row0 col5\" >0.100497</td>\n",
       "      <td id=\"T_a3396_row0_col6\" class=\"data row0 col6\" >0.003460</td>\n",
       "      <td id=\"T_a3396_row0_col7\" class=\"data row0 col7\" >-0.095010</td>\n",
       "    </tr>\n",
       "    <tr>\n",
       "      <th id=\"T_a3396_level0_row1\" class=\"row_heading level0 row1\" >Secret_dwarf_info_2</th>\n",
       "      <td id=\"T_a3396_row1_col0\" class=\"data row1 col0\" >0.327208</td>\n",
       "      <td id=\"T_a3396_row1_col1\" class=\"data row1 col1\" >1.000000</td>\n",
       "      <td id=\"T_a3396_row1_col2\" class=\"data row1 col2\" >0.487597</td>\n",
       "      <td id=\"T_a3396_row1_col3\" class=\"data row1 col3\" >0.051404</td>\n",
       "      <td id=\"T_a3396_row1_col4\" class=\"data row1 col4\" >-0.050145</td>\n",
       "      <td id=\"T_a3396_row1_col5\" class=\"data row1 col5\" >0.063821</td>\n",
       "      <td id=\"T_a3396_row1_col6\" class=\"data row1 col6\" >0.032127</td>\n",
       "      <td id=\"T_a3396_row1_col7\" class=\"data row1 col7\" >0.018534</td>\n",
       "    </tr>\n",
       "    <tr>\n",
       "      <th id=\"T_a3396_level0_row2\" class=\"row_heading level0 row2\" >Secret_dwarf_info_3</th>\n",
       "      <td id=\"T_a3396_row2_col0\" class=\"data row2 col0\" >0.142394</td>\n",
       "      <td id=\"T_a3396_row2_col1\" class=\"data row2 col1\" >0.487597</td>\n",
       "      <td id=\"T_a3396_row2_col2\" class=\"data row2 col2\" >1.000000</td>\n",
       "      <td id=\"T_a3396_row2_col3\" class=\"data row2 col3\" >-0.041010</td>\n",
       "      <td id=\"T_a3396_row2_col4\" class=\"data row2 col4\" >-0.025705</td>\n",
       "      <td id=\"T_a3396_row2_col5\" class=\"data row2 col5\" >-0.001542</td>\n",
       "      <td id=\"T_a3396_row2_col6\" class=\"data row2 col6\" >0.017833</td>\n",
       "      <td id=\"T_a3396_row2_col7\" class=\"data row2 col7\" >-0.032691</td>\n",
       "    </tr>\n",
       "    <tr>\n",
       "      <th id=\"T_a3396_level0_row3\" class=\"row_heading level0 row3\" >Successful_deals_count</th>\n",
       "      <td id=\"T_a3396_row3_col0\" class=\"data row3 col0\" >0.081026</td>\n",
       "      <td id=\"T_a3396_row3_col1\" class=\"data row3 col1\" >0.051404</td>\n",
       "      <td id=\"T_a3396_row3_col2\" class=\"data row3 col2\" >-0.041010</td>\n",
       "      <td id=\"T_a3396_row3_col3\" class=\"data row3 col3\" >1.000000</td>\n",
       "      <td id=\"T_a3396_row3_col4\" class=\"data row3 col4\" >0.110990</td>\n",
       "      <td id=\"T_a3396_row3_col5\" class=\"data row3 col5\" >0.332409</td>\n",
       "      <td id=\"T_a3396_row3_col6\" class=\"data row3 col6\" >0.066601</td>\n",
       "      <td id=\"T_a3396_row3_col7\" class=\"data row3 col7\" >-0.008368</td>\n",
       "    </tr>\n",
       "    <tr>\n",
       "      <th id=\"T_a3396_level0_row4\" class=\"row_heading level0 row4\" >Hashed_deal_detail_2</th>\n",
       "      <td id=\"T_a3396_row4_col0\" class=\"data row4 col0\" >-0.004203</td>\n",
       "      <td id=\"T_a3396_row4_col1\" class=\"data row4 col1\" >-0.050145</td>\n",
       "      <td id=\"T_a3396_row4_col2\" class=\"data row4 col2\" >-0.025705</td>\n",
       "      <td id=\"T_a3396_row4_col3\" class=\"data row4 col3\" >0.110990</td>\n",
       "      <td id=\"T_a3396_row4_col4\" class=\"data row4 col4\" >1.000000</td>\n",
       "      <td id=\"T_a3396_row4_col5\" class=\"data row4 col5\" >-0.226107</td>\n",
       "      <td id=\"T_a3396_row4_col6\" class=\"data row4 col6\" >-0.034128</td>\n",
       "      <td id=\"T_a3396_row4_col7\" class=\"data row4 col7\" >-0.041291</td>\n",
       "    </tr>\n",
       "    <tr>\n",
       "      <th id=\"T_a3396_level0_row5\" class=\"row_heading level0 row5\" >Hashed_deal_detail_3</th>\n",
       "      <td id=\"T_a3396_row5_col0\" class=\"data row5 col0\" >0.100497</td>\n",
       "      <td id=\"T_a3396_row5_col1\" class=\"data row5 col1\" >0.063821</td>\n",
       "      <td id=\"T_a3396_row5_col2\" class=\"data row5 col2\" >-0.001542</td>\n",
       "      <td id=\"T_a3396_row5_col3\" class=\"data row5 col3\" >0.332409</td>\n",
       "      <td id=\"T_a3396_row5_col4\" class=\"data row5 col4\" >-0.226107</td>\n",
       "      <td id=\"T_a3396_row5_col5\" class=\"data row5 col5\" >1.000000</td>\n",
       "      <td id=\"T_a3396_row5_col6\" class=\"data row5 col6\" >-0.329134</td>\n",
       "      <td id=\"T_a3396_row5_col7\" class=\"data row5 col7\" >0.057005</td>\n",
       "    </tr>\n",
       "    <tr>\n",
       "      <th id=\"T_a3396_level0_row6\" class=\"row_heading level0 row6\" >Hashed_deal_detail_4</th>\n",
       "      <td id=\"T_a3396_row6_col0\" class=\"data row6 col0\" >0.003460</td>\n",
       "      <td id=\"T_a3396_row6_col1\" class=\"data row6 col1\" >0.032127</td>\n",
       "      <td id=\"T_a3396_row6_col2\" class=\"data row6 col2\" >0.017833</td>\n",
       "      <td id=\"T_a3396_row6_col3\" class=\"data row6 col3\" >0.066601</td>\n",
       "      <td id=\"T_a3396_row6_col4\" class=\"data row6 col4\" >-0.034128</td>\n",
       "      <td id=\"T_a3396_row6_col5\" class=\"data row6 col5\" >-0.329134</td>\n",
       "      <td id=\"T_a3396_row6_col6\" class=\"data row6 col6\" >1.000000</td>\n",
       "      <td id=\"T_a3396_row6_col7\" class=\"data row6 col7\" >-0.111897</td>\n",
       "    </tr>\n",
       "    <tr>\n",
       "      <th id=\"T_a3396_level0_row7\" class=\"row_heading level0 row7\" >Age</th>\n",
       "      <td id=\"T_a3396_row7_col0\" class=\"data row7 col0\" >-0.095010</td>\n",
       "      <td id=\"T_a3396_row7_col1\" class=\"data row7 col1\" >0.018534</td>\n",
       "      <td id=\"T_a3396_row7_col2\" class=\"data row7 col2\" >-0.032691</td>\n",
       "      <td id=\"T_a3396_row7_col3\" class=\"data row7 col3\" >-0.008368</td>\n",
       "      <td id=\"T_a3396_row7_col4\" class=\"data row7 col4\" >-0.041291</td>\n",
       "      <td id=\"T_a3396_row7_col5\" class=\"data row7 col5\" >0.057005</td>\n",
       "      <td id=\"T_a3396_row7_col6\" class=\"data row7 col6\" >-0.111897</td>\n",
       "      <td id=\"T_a3396_row7_col7\" class=\"data row7 col7\" >1.000000</td>\n",
       "    </tr>\n",
       "  </tbody>\n",
       "</table>\n"
      ],
      "text/plain": [
       "<pandas.io.formats.style.Styler at 0x1bbdbef0b08>"
      ]
     },
     "execution_count": 25,
     "metadata": {},
     "output_type": "execute_result"
    }
   ],
   "source": [
    "# Kendall correlation\n",
    "df[\n",
    "    [\n",
    "        'Secret_dwarf_info_1',\n",
    "        'Secret_dwarf_info_2',\n",
    "        'Secret_dwarf_info_3',\n",
    "        'Successful_deals_count',\n",
    "        'Hashed_deal_detail_2',\n",
    "        'Hashed_deal_detail_3',\n",
    "        'Hashed_deal_detail_4',\n",
    "        'Age'\n",
    "    ]\n",
    "  ].corr(method='kendall').style.background_gradient(cmap='coolwarm')"
   ]
  },
  {
   "cell_type": "markdown",
   "metadata": {},
   "source": [
    "Кендалл того же мнения: Hashed_deal_detail_4 и Hashed_deal_detail_3 = -0.329134"
   ]
  },
  {
   "cell_type": "code",
   "execution_count": 26,
   "metadata": {},
   "outputs": [],
   "source": [
    "# посмотрим корреляцию атрибутов с таргетом\n",
    "corrs = []\n",
    "for col in [\n",
    "    'Secret_dwarf_info_1',\n",
    "    'Secret_dwarf_info_2',\n",
    "    'Secret_dwarf_info_3',\n",
    "    'Successful_deals_count',\n",
    "    'Hashed_deal_detail_2',\n",
    "    'Hashed_deal_detail_3',\n",
    "    'Hashed_deal_detail_4',\n",
    "    'Age'\n",
    "]:\n",
    "    corrs.append([col, \n",
    "                  round(df[[col, 'Default']].corr().iloc[0]['Default'], 4),\n",
    "                  round(df[[col, 'Default']].corr(method='spearman').iloc[0]['Default'], 4), \n",
    "                  round(df[[col, 'Default']].corr(method='kendall').iloc[0]['Default'], 4),])"
   ]
  },
  {
   "cell_type": "code",
   "execution_count": 27,
   "metadata": {},
   "outputs": [],
   "source": [
    "corrs = pd.DataFrame(corrs, columns=['column', 'Pearson', 'Spearman', 'Kendall'])"
   ]
  },
  {
   "cell_type": "code",
   "execution_count": 28,
   "metadata": {},
   "outputs": [
    {
     "data": {
      "text/html": [
       "<div>\n",
       "<style scoped>\n",
       "    .dataframe tbody tr th:only-of-type {\n",
       "        vertical-align: middle;\n",
       "    }\n",
       "\n",
       "    .dataframe tbody tr th {\n",
       "        vertical-align: top;\n",
       "    }\n",
       "\n",
       "    .dataframe thead th {\n",
       "        text-align: right;\n",
       "    }\n",
       "</style>\n",
       "<table border=\"1\" class=\"dataframe\">\n",
       "  <thead>\n",
       "    <tr style=\"text-align: right;\">\n",
       "      <th></th>\n",
       "      <th>column</th>\n",
       "      <th>Pearson</th>\n",
       "      <th>Spearman</th>\n",
       "      <th>Kendall</th>\n",
       "    </tr>\n",
       "  </thead>\n",
       "  <tbody>\n",
       "    <tr>\n",
       "      <th>0</th>\n",
       "      <td>Secret_dwarf_info_1</td>\n",
       "      <td>0.0638</td>\n",
       "      <td>0.1038</td>\n",
       "      <td>0.0998</td>\n",
       "    </tr>\n",
       "    <tr>\n",
       "      <th>1</th>\n",
       "      <td>Secret_dwarf_info_2</td>\n",
       "      <td>0.1032</td>\n",
       "      <td>0.1183</td>\n",
       "      <td>0.1135</td>\n",
       "    </tr>\n",
       "    <tr>\n",
       "      <th>2</th>\n",
       "      <td>Secret_dwarf_info_3</td>\n",
       "      <td>0.0637</td>\n",
       "      <td>0.0789</td>\n",
       "      <td>0.0781</td>\n",
       "    </tr>\n",
       "    <tr>\n",
       "      <th>3</th>\n",
       "      <td>Successful_deals_count</td>\n",
       "      <td>-0.0787</td>\n",
       "      <td>-0.0887</td>\n",
       "      <td>-0.0829</td>\n",
       "    </tr>\n",
       "    <tr>\n",
       "      <th>4</th>\n",
       "      <td>Hashed_deal_detail_2</td>\n",
       "      <td>-0.0163</td>\n",
       "      <td>0.0068</td>\n",
       "      <td>0.0066</td>\n",
       "    </tr>\n",
       "    <tr>\n",
       "      <th>5</th>\n",
       "      <td>Hashed_deal_detail_3</td>\n",
       "      <td>-0.0652</td>\n",
       "      <td>-0.0546</td>\n",
       "      <td>-0.0472</td>\n",
       "    </tr>\n",
       "    <tr>\n",
       "      <th>6</th>\n",
       "      <td>Hashed_deal_detail_4</td>\n",
       "      <td>-0.0710</td>\n",
       "      <td>-0.0563</td>\n",
       "      <td>-0.0541</td>\n",
       "    </tr>\n",
       "    <tr>\n",
       "      <th>7</th>\n",
       "      <td>Age</td>\n",
       "      <td>-0.1254</td>\n",
       "      <td>-0.1373</td>\n",
       "      <td>-0.1137</td>\n",
       "    </tr>\n",
       "  </tbody>\n",
       "</table>\n",
       "</div>"
      ],
      "text/plain": [
       "                   column  Pearson  Spearman  Kendall\n",
       "0     Secret_dwarf_info_1   0.0638    0.1038   0.0998\n",
       "1     Secret_dwarf_info_2   0.1032    0.1183   0.1135\n",
       "2     Secret_dwarf_info_3   0.0637    0.0789   0.0781\n",
       "3  Successful_deals_count  -0.0787   -0.0887  -0.0829\n",
       "4    Hashed_deal_detail_2  -0.0163    0.0068   0.0066\n",
       "5    Hashed_deal_detail_3  -0.0652   -0.0546  -0.0472\n",
       "6    Hashed_deal_detail_4  -0.0710   -0.0563  -0.0541\n",
       "7                     Age  -0.1254   -0.1373  -0.1137"
      ]
     },
     "execution_count": 28,
     "metadata": {},
     "output_type": "execute_result"
    }
   ],
   "source": [
    "# корреляции с таргетом слабы\n",
    "corrs"
   ]
  },
  {
   "cell_type": "markdown",
   "metadata": {},
   "source": [
    "Посчитаем корреляцию некоторых категорий с таргетом"
   ]
  },
  {
   "cell_type": "code",
   "execution_count": 29,
   "metadata": {},
   "outputs": [],
   "source": [
    "# превратим признаки в категориальные\n",
    "# этот код нам пригодится и дальше, обернём его в функцию\n",
    "df_categories = df.copy() \n",
    "\n",
    "def add_categories(df, cols):\n",
    "    for col in cols:\n",
    "        df[col] = df[col].fillna('unknown').astype(str)\n",
    "    encoder = OneHotEncoder(handle_unknown='ignore', \n",
    "                            drop='first')\n",
    "    feature_arr = encoder.fit_transform(df[cols]).toarray()\n",
    "    feature_labels = encoder.get_feature_names_out()\n",
    "    feature_labels = np.array(feature_labels).ravel()\n",
    "    features = pd.DataFrame(feature_arr, columns=feature_labels, index=df.index)\n",
    "    df = pd.concat([df, features], axis=1)\n",
    "        \n",
    "    return df, list(feature_labels), encoder"
   ]
  },
  {
   "cell_type": "code",
   "execution_count": 30,
   "metadata": {},
   "outputs": [],
   "source": [
    "# также обернём в функцию применение энкодеров\n",
    "def apply_category_encoder(df, cols, encoder):\n",
    "    for col in cols:\n",
    "        df[col] = df[col].fillna('unknown').astype(str)\n",
    "    feature_arr = encoder.transform(df[cols]).toarray()\n",
    "    feature_labels = encoder.get_feature_names_out()\n",
    "    feature_labels = np.array(feature_labels).ravel()\n",
    "    features = pd.DataFrame(feature_arr, columns=feature_labels, index=df.index)\n",
    "    df = pd.concat([df, features], axis=1)\n",
    "        \n",
    "    return df"
   ]
  },
  {
   "cell_type": "code",
   "execution_count": 31,
   "metadata": {},
   "outputs": [],
   "source": [
    "# отдельный датафрейм с категориями\n",
    "df_categories, categories, start_categories_encoder = add_categories(\n",
    "    df_categories, \n",
    "    [\n",
    "        'Secret_dwarf_info_1',\n",
    "        'Secret_dwarf_info_2',\n",
    "        'Secret_dwarf_info_3',\n",
    "        'Hashed_deal_detail_2',\n",
    "        'Hashed_deal_detail_3',\n",
    "        'Hashed_deal_detail_4',\n",
    "    ]\n",
    ")"
   ]
  },
  {
   "cell_type": "code",
   "execution_count": 32,
   "metadata": {},
   "outputs": [],
   "source": [
    "# посчитаем корреляцию категорий с таргетом\n",
    "# здесь нет смысла считать какую то корреляцию кроме Пирсона т.к. значения у категорий и таргета либо 0 либо 1\n",
    "corrs = []\n",
    "for col in categories:\n",
    "    corrs.append([col, \n",
    "                  round(df_categories[[col, 'Default']].corr().iloc[0]['Default'], 4),])"
   ]
  },
  {
   "cell_type": "code",
   "execution_count": 33,
   "metadata": {},
   "outputs": [],
   "source": [
    "corrs = pd.DataFrame(corrs, columns=['column', 'Pearson',])"
   ]
  },
  {
   "cell_type": "code",
   "execution_count": 34,
   "metadata": {},
   "outputs": [
    {
     "data": {
      "text/html": [
       "<div>\n",
       "<style scoped>\n",
       "    .dataframe tbody tr th:only-of-type {\n",
       "        vertical-align: middle;\n",
       "    }\n",
       "\n",
       "    .dataframe tbody tr th {\n",
       "        vertical-align: top;\n",
       "    }\n",
       "\n",
       "    .dataframe thead th {\n",
       "        text-align: right;\n",
       "    }\n",
       "</style>\n",
       "<table border=\"1\" class=\"dataframe\">\n",
       "  <thead>\n",
       "    <tr style=\"text-align: right;\">\n",
       "      <th></th>\n",
       "      <th>column</th>\n",
       "      <th>Pearson</th>\n",
       "    </tr>\n",
       "  </thead>\n",
       "  <tbody>\n",
       "    <tr>\n",
       "      <th>17</th>\n",
       "      <td>Secret_dwarf_info_3_unknown</td>\n",
       "      <td>-0.1523</td>\n",
       "    </tr>\n",
       "    <tr>\n",
       "      <th>13</th>\n",
       "      <td>Secret_dwarf_info_2_unknown</td>\n",
       "      <td>-0.1523</td>\n",
       "    </tr>\n",
       "    <tr>\n",
       "      <th>7</th>\n",
       "      <td>Secret_dwarf_info_1_unknown</td>\n",
       "      <td>-0.1523</td>\n",
       "    </tr>\n",
       "    <tr>\n",
       "      <th>45</th>\n",
       "      <td>Hashed_deal_detail_3_16</td>\n",
       "      <td>-0.0351</td>\n",
       "    </tr>\n",
       "    <tr>\n",
       "      <th>80</th>\n",
       "      <td>Hashed_deal_detail_4_8.5</td>\n",
       "      <td>-0.0333</td>\n",
       "    </tr>\n",
       "    <tr>\n",
       "      <th>78</th>\n",
       "      <td>Hashed_deal_detail_4_6.5</td>\n",
       "      <td>-0.0321</td>\n",
       "    </tr>\n",
       "    <tr>\n",
       "      <th>42</th>\n",
       "      <td>Hashed_deal_detail_3_13</td>\n",
       "      <td>-0.0311</td>\n",
       "    </tr>\n",
       "    <tr>\n",
       "      <th>79</th>\n",
       "      <td>Hashed_deal_detail_4_7.5</td>\n",
       "      <td>-0.0309</td>\n",
       "    </tr>\n",
       "    <tr>\n",
       "      <th>46</th>\n",
       "      <td>Hashed_deal_detail_3_17</td>\n",
       "      <td>-0.0309</td>\n",
       "    </tr>\n",
       "    <tr>\n",
       "      <th>57</th>\n",
       "      <td>Hashed_deal_detail_3_5</td>\n",
       "      <td>-0.0290</td>\n",
       "    </tr>\n",
       "  </tbody>\n",
       "</table>\n",
       "</div>"
      ],
      "text/plain": [
       "                         column  Pearson\n",
       "17  Secret_dwarf_info_3_unknown  -0.1523\n",
       "13  Secret_dwarf_info_2_unknown  -0.1523\n",
       "7   Secret_dwarf_info_1_unknown  -0.1523\n",
       "45      Hashed_deal_detail_3_16  -0.0351\n",
       "80     Hashed_deal_detail_4_8.5  -0.0333\n",
       "78     Hashed_deal_detail_4_6.5  -0.0321\n",
       "42      Hashed_deal_detail_3_13  -0.0311\n",
       "79     Hashed_deal_detail_4_7.5  -0.0309\n",
       "46      Hashed_deal_detail_3_17  -0.0309\n",
       "57       Hashed_deal_detail_3_5  -0.0290"
      ]
     },
     "execution_count": 34,
     "metadata": {},
     "output_type": "execute_result"
    }
   ],
   "source": [
    "corrs.sort_values(by='Pearson').head(10)"
   ]
  },
  {
   "cell_type": "code",
   "execution_count": 35,
   "metadata": {},
   "outputs": [
    {
     "data": {
      "text/html": [
       "<div>\n",
       "<style scoped>\n",
       "    .dataframe tbody tr th:only-of-type {\n",
       "        vertical-align: middle;\n",
       "    }\n",
       "\n",
       "    .dataframe tbody tr th {\n",
       "        vertical-align: top;\n",
       "    }\n",
       "\n",
       "    .dataframe thead th {\n",
       "        text-align: right;\n",
       "    }\n",
       "</style>\n",
       "<table border=\"1\" class=\"dataframe\">\n",
       "  <thead>\n",
       "    <tr style=\"text-align: right;\">\n",
       "      <th></th>\n",
       "      <th>column</th>\n",
       "      <th>Pearson</th>\n",
       "    </tr>\n",
       "  </thead>\n",
       "  <tbody>\n",
       "    <tr>\n",
       "      <th>8</th>\n",
       "      <td>Secret_dwarf_info_2_-2.0</td>\n",
       "      <td>0.1250</td>\n",
       "    </tr>\n",
       "    <tr>\n",
       "      <th>14</th>\n",
       "      <td>Secret_dwarf_info_3_6.0</td>\n",
       "      <td>0.1111</td>\n",
       "    </tr>\n",
       "    <tr>\n",
       "      <th>1</th>\n",
       "      <td>Secret_dwarf_info_1_4.5</td>\n",
       "      <td>0.1043</td>\n",
       "    </tr>\n",
       "    <tr>\n",
       "      <th>58</th>\n",
       "      <td>Hashed_deal_detail_3_6</td>\n",
       "      <td>0.1017</td>\n",
       "    </tr>\n",
       "    <tr>\n",
       "      <th>0</th>\n",
       "      <td>Secret_dwarf_info_1_3.5</td>\n",
       "      <td>0.0908</td>\n",
       "    </tr>\n",
       "    <tr>\n",
       "      <th>2</th>\n",
       "      <td>Secret_dwarf_info_1_5.5</td>\n",
       "      <td>0.0792</td>\n",
       "    </tr>\n",
       "    <tr>\n",
       "      <th>71</th>\n",
       "      <td>Hashed_deal_detail_4_2.5</td>\n",
       "      <td>0.0489</td>\n",
       "    </tr>\n",
       "    <tr>\n",
       "      <th>9</th>\n",
       "      <td>Secret_dwarf_info_2_-3.0</td>\n",
       "      <td>0.0475</td>\n",
       "    </tr>\n",
       "    <tr>\n",
       "      <th>4</th>\n",
       "      <td>Secret_dwarf_info_1_7.5</td>\n",
       "      <td>0.0441</td>\n",
       "    </tr>\n",
       "    <tr>\n",
       "      <th>59</th>\n",
       "      <td>Hashed_deal_detail_3_7</td>\n",
       "      <td>0.0411</td>\n",
       "    </tr>\n",
       "  </tbody>\n",
       "</table>\n",
       "</div>"
      ],
      "text/plain": [
       "                      column  Pearson\n",
       "8   Secret_dwarf_info_2_-2.0   0.1250\n",
       "14   Secret_dwarf_info_3_6.0   0.1111\n",
       "1    Secret_dwarf_info_1_4.5   0.1043\n",
       "58    Hashed_deal_detail_3_6   0.1017\n",
       "0    Secret_dwarf_info_1_3.5   0.0908\n",
       "2    Secret_dwarf_info_1_5.5   0.0792\n",
       "71  Hashed_deal_detail_4_2.5   0.0489\n",
       "9   Secret_dwarf_info_2_-3.0   0.0475\n",
       "4    Secret_dwarf_info_1_7.5   0.0441\n",
       "59    Hashed_deal_detail_3_7   0.0411"
      ]
     },
     "execution_count": 35,
     "metadata": {},
     "output_type": "execute_result"
    }
   ],
   "source": [
    "# сходу сильной связи с таргетом нет\n",
    "corrs.sort_values(by='Pearson', ascending=False).head(10)"
   ]
  },
  {
   "cell_type": "code",
   "execution_count": 36,
   "metadata": {
    "scrolled": false
   },
   "outputs": [],
   "source": [
    "# корреляции категорий между собой\n",
    "df_categories_corr = df_categories[categories].corr(method='pearson')"
   ]
  },
  {
   "cell_type": "code",
   "execution_count": 37,
   "metadata": {},
   "outputs": [],
   "source": [
    "# транспонируем для удобства анализа\n",
    "df_melted = df_categories_corr.reset_index().melt(id_vars='index', var_name='attribute2', value_name='correlation')\n",
    "df_melted = df_melted.rename(columns={'index': 'attribute1'})"
   ]
  },
  {
   "cell_type": "code",
   "execution_count": 38,
   "metadata": {},
   "outputs": [],
   "source": [
    "df_melted['correlation_abs'] = df_melted['correlation'].apply(abs)"
   ]
  },
  {
   "cell_type": "code",
   "execution_count": 39,
   "metadata": {},
   "outputs": [
    {
     "data": {
      "text/html": [
       "<div>\n",
       "<style scoped>\n",
       "    .dataframe tbody tr th:only-of-type {\n",
       "        vertical-align: middle;\n",
       "    }\n",
       "\n",
       "    .dataframe tbody tr th {\n",
       "        vertical-align: top;\n",
       "    }\n",
       "\n",
       "    .dataframe thead th {\n",
       "        text-align: right;\n",
       "    }\n",
       "</style>\n",
       "<table border=\"1\" class=\"dataframe\">\n",
       "  <thead>\n",
       "    <tr style=\"text-align: right;\">\n",
       "      <th></th>\n",
       "      <th>attribute1</th>\n",
       "      <th>attribute2</th>\n",
       "      <th>correlation</th>\n",
       "      <th>correlation_abs</th>\n",
       "    </tr>\n",
       "  </thead>\n",
       "  <tbody>\n",
       "    <tr>\n",
       "      <th>4745</th>\n",
       "      <td>Hashed_deal_detail_4_2.5</td>\n",
       "      <td>Hashed_deal_detail_3_5</td>\n",
       "      <td>-0.502353</td>\n",
       "      <td>0.502353</td>\n",
       "    </tr>\n",
       "    <tr>\n",
       "      <th>5879</th>\n",
       "      <td>Hashed_deal_detail_3_5</td>\n",
       "      <td>Hashed_deal_detail_4_2.5</td>\n",
       "      <td>-0.502353</td>\n",
       "      <td>0.502353</td>\n",
       "    </tr>\n",
       "    <tr>\n",
       "      <th>6057</th>\n",
       "      <td>Hashed_deal_detail_4_2.5</td>\n",
       "      <td>Hashed_deal_detail_4_3.5</td>\n",
       "      <td>-0.498688</td>\n",
       "      <td>0.498688</td>\n",
       "    </tr>\n",
       "    <tr>\n",
       "      <th>5895</th>\n",
       "      <td>Hashed_deal_detail_4_3.5</td>\n",
       "      <td>Hashed_deal_detail_4_2.5</td>\n",
       "      <td>-0.498688</td>\n",
       "      <td>0.498688</td>\n",
       "    </tr>\n",
       "    <tr>\n",
       "      <th>1495</th>\n",
       "      <td>Hashed_deal_detail_2_-3</td>\n",
       "      <td>Hashed_deal_detail_2_-2</td>\n",
       "      <td>-0.472789</td>\n",
       "      <td>0.472789</td>\n",
       "    </tr>\n",
       "    <tr>\n",
       "      <th>1576</th>\n",
       "      <td>Hashed_deal_detail_2_-2</td>\n",
       "      <td>Hashed_deal_detail_2_-3</td>\n",
       "      <td>-0.472789</td>\n",
       "      <td>0.472789</td>\n",
       "    </tr>\n",
       "    <tr>\n",
       "      <th>6303</th>\n",
       "      <td>Hashed_deal_detail_4_2.5</td>\n",
       "      <td>Hashed_deal_detail_4_4.5</td>\n",
       "      <td>-0.386282</td>\n",
       "      <td>0.386282</td>\n",
       "    </tr>\n",
       "    <tr>\n",
       "      <th>5898</th>\n",
       "      <td>Hashed_deal_detail_4_4.5</td>\n",
       "      <td>Hashed_deal_detail_4_2.5</td>\n",
       "      <td>-0.386282</td>\n",
       "      <td>0.386282</td>\n",
       "    </tr>\n",
       "    <tr>\n",
       "      <th>1659</th>\n",
       "      <td>Hashed_deal_detail_2_-3</td>\n",
       "      <td>Hashed_deal_detail_2_0</td>\n",
       "      <td>-0.378290</td>\n",
       "      <td>0.378290</td>\n",
       "    </tr>\n",
       "    <tr>\n",
       "      <th>1578</th>\n",
       "      <td>Hashed_deal_detail_2_0</td>\n",
       "      <td>Hashed_deal_detail_2_-3</td>\n",
       "      <td>-0.378290</td>\n",
       "      <td>0.378290</td>\n",
       "    </tr>\n",
       "    <tr>\n",
       "      <th>5899</th>\n",
       "      <td>Hashed_deal_detail_4_5.5</td>\n",
       "      <td>Hashed_deal_detail_4_2.5</td>\n",
       "      <td>-0.375031</td>\n",
       "      <td>0.375031</td>\n",
       "    </tr>\n",
       "    <tr>\n",
       "      <th>6385</th>\n",
       "      <td>Hashed_deal_detail_4_2.5</td>\n",
       "      <td>Hashed_deal_detail_4_5.5</td>\n",
       "      <td>-0.375031</td>\n",
       "      <td>0.375031</td>\n",
       "    </tr>\n",
       "    <tr>\n",
       "      <th>1615</th>\n",
       "      <td>Hashed_deal_detail_3_5</td>\n",
       "      <td>Hashed_deal_detail_2_-3</td>\n",
       "      <td>-0.355948</td>\n",
       "      <td>0.355948</td>\n",
       "    </tr>\n",
       "    <tr>\n",
       "      <th>4693</th>\n",
       "      <td>Hashed_deal_detail_2_-3</td>\n",
       "      <td>Hashed_deal_detail_3_5</td>\n",
       "      <td>-0.355948</td>\n",
       "      <td>0.355948</td>\n",
       "    </tr>\n",
       "    <tr>\n",
       "      <th>1362</th>\n",
       "      <td>Hashed_deal_detail_3_21</td>\n",
       "      <td>Secret_dwarf_info_3_8.0</td>\n",
       "      <td>0.315778</td>\n",
       "      <td>0.315778</td>\n",
       "    </tr>\n",
       "    <tr>\n",
       "      <th>4116</th>\n",
       "      <td>Secret_dwarf_info_3_8.0</td>\n",
       "      <td>Hashed_deal_detail_3_21</td>\n",
       "      <td>0.315778</td>\n",
       "      <td>0.315778</td>\n",
       "    </tr>\n",
       "    <tr>\n",
       "      <th>5900</th>\n",
       "      <td>Hashed_deal_detail_4_6.5</td>\n",
       "      <td>Hashed_deal_detail_4_2.5</td>\n",
       "      <td>-0.275821</td>\n",
       "      <td>0.275821</td>\n",
       "    </tr>\n",
       "    <tr>\n",
       "      <th>6467</th>\n",
       "      <td>Hashed_deal_detail_4_2.5</td>\n",
       "      <td>Hashed_deal_detail_4_6.5</td>\n",
       "      <td>-0.275821</td>\n",
       "      <td>0.275821</td>\n",
       "    </tr>\n",
       "    <tr>\n",
       "      <th>1741</th>\n",
       "      <td>Hashed_deal_detail_2_-3</td>\n",
       "      <td>Hashed_deal_detail_2_1</td>\n",
       "      <td>-0.273574</td>\n",
       "      <td>0.273574</td>\n",
       "    </tr>\n",
       "    <tr>\n",
       "      <th>1579</th>\n",
       "      <td>Hashed_deal_detail_2_1</td>\n",
       "      <td>Hashed_deal_detail_2_-3</td>\n",
       "      <td>-0.273574</td>\n",
       "      <td>0.273574</td>\n",
       "    </tr>\n",
       "  </tbody>\n",
       "</table>\n",
       "</div>"
      ],
      "text/plain": [
       "                    attribute1                attribute2  correlation  \\\n",
       "4745  Hashed_deal_detail_4_2.5    Hashed_deal_detail_3_5    -0.502353   \n",
       "5879    Hashed_deal_detail_3_5  Hashed_deal_detail_4_2.5    -0.502353   \n",
       "6057  Hashed_deal_detail_4_2.5  Hashed_deal_detail_4_3.5    -0.498688   \n",
       "5895  Hashed_deal_detail_4_3.5  Hashed_deal_detail_4_2.5    -0.498688   \n",
       "1495   Hashed_deal_detail_2_-3   Hashed_deal_detail_2_-2    -0.472789   \n",
       "1576   Hashed_deal_detail_2_-2   Hashed_deal_detail_2_-3    -0.472789   \n",
       "6303  Hashed_deal_detail_4_2.5  Hashed_deal_detail_4_4.5    -0.386282   \n",
       "5898  Hashed_deal_detail_4_4.5  Hashed_deal_detail_4_2.5    -0.386282   \n",
       "1659   Hashed_deal_detail_2_-3    Hashed_deal_detail_2_0    -0.378290   \n",
       "1578    Hashed_deal_detail_2_0   Hashed_deal_detail_2_-3    -0.378290   \n",
       "5899  Hashed_deal_detail_4_5.5  Hashed_deal_detail_4_2.5    -0.375031   \n",
       "6385  Hashed_deal_detail_4_2.5  Hashed_deal_detail_4_5.5    -0.375031   \n",
       "1615    Hashed_deal_detail_3_5   Hashed_deal_detail_2_-3    -0.355948   \n",
       "4693   Hashed_deal_detail_2_-3    Hashed_deal_detail_3_5    -0.355948   \n",
       "1362   Hashed_deal_detail_3_21   Secret_dwarf_info_3_8.0     0.315778   \n",
       "4116   Secret_dwarf_info_3_8.0   Hashed_deal_detail_3_21     0.315778   \n",
       "5900  Hashed_deal_detail_4_6.5  Hashed_deal_detail_4_2.5    -0.275821   \n",
       "6467  Hashed_deal_detail_4_2.5  Hashed_deal_detail_4_6.5    -0.275821   \n",
       "1741   Hashed_deal_detail_2_-3    Hashed_deal_detail_2_1    -0.273574   \n",
       "1579    Hashed_deal_detail_2_1   Hashed_deal_detail_2_-3    -0.273574   \n",
       "\n",
       "      correlation_abs  \n",
       "4745         0.502353  \n",
       "5879         0.502353  \n",
       "6057         0.498688  \n",
       "5895         0.498688  \n",
       "1495         0.472789  \n",
       "1576         0.472789  \n",
       "6303         0.386282  \n",
       "5898         0.386282  \n",
       "1659         0.378290  \n",
       "1578         0.378290  \n",
       "5899         0.375031  \n",
       "6385         0.375031  \n",
       "1615         0.355948  \n",
       "4693         0.355948  \n",
       "1362         0.315778  \n",
       "4116         0.315778  \n",
       "5900         0.275821  \n",
       "6467         0.275821  \n",
       "1741         0.273574  \n",
       "1579         0.273574  "
      ]
     },
     "execution_count": 39,
     "metadata": {},
     "output_type": "execute_result"
    }
   ],
   "source": [
    "# убрать корреляции атрибута с самим собой\n",
    "# убрать известные связи между Secret_dwarf_info_N и т д\n",
    "df_melted[\n",
    "    (df_melted['attribute1'] != df_melted['attribute2']) &\n",
    "    ~(df_melted['attribute1'].str.contains(\"Secret_dwarf_info_\") & \n",
    "      df_melted['attribute2'].str.contains(\"Secret_dwarf_info_\"))\n",
    "].sort_values(by='correlation_abs', ascending=False).head(20)"
   ]
  },
  {
   "cell_type": "markdown",
   "metadata": {},
   "source": [
    "# Feature Engineering"
   ]
  },
  {
   "cell_type": "markdown",
   "metadata": {},
   "source": [
    "Идеи:\n",
    "* Заполнить пустые значения\n",
    "* Заполнить неизвестной категорией пустоты в Secret_dwarf_info_N (это норм т к атрибут все равно стал бы категориальным)\n",
    "* Фичи обозначенные как категориальные превратить в категории \n",
    "* Deal_date, First_deal_date, First_default_date - вынуть признаки день недели, месяц,\n",
    "* Период между Deal_date и First_deal_date в днях\n",
    "* Период между Deal_date и First_default_date в днях\n",
    "* Если заполнен First_default_date то был дефолт = флаг\n",
    "* Deal_id вероятно бесполезен хотя может содержать в себе информацию о \"новизне\" сделки\n",
    "* Кластеризация k-means (+ расстояние до центроидов) и dbscan - по каким атрибутам?\n",
    "* PCA - каких атрибутов? коррелирующих?\n",
    "* StandardScaler + pipeline"
   ]
  },
  {
   "cell_type": "markdown",
   "metadata": {},
   "source": [
    "Заполнить пустые значения"
   ]
  },
  {
   "cell_type": "code",
   "execution_count": 40,
   "metadata": {},
   "outputs": [
    {
     "data": {
      "text/plain": [
       "Deal_id                      0\n",
       "Deal_date                    0\n",
       "First_deal_date              0\n",
       "Secret_dwarf_info_1       2633\n",
       "Secret_dwarf_info_2       2633\n",
       "Secret_dwarf_info_3       2633\n",
       "First_default_date        2633\n",
       "Successful_deals_count      14\n",
       "Region                       7\n",
       "Tavern                       0\n",
       "Hashed_deal_detail_2         0\n",
       "Hashed_deal_detail_3         0\n",
       "Hashed_deal_detail_4         0\n",
       "Age                          0\n",
       "Gender                       0\n",
       "Default                      0\n",
       "dtype: int64"
      ]
     },
     "execution_count": 40,
     "metadata": {},
     "output_type": "execute_result"
    }
   ],
   "source": [
    "df.isna().sum()"
   ]
  },
  {
   "cell_type": "code",
   "execution_count": 41,
   "metadata": {},
   "outputs": [
    {
     "data": {
      "text/plain": [
       "Successful_deals_count\n",
       "0.0    1903\n",
       "1.0     194\n",
       "2.0     592\n",
       "3.0     244\n",
       "4.0     105\n",
       "Name: Deal_id, dtype: int64"
      ]
     },
     "execution_count": 41,
     "metadata": {},
     "output_type": "execute_result"
    }
   ],
   "source": [
    "df.groupby('Successful_deals_count')['Deal_id'].count().head(5)"
   ]
  },
  {
   "cell_type": "code",
   "execution_count": 42,
   "metadata": {},
   "outputs": [],
   "source": [
    "# заполним пустые Successful_deals_count медианой\n",
    "df['Successful_deals_count'] = df['Successful_deals_count'].fillna(df['Successful_deals_count'].median())"
   ]
  },
  {
   "cell_type": "code",
   "execution_count": 43,
   "metadata": {},
   "outputs": [
    {
     "data": {
      "text/plain": [
       "0.0"
      ]
     },
     "execution_count": 43,
     "metadata": {},
     "output_type": "execute_result"
    }
   ],
   "source": [
    "df['Successful_deals_count'].median()"
   ]
  },
  {
   "cell_type": "code",
   "execution_count": 44,
   "metadata": {},
   "outputs": [
    {
     "data": {
      "text/plain": [
       "Region\n",
       "Tavern_district_0     213\n",
       "Tavern_district_1     240\n",
       "Tavern_district_2     448\n",
       "Tavern_district_3    1204\n",
       "Tavern_district_4     364\n",
       "Tavern_district_5     160\n",
       "Tavern_district_6     478\n",
       "Tavern_district_7      54\n",
       "Name: Deal_id, dtype: int64"
      ]
     },
     "execution_count": 44,
     "metadata": {},
     "output_type": "execute_result"
    }
   ],
   "source": [
    "df.groupby('Region')['Deal_id'].count()"
   ]
  },
  {
   "cell_type": "code",
   "execution_count": 45,
   "metadata": {},
   "outputs": [],
   "source": [
    "# неизвестный регион заполним самым популярным, 7 штук все равно погоды не сделают\n",
    "df['Region'] = df['Region'].fillna('Tavern_district_3')"
   ]
  },
  {
   "cell_type": "code",
   "execution_count": 46,
   "metadata": {},
   "outputs": [],
   "source": [
    "# заполнить неизвестной категорией пустоты в Secret_dwarf_info_N\n",
    "df['Secret_dwarf_info_1'] = df['Secret_dwarf_info_1'].fillna('unknown').astype(str)\n",
    "df['Secret_dwarf_info_2'] = df['Secret_dwarf_info_2'].fillna('unknown').astype(str)\n",
    "df['Secret_dwarf_info_3'] = df['Secret_dwarf_info_3'].fillna('unknown').astype(str)"
   ]
  },
  {
   "cell_type": "markdown",
   "metadata": {},
   "source": [
    "Фичи обозначенные как категориальные превратить в категории"
   ]
  },
  {
   "cell_type": "code",
   "execution_count": 47,
   "metadata": {},
   "outputs": [],
   "source": [
    "start_categories_original = [\n",
    "        'Secret_dwarf_info_1',\n",
    "        'Secret_dwarf_info_2',\n",
    "        'Secret_dwarf_info_3',\n",
    "        'Region',\n",
    "        'Tavern',\n",
    "        'Hashed_deal_detail_2',\n",
    "        'Hashed_deal_detail_3',\n",
    "        'Hashed_deal_detail_4',\n",
    "        'Gender'\n",
    "    ]"
   ]
  },
  {
   "cell_type": "markdown",
   "metadata": {},
   "source": [
    "Deal_date, First_deal_date, First_default_date - вынуть признаки день недели, месяц,"
   ]
  },
  {
   "cell_type": "code",
   "execution_count": 48,
   "metadata": {},
   "outputs": [],
   "source": [
    "df['Deal_date_dayofweek'] = df['Deal_date'].dt.dayofweek\n",
    "df['First_deal_date_dayofweek'] = df['First_deal_date'].dt.dayofweek\n",
    "df['First_default_date_dayofweek'] = df['First_default_date'].dt.dayofweek\n",
    "df['Deal_date_month'] = df['Deal_date'].dt.month\n",
    "df['First_deal_date_month'] = df['First_deal_date'].dt.month\n",
    "df['First_default_date_month'] = df['First_default_date'].dt.month"
   ]
  },
  {
   "cell_type": "code",
   "execution_count": 49,
   "metadata": {},
   "outputs": [],
   "source": [
    "new_date_categories_original = ['Deal_date_dayofweek', \n",
    "                                'First_deal_date_dayofweek', \n",
    "                                'First_default_date_dayofweek', \n",
    "                                'Deal_date_month', \n",
    "                                'First_deal_date_month', \n",
    "                                'First_default_date_month']"
   ]
  },
  {
   "cell_type": "code",
   "execution_count": 50,
   "metadata": {},
   "outputs": [],
   "source": [
    "# период между Deal_date и First_deal_date в днях\n",
    "# период между Deal_date и First_default_date в днях\n",
    "df['deals_period'] = (df['Deal_date'] - df['First_deal_date']).dt.days"
   ]
  },
  {
   "cell_type": "code",
   "execution_count": 51,
   "metadata": {},
   "outputs": [
    {
     "data": {
      "text/plain": [
       "0.0"
      ]
     },
     "execution_count": 51,
     "metadata": {},
     "output_type": "execute_result"
    }
   ],
   "source": [
    "df['deals_period'].isna().mean()"
   ]
  },
  {
   "cell_type": "code",
   "execution_count": 52,
   "metadata": {},
   "outputs": [],
   "source": [
    "# отдельно запишем новые числовые фичи\n",
    "new_numeric_features = []"
   ]
  },
  {
   "cell_type": "code",
   "execution_count": 53,
   "metadata": {},
   "outputs": [],
   "source": [
    "new_features = ['deals_period',]"
   ]
  },
  {
   "cell_type": "code",
   "execution_count": 54,
   "metadata": {},
   "outputs": [],
   "source": [
    "df['first_default_period'] = (df['Deal_date'] - df['First_default_date']).dt.days"
   ]
  },
  {
   "cell_type": "code",
   "execution_count": 55,
   "metadata": {},
   "outputs": [
    {
     "data": {
      "text/plain": [
       "0.8311237373737373"
      ]
     },
     "execution_count": 55,
     "metadata": {},
     "output_type": "execute_result"
    }
   ],
   "source": [
    "df['first_default_period'].isna().mean()"
   ]
  },
  {
   "cell_type": "code",
   "execution_count": 56,
   "metadata": {},
   "outputs": [],
   "source": [
    "df['first_default_period'] = df['first_default_period'].fillna(0)"
   ]
  },
  {
   "cell_type": "code",
   "execution_count": 57,
   "metadata": {},
   "outputs": [],
   "source": [
    "new_features.append('first_default_period')"
   ]
  },
  {
   "cell_type": "code",
   "execution_count": 58,
   "metadata": {},
   "outputs": [],
   "source": [
    "# попробуем создать категорию из first_default_period\n",
    "# пусть все у кого first_default_period = 0 будут в одной группе, по этому такая конструкция\n",
    "# надо чтобы модель отдельно распознала тех у кого нет данных просто о дефолте в прошлом\n",
    "# и отдельно уже разобралась с теми у кого был дефолт но в зав-и от срока \n",
    "df['first_default_period_group'] = np.ceil(df['first_default_period'] / 30)"
   ]
  },
  {
   "cell_type": "code",
   "execution_count": 59,
   "metadata": {},
   "outputs": [
    {
     "data": {
      "text/plain": [
       "first_default_period_group\n",
       "0.0       0.0\n",
       "1.0      30.0\n",
       "2.0      60.0\n",
       "3.0      90.0\n",
       "4.0     120.0\n",
       "5.0     149.0\n",
       "6.0     180.0\n",
       "7.0     210.0\n",
       "8.0     236.0\n",
       "9.0     269.0\n",
       "10.0    297.0\n",
       "11.0    329.0\n",
       "12.0    354.0\n",
       "13.0    367.0\n",
       "14.0    392.0\n",
       "Name: first_default_period, dtype: float64"
      ]
     },
     "execution_count": 59,
     "metadata": {},
     "output_type": "execute_result"
    }
   ],
   "source": [
    "df.groupby('first_default_period_group')['first_default_period'].max()"
   ]
  },
  {
   "cell_type": "code",
   "execution_count": 60,
   "metadata": {},
   "outputs": [
    {
     "data": {
      "text/plain": [
       "first_default_period_group\n",
       "0.0     2633\n",
       "1.0       92\n",
       "2.0       85\n",
       "3.0       84\n",
       "4.0       72\n",
       "5.0       51\n",
       "6.0       47\n",
       "7.0       28\n",
       "8.0       24\n",
       "9.0       21\n",
       "10.0      13\n",
       "11.0      10\n",
       "12.0       4\n",
       "13.0       3\n",
       "14.0       1\n",
       "Name: Deal_id, dtype: int64"
      ]
     },
     "execution_count": 60,
     "metadata": {},
     "output_type": "execute_result"
    }
   ],
   "source": [
    "df.groupby('first_default_period_group')['Deal_id'].count()"
   ]
  },
  {
   "cell_type": "code",
   "execution_count": 61,
   "metadata": {},
   "outputs": [],
   "source": [
    "# если заполнен First_default_date то был дефолт = флаг\n",
    "df['was_defaulted'] = (~df['First_default_date'].isna()).astype(int)"
   ]
  },
  {
   "cell_type": "code",
   "execution_count": 62,
   "metadata": {},
   "outputs": [
    {
     "data": {
      "text/plain": [
       "0.8311237373737373"
      ]
     },
     "execution_count": 62,
     "metadata": {},
     "output_type": "execute_result"
    }
   ],
   "source": [
    "1 - df['was_defaulted'].mean()"
   ]
  },
  {
   "cell_type": "code",
   "execution_count": 63,
   "metadata": {},
   "outputs": [],
   "source": [
    "new_categories = ['was_defaulted', ]"
   ]
  },
  {
   "cell_type": "code",
   "execution_count": 64,
   "metadata": {},
   "outputs": [],
   "source": [
    "start_numeric_features = [\n",
    "    # перечисляем все начальные атрибуты\n",
    "    # 'Deal_id',  # бесполезен и опасен\n",
    "    # 'Deal_date',  # взяли что хотели \n",
    "    # 'First_deal_date',  # взяли что хотели \n",
    "    # 'Secret_dwarf_info_1',  # превратили в категорию\n",
    "    # 'Secret_dwarf_info_2',  # превратили в категорию\n",
    "    # 'Secret_dwarf_info_3',  # превратили в категорию\n",
    "    # 'First_default_date',  # взяли что хотели \n",
    "    'Successful_deals_count',\n",
    "    # 'Region',  # превратили в категорию\n",
    "    # 'Tavern',  # превратили в категорию\n",
    "    # 'Hashed_deal_detail_2',  # превратили в категорию\n",
    "    # 'Hashed_deal_detail_3',  # превратили в категорию\n",
    "    # 'Hashed_deal_detail_4',  # превратили в категорию\n",
    "    'Age',\n",
    "    # 'Gender',  # превратили в категорию\n",
    "]"
   ]
  },
  {
   "cell_type": "markdown",
   "metadata": {},
   "source": [
    "Итоговые фичи\n",
    "* start_categories_original - начальные категориальные признаки\n",
    "* start_categories - начальные категориальные признаки развернутые в категории\n",
    "* start_numeric_features - начальные вещественные категории\n",
    "* new_date_categories_original - новые категориальные признаки по атрибутам даты\n",
    "* new_date_categories - новые категориальные признаки по атрибутам даты, развёрнутые в категории\n",
    "* new_features - новые вещественные признаки\n",
    "* new_add_categories_original - новые категорииальные признаки\n",
    "* new_add_categories - новые категорииальные признаки размазанные по категориям\n",
    "* new_categories - новые категорииальные признаки (сразу по категориям)"
   ]
  },
  {
   "cell_type": "markdown",
   "metadata": {},
   "source": [
    "# Modeling"
   ]
  },
  {
   "cell_type": "markdown",
   "metadata": {},
   "source": [
    "Идеи: \\\n",
    "Бейслайн на катбусте т к много категориальны переменных \\\n",
    "Калибровка модели т к в задаче просят верятности \\\n",
    "Оценка модели - на кросс валидации TimeSeriesSplit потому что у нас временные денные"
   ]
  },
  {
   "cell_type": "code",
   "execution_count": 66,
   "metadata": {},
   "outputs": [],
   "source": [
    "# приведем данные в хронологический порядок\n",
    "df = df.sort_values(by='Deal_date', ascending=True)"
   ]
  },
  {
   "cell_type": "code",
   "execution_count": 82,
   "metadata": {},
   "outputs": [],
   "source": [
    "# создадим переиспользуемую функцию для кросс валидации катбуста\n",
    "def learn_catboost(X, y, cat_features):\n",
    "    \n",
    "    \n",
    "    pipe = Pipeline(\n",
    "            [#('scaler', StandardScaler()), \n",
    "             ('classification', CatBoostClassifier(cat_features=cat_features, verbose=600))\n",
    "            ]\n",
    "        )\n",
    "    \n",
    "    tscv = TimeSeriesSplit(n_splits=5)\n",
    "    scores = []\n",
    "    for train_index, test_index in tscv.split(X):\n",
    "        \n",
    "        X_train, X_test = X.iloc[train_index].copy(), X.iloc[test_index].copy()\n",
    "        y_train, y_test = y.iloc[train_index].copy(), y.iloc[test_index].copy()\n",
    "        \n",
    "        for col in cat_features:\n",
    "            X_train[col] = X_train[col].fillna('unknown').astype(str)\n",
    "            X_test[col] = X_test[col].fillna('unknown').astype(str)\n",
    "        \n",
    "        pipe.fit(X_train, y_train)\n",
    "        scores.append(roc_auc_score(y_test,pipe.predict_proba(X_test)[:,1]))\n",
    "    print(scores)\n",
    "    return X_train, y_train, X_test, y_test, round(sum(scores) / 5, 4), pipe"
   ]
  },
  {
   "cell_type": "code",
   "execution_count": 122,
   "metadata": {},
   "outputs": [],
   "source": [
    "# создадим переиспользуемую функцию для кросс валидации случайного леса\n",
    "# здесь занимаемся жуткой вознёй которую катбуст берёт на себя внутри\n",
    "def learn_rf(X, y, VALUABLE_CATEGORY_THR, rf_params=None):\n",
    "    \n",
    "    start_categories_original = [\n",
    "        # От следующих атрибутов решено отказаться т.к. они объясняют дефолт в прошлом который мало связан с дефолтом в настоящем\n",
    "        # Да и качество модели без них только лучше\n",
    "        # 'Secret_dwarf_info_1',\n",
    "        # 'Secret_dwarf_info_2',\n",
    "        # 'Secret_dwarf_info_3',\n",
    "        'Region',\n",
    "        'Tavern',\n",
    "        'Hashed_deal_detail_2',\n",
    "        'Hashed_deal_detail_3',\n",
    "        'Hashed_deal_detail_4',\n",
    "        'Gender'\n",
    "    ]\n",
    "    \n",
    "    new_date_categories_original = [\n",
    "        'Deal_date_dayofweek', \n",
    "        'First_deal_date_dayofweek', \n",
    "        'First_default_date_dayofweek', \n",
    "        'Deal_date_month', \n",
    "        'First_deal_date_month', \n",
    "        'First_default_date_month'\n",
    "    ]\n",
    "    \n",
    "    tscv = TimeSeriesSplit(n_splits=5)\n",
    "    scores = []\n",
    "    for train_index, test_index in tscv.split(X):\n",
    "        \n",
    "        X_train, X_test = X.iloc[train_index].copy(), X.iloc[test_index].copy()\n",
    "        y_train, y_test = y.iloc[train_index].copy(), y.iloc[test_index].copy()\n",
    "        \n",
    "        # Применим к трейну OHE к start_categories_original\n",
    "        X_train, start_categories, start_categories_encoder = add_categories(\n",
    "            X_train, \n",
    "            start_categories_original\n",
    "        )\n",
    "        \n",
    "        # Применим трейну OHE к new_date_categories_original\n",
    "        X_train, new_date_categories, new_date_categories_encoder = add_categories(\n",
    "            X_train, \n",
    "            new_date_categories_original\n",
    "        )\n",
    "        \n",
    "        # Применим к тесту OHE к start_categories_original\n",
    "        X_test = apply_category_encoder(X_test, start_categories_original, start_categories_encoder)\n",
    "        \n",
    "        # Применим к тесту OHE к new_date_categories_original\n",
    "        X_test = apply_category_encoder(\n",
    "            X_test, \n",
    "            new_date_categories_original,\n",
    "            new_date_categories_encoder\n",
    "        )\n",
    "        \n",
    "        # список атрибутов для перебора на предмет неинформативности\n",
    "        use_features = [col \n",
    "                        for col in list(X_train.columns) \n",
    "                        if col not in start_categories_original and col not in new_date_categories_original]\n",
    "        \n",
    "        # возьмем хотябы более-менее значимые категории\n",
    "        use_columns = []\n",
    "        for column in use_features:\n",
    "            data = X_train.groupby(column)[column].count()\n",
    "            # бинарную категориальную фичу\n",
    "            if len(data) == 2:\n",
    "                val1 = data[0]\n",
    "                val2 = data[1]\n",
    "                # считаем информативной если в меньшей категории более VALUABLE_CATEGORY_THR значений\n",
    "                if val2 > VALUABLE_CATEGORY_THR:\n",
    "                    use_columns.append(column)\n",
    "            else:\n",
    "                use_columns.append(column)\n",
    "                \n",
    "        use_features = use_columns\n",
    "        \n",
    "        # Hashed_deal_detail_N коррелировали между собой и с Successful_deals_count\n",
    "        # Есть смысл слепить из них более информативные атрибуты с пом-ю PCA \n",
    "        features_to_pca_1 = [col \n",
    "                             for col in use_features \n",
    "                             if ('Hashed_deal_detail' in col or \n",
    "                                 'Successful_deals_count' in col)]\n",
    "        \n",
    "        # остальные фичи просто отскалируем\n",
    "        other_features = [col \n",
    "                          for col in use_features \n",
    "                          if col not in features_to_pca_1]\n",
    "        \n",
    "        # отдельный пайплайн для PCA\n",
    "        pca_transformer_1 = Pipeline(\n",
    "            steps=[\n",
    "                ('scaler', StandardScaler()),  # Масштабируем данные\n",
    "                ('pca_1', PCA(n_components=len(features_to_pca_1)))   # Применяем PCA \n",
    "            ]\n",
    "        )\n",
    "        \n",
    "        # отдельный пайплайн для скалирования фичей\n",
    "        scaler_other = Pipeline([\n",
    "            ('scaler', StandardScaler())  # Масштабируем остальные фичи\n",
    "        ])\n",
    "        \n",
    "        # трансформеры вместе\n",
    "        preprocessor = ColumnTransformer(\n",
    "            transformers=[\n",
    "                ('pca_transformer_1', pca_transformer_1, features_to_pca_1),\n",
    "                ('scaler_other', scaler_other, other_features)\n",
    "            ],\n",
    "            remainder='passthrough'  # Оставляем остальные фичи без изменений\n",
    "        )\n",
    "        \n",
    "        # для режима работы когда нам передали на вход рекомендуемые гиперпараметры для обучения модели\n",
    "        # такое происходит далее во время перебора для кросс валидации\n",
    "        # если не передали rf_params значит обучаем на стандартных\n",
    "        if rf_params is not None:\n",
    "            n_estimators = rf_params['classifier__n_estimators']\n",
    "            max_depth = rf_params['classifier__max_depth']\n",
    "            min_samples_split = rf_params['classifier__min_samples_split']\n",
    "            min_samples_leaf = rf_params['classifier__min_samples_leaf']\n",
    "            rf = RandomForestClassifier(random_state=42,\n",
    "                                        n_estimators=n_estimators,\n",
    "                                        max_depth=max_depth,\n",
    "                                        min_samples_split=min_samples_split,\n",
    "                                        min_samples_leaf=min_samples_leaf\n",
    "                                        )\n",
    "        else:\n",
    "            rf = RandomForestClassifier(random_state=42)\n",
    "        \n",
    "        # трансформеры атрибутов и модель вместе\n",
    "        pipe = Pipeline(\n",
    "            [\n",
    "                ('preprocessor', preprocessor),\n",
    "                ('classifier', rf)\n",
    "            ]\n",
    "        )\n",
    "        \n",
    "        # обучение \n",
    "        pipe.fit(X_train[use_features], y_train)\n",
    "        \n",
    "        # сохраним auc-roc score для каждого фолда\n",
    "        scores.append(roc_auc_score(y_test,pipe.predict_proba(X_test[use_features])[:,1]))\n",
    "    print(scores)\n",
    "    \n",
    "    # здесь возвращаем всё с последней итерации кросс валидации и это считаем окончательным результатом:\n",
    "    # трейн, тест, средний скор, энкодеры, модель и ост.\n",
    "    return (X_train, \n",
    "            y_train, \n",
    "            X_test, \n",
    "            y_test, \n",
    "            round(sum(scores) / 5, 4), \n",
    "            pipe, \n",
    "            start_categories_encoder, \n",
    "            new_date_categories_encoder, \n",
    "            use_features)"
   ]
  },
  {
   "cell_type": "code",
   "execution_count": 123,
   "metadata": {},
   "outputs": [],
   "source": [
    "use_features = start_categories_original + \\\n",
    "               start_numeric_features + \\\n",
    "               new_date_categories_original + \\\n",
    "               new_features + \\\n",
    "               new_categories #+ new_add_categories_original"
   ]
  },
  {
   "cell_type": "code",
   "execution_count": 124,
   "metadata": {},
   "outputs": [],
   "source": [
    "cat_features = start_categories_original + new_date_categories_original + new_categories #+ new_add_categories_original"
   ]
  },
  {
   "cell_type": "code",
   "execution_count": 88,
   "metadata": {},
   "outputs": [
    {
     "name": "stdout",
     "output_type": "stream",
     "text": [
      "Learning rate set to 0.007843\n",
      "0:\tlearn: 0.6878288\ttotal: 212ms\tremaining: 3m 31s\n",
      "600:\tlearn: 0.2990747\ttotal: 15.4s\tremaining: 10.2s\n",
      "999:\tlearn: 0.2237495\ttotal: 26.2s\tremaining: 0us\n",
      "[0.7256518633170614]\n",
      "Learning rate set to 0.010545\n",
      "0:\tlearn: 0.6849873\ttotal: 21.7ms\tremaining: 21.7s\n",
      "600:\tlearn: 0.2916855\ttotal: 17.1s\tremaining: 11.3s\n",
      "999:\tlearn: 0.2380934\ttotal: 30.2s\tremaining: 0us\n",
      "[0.7256518633170614, 0.6758689175769613]\n",
      "Learning rate set to 0.012538\n",
      "0:\tlearn: 0.6840496\ttotal: 17ms\tremaining: 17s\n",
      "600:\tlearn: 0.2737502\ttotal: 16.3s\tremaining: 10.8s\n",
      "999:\tlearn: 0.2264770\ttotal: 29.4s\tremaining: 0us\n",
      "[0.7256518633170614, 0.6758689175769613, 0.7483870967741937]\n",
      "Learning rate set to 0.014177\n",
      "0:\tlearn: 0.6812197\ttotal: 23.3ms\tremaining: 23.3s\n",
      "600:\tlearn: 0.2621264\ttotal: 18.9s\tremaining: 12.6s\n",
      "999:\tlearn: 0.2209375\ttotal: 34.5s\tremaining: 0us\n",
      "[0.7256518633170614, 0.6758689175769613, 0.7483870967741937, 0.7194430443548387]\n",
      "Learning rate set to 0.015594\n",
      "0:\tlearn: 0.6793599\ttotal: 24ms\tremaining: 24s\n",
      "600:\tlearn: 0.2391445\ttotal: 18.4s\tremaining: 12.2s\n",
      "999:\tlearn: 0.1999904\ttotal: 32.3s\tremaining: 0us\n",
      "[0.7256518633170614, 0.6758689175769613, 0.7483870967741937, 0.7194430443548387, 0.7535000786534529]\n"
     ]
    }
   ],
   "source": [
    "# Обучение кросс-валидации \n",
    "\n",
    "X = df[use_features]\n",
    "y = df['Default']\n",
    "X_train, y_train, X_test, y_test, avg_score, model = learn_catboost(X, y, cat_features)"
   ]
  },
  {
   "cell_type": "code",
   "execution_count": 89,
   "metadata": {},
   "outputs": [
    {
     "name": "stdout",
     "output_type": "stream",
     "text": [
      "CV avg roc_auc_score is: 0.7246\n"
     ]
    }
   ],
   "source": [
    "print(f'CV avg roc_auc_score is: {avg_score}')"
   ]
  },
  {
   "cell_type": "code",
   "execution_count": 91,
   "metadata": {},
   "outputs": [
    {
     "data": {
      "text/plain": [
       "<sklearn.calibration.CalibrationDisplay at 0x1bbdc294988>"
      ]
     },
     "execution_count": 91,
     "metadata": {},
     "output_type": "execute_result"
    },
    {
     "data": {
      "image/png": "[encoded data removed]",
      "text/plain": [
       "<Figure size 432x288 with 1 Axes>"
      ]
     },
     "metadata": {
      "needs_background": "light"
     },
     "output_type": "display_data"
    }
   ],
   "source": [
    "# откалибровать модель (в задаче требуются вероятности)\n",
    "# здесь y_test, X_test сразу подставляются из последней итерации TimeSeriesSplit валидации\n",
    "# судя по графику калибровка требуется\n",
    "CalibrationDisplay.from_predictions(y_test, \n",
    "                                    model.predict_proba(X_test)[:,1],\n",
    "                                    n_bins=15)"
   ]
  },
  {
   "cell_type": "code",
   "execution_count": 92,
   "metadata": {},
   "outputs": [
    {
     "name": "stdout",
     "output_type": "stream",
     "text": [
      "Learning rate set to 0.013115\n",
      "0:\tlearn: 0.6819889\ttotal: 30.5ms\tremaining: 30.5s\n",
      "600:\tlearn: 0.2088408\ttotal: 17.2s\tremaining: 11.4s\n",
      "999:\tlearn: 0.1685105\ttotal: 32.5s\tremaining: 0us\n",
      "Learning rate set to 0.013115\n",
      "0:\tlearn: 0.6822325\ttotal: 24.1ms\tremaining: 24.1s\n",
      "600:\tlearn: 0.2164205\ttotal: 17.6s\tremaining: 11.7s\n",
      "999:\tlearn: 0.1764330\ttotal: 30.1s\tremaining: 0us\n",
      "Learning rate set to 0.013115\n",
      "0:\tlearn: 0.6817476\ttotal: 20.7ms\tremaining: 20.7s\n",
      "600:\tlearn: 0.2352663\ttotal: 16.7s\tremaining: 11.1s\n",
      "999:\tlearn: 0.1893784\ttotal: 28.7s\tremaining: 0us\n"
     ]
    },
    {
     "data": {
      "text/plain": [
       "<sklearn.calibration.CalibrationDisplay at 0x1bbdd83d688>"
      ]
     },
     "execution_count": 92,
     "metadata": {},
     "output_type": "execute_result"
    },
    {
     "data": {
      "image/png": "[encoded data removed]",
      "text/plain": [
       "<Figure size 432x288 with 1 Axes>"
      ]
     },
     "metadata": {
      "needs_background": "light"
     },
     "output_type": "display_data"
    }
   ],
   "source": [
    "# калибруем\n",
    "calibration = CalibratedClassifierCV(model, cv=3, method='sigmoid')\n",
    "calibration.fit(X_train, y_train)\n",
    "CalibrationDisplay.from_predictions(y_test, \n",
    "                                    calibration.predict_proba(X_test)[:,1],\n",
    "                                    n_bins=15)"
   ]
  },
  {
   "cell_type": "code",
   "execution_count": 93,
   "metadata": {},
   "outputs": [
    {
     "data": {
      "text/plain": [
       "<matplotlib.axes._subplots.AxesSubplot at 0x1bbdd8aebc8>"
      ]
     },
     "execution_count": 93,
     "metadata": {},
     "output_type": "execute_result"
    },
    {
     "data": {
      "image/png": "[encoded data removed]",
      "text/plain": [
       "<Figure size 432x432 with 1 Axes>"
      ]
     },
     "metadata": {
      "needs_background": "light"
     },
     "output_type": "display_data"
    }
   ],
   "source": [
    "# построим график roc\n",
    "fprs, tprs, thrs = roc_curve(y_test,calibration.predict_proba(X_test)[:,1])\n",
    "roc = pd.DataFrame({'fpr':fprs,'tpr':tprs,'thr':thrs})\n",
    "roc.set_index('fpr')['tpr'].plot(figsize=(6,6))"
   ]
  },
  {
   "cell_type": "code",
   "execution_count": 94,
   "metadata": {},
   "outputs": [
    {
     "name": "stdout",
     "output_type": "stream",
     "text": [
      "Calibrated model roc_auc_score is: 0.7271773897540768\n"
     ]
    }
   ],
   "source": [
    "score = roc_auc_score(y_test,calibration.predict_proba(X_test)[:,1])\n",
    "print(f'Calibrated model roc_auc_score is: {score}')"
   ]
  },
  {
   "cell_type": "code",
   "execution_count": 95,
   "metadata": {},
   "outputs": [
    {
     "data": {
      "text/html": [
       "<div>\n",
       "<style scoped>\n",
       "    .dataframe tbody tr th:only-of-type {\n",
       "        vertical-align: middle;\n",
       "    }\n",
       "\n",
       "    .dataframe tbody tr th {\n",
       "        vertical-align: top;\n",
       "    }\n",
       "\n",
       "    .dataframe thead th {\n",
       "        text-align: right;\n",
       "    }\n",
       "</style>\n",
       "<table border=\"1\" class=\"dataframe\">\n",
       "  <thead>\n",
       "    <tr style=\"text-align: right;\">\n",
       "      <th></th>\n",
       "      <th>column</th>\n",
       "      <th>importance</th>\n",
       "    </tr>\n",
       "  </thead>\n",
       "  <tbody>\n",
       "    <tr>\n",
       "      <th>17</th>\n",
       "      <td>deals_period</td>\n",
       "      <td>13.977880</td>\n",
       "    </tr>\n",
       "    <tr>\n",
       "      <th>10</th>\n",
       "      <td>Age</td>\n",
       "      <td>11.066664</td>\n",
       "    </tr>\n",
       "    <tr>\n",
       "      <th>4</th>\n",
       "      <td>Tavern</td>\n",
       "      <td>8.943634</td>\n",
       "    </tr>\n",
       "    <tr>\n",
       "      <th>15</th>\n",
       "      <td>First_deal_date_month</td>\n",
       "      <td>7.420156</td>\n",
       "    </tr>\n",
       "    <tr>\n",
       "      <th>6</th>\n",
       "      <td>Hashed_deal_detail_3</td>\n",
       "      <td>6.951647</td>\n",
       "    </tr>\n",
       "    <tr>\n",
       "      <th>3</th>\n",
       "      <td>Region</td>\n",
       "      <td>6.478566</td>\n",
       "    </tr>\n",
       "    <tr>\n",
       "      <th>11</th>\n",
       "      <td>Deal_date_dayofweek</td>\n",
       "      <td>6.456202</td>\n",
       "    </tr>\n",
       "    <tr>\n",
       "      <th>14</th>\n",
       "      <td>Deal_date_month</td>\n",
       "      <td>5.880473</td>\n",
       "    </tr>\n",
       "    <tr>\n",
       "      <th>12</th>\n",
       "      <td>First_deal_date_dayofweek</td>\n",
       "      <td>5.360011</td>\n",
       "    </tr>\n",
       "    <tr>\n",
       "      <th>7</th>\n",
       "      <td>Hashed_deal_detail_4</td>\n",
       "      <td>4.521924</td>\n",
       "    </tr>\n",
       "    <tr>\n",
       "      <th>8</th>\n",
       "      <td>Gender</td>\n",
       "      <td>4.197500</td>\n",
       "    </tr>\n",
       "    <tr>\n",
       "      <th>2</th>\n",
       "      <td>Secret_dwarf_info_3</td>\n",
       "      <td>3.137453</td>\n",
       "    </tr>\n",
       "    <tr>\n",
       "      <th>1</th>\n",
       "      <td>Secret_dwarf_info_2</td>\n",
       "      <td>3.035478</td>\n",
       "    </tr>\n",
       "    <tr>\n",
       "      <th>5</th>\n",
       "      <td>Hashed_deal_detail_2</td>\n",
       "      <td>2.882018</td>\n",
       "    </tr>\n",
       "    <tr>\n",
       "      <th>9</th>\n",
       "      <td>Successful_deals_count</td>\n",
       "      <td>2.566008</td>\n",
       "    </tr>\n",
       "    <tr>\n",
       "      <th>0</th>\n",
       "      <td>Secret_dwarf_info_1</td>\n",
       "      <td>2.308108</td>\n",
       "    </tr>\n",
       "    <tr>\n",
       "      <th>13</th>\n",
       "      <td>First_default_date_dayofweek</td>\n",
       "      <td>1.658438</td>\n",
       "    </tr>\n",
       "    <tr>\n",
       "      <th>18</th>\n",
       "      <td>first_default_period</td>\n",
       "      <td>1.525692</td>\n",
       "    </tr>\n",
       "    <tr>\n",
       "      <th>16</th>\n",
       "      <td>First_default_date_month</td>\n",
       "      <td>1.161217</td>\n",
       "    </tr>\n",
       "    <tr>\n",
       "      <th>19</th>\n",
       "      <td>was_defaulted</td>\n",
       "      <td>0.470930</td>\n",
       "    </tr>\n",
       "  </tbody>\n",
       "</table>\n",
       "</div>"
      ],
      "text/plain": [
       "                          column  importance\n",
       "17                  deals_period   13.977880\n",
       "10                           Age   11.066664\n",
       "4                         Tavern    8.943634\n",
       "15         First_deal_date_month    7.420156\n",
       "6           Hashed_deal_detail_3    6.951647\n",
       "3                         Region    6.478566\n",
       "11           Deal_date_dayofweek    6.456202\n",
       "14               Deal_date_month    5.880473\n",
       "12     First_deal_date_dayofweek    5.360011\n",
       "7           Hashed_deal_detail_4    4.521924\n",
       "8                         Gender    4.197500\n",
       "2            Secret_dwarf_info_3    3.137453\n",
       "1            Secret_dwarf_info_2    3.035478\n",
       "5           Hashed_deal_detail_2    2.882018\n",
       "9         Successful_deals_count    2.566008\n",
       "0            Secret_dwarf_info_1    2.308108\n",
       "13  First_default_date_dayofweek    1.658438\n",
       "18          first_default_period    1.525692\n",
       "16      First_default_date_month    1.161217\n",
       "19                 was_defaulted    0.470930"
      ]
     },
     "execution_count": 95,
     "metadata": {},
     "output_type": "execute_result"
    }
   ],
   "source": [
    "# посмотрим на важность фичей в бейслайне\n",
    "model_meta = calibration.base_estimator.steps[0][1]\n",
    "fe = pd.DataFrame()\n",
    "fe['column'] = np.array(X_test.columns)\n",
    "fe['importance'] = np.array(model_meta.feature_importances_)\n",
    "fe.sort_values(by='importance', ascending=False)"
   ]
  },
  {
   "cell_type": "code",
   "execution_count": 96,
   "metadata": {},
   "outputs": [
    {
     "name": "stdout",
     "output_type": "stream",
     "text": [
      "Learning rate set to 0.007843\n",
      "0:\tlearn: 0.6890780\ttotal: 4.31ms\tremaining: 4.3s\n",
      "600:\tlearn: 0.3030286\ttotal: 13.7s\tremaining: 9.1s\n",
      "999:\tlearn: 0.2337590\ttotal: 24.2s\tremaining: 0us\n",
      "[0.7193118228360519]\n",
      "Learning rate set to 0.010545\n",
      "0:\tlearn: 0.6856819\ttotal: 17.8ms\tremaining: 17.8s\n",
      "600:\tlearn: 0.2974252\ttotal: 14.2s\tremaining: 9.41s\n",
      "999:\tlearn: 0.2439720\ttotal: 24.3s\tremaining: 0us\n",
      "[0.7193118228360519, 0.6616087388282026]\n",
      "Learning rate set to 0.012538\n",
      "0:\tlearn: 0.6837744\ttotal: 18ms\tremaining: 18s\n",
      "600:\tlearn: 0.2745703\ttotal: 15.1s\tremaining: 10.1s\n",
      "999:\tlearn: 0.2323134\ttotal: 26.5s\tremaining: 0us\n",
      "[0.7193118228360519, 0.6616087388282026, 0.7428912783751493]\n",
      "Learning rate set to 0.014177\n",
      "0:\tlearn: 0.6822984\ttotal: 20.4ms\tremaining: 20.3s\n",
      "600:\tlearn: 0.2654419\ttotal: 14.9s\tremaining: 9.9s\n",
      "999:\tlearn: 0.2237317\ttotal: 25.2s\tremaining: 0us\n",
      "[0.7193118228360519, 0.6616087388282026, 0.7428912783751493, 0.7330519153225806]\n",
      "Learning rate set to 0.015594\n",
      "0:\tlearn: 0.6803095\ttotal: 11.7ms\tremaining: 11.7s\n",
      "600:\tlearn: 0.2432551\ttotal: 14.8s\tremaining: 9.86s\n",
      "999:\tlearn: 0.2016087\ttotal: 25.8s\tremaining: 0us\n",
      "[0.7193118228360519, 0.6616087388282026, 0.7428912783751493, 0.7330519153225806, 0.7661895023858214]\n"
     ]
    }
   ],
   "source": [
    "# избавимся от Deal_date определённые значения которого аномально доминирую в тестовом датасете\n",
    "# Secret_dwarf_info тоже уберем, в основном пустые\n",
    "# в надежде на то что система проверки примеит лучше новую модель\n",
    "use_features_cut_2 = [\n",
    "    col for col in use_features \n",
    "    if col not in ('Secret_dwarf_info_1', 'Secret_dwarf_info_2', 'Secret_dwarf_info_3', 'Deal_date_month', 'Deal_date_dayofweek')\n",
    "]\n",
    "\n",
    "cat_features_cut_2 = [\n",
    "    col for col in cat_features \n",
    "    if col not in ('Secret_dwarf_info_1', 'Secret_dwarf_info_2', 'Secret_dwarf_info_3', 'Deal_date_month', 'Deal_date_dayofweek')\n",
    "]\n",
    "\n",
    "X = df[use_features_cut_2]\n",
    "y = df['Default']\n",
    "X_train, y_train, X_test, y_test, avg_score, model = learn_catboost(X, y, cat_features_cut_2)"
   ]
  },
  {
   "cell_type": "code",
   "execution_count": 99,
   "metadata": {},
   "outputs": [
    {
     "name": "stdout",
     "output_type": "stream",
     "text": [
      "CV avg roc_auc_score cut_2 is: 0.7246\n"
     ]
    }
   ],
   "source": [
    "print(f'CV avg roc_auc_score cut_2 is: {avg_score}')"
   ]
  },
  {
   "cell_type": "code",
   "execution_count": 100,
   "metadata": {},
   "outputs": [
    {
     "name": "stdout",
     "output_type": "stream",
     "text": [
      "Learning rate set to 0.013115\n",
      "0:\tlearn: 0.6830018\ttotal: 22.9ms\tremaining: 22.9s\n",
      "600:\tlearn: 0.2235474\ttotal: 16.6s\tremaining: 11s\n",
      "999:\tlearn: 0.1802649\ttotal: 28.3s\tremaining: 0us\n",
      "Learning rate set to 0.013115\n",
      "0:\tlearn: 0.6829821\ttotal: 23.3ms\tremaining: 23.3s\n",
      "600:\tlearn: 0.2444653\ttotal: 16.3s\tremaining: 10.8s\n",
      "999:\tlearn: 0.2026274\ttotal: 27.8s\tremaining: 0us\n",
      "Learning rate set to 0.013115\n",
      "0:\tlearn: 0.6829722\ttotal: 29.2ms\tremaining: 29.2s\n",
      "600:\tlearn: 0.2441776\ttotal: 17.2s\tremaining: 11.4s\n",
      "999:\tlearn: 0.2004780\ttotal: 30.1s\tremaining: 0us\n"
     ]
    },
    {
     "data": {
      "text/plain": [
       "<sklearn.calibration.CalibrationDisplay at 0x1bbdc618c08>"
      ]
     },
     "execution_count": 100,
     "metadata": {},
     "output_type": "execute_result"
    },
    {
     "data": {
      "image/png": "[encoded data removed]",
      "text/plain": [
       "<Figure size 432x288 with 1 Axes>"
      ]
     },
     "metadata": {
      "needs_background": "light"
     },
     "output_type": "display_data"
    }
   ],
   "source": [
    "calibration = CalibratedClassifierCV(model, cv=3, method='sigmoid')\n",
    "calibration.fit(X_train, y_train)\n",
    "CalibrationDisplay.from_predictions(y_test, \n",
    "                                    calibration.predict_proba(X_test)[:,1],\n",
    "                                    n_bins=15)"
   ]
  },
  {
   "cell_type": "code",
   "execution_count": 130,
   "metadata": {},
   "outputs": [
    {
     "name": "stdout",
     "output_type": "stream",
     "text": [
      "[0.7329741635909037, 0.6414697120158889, 0.7263696876600101, 0.7634198588709679, 0.718315767395522]\n"
     ]
    }
   ],
   "source": [
    "# другую модель обучим\n",
    "use_features = start_categories_original + \\\n",
    "               start_numeric_features + \\\n",
    "               new_date_categories_original + \\\n",
    "               new_features + \\\n",
    "               new_categories #+ new_add_categories_original\n",
    "\n",
    "# попробовать оставить эти фичи?\n",
    "use_features = [\n",
    "    col for col in use_features \n",
    "    if 'Secret_dwarf_info' not in col\n",
    "]\n",
    "\n",
    "X = df[use_features]\n",
    "y = df['Default']\n",
    "\n",
    "# здесь мы уже нмиже провели кросс-валидацию и вернулись сюда с луычшими гиперпараметрами\n",
    "rf_params = {'classifier__n_estimators': 50,\n",
    "             'classifier__max_depth': 5,\n",
    "             'classifier__min_samples_split': 10,\n",
    "             'classifier__min_samples_leaf': 1}\n",
    "\n",
    "X_train, \\\n",
    "y_train, \\\n",
    "X_test, \\\n",
    "y_test, \\\n",
    "avg_score, \\\n",
    "model, \\\n",
    "start_categories_encoder, \\\n",
    "new_date_categories_encoder, \\\n",
    "use_features = learn_rf(X, y, 30, rf_params)"
   ]
  },
  {
   "cell_type": "code",
   "execution_count": 126,
   "metadata": {},
   "outputs": [
    {
     "name": "stdout",
     "output_type": "stream",
     "text": [
      "CV avg roc_auc_score cut_2 is: 0.7165\n"
     ]
    }
   ],
   "source": [
    "# Как показала проверка на отдельном тестовом датасете - то что на кросс валдидации трейна качество хуже ещё ничего не значит\n",
    "print(f'CV avg roc_auc_score cut_2 is: {avg_score}')"
   ]
  },
  {
   "cell_type": "code",
   "execution_count": 186,
   "metadata": {},
   "outputs": [
    {
     "name": "stderr",
     "output_type": "stream",
     "text": [
      "C:\\Users\\maslo\\Anaconda3\\lib\\site-packages\\sklearn\\preprocessing\\_encoders.py:174: UserWarning: Found unknown categories in columns [1, 2, 3, 4] during transform. These unknown categories will be encoded as all zeros\n",
      "  UserWarning,\n",
      "C:\\Users\\maslo\\Anaconda3\\lib\\site-packages\\sklearn\\preprocessing\\_encoders.py:174: UserWarning: Found unknown categories in columns [3, 4, 5] during transform. These unknown categories will be encoded as all zeros\n",
      "  UserWarning,\n",
      "C:\\Users\\maslo\\Anaconda3\\lib\\site-packages\\sklearn\\preprocessing\\_encoders.py:174: UserWarning: Found unknown categories in columns [1, 2, 3, 4] during transform. These unknown categories will be encoded as all zeros\n",
      "  UserWarning,\n",
      "C:\\Users\\maslo\\Anaconda3\\lib\\site-packages\\sklearn\\preprocessing\\_encoders.py:174: UserWarning: Found unknown categories in columns [5] during transform. These unknown categories will be encoded as all zeros\n",
      "  UserWarning,\n",
      "C:\\Users\\maslo\\Anaconda3\\lib\\site-packages\\sklearn\\preprocessing\\_encoders.py:174: UserWarning: Found unknown categories in columns [1, 2, 3, 4] during transform. These unknown categories will be encoded as all zeros\n",
      "  UserWarning,\n",
      "C:\\Users\\maslo\\Anaconda3\\lib\\site-packages\\sklearn\\preprocessing\\_encoders.py:174: UserWarning: Found unknown categories in columns [2, 3, 4] during transform. These unknown categories will be encoded as all zeros\n",
      "  UserWarning,\n",
      "C:\\Users\\maslo\\Anaconda3\\lib\\site-packages\\sklearn\\preprocessing\\_encoders.py:174: UserWarning: Found unknown categories in columns [2] during transform. These unknown categories will be encoded as all zeros\n",
      "  UserWarning,\n",
      "C:\\Users\\maslo\\Anaconda3\\lib\\site-packages\\sklearn\\preprocessing\\_encoders.py:174: UserWarning: Found unknown categories in columns [1, 2, 3, 4] during transform. These unknown categories will be encoded as all zeros\n",
      "  UserWarning,\n",
      "C:\\Users\\maslo\\Anaconda3\\lib\\site-packages\\sklearn\\preprocessing\\_encoders.py:174: UserWarning: Found unknown categories in columns [1, 2, 3, 4] during transform. These unknown categories will be encoded as all zeros\n",
      "  UserWarning,\n",
      "C:\\Users\\maslo\\Anaconda3\\lib\\site-packages\\sklearn\\preprocessing\\_encoders.py:174: UserWarning: Found unknown categories in columns [3, 4, 5] during transform. These unknown categories will be encoded as all zeros\n",
      "  UserWarning,\n"
     ]
    },
    {
     "name": "stdout",
     "output_type": "stream",
     "text": [
      "[0.686301940707227, 0.5805759682224428, 0.6480969448711383, 0.6643145161290324, 0.553982486497824]\n"
     ]
    },
    {
     "name": "stderr",
     "output_type": "stream",
     "text": [
      "C:\\Users\\maslo\\Anaconda3\\lib\\site-packages\\sklearn\\preprocessing\\_encoders.py:174: UserWarning: Found unknown categories in columns [1, 2, 3, 4] during transform. These unknown categories will be encoded as all zeros\n",
      "  UserWarning,\n",
      "C:\\Users\\maslo\\Anaconda3\\lib\\site-packages\\sklearn\\preprocessing\\_encoders.py:174: UserWarning: Found unknown categories in columns [5] during transform. These unknown categories will be encoded as all zeros\n",
      "  UserWarning,\n",
      "C:\\Users\\maslo\\Anaconda3\\lib\\site-packages\\sklearn\\preprocessing\\_encoders.py:174: UserWarning: Found unknown categories in columns [1, 2, 3, 4] during transform. These unknown categories will be encoded as all zeros\n",
      "  UserWarning,\n",
      "C:\\Users\\maslo\\Anaconda3\\lib\\site-packages\\sklearn\\preprocessing\\_encoders.py:174: UserWarning: Found unknown categories in columns [2, 3, 4] during transform. These unknown categories will be encoded as all zeros\n",
      "  UserWarning,\n",
      "C:\\Users\\maslo\\Anaconda3\\lib\\site-packages\\sklearn\\preprocessing\\_encoders.py:174: UserWarning: Found unknown categories in columns [2] during transform. These unknown categories will be encoded as all zeros\n",
      "  UserWarning,\n",
      "C:\\Users\\maslo\\Anaconda3\\lib\\site-packages\\sklearn\\preprocessing\\_encoders.py:174: UserWarning: Found unknown categories in columns [1, 2, 3, 4] during transform. These unknown categories will be encoded as all zeros\n",
      "  UserWarning,\n"
     ]
    },
    {
     "name": "stdout",
     "output_type": "stream",
     "text": [
      "[0.7238659364210025, 0.6314200595829196, 0.699453831711896, 0.6773248487903226, 0.6891091185569713]\n"
     ]
    },
    {
     "name": "stderr",
     "output_type": "stream",
     "text": [
      "C:\\Users\\maslo\\Anaconda3\\lib\\site-packages\\sklearn\\preprocessing\\_encoders.py:174: UserWarning: Found unknown categories in columns [1, 2, 3, 4] during transform. These unknown categories will be encoded as all zeros\n",
      "  UserWarning,\n",
      "C:\\Users\\maslo\\Anaconda3\\lib\\site-packages\\sklearn\\preprocessing\\_encoders.py:174: UserWarning: Found unknown categories in columns [3, 4, 5] during transform. These unknown categories will be encoded as all zeros\n",
      "  UserWarning,\n",
      "C:\\Users\\maslo\\Anaconda3\\lib\\site-packages\\sklearn\\preprocessing\\_encoders.py:174: UserWarning: Found unknown categories in columns [1, 2, 3, 4] during transform. These unknown categories will be encoded as all zeros\n",
      "  UserWarning,\n",
      "C:\\Users\\maslo\\Anaconda3\\lib\\site-packages\\sklearn\\preprocessing\\_encoders.py:174: UserWarning: Found unknown categories in columns [5] during transform. These unknown categories will be encoded as all zeros\n",
      "  UserWarning,\n",
      "C:\\Users\\maslo\\Anaconda3\\lib\\site-packages\\sklearn\\preprocessing\\_encoders.py:174: UserWarning: Found unknown categories in columns [1, 2, 3, 4] during transform. These unknown categories will be encoded as all zeros\n",
      "  UserWarning,\n",
      "C:\\Users\\maslo\\Anaconda3\\lib\\site-packages\\sklearn\\preprocessing\\_encoders.py:174: UserWarning: Found unknown categories in columns [2, 3, 4] during transform. These unknown categories will be encoded as all zeros\n",
      "  UserWarning,\n",
      "C:\\Users\\maslo\\Anaconda3\\lib\\site-packages\\sklearn\\preprocessing\\_encoders.py:174: UserWarning: Found unknown categories in columns [2] during transform. These unknown categories will be encoded as all zeros\n",
      "  UserWarning,\n",
      "C:\\Users\\maslo\\Anaconda3\\lib\\site-packages\\sklearn\\preprocessing\\_encoders.py:174: UserWarning: Found unknown categories in columns [1, 2, 3, 4] during transform. These unknown categories will be encoded as all zeros\n",
      "  UserWarning,\n",
      "C:\\Users\\maslo\\Anaconda3\\lib\\site-packages\\sklearn\\preprocessing\\_encoders.py:174: UserWarning: Found unknown categories in columns [1, 2, 3, 4] during transform. These unknown categories will be encoded as all zeros\n",
      "  UserWarning,\n",
      "C:\\Users\\maslo\\Anaconda3\\lib\\site-packages\\sklearn\\preprocessing\\_encoders.py:174: UserWarning: Found unknown categories in columns [3, 4, 5] during transform. These unknown categories will be encoded as all zeros\n",
      "  UserWarning,\n"
     ]
    },
    {
     "name": "stdout",
     "output_type": "stream",
     "text": [
      "[0.7384807715204191, 0.6018272095332671, 0.6989759344598053, 0.7217111895161291, 0.6859105448062504]\n"
     ]
    },
    {
     "name": "stderr",
     "output_type": "stream",
     "text": [
      "C:\\Users\\maslo\\Anaconda3\\lib\\site-packages\\sklearn\\preprocessing\\_encoders.py:174: UserWarning: Found unknown categories in columns [1, 2, 3, 4] during transform. These unknown categories will be encoded as all zeros\n",
      "  UserWarning,\n",
      "C:\\Users\\maslo\\Anaconda3\\lib\\site-packages\\sklearn\\preprocessing\\_encoders.py:174: UserWarning: Found unknown categories in columns [5] during transform. These unknown categories will be encoded as all zeros\n",
      "  UserWarning,\n",
      "C:\\Users\\maslo\\Anaconda3\\lib\\site-packages\\sklearn\\preprocessing\\_encoders.py:174: UserWarning: Found unknown categories in columns [1, 2, 3, 4] during transform. These unknown categories will be encoded as all zeros\n",
      "  UserWarning,\n",
      "C:\\Users\\maslo\\Anaconda3\\lib\\site-packages\\sklearn\\preprocessing\\_encoders.py:174: UserWarning: Found unknown categories in columns [2, 3, 4] during transform. These unknown categories will be encoded as all zeros\n",
      "  UserWarning,\n",
      "C:\\Users\\maslo\\Anaconda3\\lib\\site-packages\\sklearn\\preprocessing\\_encoders.py:174: UserWarning: Found unknown categories in columns [2] during transform. These unknown categories will be encoded as all zeros\n",
      "  UserWarning,\n",
      "C:\\Users\\maslo\\Anaconda3\\lib\\site-packages\\sklearn\\preprocessing\\_encoders.py:174: UserWarning: Found unknown categories in columns [1, 2, 3, 4] during transform. These unknown categories will be encoded as all zeros\n",
      "  UserWarning,\n"
     ]
    },
    {
     "name": "stdout",
     "output_type": "stream",
     "text": [
      "[0.6710620311941897, 0.6035749751737834, 0.6681344939409455, 0.6505166330645161, 0.6338943946305909]\n"
     ]
    },
    {
     "name": "stderr",
     "output_type": "stream",
     "text": [
      "C:\\Users\\maslo\\Anaconda3\\lib\\site-packages\\sklearn\\preprocessing\\_encoders.py:174: UserWarning: Found unknown categories in columns [1, 2, 3, 4] during transform. These unknown categories will be encoded as all zeros\n",
      "  UserWarning,\n",
      "C:\\Users\\maslo\\Anaconda3\\lib\\site-packages\\sklearn\\preprocessing\\_encoders.py:174: UserWarning: Found unknown categories in columns [3, 4, 5] during transform. These unknown categories will be encoded as all zeros\n",
      "  UserWarning,\n",
      "C:\\Users\\maslo\\Anaconda3\\lib\\site-packages\\sklearn\\preprocessing\\_encoders.py:174: UserWarning: Found unknown categories in columns [1, 2, 3, 4] during transform. These unknown categories will be encoded as all zeros\n",
      "  UserWarning,\n",
      "C:\\Users\\maslo\\Anaconda3\\lib\\site-packages\\sklearn\\preprocessing\\_encoders.py:174: UserWarning: Found unknown categories in columns [5] during transform. These unknown categories will be encoded as all zeros\n",
      "  UserWarning,\n",
      "C:\\Users\\maslo\\Anaconda3\\lib\\site-packages\\sklearn\\preprocessing\\_encoders.py:174: UserWarning: Found unknown categories in columns [1, 2, 3, 4] during transform. These unknown categories will be encoded as all zeros\n",
      "  UserWarning,\n",
      "C:\\Users\\maslo\\Anaconda3\\lib\\site-packages\\sklearn\\preprocessing\\_encoders.py:174: UserWarning: Found unknown categories in columns [2, 3, 4] during transform. These unknown categories will be encoded as all zeros\n",
      "  UserWarning,\n",
      "C:\\Users\\maslo\\Anaconda3\\lib\\site-packages\\sklearn\\preprocessing\\_encoders.py:174: UserWarning: Found unknown categories in columns [2] during transform. These unknown categories will be encoded as all zeros\n",
      "  UserWarning,\n",
      "C:\\Users\\maslo\\Anaconda3\\lib\\site-packages\\sklearn\\preprocessing\\_encoders.py:174: UserWarning: Found unknown categories in columns [1, 2, 3, 4] during transform. These unknown categories will be encoded as all zeros\n",
      "  UserWarning,\n",
      "C:\\Users\\maslo\\Anaconda3\\lib\\site-packages\\sklearn\\preprocessing\\_encoders.py:174: UserWarning: Found unknown categories in columns [1, 2, 3, 4] during transform. These unknown categories will be encoded as all zeros\n",
      "  UserWarning,\n",
      "C:\\Users\\maslo\\Anaconda3\\lib\\site-packages\\sklearn\\preprocessing\\_encoders.py:174: UserWarning: Found unknown categories in columns [3, 4, 5] during transform. These unknown categories will be encoded as all zeros\n",
      "  UserWarning,\n"
     ]
    },
    {
     "name": "stdout",
     "output_type": "stream",
     "text": [
      "[0.7238659364210025, 0.6314200595829196, 0.699453831711896, 0.6773248487903226, 0.6891091185569713]\n"
     ]
    },
    {
     "name": "stderr",
     "output_type": "stream",
     "text": [
      "C:\\Users\\maslo\\Anaconda3\\lib\\site-packages\\sklearn\\preprocessing\\_encoders.py:174: UserWarning: Found unknown categories in columns [1, 2, 3, 4] during transform. These unknown categories will be encoded as all zeros\n",
      "  UserWarning,\n",
      "C:\\Users\\maslo\\Anaconda3\\lib\\site-packages\\sklearn\\preprocessing\\_encoders.py:174: UserWarning: Found unknown categories in columns [5] during transform. These unknown categories will be encoded as all zeros\n",
      "  UserWarning,\n",
      "C:\\Users\\maslo\\Anaconda3\\lib\\site-packages\\sklearn\\preprocessing\\_encoders.py:174: UserWarning: Found unknown categories in columns [1, 2, 3, 4] during transform. These unknown categories will be encoded as all zeros\n",
      "  UserWarning,\n",
      "C:\\Users\\maslo\\Anaconda3\\lib\\site-packages\\sklearn\\preprocessing\\_encoders.py:174: UserWarning: Found unknown categories in columns [2, 3, 4] during transform. These unknown categories will be encoded as all zeros\n",
      "  UserWarning,\n",
      "C:\\Users\\maslo\\Anaconda3\\lib\\site-packages\\sklearn\\preprocessing\\_encoders.py:174: UserWarning: Found unknown categories in columns [2] during transform. These unknown categories will be encoded as all zeros\n",
      "  UserWarning,\n",
      "C:\\Users\\maslo\\Anaconda3\\lib\\site-packages\\sklearn\\preprocessing\\_encoders.py:174: UserWarning: Found unknown categories in columns [1, 2, 3, 4] during transform. These unknown categories will be encoded as all zeros\n",
      "  UserWarning,\n"
     ]
    },
    {
     "name": "stdout",
     "output_type": "stream",
     "text": [
      "[0.7384807715204191, 0.6018272095332671, 0.6989759344598053, 0.7217111895161291, 0.6859105448062504]\n"
     ]
    },
    {
     "name": "stderr",
     "output_type": "stream",
     "text": [
      "C:\\Users\\maslo\\Anaconda3\\lib\\site-packages\\sklearn\\preprocessing\\_encoders.py:174: UserWarning: Found unknown categories in columns [1, 2, 3, 4] during transform. These unknown categories will be encoded as all zeros\n",
      "  UserWarning,\n",
      "C:\\Users\\maslo\\Anaconda3\\lib\\site-packages\\sklearn\\preprocessing\\_encoders.py:174: UserWarning: Found unknown categories in columns [3, 4, 5] during transform. These unknown categories will be encoded as all zeros\n",
      "  UserWarning,\n",
      "C:\\Users\\maslo\\Anaconda3\\lib\\site-packages\\sklearn\\preprocessing\\_encoders.py:174: UserWarning: Found unknown categories in columns [1, 2, 3, 4] during transform. These unknown categories will be encoded as all zeros\n",
      "  UserWarning,\n",
      "C:\\Users\\maslo\\Anaconda3\\lib\\site-packages\\sklearn\\preprocessing\\_encoders.py:174: UserWarning: Found unknown categories in columns [5] during transform. These unknown categories will be encoded as all zeros\n",
      "  UserWarning,\n",
      "C:\\Users\\maslo\\Anaconda3\\lib\\site-packages\\sklearn\\preprocessing\\_encoders.py:174: UserWarning: Found unknown categories in columns [1, 2, 3, 4] during transform. These unknown categories will be encoded as all zeros\n",
      "  UserWarning,\n",
      "C:\\Users\\maslo\\Anaconda3\\lib\\site-packages\\sklearn\\preprocessing\\_encoders.py:174: UserWarning: Found unknown categories in columns [2, 3, 4] during transform. These unknown categories will be encoded as all zeros\n",
      "  UserWarning,\n",
      "C:\\Users\\maslo\\Anaconda3\\lib\\site-packages\\sklearn\\preprocessing\\_encoders.py:174: UserWarning: Found unknown categories in columns [2] during transform. These unknown categories will be encoded as all zeros\n",
      "  UserWarning,\n",
      "C:\\Users\\maslo\\Anaconda3\\lib\\site-packages\\sklearn\\preprocessing\\_encoders.py:174: UserWarning: Found unknown categories in columns [1, 2, 3, 4] during transform. These unknown categories will be encoded as all zeros\n",
      "  UserWarning,\n",
      "C:\\Users\\maslo\\Anaconda3\\lib\\site-packages\\sklearn\\preprocessing\\_encoders.py:174: UserWarning: Found unknown categories in columns [1, 2, 3, 4] during transform. These unknown categories will be encoded as all zeros\n",
      "  UserWarning,\n",
      "C:\\Users\\maslo\\Anaconda3\\lib\\site-packages\\sklearn\\preprocessing\\_encoders.py:174: UserWarning: Found unknown categories in columns [3, 4, 5] during transform. These unknown categories will be encoded as all zeros\n",
      "  UserWarning,\n"
     ]
    },
    {
     "name": "stdout",
     "output_type": "stream",
     "text": [
      "[0.7239254673175378, 0.6103078450844092, 0.6688513398190817, 0.7174899193548387, 0.6508311048188349]\n"
     ]
    },
    {
     "name": "stderr",
     "output_type": "stream",
     "text": [
      "C:\\Users\\maslo\\Anaconda3\\lib\\site-packages\\sklearn\\preprocessing\\_encoders.py:174: UserWarning: Found unknown categories in columns [1, 2, 3, 4] during transform. These unknown categories will be encoded as all zeros\n",
      "  UserWarning,\n",
      "C:\\Users\\maslo\\Anaconda3\\lib\\site-packages\\sklearn\\preprocessing\\_encoders.py:174: UserWarning: Found unknown categories in columns [5] during transform. These unknown categories will be encoded as all zeros\n",
      "  UserWarning,\n",
      "C:\\Users\\maslo\\Anaconda3\\lib\\site-packages\\sklearn\\preprocessing\\_encoders.py:174: UserWarning: Found unknown categories in columns [1, 2, 3, 4] during transform. These unknown categories will be encoded as all zeros\n",
      "  UserWarning,\n",
      "C:\\Users\\maslo\\Anaconda3\\lib\\site-packages\\sklearn\\preprocessing\\_encoders.py:174: UserWarning: Found unknown categories in columns [2, 3, 4] during transform. These unknown categories will be encoded as all zeros\n",
      "  UserWarning,\n",
      "C:\\Users\\maslo\\Anaconda3\\lib\\site-packages\\sklearn\\preprocessing\\_encoders.py:174: UserWarning: Found unknown categories in columns [2] during transform. These unknown categories will be encoded as all zeros\n",
      "  UserWarning,\n",
      "C:\\Users\\maslo\\Anaconda3\\lib\\site-packages\\sklearn\\preprocessing\\_encoders.py:174: UserWarning: Found unknown categories in columns [1, 2, 3, 4] during transform. These unknown categories will be encoded as all zeros\n",
      "  UserWarning,\n"
     ]
    },
    {
     "name": "stdout",
     "output_type": "stream",
     "text": [
      "[0.7238659364210025, 0.6314200595829196, 0.699453831711896, 0.6773248487903226, 0.6891091185569713]\n"
     ]
    },
    {
     "name": "stderr",
     "output_type": "stream",
     "text": [
      "C:\\Users\\maslo\\Anaconda3\\lib\\site-packages\\sklearn\\preprocessing\\_encoders.py:174: UserWarning: Found unknown categories in columns [1, 2, 3, 4] during transform. These unknown categories will be encoded as all zeros\n",
      "  UserWarning,\n",
      "C:\\Users\\maslo\\Anaconda3\\lib\\site-packages\\sklearn\\preprocessing\\_encoders.py:174: UserWarning: Found unknown categories in columns [3, 4, 5] during transform. These unknown categories will be encoded as all zeros\n",
      "  UserWarning,\n",
      "C:\\Users\\maslo\\Anaconda3\\lib\\site-packages\\sklearn\\preprocessing\\_encoders.py:174: UserWarning: Found unknown categories in columns [1, 2, 3, 4] during transform. These unknown categories will be encoded as all zeros\n",
      "  UserWarning,\n",
      "C:\\Users\\maslo\\Anaconda3\\lib\\site-packages\\sklearn\\preprocessing\\_encoders.py:174: UserWarning: Found unknown categories in columns [5] during transform. These unknown categories will be encoded as all zeros\n",
      "  UserWarning,\n",
      "C:\\Users\\maslo\\Anaconda3\\lib\\site-packages\\sklearn\\preprocessing\\_encoders.py:174: UserWarning: Found unknown categories in columns [1, 2, 3, 4] during transform. These unknown categories will be encoded as all zeros\n",
      "  UserWarning,\n",
      "C:\\Users\\maslo\\Anaconda3\\lib\\site-packages\\sklearn\\preprocessing\\_encoders.py:174: UserWarning: Found unknown categories in columns [2, 3, 4] during transform. These unknown categories will be encoded as all zeros\n",
      "  UserWarning,\n",
      "C:\\Users\\maslo\\Anaconda3\\lib\\site-packages\\sklearn\\preprocessing\\_encoders.py:174: UserWarning: Found unknown categories in columns [2] during transform. These unknown categories will be encoded as all zeros\n",
      "  UserWarning,\n",
      "C:\\Users\\maslo\\Anaconda3\\lib\\site-packages\\sklearn\\preprocessing\\_encoders.py:174: UserWarning: Found unknown categories in columns [1, 2, 3, 4] during transform. These unknown categories will be encoded as all zeros\n",
      "  UserWarning,\n",
      "C:\\Users\\maslo\\Anaconda3\\lib\\site-packages\\sklearn\\preprocessing\\_encoders.py:174: UserWarning: Found unknown categories in columns [1, 2, 3, 4] during transform. These unknown categories will be encoded as all zeros\n",
      "  UserWarning,\n",
      "C:\\Users\\maslo\\Anaconda3\\lib\\site-packages\\sklearn\\preprocessing\\_encoders.py:174: UserWarning: Found unknown categories in columns [3, 4, 5] during transform. These unknown categories will be encoded as all zeros\n",
      "  UserWarning,\n"
     ]
    },
    {
     "name": "stdout",
     "output_type": "stream",
     "text": [
      "[0.7384807715204191, 0.6018272095332671, 0.6989759344598053, 0.7217111895161291, 0.6859105448062504]\n"
     ]
    },
    {
     "name": "stderr",
     "output_type": "stream",
     "text": [
      "C:\\Users\\maslo\\Anaconda3\\lib\\site-packages\\sklearn\\preprocessing\\_encoders.py:174: UserWarning: Found unknown categories in columns [1, 2, 3, 4] during transform. These unknown categories will be encoded as all zeros\n",
      "  UserWarning,\n",
      "C:\\Users\\maslo\\Anaconda3\\lib\\site-packages\\sklearn\\preprocessing\\_encoders.py:174: UserWarning: Found unknown categories in columns [5] during transform. These unknown categories will be encoded as all zeros\n",
      "  UserWarning,\n",
      "C:\\Users\\maslo\\Anaconda3\\lib\\site-packages\\sklearn\\preprocessing\\_encoders.py:174: UserWarning: Found unknown categories in columns [1, 2, 3, 4] during transform. These unknown categories will be encoded as all zeros\n",
      "  UserWarning,\n",
      "C:\\Users\\maslo\\Anaconda3\\lib\\site-packages\\sklearn\\preprocessing\\_encoders.py:174: UserWarning: Found unknown categories in columns [2, 3, 4] during transform. These unknown categories will be encoded as all zeros\n",
      "  UserWarning,\n",
      "C:\\Users\\maslo\\Anaconda3\\lib\\site-packages\\sklearn\\preprocessing\\_encoders.py:174: UserWarning: Found unknown categories in columns [2] during transform. These unknown categories will be encoded as all zeros\n",
      "  UserWarning,\n",
      "C:\\Users\\maslo\\Anaconda3\\lib\\site-packages\\sklearn\\preprocessing\\_encoders.py:174: UserWarning: Found unknown categories in columns [1, 2, 3, 4] during transform. These unknown categories will be encoded as all zeros\n",
      "  UserWarning,\n"
     ]
    },
    {
     "name": "stdout",
     "output_type": "stream",
     "text": [
      "[0.7369032027622336, 0.6347964250248261, 0.7134835296125619, 0.6887915826612903, 0.6958208798699597]\n"
     ]
    },
    {
     "name": "stderr",
     "output_type": "stream",
     "text": [
      "C:\\Users\\maslo\\Anaconda3\\lib\\site-packages\\sklearn\\preprocessing\\_encoders.py:174: UserWarning: Found unknown categories in columns [1, 2, 3, 4] during transform. These unknown categories will be encoded as all zeros\n",
      "  UserWarning,\n",
      "C:\\Users\\maslo\\Anaconda3\\lib\\site-packages\\sklearn\\preprocessing\\_encoders.py:174: UserWarning: Found unknown categories in columns [3, 4, 5] during transform. These unknown categories will be encoded as all zeros\n",
      "  UserWarning,\n",
      "C:\\Users\\maslo\\Anaconda3\\lib\\site-packages\\sklearn\\preprocessing\\_encoders.py:174: UserWarning: Found unknown categories in columns [1, 2, 3, 4] during transform. These unknown categories will be encoded as all zeros\n",
      "  UserWarning,\n",
      "C:\\Users\\maslo\\Anaconda3\\lib\\site-packages\\sklearn\\preprocessing\\_encoders.py:174: UserWarning: Found unknown categories in columns [5] during transform. These unknown categories will be encoded as all zeros\n",
      "  UserWarning,\n",
      "C:\\Users\\maslo\\Anaconda3\\lib\\site-packages\\sklearn\\preprocessing\\_encoders.py:174: UserWarning: Found unknown categories in columns [1, 2, 3, 4] during transform. These unknown categories will be encoded as all zeros\n",
      "  UserWarning,\n",
      "C:\\Users\\maslo\\Anaconda3\\lib\\site-packages\\sklearn\\preprocessing\\_encoders.py:174: UserWarning: Found unknown categories in columns [2, 3, 4] during transform. These unknown categories will be encoded as all zeros\n",
      "  UserWarning,\n",
      "C:\\Users\\maslo\\Anaconda3\\lib\\site-packages\\sklearn\\preprocessing\\_encoders.py:174: UserWarning: Found unknown categories in columns [2] during transform. These unknown categories will be encoded as all zeros\n",
      "  UserWarning,\n",
      "C:\\Users\\maslo\\Anaconda3\\lib\\site-packages\\sklearn\\preprocessing\\_encoders.py:174: UserWarning: Found unknown categories in columns [1, 2, 3, 4] during transform. These unknown categories will be encoded as all zeros\n",
      "  UserWarning,\n",
      "C:\\Users\\maslo\\Anaconda3\\lib\\site-packages\\sklearn\\preprocessing\\_encoders.py:174: UserWarning: Found unknown categories in columns [1, 2, 3, 4] during transform. These unknown categories will be encoded as all zeros\n",
      "  UserWarning,\n",
      "C:\\Users\\maslo\\Anaconda3\\lib\\site-packages\\sklearn\\preprocessing\\_encoders.py:174: UserWarning: Found unknown categories in columns [3, 4, 5] during transform. These unknown categories will be encoded as all zeros\n",
      "  UserWarning,\n"
     ]
    },
    {
     "name": "stdout",
     "output_type": "stream",
     "text": [
      "[0.725532801523991, 0.6442105263157895, 0.7164874551971326, 0.7138671875, 0.6955324838760422]\n"
     ]
    },
    {
     "name": "stderr",
     "output_type": "stream",
     "text": [
      "C:\\Users\\maslo\\Anaconda3\\lib\\site-packages\\sklearn\\preprocessing\\_encoders.py:174: UserWarning: Found unknown categories in columns [1, 2, 3, 4] during transform. These unknown categories will be encoded as all zeros\n",
      "  UserWarning,\n",
      "C:\\Users\\maslo\\Anaconda3\\lib\\site-packages\\sklearn\\preprocessing\\_encoders.py:174: UserWarning: Found unknown categories in columns [5] during transform. These unknown categories will be encoded as all zeros\n",
      "  UserWarning,\n",
      "C:\\Users\\maslo\\Anaconda3\\lib\\site-packages\\sklearn\\preprocessing\\_encoders.py:174: UserWarning: Found unknown categories in columns [1, 2, 3, 4] during transform. These unknown categories will be encoded as all zeros\n",
      "  UserWarning,\n",
      "C:\\Users\\maslo\\Anaconda3\\lib\\site-packages\\sklearn\\preprocessing\\_encoders.py:174: UserWarning: Found unknown categories in columns [2, 3, 4] during transform. These unknown categories will be encoded as all zeros\n",
      "  UserWarning,\n",
      "C:\\Users\\maslo\\Anaconda3\\lib\\site-packages\\sklearn\\preprocessing\\_encoders.py:174: UserWarning: Found unknown categories in columns [2] during transform. These unknown categories will be encoded as all zeros\n",
      "  UserWarning,\n",
      "C:\\Users\\maslo\\Anaconda3\\lib\\site-packages\\sklearn\\preprocessing\\_encoders.py:174: UserWarning: Found unknown categories in columns [1, 2, 3, 4] during transform. These unknown categories will be encoded as all zeros\n",
      "  UserWarning,\n"
     ]
    },
    {
     "name": "stdout",
     "output_type": "stream",
     "text": [
      "[0.7340754851768068, 0.6197815292949355, 0.7362348523638846, 0.7502205141129032, 0.6221488123328613]\n"
     ]
    },
    {
     "name": "stderr",
     "output_type": "stream",
     "text": [
      "C:\\Users\\maslo\\Anaconda3\\lib\\site-packages\\sklearn\\preprocessing\\_encoders.py:174: UserWarning: Found unknown categories in columns [1, 2, 3, 4] during transform. These unknown categories will be encoded as all zeros\n",
      "  UserWarning,\n",
      "C:\\Users\\maslo\\Anaconda3\\lib\\site-packages\\sklearn\\preprocessing\\_encoders.py:174: UserWarning: Found unknown categories in columns [3, 4, 5] during transform. These unknown categories will be encoded as all zeros\n",
      "  UserWarning,\n",
      "C:\\Users\\maslo\\Anaconda3\\lib\\site-packages\\sklearn\\preprocessing\\_encoders.py:174: UserWarning: Found unknown categories in columns [1, 2, 3, 4] during transform. These unknown categories will be encoded as all zeros\n",
      "  UserWarning,\n",
      "C:\\Users\\maslo\\Anaconda3\\lib\\site-packages\\sklearn\\preprocessing\\_encoders.py:174: UserWarning: Found unknown categories in columns [5] during transform. These unknown categories will be encoded as all zeros\n",
      "  UserWarning,\n",
      "C:\\Users\\maslo\\Anaconda3\\lib\\site-packages\\sklearn\\preprocessing\\_encoders.py:174: UserWarning: Found unknown categories in columns [1, 2, 3, 4] during transform. These unknown categories will be encoded as all zeros\n",
      "  UserWarning,\n",
      "C:\\Users\\maslo\\Anaconda3\\lib\\site-packages\\sklearn\\preprocessing\\_encoders.py:174: UserWarning: Found unknown categories in columns [2, 3, 4] during transform. These unknown categories will be encoded as all zeros\n",
      "  UserWarning,\n",
      "C:\\Users\\maslo\\Anaconda3\\lib\\site-packages\\sklearn\\preprocessing\\_encoders.py:174: UserWarning: Found unknown categories in columns [2] during transform. These unknown categories will be encoded as all zeros\n",
      "  UserWarning,\n",
      "C:\\Users\\maslo\\Anaconda3\\lib\\site-packages\\sklearn\\preprocessing\\_encoders.py:174: UserWarning: Found unknown categories in columns [1, 2, 3, 4] during transform. These unknown categories will be encoded as all zeros\n",
      "  UserWarning,\n"
     ]
    },
    {
     "name": "stdout",
     "output_type": "stream",
     "text": [
      "[0.7170645314918442, 0.6211519364448858, 0.7214883085850827, 0.7093939012096775, 0.7075140265324315]\n"
     ]
    },
    {
     "name": "stderr",
     "output_type": "stream",
     "text": [
      "C:\\Users\\maslo\\Anaconda3\\lib\\site-packages\\sklearn\\preprocessing\\_encoders.py:174: UserWarning: Found unknown categories in columns [1, 2, 3, 4] during transform. These unknown categories will be encoded as all zeros\n",
      "  UserWarning,\n",
      "C:\\Users\\maslo\\Anaconda3\\lib\\site-packages\\sklearn\\preprocessing\\_encoders.py:174: UserWarning: Found unknown categories in columns [3, 4, 5] during transform. These unknown categories will be encoded as all zeros\n",
      "  UserWarning,\n",
      "C:\\Users\\maslo\\Anaconda3\\lib\\site-packages\\sklearn\\preprocessing\\_encoders.py:174: UserWarning: Found unknown categories in columns [1, 2, 3, 4] during transform. These unknown categories will be encoded as all zeros\n",
      "  UserWarning,\n",
      "C:\\Users\\maslo\\Anaconda3\\lib\\site-packages\\sklearn\\preprocessing\\_encoders.py:174: UserWarning: Found unknown categories in columns [5] during transform. These unknown categories will be encoded as all zeros\n",
      "  UserWarning,\n",
      "C:\\Users\\maslo\\Anaconda3\\lib\\site-packages\\sklearn\\preprocessing\\_encoders.py:174: UserWarning: Found unknown categories in columns [1, 2, 3, 4] during transform. These unknown categories will be encoded as all zeros\n",
      "  UserWarning,\n",
      "C:\\Users\\maslo\\Anaconda3\\lib\\site-packages\\sklearn\\preprocessing\\_encoders.py:174: UserWarning: Found unknown categories in columns [2, 3, 4] during transform. These unknown categories will be encoded as all zeros\n",
      "  UserWarning,\n",
      "C:\\Users\\maslo\\Anaconda3\\lib\\site-packages\\sklearn\\preprocessing\\_encoders.py:174: UserWarning: Found unknown categories in columns [2] during transform. These unknown categories will be encoded as all zeros\n",
      "  UserWarning,\n",
      "C:\\Users\\maslo\\Anaconda3\\lib\\site-packages\\sklearn\\preprocessing\\_encoders.py:174: UserWarning: Found unknown categories in columns [1, 2, 3, 4] during transform. These unknown categories will be encoded as all zeros\n",
      "  UserWarning,\n",
      "C:\\Users\\maslo\\Anaconda3\\lib\\site-packages\\sklearn\\preprocessing\\_encoders.py:174: UserWarning: Found unknown categories in columns [1, 2, 3, 4] during transform. These unknown categories will be encoded as all zeros\n",
      "  UserWarning,\n"
     ]
    },
    {
     "name": "stdout",
     "output_type": "stream",
     "text": [
      "[0.725532801523991, 0.6442105263157895, 0.7164874551971326, 0.7138671875, 0.6955324838760422]\n"
     ]
    },
    {
     "name": "stderr",
     "output_type": "stream",
     "text": [
      "C:\\Users\\maslo\\Anaconda3\\lib\\site-packages\\sklearn\\preprocessing\\_encoders.py:174: UserWarning: Found unknown categories in columns [3, 4, 5] during transform. These unknown categories will be encoded as all zeros\n",
      "  UserWarning,\n",
      "C:\\Users\\maslo\\Anaconda3\\lib\\site-packages\\sklearn\\preprocessing\\_encoders.py:174: UserWarning: Found unknown categories in columns [1, 2, 3, 4] during transform. These unknown categories will be encoded as all zeros\n",
      "  UserWarning,\n",
      "C:\\Users\\maslo\\Anaconda3\\lib\\site-packages\\sklearn\\preprocessing\\_encoders.py:174: UserWarning: Found unknown categories in columns [5] during transform. These unknown categories will be encoded as all zeros\n",
      "  UserWarning,\n",
      "C:\\Users\\maslo\\Anaconda3\\lib\\site-packages\\sklearn\\preprocessing\\_encoders.py:174: UserWarning: Found unknown categories in columns [1, 2, 3, 4] during transform. These unknown categories will be encoded as all zeros\n",
      "  UserWarning,\n",
      "C:\\Users\\maslo\\Anaconda3\\lib\\site-packages\\sklearn\\preprocessing\\_encoders.py:174: UserWarning: Found unknown categories in columns [2, 3, 4] during transform. These unknown categories will be encoded as all zeros\n",
      "  UserWarning,\n",
      "C:\\Users\\maslo\\Anaconda3\\lib\\site-packages\\sklearn\\preprocessing\\_encoders.py:174: UserWarning: Found unknown categories in columns [2] during transform. These unknown categories will be encoded as all zeros\n",
      "  UserWarning,\n",
      "C:\\Users\\maslo\\Anaconda3\\lib\\site-packages\\sklearn\\preprocessing\\_encoders.py:174: UserWarning: Found unknown categories in columns [1, 2, 3, 4] during transform. These unknown categories will be encoded as all zeros\n",
      "  UserWarning,\n",
      "C:\\Users\\maslo\\Anaconda3\\lib\\site-packages\\sklearn\\preprocessing\\_encoders.py:174: UserWarning: Found unknown categories in columns [1, 2, 3, 4] during transform. These unknown categories will be encoded as all zeros\n",
      "  UserWarning,\n",
      "C:\\Users\\maslo\\Anaconda3\\lib\\site-packages\\sklearn\\preprocessing\\_encoders.py:174: UserWarning: Found unknown categories in columns [3, 4, 5] during transform. These unknown categories will be encoded as all zeros\n",
      "  UserWarning,\n"
     ]
    },
    {
     "name": "stdout",
     "output_type": "stream",
     "text": [
      "[0.7340754851768068, 0.6197815292949355, 0.7362348523638846, 0.7502205141129032, 0.6221488123328613]\n"
     ]
    },
    {
     "name": "stderr",
     "output_type": "stream",
     "text": [
      "C:\\Users\\maslo\\Anaconda3\\lib\\site-packages\\sklearn\\preprocessing\\_encoders.py:174: UserWarning: Found unknown categories in columns [1, 2, 3, 4] during transform. These unknown categories will be encoded as all zeros\n",
      "  UserWarning,\n",
      "C:\\Users\\maslo\\Anaconda3\\lib\\site-packages\\sklearn\\preprocessing\\_encoders.py:174: UserWarning: Found unknown categories in columns [5] during transform. These unknown categories will be encoded as all zeros\n",
      "  UserWarning,\n",
      "C:\\Users\\maslo\\Anaconda3\\lib\\site-packages\\sklearn\\preprocessing\\_encoders.py:174: UserWarning: Found unknown categories in columns [1, 2, 3, 4] during transform. These unknown categories will be encoded as all zeros\n",
      "  UserWarning,\n",
      "C:\\Users\\maslo\\Anaconda3\\lib\\site-packages\\sklearn\\preprocessing\\_encoders.py:174: UserWarning: Found unknown categories in columns [2, 3, 4] during transform. These unknown categories will be encoded as all zeros\n",
      "  UserWarning,\n",
      "C:\\Users\\maslo\\Anaconda3\\lib\\site-packages\\sklearn\\preprocessing\\_encoders.py:174: UserWarning: Found unknown categories in columns [2] during transform. These unknown categories will be encoded as all zeros\n",
      "  UserWarning,\n",
      "C:\\Users\\maslo\\Anaconda3\\lib\\site-packages\\sklearn\\preprocessing\\_encoders.py:174: UserWarning: Found unknown categories in columns [1, 2, 3, 4] during transform. These unknown categories will be encoded as all zeros\n",
      "  UserWarning,\n"
     ]
    },
    {
     "name": "stdout",
     "output_type": "stream",
     "text": [
      "[0.7312328848672462, 0.6304667328699107, 0.7095579450418159, 0.7237273185483871, 0.6996748990614021]\n"
     ]
    },
    {
     "name": "stderr",
     "output_type": "stream",
     "text": [
      "C:\\Users\\maslo\\Anaconda3\\lib\\site-packages\\sklearn\\preprocessing\\_encoders.py:174: UserWarning: Found unknown categories in columns [1, 2, 3, 4] during transform. These unknown categories will be encoded as all zeros\n",
      "  UserWarning,\n",
      "C:\\Users\\maslo\\Anaconda3\\lib\\site-packages\\sklearn\\preprocessing\\_encoders.py:174: UserWarning: Found unknown categories in columns [3, 4, 5] during transform. These unknown categories will be encoded as all zeros\n",
      "  UserWarning,\n",
      "C:\\Users\\maslo\\Anaconda3\\lib\\site-packages\\sklearn\\preprocessing\\_encoders.py:174: UserWarning: Found unknown categories in columns [1, 2, 3, 4] during transform. These unknown categories will be encoded as all zeros\n",
      "  UserWarning,\n",
      "C:\\Users\\maslo\\Anaconda3\\lib\\site-packages\\sklearn\\preprocessing\\_encoders.py:174: UserWarning: Found unknown categories in columns [5] during transform. These unknown categories will be encoded as all zeros\n",
      "  UserWarning,\n",
      "C:\\Users\\maslo\\Anaconda3\\lib\\site-packages\\sklearn\\preprocessing\\_encoders.py:174: UserWarning: Found unknown categories in columns [1, 2, 3, 4] during transform. These unknown categories will be encoded as all zeros\n",
      "  UserWarning,\n",
      "C:\\Users\\maslo\\Anaconda3\\lib\\site-packages\\sklearn\\preprocessing\\_encoders.py:174: UserWarning: Found unknown categories in columns [2, 3, 4] during transform. These unknown categories will be encoded as all zeros\n",
      "  UserWarning,\n",
      "C:\\Users\\maslo\\Anaconda3\\lib\\site-packages\\sklearn\\preprocessing\\_encoders.py:174: UserWarning: Found unknown categories in columns [2] during transform. These unknown categories will be encoded as all zeros\n",
      "  UserWarning,\n",
      "C:\\Users\\maslo\\Anaconda3\\lib\\site-packages\\sklearn\\preprocessing\\_encoders.py:174: UserWarning: Found unknown categories in columns [1, 2, 3, 4] during transform. These unknown categories will be encoded as all zeros\n",
      "  UserWarning,\n"
     ]
    },
    {
     "name": "stdout",
     "output_type": "stream",
     "text": [
      "[0.725532801523991, 0.6442105263157895, 0.7164874551971326, 0.7138671875, 0.6955324838760422]\n"
     ]
    },
    {
     "name": "stderr",
     "output_type": "stream",
     "text": [
      "C:\\Users\\maslo\\Anaconda3\\lib\\site-packages\\sklearn\\preprocessing\\_encoders.py:174: UserWarning: Found unknown categories in columns [1, 2, 3, 4] during transform. These unknown categories will be encoded as all zeros\n",
      "  UserWarning,\n",
      "C:\\Users\\maslo\\Anaconda3\\lib\\site-packages\\sklearn\\preprocessing\\_encoders.py:174: UserWarning: Found unknown categories in columns [3, 4, 5] during transform. These unknown categories will be encoded as all zeros\n",
      "  UserWarning,\n",
      "C:\\Users\\maslo\\Anaconda3\\lib\\site-packages\\sklearn\\preprocessing\\_encoders.py:174: UserWarning: Found unknown categories in columns [1, 2, 3, 4] during transform. These unknown categories will be encoded as all zeros\n",
      "  UserWarning,\n",
      "C:\\Users\\maslo\\Anaconda3\\lib\\site-packages\\sklearn\\preprocessing\\_encoders.py:174: UserWarning: Found unknown categories in columns [5] during transform. These unknown categories will be encoded as all zeros\n",
      "  UserWarning,\n",
      "C:\\Users\\maslo\\Anaconda3\\lib\\site-packages\\sklearn\\preprocessing\\_encoders.py:174: UserWarning: Found unknown categories in columns [1, 2, 3, 4] during transform. These unknown categories will be encoded as all zeros\n",
      "  UserWarning,\n",
      "C:\\Users\\maslo\\Anaconda3\\lib\\site-packages\\sklearn\\preprocessing\\_encoders.py:174: UserWarning: Found unknown categories in columns [2, 3, 4] during transform. These unknown categories will be encoded as all zeros\n",
      "  UserWarning,\n",
      "C:\\Users\\maslo\\Anaconda3\\lib\\site-packages\\sklearn\\preprocessing\\_encoders.py:174: UserWarning: Found unknown categories in columns [2] during transform. These unknown categories will be encoded as all zeros\n",
      "  UserWarning,\n",
      "C:\\Users\\maslo\\Anaconda3\\lib\\site-packages\\sklearn\\preprocessing\\_encoders.py:174: UserWarning: Found unknown categories in columns [1, 2, 3, 4] during transform. These unknown categories will be encoded as all zeros\n",
      "  UserWarning,\n"
     ]
    },
    {
     "name": "stdout",
     "output_type": "stream",
     "text": [
      "[0.7340754851768068, 0.6197815292949355, 0.7362348523638846, 0.7502205141129032, 0.6221488123328613]\n"
     ]
    },
    {
     "name": "stderr",
     "output_type": "stream",
     "text": [
      "C:\\Users\\maslo\\Anaconda3\\lib\\site-packages\\sklearn\\preprocessing\\_encoders.py:174: UserWarning: Found unknown categories in columns [1, 2, 3, 4] during transform. These unknown categories will be encoded as all zeros\n",
      "  UserWarning,\n",
      "C:\\Users\\maslo\\Anaconda3\\lib\\site-packages\\sklearn\\preprocessing\\_encoders.py:174: UserWarning: Found unknown categories in columns [3, 4, 5] during transform. These unknown categories will be encoded as all zeros\n",
      "  UserWarning,\n",
      "C:\\Users\\maslo\\Anaconda3\\lib\\site-packages\\sklearn\\preprocessing\\_encoders.py:174: UserWarning: Found unknown categories in columns [1, 2, 3, 4] during transform. These unknown categories will be encoded as all zeros\n",
      "  UserWarning,\n",
      "C:\\Users\\maslo\\Anaconda3\\lib\\site-packages\\sklearn\\preprocessing\\_encoders.py:174: UserWarning: Found unknown categories in columns [5] during transform. These unknown categories will be encoded as all zeros\n",
      "  UserWarning,\n",
      "C:\\Users\\maslo\\Anaconda3\\lib\\site-packages\\sklearn\\preprocessing\\_encoders.py:174: UserWarning: Found unknown categories in columns [1, 2, 3, 4] during transform. These unknown categories will be encoded as all zeros\n",
      "  UserWarning,\n",
      "C:\\Users\\maslo\\Anaconda3\\lib\\site-packages\\sklearn\\preprocessing\\_encoders.py:174: UserWarning: Found unknown categories in columns [2, 3, 4] during transform. These unknown categories will be encoded as all zeros\n",
      "  UserWarning,\n",
      "C:\\Users\\maslo\\Anaconda3\\lib\\site-packages\\sklearn\\preprocessing\\_encoders.py:174: UserWarning: Found unknown categories in columns [2] during transform. These unknown categories will be encoded as all zeros\n",
      "  UserWarning,\n",
      "C:\\Users\\maslo\\Anaconda3\\lib\\site-packages\\sklearn\\preprocessing\\_encoders.py:174: UserWarning: Found unknown categories in columns [1, 2, 3, 4] during transform. These unknown categories will be encoded as all zeros\n",
      "  UserWarning,\n",
      "C:\\Users\\maslo\\Anaconda3\\lib\\site-packages\\sklearn\\preprocessing\\_encoders.py:174: UserWarning: Found unknown categories in columns [1, 2, 3, 4] during transform. These unknown categories will be encoded as all zeros\n",
      "  UserWarning,\n",
      "C:\\Users\\maslo\\Anaconda3\\lib\\site-packages\\sklearn\\preprocessing\\_encoders.py:174: UserWarning: Found unknown categories in columns [3, 4, 5] during transform. These unknown categories will be encoded as all zeros\n",
      "  UserWarning,\n"
     ]
    },
    {
     "name": "stdout",
     "output_type": "stream",
     "text": [
      "[0.7043398023574234, 0.5851042701092353, 0.6765488991295443, 0.7057081653225807, 0.6558387079859471]\n"
     ]
    },
    {
     "name": "stderr",
     "output_type": "stream",
     "text": [
      "C:\\Users\\maslo\\Anaconda3\\lib\\site-packages\\sklearn\\preprocessing\\_encoders.py:174: UserWarning: Found unknown categories in columns [1, 2, 3, 4] during transform. These unknown categories will be encoded as all zeros\n",
      "  UserWarning,\n",
      "C:\\Users\\maslo\\Anaconda3\\lib\\site-packages\\sklearn\\preprocessing\\_encoders.py:174: UserWarning: Found unknown categories in columns [5] during transform. These unknown categories will be encoded as all zeros\n",
      "  UserWarning,\n",
      "C:\\Users\\maslo\\Anaconda3\\lib\\site-packages\\sklearn\\preprocessing\\_encoders.py:174: UserWarning: Found unknown categories in columns [1, 2, 3, 4] during transform. These unknown categories will be encoded as all zeros\n",
      "  UserWarning,\n",
      "C:\\Users\\maslo\\Anaconda3\\lib\\site-packages\\sklearn\\preprocessing\\_encoders.py:174: UserWarning: Found unknown categories in columns [2, 3, 4] during transform. These unknown categories will be encoded as all zeros\n",
      "  UserWarning,\n",
      "C:\\Users\\maslo\\Anaconda3\\lib\\site-packages\\sklearn\\preprocessing\\_encoders.py:174: UserWarning: Found unknown categories in columns [2] during transform. These unknown categories will be encoded as all zeros\n",
      "  UserWarning,\n",
      "C:\\Users\\maslo\\Anaconda3\\lib\\site-packages\\sklearn\\preprocessing\\_encoders.py:174: UserWarning: Found unknown categories in columns [1, 2, 3, 4] during transform. These unknown categories will be encoded as all zeros\n",
      "  UserWarning,\n"
     ]
    },
    {
     "name": "stdout",
     "output_type": "stream",
     "text": [
      "[0.7222139540421479, 0.615650446871897, 0.6873015873015873, 0.7188445060483871, 0.6794609616695506]\n"
     ]
    },
    {
     "name": "stderr",
     "output_type": "stream",
     "text": [
      "C:\\Users\\maslo\\Anaconda3\\lib\\site-packages\\sklearn\\preprocessing\\_encoders.py:174: UserWarning: Found unknown categories in columns [1, 2, 3, 4] during transform. These unknown categories will be encoded as all zeros\n",
      "  UserWarning,\n",
      "C:\\Users\\maslo\\Anaconda3\\lib\\site-packages\\sklearn\\preprocessing\\_encoders.py:174: UserWarning: Found unknown categories in columns [3, 4, 5] during transform. These unknown categories will be encoded as all zeros\n",
      "  UserWarning,\n",
      "C:\\Users\\maslo\\Anaconda3\\lib\\site-packages\\sklearn\\preprocessing\\_encoders.py:174: UserWarning: Found unknown categories in columns [1, 2, 3, 4] during transform. These unknown categories will be encoded as all zeros\n",
      "  UserWarning,\n",
      "C:\\Users\\maslo\\Anaconda3\\lib\\site-packages\\sklearn\\preprocessing\\_encoders.py:174: UserWarning: Found unknown categories in columns [5] during transform. These unknown categories will be encoded as all zeros\n",
      "  UserWarning,\n",
      "C:\\Users\\maslo\\Anaconda3\\lib\\site-packages\\sklearn\\preprocessing\\_encoders.py:174: UserWarning: Found unknown categories in columns [1, 2, 3, 4] during transform. These unknown categories will be encoded as all zeros\n",
      "  UserWarning,\n",
      "C:\\Users\\maslo\\Anaconda3\\lib\\site-packages\\sklearn\\preprocessing\\_encoders.py:174: UserWarning: Found unknown categories in columns [2, 3, 4] during transform. These unknown categories will be encoded as all zeros\n",
      "  UserWarning,\n",
      "C:\\Users\\maslo\\Anaconda3\\lib\\site-packages\\sklearn\\preprocessing\\_encoders.py:174: UserWarning: Found unknown categories in columns [2] during transform. These unknown categories will be encoded as all zeros\n",
      "  UserWarning,\n",
      "C:\\Users\\maslo\\Anaconda3\\lib\\site-packages\\sklearn\\preprocessing\\_encoders.py:174: UserWarning: Found unknown categories in columns [1, 2, 3, 4] during transform. These unknown categories will be encoded as all zeros\n",
      "  UserWarning,\n"
     ]
    },
    {
     "name": "stdout",
     "output_type": "stream",
     "text": [
      "[0.7428711751398976, 0.6091559086395234, 0.7062297320361837, 0.7465347782258064, 0.6863038120706833]\n"
     ]
    },
    {
     "name": "stderr",
     "output_type": "stream",
     "text": [
      "C:\\Users\\maslo\\Anaconda3\\lib\\site-packages\\sklearn\\preprocessing\\_encoders.py:174: UserWarning: Found unknown categories in columns [1, 2, 3, 4] during transform. These unknown categories will be encoded as all zeros\n",
      "  UserWarning,\n",
      "C:\\Users\\maslo\\Anaconda3\\lib\\site-packages\\sklearn\\preprocessing\\_encoders.py:174: UserWarning: Found unknown categories in columns [3, 4, 5] during transform. These unknown categories will be encoded as all zeros\n",
      "  UserWarning,\n",
      "C:\\Users\\maslo\\Anaconda3\\lib\\site-packages\\sklearn\\preprocessing\\_encoders.py:174: UserWarning: Found unknown categories in columns [1, 2, 3, 4] during transform. These unknown categories will be encoded as all zeros\n",
      "  UserWarning,\n",
      "C:\\Users\\maslo\\Anaconda3\\lib\\site-packages\\sklearn\\preprocessing\\_encoders.py:174: UserWarning: Found unknown categories in columns [5] during transform. These unknown categories will be encoded as all zeros\n",
      "  UserWarning,\n",
      "C:\\Users\\maslo\\Anaconda3\\lib\\site-packages\\sklearn\\preprocessing\\_encoders.py:174: UserWarning: Found unknown categories in columns [1, 2, 3, 4] during transform. These unknown categories will be encoded as all zeros\n",
      "  UserWarning,\n",
      "C:\\Users\\maslo\\Anaconda3\\lib\\site-packages\\sklearn\\preprocessing\\_encoders.py:174: UserWarning: Found unknown categories in columns [2, 3, 4] during transform. These unknown categories will be encoded as all zeros\n",
      "  UserWarning,\n",
      "C:\\Users\\maslo\\Anaconda3\\lib\\site-packages\\sklearn\\preprocessing\\_encoders.py:174: UserWarning: Found unknown categories in columns [2] during transform. These unknown categories will be encoded as all zeros\n",
      "  UserWarning,\n",
      "C:\\Users\\maslo\\Anaconda3\\lib\\site-packages\\sklearn\\preprocessing\\_encoders.py:174: UserWarning: Found unknown categories in columns [1, 2, 3, 4] during transform. These unknown categories will be encoded as all zeros\n",
      "  UserWarning,\n",
      "C:\\Users\\maslo\\Anaconda3\\lib\\site-packages\\sklearn\\preprocessing\\_encoders.py:174: UserWarning: Found unknown categories in columns [1, 2, 3, 4] during transform. These unknown categories will be encoded as all zeros\n",
      "  UserWarning,\n",
      "C:\\Users\\maslo\\Anaconda3\\lib\\site-packages\\sklearn\\preprocessing\\_encoders.py:174: UserWarning: Found unknown categories in columns [3, 4, 5] during transform. These unknown categories will be encoded as all zeros\n",
      "  UserWarning,\n"
     ]
    },
    {
     "name": "stdout",
     "output_type": "stream",
     "text": [
      "[0.6969877366353139, 0.6314597815292948, 0.6564772145417306, 0.7101499495967741, 0.6703371611347071]\n"
     ]
    },
    {
     "name": "stderr",
     "output_type": "stream",
     "text": [
      "C:\\Users\\maslo\\Anaconda3\\lib\\site-packages\\sklearn\\preprocessing\\_encoders.py:174: UserWarning: Found unknown categories in columns [1, 2, 3, 4] during transform. These unknown categories will be encoded as all zeros\n",
      "  UserWarning,\n",
      "C:\\Users\\maslo\\Anaconda3\\lib\\site-packages\\sklearn\\preprocessing\\_encoders.py:174: UserWarning: Found unknown categories in columns [5] during transform. These unknown categories will be encoded as all zeros\n",
      "  UserWarning,\n",
      "C:\\Users\\maslo\\Anaconda3\\lib\\site-packages\\sklearn\\preprocessing\\_encoders.py:174: UserWarning: Found unknown categories in columns [1, 2, 3, 4] during transform. These unknown categories will be encoded as all zeros\n",
      "  UserWarning,\n",
      "C:\\Users\\maslo\\Anaconda3\\lib\\site-packages\\sklearn\\preprocessing\\_encoders.py:174: UserWarning: Found unknown categories in columns [2, 3, 4] during transform. These unknown categories will be encoded as all zeros\n",
      "  UserWarning,\n",
      "C:\\Users\\maslo\\Anaconda3\\lib\\site-packages\\sklearn\\preprocessing\\_encoders.py:174: UserWarning: Found unknown categories in columns [2] during transform. These unknown categories will be encoded as all zeros\n",
      "  UserWarning,\n",
      "C:\\Users\\maslo\\Anaconda3\\lib\\site-packages\\sklearn\\preprocessing\\_encoders.py:174: UserWarning: Found unknown categories in columns [1, 2, 3, 4] during transform. These unknown categories will be encoded as all zeros\n",
      "  UserWarning,\n"
     ]
    },
    {
     "name": "stdout",
     "output_type": "stream",
     "text": [
      "[0.7222139540421479, 0.615650446871897, 0.6873015873015873, 0.7188445060483871, 0.6794609616695506]\n"
     ]
    },
    {
     "name": "stderr",
     "output_type": "stream",
     "text": [
      "C:\\Users\\maslo\\Anaconda3\\lib\\site-packages\\sklearn\\preprocessing\\_encoders.py:174: UserWarning: Found unknown categories in columns [1, 2, 3, 4] during transform. These unknown categories will be encoded as all zeros\n",
      "  UserWarning,\n",
      "C:\\Users\\maslo\\Anaconda3\\lib\\site-packages\\sklearn\\preprocessing\\_encoders.py:174: UserWarning: Found unknown categories in columns [3, 4, 5] during transform. These unknown categories will be encoded as all zeros\n",
      "  UserWarning,\n",
      "C:\\Users\\maslo\\Anaconda3\\lib\\site-packages\\sklearn\\preprocessing\\_encoders.py:174: UserWarning: Found unknown categories in columns [1, 2, 3, 4] during transform. These unknown categories will be encoded as all zeros\n",
      "  UserWarning,\n",
      "C:\\Users\\maslo\\Anaconda3\\lib\\site-packages\\sklearn\\preprocessing\\_encoders.py:174: UserWarning: Found unknown categories in columns [5] during transform. These unknown categories will be encoded as all zeros\n",
      "  UserWarning,\n",
      "C:\\Users\\maslo\\Anaconda3\\lib\\site-packages\\sklearn\\preprocessing\\_encoders.py:174: UserWarning: Found unknown categories in columns [1, 2, 3, 4] during transform. These unknown categories will be encoded as all zeros\n",
      "  UserWarning,\n",
      "C:\\Users\\maslo\\Anaconda3\\lib\\site-packages\\sklearn\\preprocessing\\_encoders.py:174: UserWarning: Found unknown categories in columns [2, 3, 4] during transform. These unknown categories will be encoded as all zeros\n",
      "  UserWarning,\n",
      "C:\\Users\\maslo\\Anaconda3\\lib\\site-packages\\sklearn\\preprocessing\\_encoders.py:174: UserWarning: Found unknown categories in columns [2] during transform. These unknown categories will be encoded as all zeros\n",
      "  UserWarning,\n",
      "C:\\Users\\maslo\\Anaconda3\\lib\\site-packages\\sklearn\\preprocessing\\_encoders.py:174: UserWarning: Found unknown categories in columns [1, 2, 3, 4] during transform. These unknown categories will be encoded as all zeros\n",
      "  UserWarning,\n",
      "C:\\Users\\maslo\\Anaconda3\\lib\\site-packages\\sklearn\\preprocessing\\_encoders.py:174: UserWarning: Found unknown categories in columns [1, 2, 3, 4] during transform. These unknown categories will be encoded as all zeros\n",
      "  UserWarning,\n",
      "C:\\Users\\maslo\\Anaconda3\\lib\\site-packages\\sklearn\\preprocessing\\_encoders.py:174: UserWarning: Found unknown categories in columns [3, 4, 5] during transform. These unknown categories will be encoded as all zeros\n",
      "  UserWarning,\n"
     ]
    },
    {
     "name": "stdout",
     "output_type": "stream",
     "text": [
      "[0.7428711751398976, 0.6091559086395234, 0.7062297320361837, 0.7465347782258064, 0.6863038120706833]\n"
     ]
    },
    {
     "name": "stderr",
     "output_type": "stream",
     "text": [
      "C:\\Users\\maslo\\Anaconda3\\lib\\site-packages\\sklearn\\preprocessing\\_encoders.py:174: UserWarning: Found unknown categories in columns [1, 2, 3, 4] during transform. These unknown categories will be encoded as all zeros\n",
      "  UserWarning,\n",
      "C:\\Users\\maslo\\Anaconda3\\lib\\site-packages\\sklearn\\preprocessing\\_encoders.py:174: UserWarning: Found unknown categories in columns [5] during transform. These unknown categories will be encoded as all zeros\n",
      "  UserWarning,\n",
      "C:\\Users\\maslo\\Anaconda3\\lib\\site-packages\\sklearn\\preprocessing\\_encoders.py:174: UserWarning: Found unknown categories in columns [1, 2, 3, 4] during transform. These unknown categories will be encoded as all zeros\n",
      "  UserWarning,\n",
      "C:\\Users\\maslo\\Anaconda3\\lib\\site-packages\\sklearn\\preprocessing\\_encoders.py:174: UserWarning: Found unknown categories in columns [2, 3, 4] during transform. These unknown categories will be encoded as all zeros\n",
      "  UserWarning,\n",
      "C:\\Users\\maslo\\Anaconda3\\lib\\site-packages\\sklearn\\preprocessing\\_encoders.py:174: UserWarning: Found unknown categories in columns [2] during transform. These unknown categories will be encoded as all zeros\n",
      "  UserWarning,\n",
      "C:\\Users\\maslo\\Anaconda3\\lib\\site-packages\\sklearn\\preprocessing\\_encoders.py:174: UserWarning: Found unknown categories in columns [1, 2, 3, 4] during transform. These unknown categories will be encoded as all zeros\n",
      "  UserWarning,\n",
      "C:\\Users\\maslo\\Anaconda3\\lib\\site-packages\\sklearn\\preprocessing\\_encoders.py:174: UserWarning: Found unknown categories in columns [1, 2, 3, 4] during transform. These unknown categories will be encoded as all zeros\n",
      "  UserWarning,\n",
      "C:\\Users\\maslo\\Anaconda3\\lib\\site-packages\\sklearn\\preprocessing\\_encoders.py:174: UserWarning: Found unknown categories in columns [3, 4, 5] during transform. These unknown categories will be encoded as all zeros\n",
      "  UserWarning,\n"
     ]
    },
    {
     "name": "stdout",
     "output_type": "stream",
     "text": [
      "[0.6829979759495178, 0.6305263157894736, 0.6647038743812937, 0.680727066532258, 0.6627864296575953]\n"
     ]
    },
    {
     "name": "stderr",
     "output_type": "stream",
     "text": [
      "C:\\Users\\maslo\\Anaconda3\\lib\\site-packages\\sklearn\\preprocessing\\_encoders.py:174: UserWarning: Found unknown categories in columns [1, 2, 3, 4] during transform. These unknown categories will be encoded as all zeros\n",
      "  UserWarning,\n",
      "C:\\Users\\maslo\\Anaconda3\\lib\\site-packages\\sklearn\\preprocessing\\_encoders.py:174: UserWarning: Found unknown categories in columns [5] during transform. These unknown categories will be encoded as all zeros\n",
      "  UserWarning,\n",
      "C:\\Users\\maslo\\Anaconda3\\lib\\site-packages\\sklearn\\preprocessing\\_encoders.py:174: UserWarning: Found unknown categories in columns [1, 2, 3, 4] during transform. These unknown categories will be encoded as all zeros\n",
      "  UserWarning,\n",
      "C:\\Users\\maslo\\Anaconda3\\lib\\site-packages\\sklearn\\preprocessing\\_encoders.py:174: UserWarning: Found unknown categories in columns [2, 3, 4] during transform. These unknown categories will be encoded as all zeros\n",
      "  UserWarning,\n",
      "C:\\Users\\maslo\\Anaconda3\\lib\\site-packages\\sklearn\\preprocessing\\_encoders.py:174: UserWarning: Found unknown categories in columns [2] during transform. These unknown categories will be encoded as all zeros\n",
      "  UserWarning,\n",
      "C:\\Users\\maslo\\Anaconda3\\lib\\site-packages\\sklearn\\preprocessing\\_encoders.py:174: UserWarning: Found unknown categories in columns [1, 2, 3, 4] during transform. These unknown categories will be encoded as all zeros\n",
      "  UserWarning,\n"
     ]
    },
    {
     "name": "stdout",
     "output_type": "stream",
     "text": [
      "[0.7222139540421479, 0.615650446871897, 0.6873015873015873, 0.7188445060483871, 0.6794609616695506]\n"
     ]
    },
    {
     "name": "stderr",
     "output_type": "stream",
     "text": [
      "C:\\Users\\maslo\\Anaconda3\\lib\\site-packages\\sklearn\\preprocessing\\_encoders.py:174: UserWarning: Found unknown categories in columns [1, 2, 3, 4] during transform. These unknown categories will be encoded as all zeros\n",
      "  UserWarning,\n",
      "C:\\Users\\maslo\\Anaconda3\\lib\\site-packages\\sklearn\\preprocessing\\_encoders.py:174: UserWarning: Found unknown categories in columns [3, 4, 5] during transform. These unknown categories will be encoded as all zeros\n",
      "  UserWarning,\n",
      "C:\\Users\\maslo\\Anaconda3\\lib\\site-packages\\sklearn\\preprocessing\\_encoders.py:174: UserWarning: Found unknown categories in columns [1, 2, 3, 4] during transform. These unknown categories will be encoded as all zeros\n",
      "  UserWarning,\n",
      "C:\\Users\\maslo\\Anaconda3\\lib\\site-packages\\sklearn\\preprocessing\\_encoders.py:174: UserWarning: Found unknown categories in columns [5] during transform. These unknown categories will be encoded as all zeros\n",
      "  UserWarning,\n",
      "C:\\Users\\maslo\\Anaconda3\\lib\\site-packages\\sklearn\\preprocessing\\_encoders.py:174: UserWarning: Found unknown categories in columns [1, 2, 3, 4] during transform. These unknown categories will be encoded as all zeros\n",
      "  UserWarning,\n",
      "C:\\Users\\maslo\\Anaconda3\\lib\\site-packages\\sklearn\\preprocessing\\_encoders.py:174: UserWarning: Found unknown categories in columns [2, 3, 4] during transform. These unknown categories will be encoded as all zeros\n",
      "  UserWarning,\n",
      "C:\\Users\\maslo\\Anaconda3\\lib\\site-packages\\sklearn\\preprocessing\\_encoders.py:174: UserWarning: Found unknown categories in columns [2] during transform. These unknown categories will be encoded as all zeros\n",
      "  UserWarning,\n",
      "C:\\Users\\maslo\\Anaconda3\\lib\\site-packages\\sklearn\\preprocessing\\_encoders.py:174: UserWarning: Found unknown categories in columns [1, 2, 3, 4] during transform. These unknown categories will be encoded as all zeros\n",
      "  UserWarning,\n"
     ]
    },
    {
     "name": "stdout",
     "output_type": "stream",
     "text": [
      "[0.7428711751398976, 0.6091559086395234, 0.7062297320361837, 0.7465347782258064, 0.6863038120706833]\n"
     ]
    },
    {
     "name": "stderr",
     "output_type": "stream",
     "text": [
      "C:\\Users\\maslo\\Anaconda3\\lib\\site-packages\\sklearn\\preprocessing\\_encoders.py:174: UserWarning: Found unknown categories in columns [1, 2, 3, 4] during transform. These unknown categories will be encoded as all zeros\n",
      "  UserWarning,\n",
      "C:\\Users\\maslo\\Anaconda3\\lib\\site-packages\\sklearn\\preprocessing\\_encoders.py:174: UserWarning: Found unknown categories in columns [3, 4, 5] during transform. These unknown categories will be encoded as all zeros\n",
      "  UserWarning,\n",
      "C:\\Users\\maslo\\Anaconda3\\lib\\site-packages\\sklearn\\preprocessing\\_encoders.py:174: UserWarning: Found unknown categories in columns [1, 2, 3, 4] during transform. These unknown categories will be encoded as all zeros\n",
      "  UserWarning,\n",
      "C:\\Users\\maslo\\Anaconda3\\lib\\site-packages\\sklearn\\preprocessing\\_encoders.py:174: UserWarning: Found unknown categories in columns [5] during transform. These unknown categories will be encoded as all zeros\n",
      "  UserWarning,\n",
      "C:\\Users\\maslo\\Anaconda3\\lib\\site-packages\\sklearn\\preprocessing\\_encoders.py:174: UserWarning: Found unknown categories in columns [1, 2, 3, 4] during transform. These unknown categories will be encoded as all zeros\n",
      "  UserWarning,\n",
      "C:\\Users\\maslo\\Anaconda3\\lib\\site-packages\\sklearn\\preprocessing\\_encoders.py:174: UserWarning: Found unknown categories in columns [2, 3, 4] during transform. These unknown categories will be encoded as all zeros\n",
      "  UserWarning,\n",
      "C:\\Users\\maslo\\Anaconda3\\lib\\site-packages\\sklearn\\preprocessing\\_encoders.py:174: UserWarning: Found unknown categories in columns [2] during transform. These unknown categories will be encoded as all zeros\n",
      "  UserWarning,\n",
      "C:\\Users\\maslo\\Anaconda3\\lib\\site-packages\\sklearn\\preprocessing\\_encoders.py:174: UserWarning: Found unknown categories in columns [1, 2, 3, 4] during transform. These unknown categories will be encoded as all zeros\n",
      "  UserWarning,\n"
     ]
    },
    {
     "name": "stdout",
     "output_type": "stream",
     "text": [
      "[0.7144600547684248, 0.6545382323733863, 0.6821812596006145, 0.6838142641129032, 0.6277332074878088]\n"
     ]
    },
    {
     "name": "stderr",
     "output_type": "stream",
     "text": [
      "C:\\Users\\maslo\\Anaconda3\\lib\\site-packages\\sklearn\\preprocessing\\_encoders.py:174: UserWarning: Found unknown categories in columns [1, 2, 3, 4] during transform. These unknown categories will be encoded as all zeros\n",
      "  UserWarning,\n",
      "C:\\Users\\maslo\\Anaconda3\\lib\\site-packages\\sklearn\\preprocessing\\_encoders.py:174: UserWarning: Found unknown categories in columns [3, 4, 5] during transform. These unknown categories will be encoded as all zeros\n",
      "  UserWarning,\n",
      "C:\\Users\\maslo\\Anaconda3\\lib\\site-packages\\sklearn\\preprocessing\\_encoders.py:174: UserWarning: Found unknown categories in columns [1, 2, 3, 4] during transform. These unknown categories will be encoded as all zeros\n",
      "  UserWarning,\n",
      "C:\\Users\\maslo\\Anaconda3\\lib\\site-packages\\sklearn\\preprocessing\\_encoders.py:174: UserWarning: Found unknown categories in columns [5] during transform. These unknown categories will be encoded as all zeros\n",
      "  UserWarning,\n",
      "C:\\Users\\maslo\\Anaconda3\\lib\\site-packages\\sklearn\\preprocessing\\_encoders.py:174: UserWarning: Found unknown categories in columns [1, 2, 3, 4] during transform. These unknown categories will be encoded as all zeros\n",
      "  UserWarning,\n",
      "C:\\Users\\maslo\\Anaconda3\\lib\\site-packages\\sklearn\\preprocessing\\_encoders.py:174: UserWarning: Found unknown categories in columns [2, 3, 4] during transform. These unknown categories will be encoded as all zeros\n",
      "  UserWarning,\n",
      "C:\\Users\\maslo\\Anaconda3\\lib\\site-packages\\sklearn\\preprocessing\\_encoders.py:174: UserWarning: Found unknown categories in columns [2] during transform. These unknown categories will be encoded as all zeros\n",
      "  UserWarning,\n",
      "C:\\Users\\maslo\\Anaconda3\\lib\\site-packages\\sklearn\\preprocessing\\_encoders.py:174: UserWarning: Found unknown categories in columns [1, 2, 3, 4] during transform. These unknown categories will be encoded as all zeros\n",
      "  UserWarning,\n"
     ]
    },
    {
     "name": "stdout",
     "output_type": "stream",
     "text": [
      "[0.7370520300035719, 0.6466335650446872, 0.7075780849974398, 0.7369581653225806, 0.71606103507944]\n"
     ]
    },
    {
     "name": "stderr",
     "output_type": "stream",
     "text": [
      "C:\\Users\\maslo\\Anaconda3\\lib\\site-packages\\sklearn\\preprocessing\\_encoders.py:174: UserWarning: Found unknown categories in columns [1, 2, 3, 4] during transform. These unknown categories will be encoded as all zeros\n",
      "  UserWarning,\n",
      "C:\\Users\\maslo\\Anaconda3\\lib\\site-packages\\sklearn\\preprocessing\\_encoders.py:174: UserWarning: Found unknown categories in columns [3, 4, 5] during transform. These unknown categories will be encoded as all zeros\n",
      "  UserWarning,\n",
      "C:\\Users\\maslo\\Anaconda3\\lib\\site-packages\\sklearn\\preprocessing\\_encoders.py:174: UserWarning: Found unknown categories in columns [1, 2, 3, 4] during transform. These unknown categories will be encoded as all zeros\n",
      "  UserWarning,\n",
      "C:\\Users\\maslo\\Anaconda3\\lib\\site-packages\\sklearn\\preprocessing\\_encoders.py:174: UserWarning: Found unknown categories in columns [5] during transform. These unknown categories will be encoded as all zeros\n",
      "  UserWarning,\n",
      "C:\\Users\\maslo\\Anaconda3\\lib\\site-packages\\sklearn\\preprocessing\\_encoders.py:174: UserWarning: Found unknown categories in columns [1, 2, 3, 4] during transform. These unknown categories will be encoded as all zeros\n",
      "  UserWarning,\n",
      "C:\\Users\\maslo\\Anaconda3\\lib\\site-packages\\sklearn\\preprocessing\\_encoders.py:174: UserWarning: Found unknown categories in columns [2, 3, 4] during transform. These unknown categories will be encoded as all zeros\n",
      "  UserWarning,\n",
      "C:\\Users\\maslo\\Anaconda3\\lib\\site-packages\\sklearn\\preprocessing\\_encoders.py:174: UserWarning: Found unknown categories in columns [2] during transform. These unknown categories will be encoded as all zeros\n",
      "  UserWarning,\n",
      "C:\\Users\\maslo\\Anaconda3\\lib\\site-packages\\sklearn\\preprocessing\\_encoders.py:174: UserWarning: Found unknown categories in columns [1, 2, 3, 4] during transform. These unknown categories will be encoded as all zeros\n",
      "  UserWarning,\n"
     ]
    },
    {
     "name": "stdout",
     "output_type": "stream",
     "text": [
      "[0.7330634599357067, 0.6361469712015888, 0.720873869260966, 0.7427545362903226, 0.7048922447695454]\n"
     ]
    },
    {
     "name": "stderr",
     "output_type": "stream",
     "text": [
      "C:\\Users\\maslo\\Anaconda3\\lib\\site-packages\\sklearn\\preprocessing\\_encoders.py:174: UserWarning: Found unknown categories in columns [1, 2, 3, 4] during transform. These unknown categories will be encoded as all zeros\n",
      "  UserWarning,\n",
      "C:\\Users\\maslo\\Anaconda3\\lib\\site-packages\\sklearn\\preprocessing\\_encoders.py:174: UserWarning: Found unknown categories in columns [3, 4, 5] during transform. These unknown categories will be encoded as all zeros\n",
      "  UserWarning,\n",
      "C:\\Users\\maslo\\Anaconda3\\lib\\site-packages\\sklearn\\preprocessing\\_encoders.py:174: UserWarning: Found unknown categories in columns [1, 2, 3, 4] during transform. These unknown categories will be encoded as all zeros\n",
      "  UserWarning,\n",
      "C:\\Users\\maslo\\Anaconda3\\lib\\site-packages\\sklearn\\preprocessing\\_encoders.py:174: UserWarning: Found unknown categories in columns [5] during transform. These unknown categories will be encoded as all zeros\n",
      "  UserWarning,\n",
      "C:\\Users\\maslo\\Anaconda3\\lib\\site-packages\\sklearn\\preprocessing\\_encoders.py:174: UserWarning: Found unknown categories in columns [1, 2, 3, 4] during transform. These unknown categories will be encoded as all zeros\n",
      "  UserWarning,\n",
      "C:\\Users\\maslo\\Anaconda3\\lib\\site-packages\\sklearn\\preprocessing\\_encoders.py:174: UserWarning: Found unknown categories in columns [2, 3, 4] during transform. These unknown categories will be encoded as all zeros\n",
      "  UserWarning,\n",
      "C:\\Users\\maslo\\Anaconda3\\lib\\site-packages\\sklearn\\preprocessing\\_encoders.py:174: UserWarning: Found unknown categories in columns [2] during transform. These unknown categories will be encoded as all zeros\n",
      "  UserWarning,\n",
      "C:\\Users\\maslo\\Anaconda3\\lib\\site-packages\\sklearn\\preprocessing\\_encoders.py:174: UserWarning: Found unknown categories in columns [1, 2, 3, 4] during transform. These unknown categories will be encoded as all zeros\n",
      "  UserWarning,\n"
     ]
    },
    {
     "name": "stdout",
     "output_type": "stream",
     "text": [
      "[0.7186867484224313, 0.6488579940417081, 0.6938044034818228, 0.6867439516129032, 0.659640291542132]\n"
     ]
    },
    {
     "name": "stderr",
     "output_type": "stream",
     "text": [
      "C:\\Users\\maslo\\Anaconda3\\lib\\site-packages\\sklearn\\preprocessing\\_encoders.py:174: UserWarning: Found unknown categories in columns [1, 2, 3, 4] during transform. These unknown categories will be encoded as all zeros\n",
      "  UserWarning,\n",
      "C:\\Users\\maslo\\Anaconda3\\lib\\site-packages\\sklearn\\preprocessing\\_encoders.py:174: UserWarning: Found unknown categories in columns [3, 4, 5] during transform. These unknown categories will be encoded as all zeros\n",
      "  UserWarning,\n",
      "C:\\Users\\maslo\\Anaconda3\\lib\\site-packages\\sklearn\\preprocessing\\_encoders.py:174: UserWarning: Found unknown categories in columns [1, 2, 3, 4] during transform. These unknown categories will be encoded as all zeros\n",
      "  UserWarning,\n",
      "C:\\Users\\maslo\\Anaconda3\\lib\\site-packages\\sklearn\\preprocessing\\_encoders.py:174: UserWarning: Found unknown categories in columns [5] during transform. These unknown categories will be encoded as all zeros\n",
      "  UserWarning,\n",
      "C:\\Users\\maslo\\Anaconda3\\lib\\site-packages\\sklearn\\preprocessing\\_encoders.py:174: UserWarning: Found unknown categories in columns [1, 2, 3, 4] during transform. These unknown categories will be encoded as all zeros\n",
      "  UserWarning,\n",
      "C:\\Users\\maslo\\Anaconda3\\lib\\site-packages\\sklearn\\preprocessing\\_encoders.py:174: UserWarning: Found unknown categories in columns [2, 3, 4] during transform. These unknown categories will be encoded as all zeros\n",
      "  UserWarning,\n",
      "C:\\Users\\maslo\\Anaconda3\\lib\\site-packages\\sklearn\\preprocessing\\_encoders.py:174: UserWarning: Found unknown categories in columns [2] during transform. These unknown categories will be encoded as all zeros\n",
      "  UserWarning,\n",
      "C:\\Users\\maslo\\Anaconda3\\lib\\site-packages\\sklearn\\preprocessing\\_encoders.py:174: UserWarning: Found unknown categories in columns [1, 2, 3, 4] during transform. These unknown categories will be encoded as all zeros\n",
      "  UserWarning,\n"
     ]
    },
    {
     "name": "stdout",
     "output_type": "stream",
     "text": [
      "[0.7370520300035719, 0.6466335650446872, 0.7075780849974398, 0.7369581653225806, 0.71606103507944]\n"
     ]
    },
    {
     "name": "stderr",
     "output_type": "stream",
     "text": [
      "C:\\Users\\maslo\\Anaconda3\\lib\\site-packages\\sklearn\\preprocessing\\_encoders.py:174: UserWarning: Found unknown categories in columns [1, 2, 3, 4] during transform. These unknown categories will be encoded as all zeros\n",
      "  UserWarning,\n",
      "C:\\Users\\maslo\\Anaconda3\\lib\\site-packages\\sklearn\\preprocessing\\_encoders.py:174: UserWarning: Found unknown categories in columns [3, 4, 5] during transform. These unknown categories will be encoded as all zeros\n",
      "  UserWarning,\n",
      "C:\\Users\\maslo\\Anaconda3\\lib\\site-packages\\sklearn\\preprocessing\\_encoders.py:174: UserWarning: Found unknown categories in columns [1, 2, 3, 4] during transform. These unknown categories will be encoded as all zeros\n",
      "  UserWarning,\n",
      "C:\\Users\\maslo\\Anaconda3\\lib\\site-packages\\sklearn\\preprocessing\\_encoders.py:174: UserWarning: Found unknown categories in columns [5] during transform. These unknown categories will be encoded as all zeros\n",
      "  UserWarning,\n",
      "C:\\Users\\maslo\\Anaconda3\\lib\\site-packages\\sklearn\\preprocessing\\_encoders.py:174: UserWarning: Found unknown categories in columns [1, 2, 3, 4] during transform. These unknown categories will be encoded as all zeros\n",
      "  UserWarning,\n",
      "C:\\Users\\maslo\\Anaconda3\\lib\\site-packages\\sklearn\\preprocessing\\_encoders.py:174: UserWarning: Found unknown categories in columns [2, 3, 4] during transform. These unknown categories will be encoded as all zeros\n",
      "  UserWarning,\n",
      "C:\\Users\\maslo\\Anaconda3\\lib\\site-packages\\sklearn\\preprocessing\\_encoders.py:174: UserWarning: Found unknown categories in columns [2] during transform. These unknown categories will be encoded as all zeros\n",
      "  UserWarning,\n",
      "C:\\Users\\maslo\\Anaconda3\\lib\\site-packages\\sklearn\\preprocessing\\_encoders.py:174: UserWarning: Found unknown categories in columns [1, 2, 3, 4] during transform. These unknown categories will be encoded as all zeros\n",
      "  UserWarning,\n"
     ]
    },
    {
     "name": "stdout",
     "output_type": "stream",
     "text": [
      "[0.7330634599357067, 0.6361469712015888, 0.720873869260966, 0.7427545362903226, 0.7048922447695454]\n"
     ]
    },
    {
     "name": "stderr",
     "output_type": "stream",
     "text": [
      "C:\\Users\\maslo\\Anaconda3\\lib\\site-packages\\sklearn\\preprocessing\\_encoders.py:174: UserWarning: Found unknown categories in columns [1, 2, 3, 4] during transform. These unknown categories will be encoded as all zeros\n",
      "  UserWarning,\n",
      "C:\\Users\\maslo\\Anaconda3\\lib\\site-packages\\sklearn\\preprocessing\\_encoders.py:174: UserWarning: Found unknown categories in columns [3, 4, 5] during transform. These unknown categories will be encoded as all zeros\n",
      "  UserWarning,\n",
      "C:\\Users\\maslo\\Anaconda3\\lib\\site-packages\\sklearn\\preprocessing\\_encoders.py:174: UserWarning: Found unknown categories in columns [1, 2, 3, 4] during transform. These unknown categories will be encoded as all zeros\n",
      "  UserWarning,\n",
      "C:\\Users\\maslo\\Anaconda3\\lib\\site-packages\\sklearn\\preprocessing\\_encoders.py:174: UserWarning: Found unknown categories in columns [5] during transform. These unknown categories will be encoded as all zeros\n",
      "  UserWarning,\n",
      "C:\\Users\\maslo\\Anaconda3\\lib\\site-packages\\sklearn\\preprocessing\\_encoders.py:174: UserWarning: Found unknown categories in columns [1, 2, 3, 4] during transform. These unknown categories will be encoded as all zeros\n",
      "  UserWarning,\n",
      "C:\\Users\\maslo\\Anaconda3\\lib\\site-packages\\sklearn\\preprocessing\\_encoders.py:174: UserWarning: Found unknown categories in columns [2, 3, 4] during transform. These unknown categories will be encoded as all zeros\n",
      "  UserWarning,\n",
      "C:\\Users\\maslo\\Anaconda3\\lib\\site-packages\\sklearn\\preprocessing\\_encoders.py:174: UserWarning: Found unknown categories in columns [2] during transform. These unknown categories will be encoded as all zeros\n",
      "  UserWarning,\n",
      "C:\\Users\\maslo\\Anaconda3\\lib\\site-packages\\sklearn\\preprocessing\\_encoders.py:174: UserWarning: Found unknown categories in columns [1, 2, 3, 4] during transform. These unknown categories will be encoded as all zeros\n",
      "  UserWarning,\n"
     ]
    },
    {
     "name": "stdout",
     "output_type": "stream",
     "text": [
      "[0.7307417549708298, 0.6258192651439921, 0.6814132104454684, 0.7384072580645161, 0.6787530805935714]\n"
     ]
    },
    {
     "name": "stderr",
     "output_type": "stream",
     "text": [
      "C:\\Users\\maslo\\Anaconda3\\lib\\site-packages\\sklearn\\preprocessing\\_encoders.py:174: UserWarning: Found unknown categories in columns [1, 2, 3, 4] during transform. These unknown categories will be encoded as all zeros\n",
      "  UserWarning,\n",
      "C:\\Users\\maslo\\Anaconda3\\lib\\site-packages\\sklearn\\preprocessing\\_encoders.py:174: UserWarning: Found unknown categories in columns [3, 4, 5] during transform. These unknown categories will be encoded as all zeros\n",
      "  UserWarning,\n",
      "C:\\Users\\maslo\\Anaconda3\\lib\\site-packages\\sklearn\\preprocessing\\_encoders.py:174: UserWarning: Found unknown categories in columns [1, 2, 3, 4] during transform. These unknown categories will be encoded as all zeros\n",
      "  UserWarning,\n",
      "C:\\Users\\maslo\\Anaconda3\\lib\\site-packages\\sklearn\\preprocessing\\_encoders.py:174: UserWarning: Found unknown categories in columns [5] during transform. These unknown categories will be encoded as all zeros\n",
      "  UserWarning,\n",
      "C:\\Users\\maslo\\Anaconda3\\lib\\site-packages\\sklearn\\preprocessing\\_encoders.py:174: UserWarning: Found unknown categories in columns [1, 2, 3, 4] during transform. These unknown categories will be encoded as all zeros\n",
      "  UserWarning,\n",
      "C:\\Users\\maslo\\Anaconda3\\lib\\site-packages\\sklearn\\preprocessing\\_encoders.py:174: UserWarning: Found unknown categories in columns [2, 3, 4] during transform. These unknown categories will be encoded as all zeros\n",
      "  UserWarning,\n",
      "C:\\Users\\maslo\\Anaconda3\\lib\\site-packages\\sklearn\\preprocessing\\_encoders.py:174: UserWarning: Found unknown categories in columns [2] during transform. These unknown categories will be encoded as all zeros\n",
      "  UserWarning,\n",
      "C:\\Users\\maslo\\Anaconda3\\lib\\site-packages\\sklearn\\preprocessing\\_encoders.py:174: UserWarning: Found unknown categories in columns [1, 2, 3, 4] during transform. These unknown categories will be encoded as all zeros\n",
      "  UserWarning,\n"
     ]
    },
    {
     "name": "stdout",
     "output_type": "stream",
     "text": [
      "[0.7370520300035719, 0.6466335650446872, 0.7075780849974398, 0.7369581653225806, 0.71606103507944]\n"
     ]
    },
    {
     "name": "stderr",
     "output_type": "stream",
     "text": [
      "C:\\Users\\maslo\\Anaconda3\\lib\\site-packages\\sklearn\\preprocessing\\_encoders.py:174: UserWarning: Found unknown categories in columns [1, 2, 3, 4] during transform. These unknown categories will be encoded as all zeros\n",
      "  UserWarning,\n",
      "C:\\Users\\maslo\\Anaconda3\\lib\\site-packages\\sklearn\\preprocessing\\_encoders.py:174: UserWarning: Found unknown categories in columns [3, 4, 5] during transform. These unknown categories will be encoded as all zeros\n",
      "  UserWarning,\n",
      "C:\\Users\\maslo\\Anaconda3\\lib\\site-packages\\sklearn\\preprocessing\\_encoders.py:174: UserWarning: Found unknown categories in columns [1, 2, 3, 4] during transform. These unknown categories will be encoded as all zeros\n",
      "  UserWarning,\n",
      "C:\\Users\\maslo\\Anaconda3\\lib\\site-packages\\sklearn\\preprocessing\\_encoders.py:174: UserWarning: Found unknown categories in columns [5] during transform. These unknown categories will be encoded as all zeros\n",
      "  UserWarning,\n",
      "C:\\Users\\maslo\\Anaconda3\\lib\\site-packages\\sklearn\\preprocessing\\_encoders.py:174: UserWarning: Found unknown categories in columns [1, 2, 3, 4] during transform. These unknown categories will be encoded as all zeros\n",
      "  UserWarning,\n",
      "C:\\Users\\maslo\\Anaconda3\\lib\\site-packages\\sklearn\\preprocessing\\_encoders.py:174: UserWarning: Found unknown categories in columns [2, 3, 4] during transform. These unknown categories will be encoded as all zeros\n",
      "  UserWarning,\n",
      "C:\\Users\\maslo\\Anaconda3\\lib\\site-packages\\sklearn\\preprocessing\\_encoders.py:174: UserWarning: Found unknown categories in columns [2] during transform. These unknown categories will be encoded as all zeros\n",
      "  UserWarning,\n",
      "C:\\Users\\maslo\\Anaconda3\\lib\\site-packages\\sklearn\\preprocessing\\_encoders.py:174: UserWarning: Found unknown categories in columns [1, 2, 3, 4] during transform. These unknown categories will be encoded as all zeros\n",
      "  UserWarning,\n"
     ]
    },
    {
     "name": "stdout",
     "output_type": "stream",
     "text": [
      "[0.7330634599357067, 0.6361469712015888, 0.720873869260966, 0.7427545362903226, 0.7048922447695454]\n"
     ]
    },
    {
     "name": "stderr",
     "output_type": "stream",
     "text": [
      "C:\\Users\\maslo\\Anaconda3\\lib\\site-packages\\sklearn\\preprocessing\\_encoders.py:174: UserWarning: Found unknown categories in columns [1, 2, 3, 4] during transform. These unknown categories will be encoded as all zeros\n",
      "  UserWarning,\n",
      "C:\\Users\\maslo\\Anaconda3\\lib\\site-packages\\sklearn\\preprocessing\\_encoders.py:174: UserWarning: Found unknown categories in columns [3, 4, 5] during transform. These unknown categories will be encoded as all zeros\n",
      "  UserWarning,\n",
      "C:\\Users\\maslo\\Anaconda3\\lib\\site-packages\\sklearn\\preprocessing\\_encoders.py:174: UserWarning: Found unknown categories in columns [1, 2, 3, 4] during transform. These unknown categories will be encoded as all zeros\n",
      "  UserWarning,\n",
      "C:\\Users\\maslo\\Anaconda3\\lib\\site-packages\\sklearn\\preprocessing\\_encoders.py:174: UserWarning: Found unknown categories in columns [5] during transform. These unknown categories will be encoded as all zeros\n",
      "  UserWarning,\n",
      "C:\\Users\\maslo\\Anaconda3\\lib\\site-packages\\sklearn\\preprocessing\\_encoders.py:174: UserWarning: Found unknown categories in columns [1, 2, 3, 4] during transform. These unknown categories will be encoded as all zeros\n",
      "  UserWarning,\n",
      "C:\\Users\\maslo\\Anaconda3\\lib\\site-packages\\sklearn\\preprocessing\\_encoders.py:174: UserWarning: Found unknown categories in columns [2, 3, 4] during transform. These unknown categories will be encoded as all zeros\n",
      "  UserWarning,\n",
      "C:\\Users\\maslo\\Anaconda3\\lib\\site-packages\\sklearn\\preprocessing\\_encoders.py:174: UserWarning: Found unknown categories in columns [2] during transform. These unknown categories will be encoded as all zeros\n",
      "  UserWarning,\n",
      "C:\\Users\\maslo\\Anaconda3\\lib\\site-packages\\sklearn\\preprocessing\\_encoders.py:174: UserWarning: Found unknown categories in columns [1, 2, 3, 4] during transform. These unknown categories will be encoded as all zeros\n",
      "  UserWarning,\n"
     ]
    },
    {
     "name": "stdout",
     "output_type": "stream",
     "text": [
      "[0.7318728420050007, 0.6577954319761669, 0.7220856801501963, 0.7442666330645161, 0.7046300665932568]\n"
     ]
    },
    {
     "name": "stderr",
     "output_type": "stream",
     "text": [
      "C:\\Users\\maslo\\Anaconda3\\lib\\site-packages\\sklearn\\preprocessing\\_encoders.py:174: UserWarning: Found unknown categories in columns [1, 2, 3, 4] during transform. These unknown categories will be encoded as all zeros\n",
      "  UserWarning,\n",
      "C:\\Users\\maslo\\Anaconda3\\lib\\site-packages\\sklearn\\preprocessing\\_encoders.py:174: UserWarning: Found unknown categories in columns [3, 4, 5] during transform. These unknown categories will be encoded as all zeros\n",
      "  UserWarning,\n",
      "C:\\Users\\maslo\\Anaconda3\\lib\\site-packages\\sklearn\\preprocessing\\_encoders.py:174: UserWarning: Found unknown categories in columns [1, 2, 3, 4] during transform. These unknown categories will be encoded as all zeros\n",
      "  UserWarning,\n",
      "C:\\Users\\maslo\\Anaconda3\\lib\\site-packages\\sklearn\\preprocessing\\_encoders.py:174: UserWarning: Found unknown categories in columns [5] during transform. These unknown categories will be encoded as all zeros\n",
      "  UserWarning,\n",
      "C:\\Users\\maslo\\Anaconda3\\lib\\site-packages\\sklearn\\preprocessing\\_encoders.py:174: UserWarning: Found unknown categories in columns [1, 2, 3, 4] during transform. These unknown categories will be encoded as all zeros\n",
      "  UserWarning,\n",
      "C:\\Users\\maslo\\Anaconda3\\lib\\site-packages\\sklearn\\preprocessing\\_encoders.py:174: UserWarning: Found unknown categories in columns [2, 3, 4] during transform. These unknown categories will be encoded as all zeros\n",
      "  UserWarning,\n",
      "C:\\Users\\maslo\\Anaconda3\\lib\\site-packages\\sklearn\\preprocessing\\_encoders.py:174: UserWarning: Found unknown categories in columns [2] during transform. These unknown categories will be encoded as all zeros\n",
      "  UserWarning,\n",
      "C:\\Users\\maslo\\Anaconda3\\lib\\site-packages\\sklearn\\preprocessing\\_encoders.py:174: UserWarning: Found unknown categories in columns [1, 2, 3, 4] during transform. These unknown categories will be encoded as all zeros\n",
      "  UserWarning,\n"
     ]
    },
    {
     "name": "stdout",
     "output_type": "stream",
     "text": [
      "[0.7308459340397667, 0.6478053624627607, 0.722563577402287, 0.7526461693548387, 0.7075402443500602]\n"
     ]
    },
    {
     "name": "stderr",
     "output_type": "stream",
     "text": [
      "C:\\Users\\maslo\\Anaconda3\\lib\\site-packages\\sklearn\\preprocessing\\_encoders.py:174: UserWarning: Found unknown categories in columns [1, 2, 3, 4] during transform. These unknown categories will be encoded as all zeros\n",
      "  UserWarning,\n",
      "C:\\Users\\maslo\\Anaconda3\\lib\\site-packages\\sklearn\\preprocessing\\_encoders.py:174: UserWarning: Found unknown categories in columns [3, 4, 5] during transform. These unknown categories will be encoded as all zeros\n",
      "  UserWarning,\n",
      "C:\\Users\\maslo\\Anaconda3\\lib\\site-packages\\sklearn\\preprocessing\\_encoders.py:174: UserWarning: Found unknown categories in columns [1, 2, 3, 4] during transform. These unknown categories will be encoded as all zeros\n",
      "  UserWarning,\n",
      "C:\\Users\\maslo\\Anaconda3\\lib\\site-packages\\sklearn\\preprocessing\\_encoders.py:174: UserWarning: Found unknown categories in columns [5] during transform. These unknown categories will be encoded as all zeros\n",
      "  UserWarning,\n",
      "C:\\Users\\maslo\\Anaconda3\\lib\\site-packages\\sklearn\\preprocessing\\_encoders.py:174: UserWarning: Found unknown categories in columns [1, 2, 3, 4] during transform. These unknown categories will be encoded as all zeros\n",
      "  UserWarning,\n",
      "C:\\Users\\maslo\\Anaconda3\\lib\\site-packages\\sklearn\\preprocessing\\_encoders.py:174: UserWarning: Found unknown categories in columns [2, 3, 4] during transform. These unknown categories will be encoded as all zeros\n",
      "  UserWarning,\n",
      "C:\\Users\\maslo\\Anaconda3\\lib\\site-packages\\sklearn\\preprocessing\\_encoders.py:174: UserWarning: Found unknown categories in columns [2] during transform. These unknown categories will be encoded as all zeros\n",
      "  UserWarning,\n",
      "C:\\Users\\maslo\\Anaconda3\\lib\\site-packages\\sklearn\\preprocessing\\_encoders.py:174: UserWarning: Found unknown categories in columns [1, 2, 3, 4] during transform. These unknown categories will be encoded as all zeros\n",
      "  UserWarning,\n"
     ]
    },
    {
     "name": "stdout",
     "output_type": "stream",
     "text": [
      "[0.7364567210382188, 0.6488579940417081, 0.7323434033111452, 0.7517011088709677, 0.709270620313565]\n"
     ]
    },
    {
     "name": "stderr",
     "output_type": "stream",
     "text": [
      "C:\\Users\\maslo\\Anaconda3\\lib\\site-packages\\sklearn\\preprocessing\\_encoders.py:174: UserWarning: Found unknown categories in columns [1, 2, 3, 4] during transform. These unknown categories will be encoded as all zeros\n",
      "  UserWarning,\n",
      "C:\\Users\\maslo\\Anaconda3\\lib\\site-packages\\sklearn\\preprocessing\\_encoders.py:174: UserWarning: Found unknown categories in columns [3, 4, 5] during transform. These unknown categories will be encoded as all zeros\n",
      "  UserWarning,\n",
      "C:\\Users\\maslo\\Anaconda3\\lib\\site-packages\\sklearn\\preprocessing\\_encoders.py:174: UserWarning: Found unknown categories in columns [1, 2, 3, 4] during transform. These unknown categories will be encoded as all zeros\n",
      "  UserWarning,\n",
      "C:\\Users\\maslo\\Anaconda3\\lib\\site-packages\\sklearn\\preprocessing\\_encoders.py:174: UserWarning: Found unknown categories in columns [5] during transform. These unknown categories will be encoded as all zeros\n",
      "  UserWarning,\n",
      "C:\\Users\\maslo\\Anaconda3\\lib\\site-packages\\sklearn\\preprocessing\\_encoders.py:174: UserWarning: Found unknown categories in columns [1, 2, 3, 4] during transform. These unknown categories will be encoded as all zeros\n",
      "  UserWarning,\n",
      "C:\\Users\\maslo\\Anaconda3\\lib\\site-packages\\sklearn\\preprocessing\\_encoders.py:174: UserWarning: Found unknown categories in columns [2, 3, 4] during transform. These unknown categories will be encoded as all zeros\n",
      "  UserWarning,\n",
      "C:\\Users\\maslo\\Anaconda3\\lib\\site-packages\\sklearn\\preprocessing\\_encoders.py:174: UserWarning: Found unknown categories in columns [2] during transform. These unknown categories will be encoded as all zeros\n",
      "  UserWarning,\n",
      "C:\\Users\\maslo\\Anaconda3\\lib\\site-packages\\sklearn\\preprocessing\\_encoders.py:174: UserWarning: Found unknown categories in columns [1, 2, 3, 4] during transform. These unknown categories will be encoded as all zeros\n",
      "  UserWarning,\n"
     ]
    },
    {
     "name": "stdout",
     "output_type": "stream",
     "text": [
      "[0.7220502440766757, 0.6562859980139027, 0.727120669056153, 0.7602066532258064, 0.7125478475171726]\n"
     ]
    },
    {
     "name": "stderr",
     "output_type": "stream",
     "text": [
      "C:\\Users\\maslo\\Anaconda3\\lib\\site-packages\\sklearn\\preprocessing\\_encoders.py:174: UserWarning: Found unknown categories in columns [1, 2, 3, 4] during transform. These unknown categories will be encoded as all zeros\n",
      "  UserWarning,\n",
      "C:\\Users\\maslo\\Anaconda3\\lib\\site-packages\\sklearn\\preprocessing\\_encoders.py:174: UserWarning: Found unknown categories in columns [3, 4, 5] during transform. These unknown categories will be encoded as all zeros\n",
      "  UserWarning,\n",
      "C:\\Users\\maslo\\Anaconda3\\lib\\site-packages\\sklearn\\preprocessing\\_encoders.py:174: UserWarning: Found unknown categories in columns [1, 2, 3, 4] during transform. These unknown categories will be encoded as all zeros\n",
      "  UserWarning,\n",
      "C:\\Users\\maslo\\Anaconda3\\lib\\site-packages\\sklearn\\preprocessing\\_encoders.py:174: UserWarning: Found unknown categories in columns [5] during transform. These unknown categories will be encoded as all zeros\n",
      "  UserWarning,\n",
      "C:\\Users\\maslo\\Anaconda3\\lib\\site-packages\\sklearn\\preprocessing\\_encoders.py:174: UserWarning: Found unknown categories in columns [1, 2, 3, 4] during transform. These unknown categories will be encoded as all zeros\n",
      "  UserWarning,\n",
      "C:\\Users\\maslo\\Anaconda3\\lib\\site-packages\\sklearn\\preprocessing\\_encoders.py:174: UserWarning: Found unknown categories in columns [2, 3, 4] during transform. These unknown categories will be encoded as all zeros\n",
      "  UserWarning,\n",
      "C:\\Users\\maslo\\Anaconda3\\lib\\site-packages\\sklearn\\preprocessing\\_encoders.py:174: UserWarning: Found unknown categories in columns [2] during transform. These unknown categories will be encoded as all zeros\n",
      "  UserWarning,\n",
      "C:\\Users\\maslo\\Anaconda3\\lib\\site-packages\\sklearn\\preprocessing\\_encoders.py:174: UserWarning: Found unknown categories in columns [1, 2, 3, 4] during transform. These unknown categories will be encoded as all zeros\n",
      "  UserWarning,\n"
     ]
    },
    {
     "name": "stdout",
     "output_type": "stream",
     "text": [
      "[0.7308459340397667, 0.6478053624627607, 0.722563577402287, 0.7526461693548387, 0.7075402443500602]\n"
     ]
    },
    {
     "name": "stderr",
     "output_type": "stream",
     "text": [
      "C:\\Users\\maslo\\Anaconda3\\lib\\site-packages\\sklearn\\preprocessing\\_encoders.py:174: UserWarning: Found unknown categories in columns [1, 2, 3, 4] during transform. These unknown categories will be encoded as all zeros\n",
      "  UserWarning,\n",
      "C:\\Users\\maslo\\Anaconda3\\lib\\site-packages\\sklearn\\preprocessing\\_encoders.py:174: UserWarning: Found unknown categories in columns [3, 4, 5] during transform. These unknown categories will be encoded as all zeros\n",
      "  UserWarning,\n",
      "C:\\Users\\maslo\\Anaconda3\\lib\\site-packages\\sklearn\\preprocessing\\_encoders.py:174: UserWarning: Found unknown categories in columns [1, 2, 3, 4] during transform. These unknown categories will be encoded as all zeros\n",
      "  UserWarning,\n",
      "C:\\Users\\maslo\\Anaconda3\\lib\\site-packages\\sklearn\\preprocessing\\_encoders.py:174: UserWarning: Found unknown categories in columns [5] during transform. These unknown categories will be encoded as all zeros\n",
      "  UserWarning,\n",
      "C:\\Users\\maslo\\Anaconda3\\lib\\site-packages\\sklearn\\preprocessing\\_encoders.py:174: UserWarning: Found unknown categories in columns [1, 2, 3, 4] during transform. These unknown categories will be encoded as all zeros\n",
      "  UserWarning,\n",
      "C:\\Users\\maslo\\Anaconda3\\lib\\site-packages\\sklearn\\preprocessing\\_encoders.py:174: UserWarning: Found unknown categories in columns [2, 3, 4] during transform. These unknown categories will be encoded as all zeros\n",
      "  UserWarning,\n",
      "C:\\Users\\maslo\\Anaconda3\\lib\\site-packages\\sklearn\\preprocessing\\_encoders.py:174: UserWarning: Found unknown categories in columns [2] during transform. These unknown categories will be encoded as all zeros\n",
      "  UserWarning,\n",
      "C:\\Users\\maslo\\Anaconda3\\lib\\site-packages\\sklearn\\preprocessing\\_encoders.py:174: UserWarning: Found unknown categories in columns [1, 2, 3, 4] during transform. These unknown categories will be encoded as all zeros\n",
      "  UserWarning,\n"
     ]
    },
    {
     "name": "stdout",
     "output_type": "stream",
     "text": [
      "[0.7364567210382188, 0.6488579940417081, 0.7323434033111452, 0.7517011088709677, 0.709270620313565]\n"
     ]
    },
    {
     "name": "stderr",
     "output_type": "stream",
     "text": [
      "C:\\Users\\maslo\\Anaconda3\\lib\\site-packages\\sklearn\\preprocessing\\_encoders.py:174: UserWarning: Found unknown categories in columns [1, 2, 3, 4] during transform. These unknown categories will be encoded as all zeros\n",
      "  UserWarning,\n",
      "C:\\Users\\maslo\\Anaconda3\\lib\\site-packages\\sklearn\\preprocessing\\_encoders.py:174: UserWarning: Found unknown categories in columns [3, 4, 5] during transform. These unknown categories will be encoded as all zeros\n",
      "  UserWarning,\n",
      "C:\\Users\\maslo\\Anaconda3\\lib\\site-packages\\sklearn\\preprocessing\\_encoders.py:174: UserWarning: Found unknown categories in columns [1, 2, 3, 4] during transform. These unknown categories will be encoded as all zeros\n",
      "  UserWarning,\n",
      "C:\\Users\\maslo\\Anaconda3\\lib\\site-packages\\sklearn\\preprocessing\\_encoders.py:174: UserWarning: Found unknown categories in columns [5] during transform. These unknown categories will be encoded as all zeros\n",
      "  UserWarning,\n",
      "C:\\Users\\maslo\\Anaconda3\\lib\\site-packages\\sklearn\\preprocessing\\_encoders.py:174: UserWarning: Found unknown categories in columns [1, 2, 3, 4] during transform. These unknown categories will be encoded as all zeros\n",
      "  UserWarning,\n",
      "C:\\Users\\maslo\\Anaconda3\\lib\\site-packages\\sklearn\\preprocessing\\_encoders.py:174: UserWarning: Found unknown categories in columns [2, 3, 4] during transform. These unknown categories will be encoded as all zeros\n",
      "  UserWarning,\n",
      "C:\\Users\\maslo\\Anaconda3\\lib\\site-packages\\sklearn\\preprocessing\\_encoders.py:174: UserWarning: Found unknown categories in columns [2] during transform. These unknown categories will be encoded as all zeros\n",
      "  UserWarning,\n",
      "C:\\Users\\maslo\\Anaconda3\\lib\\site-packages\\sklearn\\preprocessing\\_encoders.py:174: UserWarning: Found unknown categories in columns [1, 2, 3, 4] during transform. These unknown categories will be encoded as all zeros\n",
      "  UserWarning,\n"
     ]
    },
    {
     "name": "stdout",
     "output_type": "stream",
     "text": [
      "[0.7329741635909037, 0.6414697120158889, 0.7263696876600101, 0.7634198588709679, 0.718315767395522]\n"
     ]
    },
    {
     "name": "stderr",
     "output_type": "stream",
     "text": [
      "C:\\Users\\maslo\\Anaconda3\\lib\\site-packages\\sklearn\\preprocessing\\_encoders.py:174: UserWarning: Found unknown categories in columns [1, 2, 3, 4] during transform. These unknown categories will be encoded as all zeros\n",
      "  UserWarning,\n",
      "C:\\Users\\maslo\\Anaconda3\\lib\\site-packages\\sklearn\\preprocessing\\_encoders.py:174: UserWarning: Found unknown categories in columns [3, 4, 5] during transform. These unknown categories will be encoded as all zeros\n",
      "  UserWarning,\n",
      "C:\\Users\\maslo\\Anaconda3\\lib\\site-packages\\sklearn\\preprocessing\\_encoders.py:174: UserWarning: Found unknown categories in columns [1, 2, 3, 4] during transform. These unknown categories will be encoded as all zeros\n",
      "  UserWarning,\n",
      "C:\\Users\\maslo\\Anaconda3\\lib\\site-packages\\sklearn\\preprocessing\\_encoders.py:174: UserWarning: Found unknown categories in columns [5] during transform. These unknown categories will be encoded as all zeros\n",
      "  UserWarning,\n",
      "C:\\Users\\maslo\\Anaconda3\\lib\\site-packages\\sklearn\\preprocessing\\_encoders.py:174: UserWarning: Found unknown categories in columns [1, 2, 3, 4] during transform. These unknown categories will be encoded as all zeros\n",
      "  UserWarning,\n",
      "C:\\Users\\maslo\\Anaconda3\\lib\\site-packages\\sklearn\\preprocessing\\_encoders.py:174: UserWarning: Found unknown categories in columns [2, 3, 4] during transform. These unknown categories will be encoded as all zeros\n",
      "  UserWarning,\n",
      "C:\\Users\\maslo\\Anaconda3\\lib\\site-packages\\sklearn\\preprocessing\\_encoders.py:174: UserWarning: Found unknown categories in columns [2] during transform. These unknown categories will be encoded as all zeros\n",
      "  UserWarning,\n",
      "C:\\Users\\maslo\\Anaconda3\\lib\\site-packages\\sklearn\\preprocessing\\_encoders.py:174: UserWarning: Found unknown categories in columns [1, 2, 3, 4] during transform. These unknown categories will be encoded as all zeros\n",
      "  UserWarning,\n"
     ]
    },
    {
     "name": "stdout",
     "output_type": "stream",
     "text": [
      "[0.7308459340397667, 0.6478053624627607, 0.722563577402287, 0.7526461693548387, 0.7075402443500602]\n"
     ]
    },
    {
     "name": "stderr",
     "output_type": "stream",
     "text": [
      "C:\\Users\\maslo\\Anaconda3\\lib\\site-packages\\sklearn\\preprocessing\\_encoders.py:174: UserWarning: Found unknown categories in columns [1, 2, 3, 4] during transform. These unknown categories will be encoded as all zeros\n",
      "  UserWarning,\n",
      "C:\\Users\\maslo\\Anaconda3\\lib\\site-packages\\sklearn\\preprocessing\\_encoders.py:174: UserWarning: Found unknown categories in columns [3, 4, 5] during transform. These unknown categories will be encoded as all zeros\n",
      "  UserWarning,\n",
      "C:\\Users\\maslo\\Anaconda3\\lib\\site-packages\\sklearn\\preprocessing\\_encoders.py:174: UserWarning: Found unknown categories in columns [1, 2, 3, 4] during transform. These unknown categories will be encoded as all zeros\n",
      "  UserWarning,\n",
      "C:\\Users\\maslo\\Anaconda3\\lib\\site-packages\\sklearn\\preprocessing\\_encoders.py:174: UserWarning: Found unknown categories in columns [5] during transform. These unknown categories will be encoded as all zeros\n",
      "  UserWarning,\n",
      "C:\\Users\\maslo\\Anaconda3\\lib\\site-packages\\sklearn\\preprocessing\\_encoders.py:174: UserWarning: Found unknown categories in columns [1, 2, 3, 4] during transform. These unknown categories will be encoded as all zeros\n",
      "  UserWarning,\n",
      "C:\\Users\\maslo\\Anaconda3\\lib\\site-packages\\sklearn\\preprocessing\\_encoders.py:174: UserWarning: Found unknown categories in columns [2, 3, 4] during transform. These unknown categories will be encoded as all zeros\n",
      "  UserWarning,\n",
      "C:\\Users\\maslo\\Anaconda3\\lib\\site-packages\\sklearn\\preprocessing\\_encoders.py:174: UserWarning: Found unknown categories in columns [2] during transform. These unknown categories will be encoded as all zeros\n",
      "  UserWarning,\n",
      "C:\\Users\\maslo\\Anaconda3\\lib\\site-packages\\sklearn\\preprocessing\\_encoders.py:174: UserWarning: Found unknown categories in columns [1, 2, 3, 4] during transform. These unknown categories will be encoded as all zeros\n",
      "  UserWarning,\n"
     ]
    },
    {
     "name": "stdout",
     "output_type": "stream",
     "text": [
      "[0.7364567210382188, 0.6488579940417081, 0.7323434033111452, 0.7517011088709677, 0.709270620313565]\n"
     ]
    },
    {
     "name": "stderr",
     "output_type": "stream",
     "text": [
      "C:\\Users\\maslo\\Anaconda3\\lib\\site-packages\\sklearn\\preprocessing\\_encoders.py:174: UserWarning: Found unknown categories in columns [1, 2, 3, 4] during transform. These unknown categories will be encoded as all zeros\n",
      "  UserWarning,\n",
      "C:\\Users\\maslo\\Anaconda3\\lib\\site-packages\\sklearn\\preprocessing\\_encoders.py:174: UserWarning: Found unknown categories in columns [3, 4, 5] during transform. These unknown categories will be encoded as all zeros\n",
      "  UserWarning,\n",
      "C:\\Users\\maslo\\Anaconda3\\lib\\site-packages\\sklearn\\preprocessing\\_encoders.py:174: UserWarning: Found unknown categories in columns [1, 2, 3, 4] during transform. These unknown categories will be encoded as all zeros\n",
      "  UserWarning,\n",
      "C:\\Users\\maslo\\Anaconda3\\lib\\site-packages\\sklearn\\preprocessing\\_encoders.py:174: UserWarning: Found unknown categories in columns [5] during transform. These unknown categories will be encoded as all zeros\n",
      "  UserWarning,\n",
      "C:\\Users\\maslo\\Anaconda3\\lib\\site-packages\\sklearn\\preprocessing\\_encoders.py:174: UserWarning: Found unknown categories in columns [1, 2, 3, 4] during transform. These unknown categories will be encoded as all zeros\n",
      "  UserWarning,\n",
      "C:\\Users\\maslo\\Anaconda3\\lib\\site-packages\\sklearn\\preprocessing\\_encoders.py:174: UserWarning: Found unknown categories in columns [2, 3, 4] during transform. These unknown categories will be encoded as all zeros\n",
      "  UserWarning,\n",
      "C:\\Users\\maslo\\Anaconda3\\lib\\site-packages\\sklearn\\preprocessing\\_encoders.py:174: UserWarning: Found unknown categories in columns [2] during transform. These unknown categories will be encoded as all zeros\n",
      "  UserWarning,\n",
      "C:\\Users\\maslo\\Anaconda3\\lib\\site-packages\\sklearn\\preprocessing\\_encoders.py:174: UserWarning: Found unknown categories in columns [1, 2, 3, 4] during transform. These unknown categories will be encoded as all zeros\n",
      "  UserWarning,\n"
     ]
    },
    {
     "name": "stdout",
     "output_type": "stream",
     "text": [
      "[0.7158292653887367, 0.6175173783515393, 0.7039085168117425, 0.7341229838709676, 0.6898956530858372]\n"
     ]
    },
    {
     "name": "stderr",
     "output_type": "stream",
     "text": [
      "C:\\Users\\maslo\\Anaconda3\\lib\\site-packages\\sklearn\\preprocessing\\_encoders.py:174: UserWarning: Found unknown categories in columns [1, 2, 3, 4] during transform. These unknown categories will be encoded as all zeros\n",
      "  UserWarning,\n",
      "C:\\Users\\maslo\\Anaconda3\\lib\\site-packages\\sklearn\\preprocessing\\_encoders.py:174: UserWarning: Found unknown categories in columns [3, 4, 5] during transform. These unknown categories will be encoded as all zeros\n",
      "  UserWarning,\n",
      "C:\\Users\\maslo\\Anaconda3\\lib\\site-packages\\sklearn\\preprocessing\\_encoders.py:174: UserWarning: Found unknown categories in columns [1, 2, 3, 4] during transform. These unknown categories will be encoded as all zeros\n",
      "  UserWarning,\n",
      "C:\\Users\\maslo\\Anaconda3\\lib\\site-packages\\sklearn\\preprocessing\\_encoders.py:174: UserWarning: Found unknown categories in columns [5] during transform. These unknown categories will be encoded as all zeros\n",
      "  UserWarning,\n",
      "C:\\Users\\maslo\\Anaconda3\\lib\\site-packages\\sklearn\\preprocessing\\_encoders.py:174: UserWarning: Found unknown categories in columns [1, 2, 3, 4] during transform. These unknown categories will be encoded as all zeros\n",
      "  UserWarning,\n",
      "C:\\Users\\maslo\\Anaconda3\\lib\\site-packages\\sklearn\\preprocessing\\_encoders.py:174: UserWarning: Found unknown categories in columns [2, 3, 4] during transform. These unknown categories will be encoded as all zeros\n",
      "  UserWarning,\n",
      "C:\\Users\\maslo\\Anaconda3\\lib\\site-packages\\sklearn\\preprocessing\\_encoders.py:174: UserWarning: Found unknown categories in columns [2] during transform. These unknown categories will be encoded as all zeros\n",
      "  UserWarning,\n",
      "C:\\Users\\maslo\\Anaconda3\\lib\\site-packages\\sklearn\\preprocessing\\_encoders.py:174: UserWarning: Found unknown categories in columns [1, 2, 3, 4] during transform. These unknown categories will be encoded as all zeros\n",
      "  UserWarning,\n"
     ]
    },
    {
     "name": "stdout",
     "output_type": "stream",
     "text": [
      "[0.7274973211096559, 0.63519364448858, 0.7164021164021164, 0.7344380040322581, 0.690105395626868]\n"
     ]
    },
    {
     "name": "stderr",
     "output_type": "stream",
     "text": [
      "C:\\Users\\maslo\\Anaconda3\\lib\\site-packages\\sklearn\\preprocessing\\_encoders.py:174: UserWarning: Found unknown categories in columns [1, 2, 3, 4] during transform. These unknown categories will be encoded as all zeros\n",
      "  UserWarning,\n",
      "C:\\Users\\maslo\\Anaconda3\\lib\\site-packages\\sklearn\\preprocessing\\_encoders.py:174: UserWarning: Found unknown categories in columns [3, 4, 5] during transform. These unknown categories will be encoded as all zeros\n",
      "  UserWarning,\n",
      "C:\\Users\\maslo\\Anaconda3\\lib\\site-packages\\sklearn\\preprocessing\\_encoders.py:174: UserWarning: Found unknown categories in columns [1, 2, 3, 4] during transform. These unknown categories will be encoded as all zeros\n",
      "  UserWarning,\n",
      "C:\\Users\\maslo\\Anaconda3\\lib\\site-packages\\sklearn\\preprocessing\\_encoders.py:174: UserWarning: Found unknown categories in columns [5] during transform. These unknown categories will be encoded as all zeros\n",
      "  UserWarning,\n",
      "C:\\Users\\maslo\\Anaconda3\\lib\\site-packages\\sklearn\\preprocessing\\_encoders.py:174: UserWarning: Found unknown categories in columns [1, 2, 3, 4] during transform. These unknown categories will be encoded as all zeros\n",
      "  UserWarning,\n",
      "C:\\Users\\maslo\\Anaconda3\\lib\\site-packages\\sklearn\\preprocessing\\_encoders.py:174: UserWarning: Found unknown categories in columns [2, 3, 4] during transform. These unknown categories will be encoded as all zeros\n",
      "  UserWarning,\n",
      "C:\\Users\\maslo\\Anaconda3\\lib\\site-packages\\sklearn\\preprocessing\\_encoders.py:174: UserWarning: Found unknown categories in columns [2] during transform. These unknown categories will be encoded as all zeros\n",
      "  UserWarning,\n",
      "C:\\Users\\maslo\\Anaconda3\\lib\\site-packages\\sklearn\\preprocessing\\_encoders.py:174: UserWarning: Found unknown categories in columns [1, 2, 3, 4] during transform. These unknown categories will be encoded as all zeros\n",
      "  UserWarning,\n"
     ]
    },
    {
     "name": "stdout",
     "output_type": "stream",
     "text": [
      "[0.7364567210382189, 0.6323733862959284, 0.7226830517153099, 0.7501260080645161, 0.70478737349903]\n"
     ]
    },
    {
     "name": "stderr",
     "output_type": "stream",
     "text": [
      "C:\\Users\\maslo\\Anaconda3\\lib\\site-packages\\sklearn\\preprocessing\\_encoders.py:174: UserWarning: Found unknown categories in columns [1, 2, 3, 4] during transform. These unknown categories will be encoded as all zeros\n",
      "  UserWarning,\n",
      "C:\\Users\\maslo\\Anaconda3\\lib\\site-packages\\sklearn\\preprocessing\\_encoders.py:174: UserWarning: Found unknown categories in columns [3, 4, 5] during transform. These unknown categories will be encoded as all zeros\n",
      "  UserWarning,\n",
      "C:\\Users\\maslo\\Anaconda3\\lib\\site-packages\\sklearn\\preprocessing\\_encoders.py:174: UserWarning: Found unknown categories in columns [1, 2, 3, 4] during transform. These unknown categories will be encoded as all zeros\n",
      "  UserWarning,\n",
      "C:\\Users\\maslo\\Anaconda3\\lib\\site-packages\\sklearn\\preprocessing\\_encoders.py:174: UserWarning: Found unknown categories in columns [5] during transform. These unknown categories will be encoded as all zeros\n",
      "  UserWarning,\n",
      "C:\\Users\\maslo\\Anaconda3\\lib\\site-packages\\sklearn\\preprocessing\\_encoders.py:174: UserWarning: Found unknown categories in columns [1, 2, 3, 4] during transform. These unknown categories will be encoded as all zeros\n",
      "  UserWarning,\n",
      "C:\\Users\\maslo\\Anaconda3\\lib\\site-packages\\sklearn\\preprocessing\\_encoders.py:174: UserWarning: Found unknown categories in columns [2, 3, 4] during transform. These unknown categories will be encoded as all zeros\n",
      "  UserWarning,\n",
      "C:\\Users\\maslo\\Anaconda3\\lib\\site-packages\\sklearn\\preprocessing\\_encoders.py:174: UserWarning: Found unknown categories in columns [2] during transform. These unknown categories will be encoded as all zeros\n",
      "  UserWarning,\n",
      "C:\\Users\\maslo\\Anaconda3\\lib\\site-packages\\sklearn\\preprocessing\\_encoders.py:174: UserWarning: Found unknown categories in columns [1, 2, 3, 4] during transform. These unknown categories will be encoded as all zeros\n",
      "  UserWarning,\n"
     ]
    },
    {
     "name": "stdout",
     "output_type": "stream",
     "text": [
      "[0.7280330991784736, 0.6348361469712015, 0.7006997781191329, 0.6989667338709679, 0.6795133973048083]\n"
     ]
    },
    {
     "name": "stderr",
     "output_type": "stream",
     "text": [
      "C:\\Users\\maslo\\Anaconda3\\lib\\site-packages\\sklearn\\preprocessing\\_encoders.py:174: UserWarning: Found unknown categories in columns [1, 2, 3, 4] during transform. These unknown categories will be encoded as all zeros\n",
      "  UserWarning,\n",
      "C:\\Users\\maslo\\Anaconda3\\lib\\site-packages\\sklearn\\preprocessing\\_encoders.py:174: UserWarning: Found unknown categories in columns [3, 4, 5] during transform. These unknown categories will be encoded as all zeros\n",
      "  UserWarning,\n",
      "C:\\Users\\maslo\\Anaconda3\\lib\\site-packages\\sklearn\\preprocessing\\_encoders.py:174: UserWarning: Found unknown categories in columns [1, 2, 3, 4] during transform. These unknown categories will be encoded as all zeros\n",
      "  UserWarning,\n",
      "C:\\Users\\maslo\\Anaconda3\\lib\\site-packages\\sklearn\\preprocessing\\_encoders.py:174: UserWarning: Found unknown categories in columns [5] during transform. These unknown categories will be encoded as all zeros\n",
      "  UserWarning,\n",
      "C:\\Users\\maslo\\Anaconda3\\lib\\site-packages\\sklearn\\preprocessing\\_encoders.py:174: UserWarning: Found unknown categories in columns [1, 2, 3, 4] during transform. These unknown categories will be encoded as all zeros\n",
      "  UserWarning,\n",
      "C:\\Users\\maslo\\Anaconda3\\lib\\site-packages\\sklearn\\preprocessing\\_encoders.py:174: UserWarning: Found unknown categories in columns [2, 3, 4] during transform. These unknown categories will be encoded as all zeros\n",
      "  UserWarning,\n",
      "C:\\Users\\maslo\\Anaconda3\\lib\\site-packages\\sklearn\\preprocessing\\_encoders.py:174: UserWarning: Found unknown categories in columns [2] during transform. These unknown categories will be encoded as all zeros\n",
      "  UserWarning,\n",
      "C:\\Users\\maslo\\Anaconda3\\lib\\site-packages\\sklearn\\preprocessing\\_encoders.py:174: UserWarning: Found unknown categories in columns [1, 2, 3, 4] during transform. These unknown categories will be encoded as all zeros\n",
      "  UserWarning,\n"
     ]
    },
    {
     "name": "stdout",
     "output_type": "stream",
     "text": [
      "[0.7274973211096559, 0.63519364448858, 0.7164021164021164, 0.7344380040322581, 0.690105395626868]\n"
     ]
    },
    {
     "name": "stderr",
     "output_type": "stream",
     "text": [
      "C:\\Users\\maslo\\Anaconda3\\lib\\site-packages\\sklearn\\preprocessing\\_encoders.py:174: UserWarning: Found unknown categories in columns [1, 2, 3, 4] during transform. These unknown categories will be encoded as all zeros\n",
      "  UserWarning,\n",
      "C:\\Users\\maslo\\Anaconda3\\lib\\site-packages\\sklearn\\preprocessing\\_encoders.py:174: UserWarning: Found unknown categories in columns [3, 4, 5] during transform. These unknown categories will be encoded as all zeros\n",
      "  UserWarning,\n",
      "C:\\Users\\maslo\\Anaconda3\\lib\\site-packages\\sklearn\\preprocessing\\_encoders.py:174: UserWarning: Found unknown categories in columns [1, 2, 3, 4] during transform. These unknown categories will be encoded as all zeros\n",
      "  UserWarning,\n",
      "C:\\Users\\maslo\\Anaconda3\\lib\\site-packages\\sklearn\\preprocessing\\_encoders.py:174: UserWarning: Found unknown categories in columns [5] during transform. These unknown categories will be encoded as all zeros\n",
      "  UserWarning,\n",
      "C:\\Users\\maslo\\Anaconda3\\lib\\site-packages\\sklearn\\preprocessing\\_encoders.py:174: UserWarning: Found unknown categories in columns [1, 2, 3, 4] during transform. These unknown categories will be encoded as all zeros\n",
      "  UserWarning,\n",
      "C:\\Users\\maslo\\Anaconda3\\lib\\site-packages\\sklearn\\preprocessing\\_encoders.py:174: UserWarning: Found unknown categories in columns [2, 3, 4] during transform. These unknown categories will be encoded as all zeros\n",
      "  UserWarning,\n",
      "C:\\Users\\maslo\\Anaconda3\\lib\\site-packages\\sklearn\\preprocessing\\_encoders.py:174: UserWarning: Found unknown categories in columns [2] during transform. These unknown categories will be encoded as all zeros\n",
      "  UserWarning,\n",
      "C:\\Users\\maslo\\Anaconda3\\lib\\site-packages\\sklearn\\preprocessing\\_encoders.py:174: UserWarning: Found unknown categories in columns [1, 2, 3, 4] during transform. These unknown categories will be encoded as all zeros\n",
      "  UserWarning,\n"
     ]
    },
    {
     "name": "stdout",
     "output_type": "stream",
     "text": [
      "[0.7364567210382189, 0.6323733862959284, 0.7226830517153099, 0.7501260080645161, 0.70478737349903]\n"
     ]
    },
    {
     "name": "stderr",
     "output_type": "stream",
     "text": [
      "C:\\Users\\maslo\\Anaconda3\\lib\\site-packages\\sklearn\\preprocessing\\_encoders.py:174: UserWarning: Found unknown categories in columns [1, 2, 3, 4] during transform. These unknown categories will be encoded as all zeros\n",
      "  UserWarning,\n",
      "C:\\Users\\maslo\\Anaconda3\\lib\\site-packages\\sklearn\\preprocessing\\_encoders.py:174: UserWarning: Found unknown categories in columns [3, 4, 5] during transform. These unknown categories will be encoded as all zeros\n",
      "  UserWarning,\n",
      "C:\\Users\\maslo\\Anaconda3\\lib\\site-packages\\sklearn\\preprocessing\\_encoders.py:174: UserWarning: Found unknown categories in columns [1, 2, 3, 4] during transform. These unknown categories will be encoded as all zeros\n",
      "  UserWarning,\n",
      "C:\\Users\\maslo\\Anaconda3\\lib\\site-packages\\sklearn\\preprocessing\\_encoders.py:174: UserWarning: Found unknown categories in columns [5] during transform. These unknown categories will be encoded as all zeros\n",
      "  UserWarning,\n",
      "C:\\Users\\maslo\\Anaconda3\\lib\\site-packages\\sklearn\\preprocessing\\_encoders.py:174: UserWarning: Found unknown categories in columns [1, 2, 3, 4] during transform. These unknown categories will be encoded as all zeros\n",
      "  UserWarning,\n",
      "C:\\Users\\maslo\\Anaconda3\\lib\\site-packages\\sklearn\\preprocessing\\_encoders.py:174: UserWarning: Found unknown categories in columns [2, 3, 4] during transform. These unknown categories will be encoded as all zeros\n",
      "  UserWarning,\n",
      "C:\\Users\\maslo\\Anaconda3\\lib\\site-packages\\sklearn\\preprocessing\\_encoders.py:174: UserWarning: Found unknown categories in columns [2] during transform. These unknown categories will be encoded as all zeros\n",
      "  UserWarning,\n",
      "C:\\Users\\maslo\\Anaconda3\\lib\\site-packages\\sklearn\\preprocessing\\_encoders.py:174: UserWarning: Found unknown categories in columns [1, 2, 3, 4] during transform. These unknown categories will be encoded as all zeros\n",
      "  UserWarning,\n"
     ]
    },
    {
     "name": "stdout",
     "output_type": "stream",
     "text": [
      "[0.7274675556613882, 0.6384905660377358, 0.6934971838197644, 0.7409904233870968, 0.6893188610980022]\n"
     ]
    },
    {
     "name": "stderr",
     "output_type": "stream",
     "text": [
      "C:\\Users\\maslo\\Anaconda3\\lib\\site-packages\\sklearn\\preprocessing\\_encoders.py:174: UserWarning: Found unknown categories in columns [1, 2, 3, 4] during transform. These unknown categories will be encoded as all zeros\n",
      "  UserWarning,\n",
      "C:\\Users\\maslo\\Anaconda3\\lib\\site-packages\\sklearn\\preprocessing\\_encoders.py:174: UserWarning: Found unknown categories in columns [3, 4, 5] during transform. These unknown categories will be encoded as all zeros\n",
      "  UserWarning,\n",
      "C:\\Users\\maslo\\Anaconda3\\lib\\site-packages\\sklearn\\preprocessing\\_encoders.py:174: UserWarning: Found unknown categories in columns [1, 2, 3, 4] during transform. These unknown categories will be encoded as all zeros\n",
      "  UserWarning,\n",
      "C:\\Users\\maslo\\Anaconda3\\lib\\site-packages\\sklearn\\preprocessing\\_encoders.py:174: UserWarning: Found unknown categories in columns [5] during transform. These unknown categories will be encoded as all zeros\n",
      "  UserWarning,\n",
      "C:\\Users\\maslo\\Anaconda3\\lib\\site-packages\\sklearn\\preprocessing\\_encoders.py:174: UserWarning: Found unknown categories in columns [1, 2, 3, 4] during transform. These unknown categories will be encoded as all zeros\n",
      "  UserWarning,\n",
      "C:\\Users\\maslo\\Anaconda3\\lib\\site-packages\\sklearn\\preprocessing\\_encoders.py:174: UserWarning: Found unknown categories in columns [2, 3, 4] during transform. These unknown categories will be encoded as all zeros\n",
      "  UserWarning,\n",
      "C:\\Users\\maslo\\Anaconda3\\lib\\site-packages\\sklearn\\preprocessing\\_encoders.py:174: UserWarning: Found unknown categories in columns [2] during transform. These unknown categories will be encoded as all zeros\n",
      "  UserWarning,\n",
      "C:\\Users\\maslo\\Anaconda3\\lib\\site-packages\\sklearn\\preprocessing\\_encoders.py:174: UserWarning: Found unknown categories in columns [1, 2, 3, 4] during transform. These unknown categories will be encoded as all zeros\n",
      "  UserWarning,\n"
     ]
    },
    {
     "name": "stdout",
     "output_type": "stream",
     "text": [
      "[0.7274973211096559, 0.63519364448858, 0.7164021164021164, 0.7344380040322581, 0.690105395626868]\n"
     ]
    },
    {
     "name": "stderr",
     "output_type": "stream",
     "text": [
      "C:\\Users\\maslo\\Anaconda3\\lib\\site-packages\\sklearn\\preprocessing\\_encoders.py:174: UserWarning: Found unknown categories in columns [1, 2, 3, 4] during transform. These unknown categories will be encoded as all zeros\n",
      "  UserWarning,\n",
      "C:\\Users\\maslo\\Anaconda3\\lib\\site-packages\\sklearn\\preprocessing\\_encoders.py:174: UserWarning: Found unknown categories in columns [3, 4, 5] during transform. These unknown categories will be encoded as all zeros\n",
      "  UserWarning,\n",
      "C:\\Users\\maslo\\Anaconda3\\lib\\site-packages\\sklearn\\preprocessing\\_encoders.py:174: UserWarning: Found unknown categories in columns [1, 2, 3, 4] during transform. These unknown categories will be encoded as all zeros\n",
      "  UserWarning,\n",
      "C:\\Users\\maslo\\Anaconda3\\lib\\site-packages\\sklearn\\preprocessing\\_encoders.py:174: UserWarning: Found unknown categories in columns [5] during transform. These unknown categories will be encoded as all zeros\n",
      "  UserWarning,\n",
      "C:\\Users\\maslo\\Anaconda3\\lib\\site-packages\\sklearn\\preprocessing\\_encoders.py:174: UserWarning: Found unknown categories in columns [1, 2, 3, 4] during transform. These unknown categories will be encoded as all zeros\n",
      "  UserWarning,\n",
      "C:\\Users\\maslo\\Anaconda3\\lib\\site-packages\\sklearn\\preprocessing\\_encoders.py:174: UserWarning: Found unknown categories in columns [2, 3, 4] during transform. These unknown categories will be encoded as all zeros\n",
      "  UserWarning,\n",
      "C:\\Users\\maslo\\Anaconda3\\lib\\site-packages\\sklearn\\preprocessing\\_encoders.py:174: UserWarning: Found unknown categories in columns [2] during transform. These unknown categories will be encoded as all zeros\n",
      "  UserWarning,\n",
      "C:\\Users\\maslo\\Anaconda3\\lib\\site-packages\\sklearn\\preprocessing\\_encoders.py:174: UserWarning: Found unknown categories in columns [1, 2, 3, 4] during transform. These unknown categories will be encoded as all zeros\n",
      "  UserWarning,\n"
     ]
    },
    {
     "name": "stdout",
     "output_type": "stream",
     "text": [
      "[0.7364567210382189, 0.6323733862959284, 0.7226830517153099, 0.7501260080645161, 0.70478737349903]\n"
     ]
    },
    {
     "name": "stderr",
     "output_type": "stream",
     "text": [
      "C:\\Users\\maslo\\Anaconda3\\lib\\site-packages\\sklearn\\preprocessing\\_encoders.py:174: UserWarning: Found unknown categories in columns [1, 2, 3, 4] during transform. These unknown categories will be encoded as all zeros\n",
      "  UserWarning,\n",
      "C:\\Users\\maslo\\Anaconda3\\lib\\site-packages\\sklearn\\preprocessing\\_encoders.py:174: UserWarning: Found unknown categories in columns [3, 4, 5] during transform. These unknown categories will be encoded as all zeros\n",
      "  UserWarning,\n",
      "C:\\Users\\maslo\\Anaconda3\\lib\\site-packages\\sklearn\\preprocessing\\_encoders.py:174: UserWarning: Found unknown categories in columns [1, 2, 3, 4] during transform. These unknown categories will be encoded as all zeros\n",
      "  UserWarning,\n",
      "C:\\Users\\maslo\\Anaconda3\\lib\\site-packages\\sklearn\\preprocessing\\_encoders.py:174: UserWarning: Found unknown categories in columns [5] during transform. These unknown categories will be encoded as all zeros\n",
      "  UserWarning,\n",
      "C:\\Users\\maslo\\Anaconda3\\lib\\site-packages\\sklearn\\preprocessing\\_encoders.py:174: UserWarning: Found unknown categories in columns [1, 2, 3, 4] during transform. These unknown categories will be encoded as all zeros\n",
      "  UserWarning,\n",
      "C:\\Users\\maslo\\Anaconda3\\lib\\site-packages\\sklearn\\preprocessing\\_encoders.py:174: UserWarning: Found unknown categories in columns [2, 3, 4] during transform. These unknown categories will be encoded as all zeros\n",
      "  UserWarning,\n",
      "C:\\Users\\maslo\\Anaconda3\\lib\\site-packages\\sklearn\\preprocessing\\_encoders.py:174: UserWarning: Found unknown categories in columns [2] during transform. These unknown categories will be encoded as all zeros\n",
      "  UserWarning,\n",
      "C:\\Users\\maslo\\Anaconda3\\lib\\site-packages\\sklearn\\preprocessing\\_encoders.py:174: UserWarning: Found unknown categories in columns [1, 2, 3, 4] during transform. These unknown categories will be encoded as all zeros\n",
      "  UserWarning,\n"
     ]
    },
    {
     "name": "stdout",
     "output_type": "stream",
     "text": [
      "[0.7074205262531255, 0.6568619662363456, 0.6721454173067076, 0.6885710685483871, 0.6502018771957423]\n"
     ]
    },
    {
     "name": "stderr",
     "output_type": "stream",
     "text": [
      "C:\\Users\\maslo\\Anaconda3\\lib\\site-packages\\sklearn\\preprocessing\\_encoders.py:174: UserWarning: Found unknown categories in columns [1, 2, 3, 4] during transform. These unknown categories will be encoded as all zeros\n",
      "  UserWarning,\n",
      "C:\\Users\\maslo\\Anaconda3\\lib\\site-packages\\sklearn\\preprocessing\\_encoders.py:174: UserWarning: Found unknown categories in columns [3, 4, 5] during transform. These unknown categories will be encoded as all zeros\n",
      "  UserWarning,\n",
      "C:\\Users\\maslo\\Anaconda3\\lib\\site-packages\\sklearn\\preprocessing\\_encoders.py:174: UserWarning: Found unknown categories in columns [1, 2, 3, 4] during transform. These unknown categories will be encoded as all zeros\n",
      "  UserWarning,\n",
      "C:\\Users\\maslo\\Anaconda3\\lib\\site-packages\\sklearn\\preprocessing\\_encoders.py:174: UserWarning: Found unknown categories in columns [5] during transform. These unknown categories will be encoded as all zeros\n",
      "  UserWarning,\n",
      "C:\\Users\\maslo\\Anaconda3\\lib\\site-packages\\sklearn\\preprocessing\\_encoders.py:174: UserWarning: Found unknown categories in columns [1, 2, 3, 4] during transform. These unknown categories will be encoded as all zeros\n",
      "  UserWarning,\n",
      "C:\\Users\\maslo\\Anaconda3\\lib\\site-packages\\sklearn\\preprocessing\\_encoders.py:174: UserWarning: Found unknown categories in columns [2, 3, 4] during transform. These unknown categories will be encoded as all zeros\n",
      "  UserWarning,\n",
      "C:\\Users\\maslo\\Anaconda3\\lib\\site-packages\\sklearn\\preprocessing\\_encoders.py:174: UserWarning: Found unknown categories in columns [2] during transform. These unknown categories will be encoded as all zeros\n",
      "  UserWarning,\n",
      "C:\\Users\\maslo\\Anaconda3\\lib\\site-packages\\sklearn\\preprocessing\\_encoders.py:174: UserWarning: Found unknown categories in columns [1, 2, 3, 4] during transform. These unknown categories will be encoded as all zeros\n",
      "  UserWarning,\n"
     ]
    },
    {
     "name": "stdout",
     "output_type": "stream",
     "text": [
      "[0.7304441004881534, 0.6454816285998013, 0.7055640894350572, 0.731413810483871, 0.6999632950553196]\n"
     ]
    },
    {
     "name": "stderr",
     "output_type": "stream",
     "text": [
      "C:\\Users\\maslo\\Anaconda3\\lib\\site-packages\\sklearn\\preprocessing\\_encoders.py:174: UserWarning: Found unknown categories in columns [1, 2, 3, 4] during transform. These unknown categories will be encoded as all zeros\n",
      "  UserWarning,\n",
      "C:\\Users\\maslo\\Anaconda3\\lib\\site-packages\\sklearn\\preprocessing\\_encoders.py:174: UserWarning: Found unknown categories in columns [3, 4, 5] during transform. These unknown categories will be encoded as all zeros\n",
      "  UserWarning,\n",
      "C:\\Users\\maslo\\Anaconda3\\lib\\site-packages\\sklearn\\preprocessing\\_encoders.py:174: UserWarning: Found unknown categories in columns [1, 2, 3, 4] during transform. These unknown categories will be encoded as all zeros\n",
      "  UserWarning,\n",
      "C:\\Users\\maslo\\Anaconda3\\lib\\site-packages\\sklearn\\preprocessing\\_encoders.py:174: UserWarning: Found unknown categories in columns [5] during transform. These unknown categories will be encoded as all zeros\n",
      "  UserWarning,\n",
      "C:\\Users\\maslo\\Anaconda3\\lib\\site-packages\\sklearn\\preprocessing\\_encoders.py:174: UserWarning: Found unknown categories in columns [1, 2, 3, 4] during transform. These unknown categories will be encoded as all zeros\n",
      "  UserWarning,\n",
      "C:\\Users\\maslo\\Anaconda3\\lib\\site-packages\\sklearn\\preprocessing\\_encoders.py:174: UserWarning: Found unknown categories in columns [2, 3, 4] during transform. These unknown categories will be encoded as all zeros\n",
      "  UserWarning,\n",
      "C:\\Users\\maslo\\Anaconda3\\lib\\site-packages\\sklearn\\preprocessing\\_encoders.py:174: UserWarning: Found unknown categories in columns [2] during transform. These unknown categories will be encoded as all zeros\n",
      "  UserWarning,\n",
      "C:\\Users\\maslo\\Anaconda3\\lib\\site-packages\\sklearn\\preprocessing\\_encoders.py:174: UserWarning: Found unknown categories in columns [1, 2, 3, 4] during transform. These unknown categories will be encoded as all zeros\n",
      "  UserWarning,\n"
     ]
    },
    {
     "name": "stdout",
     "output_type": "stream",
     "text": [
      "[0.7326467436599595, 0.6499304865938431, 0.7189281447345963, 0.7591355846774193, 0.7063604425567616]\n"
     ]
    },
    {
     "name": "stderr",
     "output_type": "stream",
     "text": [
      "C:\\Users\\maslo\\Anaconda3\\lib\\site-packages\\sklearn\\preprocessing\\_encoders.py:174: UserWarning: Found unknown categories in columns [1, 2, 3, 4] during transform. These unknown categories will be encoded as all zeros\n",
      "  UserWarning,\n",
      "C:\\Users\\maslo\\Anaconda3\\lib\\site-packages\\sklearn\\preprocessing\\_encoders.py:174: UserWarning: Found unknown categories in columns [3, 4, 5] during transform. These unknown categories will be encoded as all zeros\n",
      "  UserWarning,\n",
      "C:\\Users\\maslo\\Anaconda3\\lib\\site-packages\\sklearn\\preprocessing\\_encoders.py:174: UserWarning: Found unknown categories in columns [1, 2, 3, 4] during transform. These unknown categories will be encoded as all zeros\n",
      "  UserWarning,\n",
      "C:\\Users\\maslo\\Anaconda3\\lib\\site-packages\\sklearn\\preprocessing\\_encoders.py:174: UserWarning: Found unknown categories in columns [5] during transform. These unknown categories will be encoded as all zeros\n",
      "  UserWarning,\n",
      "C:\\Users\\maslo\\Anaconda3\\lib\\site-packages\\sklearn\\preprocessing\\_encoders.py:174: UserWarning: Found unknown categories in columns [1, 2, 3, 4] during transform. These unknown categories will be encoded as all zeros\n",
      "  UserWarning,\n",
      "C:\\Users\\maslo\\Anaconda3\\lib\\site-packages\\sklearn\\preprocessing\\_encoders.py:174: UserWarning: Found unknown categories in columns [2, 3, 4] during transform. These unknown categories will be encoded as all zeros\n",
      "  UserWarning,\n",
      "C:\\Users\\maslo\\Anaconda3\\lib\\site-packages\\sklearn\\preprocessing\\_encoders.py:174: UserWarning: Found unknown categories in columns [2] during transform. These unknown categories will be encoded as all zeros\n",
      "  UserWarning,\n",
      "C:\\Users\\maslo\\Anaconda3\\lib\\site-packages\\sklearn\\preprocessing\\_encoders.py:174: UserWarning: Found unknown categories in columns [1, 2, 3, 4] during transform. These unknown categories will be encoded as all zeros\n",
      "  UserWarning,\n"
     ]
    },
    {
     "name": "stdout",
     "output_type": "stream",
     "text": [
      "[0.7078372425288725, 0.6296921549155908, 0.6800477897252091, 0.6929813508064516, 0.6669550626605842]\n"
     ]
    },
    {
     "name": "stderr",
     "output_type": "stream",
     "text": [
      "C:\\Users\\maslo\\Anaconda3\\lib\\site-packages\\sklearn\\preprocessing\\_encoders.py:174: UserWarning: Found unknown categories in columns [1, 2, 3, 4] during transform. These unknown categories will be encoded as all zeros\n",
      "  UserWarning,\n",
      "C:\\Users\\maslo\\Anaconda3\\lib\\site-packages\\sklearn\\preprocessing\\_encoders.py:174: UserWarning: Found unknown categories in columns [3, 4, 5] during transform. These unknown categories will be encoded as all zeros\n",
      "  UserWarning,\n",
      "C:\\Users\\maslo\\Anaconda3\\lib\\site-packages\\sklearn\\preprocessing\\_encoders.py:174: UserWarning: Found unknown categories in columns [1, 2, 3, 4] during transform. These unknown categories will be encoded as all zeros\n",
      "  UserWarning,\n",
      "C:\\Users\\maslo\\Anaconda3\\lib\\site-packages\\sklearn\\preprocessing\\_encoders.py:174: UserWarning: Found unknown categories in columns [5] during transform. These unknown categories will be encoded as all zeros\n",
      "  UserWarning,\n",
      "C:\\Users\\maslo\\Anaconda3\\lib\\site-packages\\sklearn\\preprocessing\\_encoders.py:174: UserWarning: Found unknown categories in columns [1, 2, 3, 4] during transform. These unknown categories will be encoded as all zeros\n",
      "  UserWarning,\n",
      "C:\\Users\\maslo\\Anaconda3\\lib\\site-packages\\sklearn\\preprocessing\\_encoders.py:174: UserWarning: Found unknown categories in columns [2, 3, 4] during transform. These unknown categories will be encoded as all zeros\n",
      "  UserWarning,\n",
      "C:\\Users\\maslo\\Anaconda3\\lib\\site-packages\\sklearn\\preprocessing\\_encoders.py:174: UserWarning: Found unknown categories in columns [2] during transform. These unknown categories will be encoded as all zeros\n",
      "  UserWarning,\n",
      "C:\\Users\\maslo\\Anaconda3\\lib\\site-packages\\sklearn\\preprocessing\\_encoders.py:174: UserWarning: Found unknown categories in columns [1, 2, 3, 4] during transform. These unknown categories will be encoded as all zeros\n",
      "  UserWarning,\n"
     ]
    },
    {
     "name": "stdout",
     "output_type": "stream",
     "text": [
      "[0.7304441004881534, 0.6454816285998013, 0.7055640894350572, 0.731413810483871, 0.6999632950553196]\n"
     ]
    },
    {
     "name": "stderr",
     "output_type": "stream",
     "text": [
      "C:\\Users\\maslo\\Anaconda3\\lib\\site-packages\\sklearn\\preprocessing\\_encoders.py:174: UserWarning: Found unknown categories in columns [1, 2, 3, 4] during transform. These unknown categories will be encoded as all zeros\n",
      "  UserWarning,\n",
      "C:\\Users\\maslo\\Anaconda3\\lib\\site-packages\\sklearn\\preprocessing\\_encoders.py:174: UserWarning: Found unknown categories in columns [3, 4, 5] during transform. These unknown categories will be encoded as all zeros\n",
      "  UserWarning,\n",
      "C:\\Users\\maslo\\Anaconda3\\lib\\site-packages\\sklearn\\preprocessing\\_encoders.py:174: UserWarning: Found unknown categories in columns [1, 2, 3, 4] during transform. These unknown categories will be encoded as all zeros\n",
      "  UserWarning,\n",
      "C:\\Users\\maslo\\Anaconda3\\lib\\site-packages\\sklearn\\preprocessing\\_encoders.py:174: UserWarning: Found unknown categories in columns [5] during transform. These unknown categories will be encoded as all zeros\n",
      "  UserWarning,\n",
      "C:\\Users\\maslo\\Anaconda3\\lib\\site-packages\\sklearn\\preprocessing\\_encoders.py:174: UserWarning: Found unknown categories in columns [1, 2, 3, 4] during transform. These unknown categories will be encoded as all zeros\n",
      "  UserWarning,\n",
      "C:\\Users\\maslo\\Anaconda3\\lib\\site-packages\\sklearn\\preprocessing\\_encoders.py:174: UserWarning: Found unknown categories in columns [2, 3, 4] during transform. These unknown categories will be encoded as all zeros\n",
      "  UserWarning,\n",
      "C:\\Users\\maslo\\Anaconda3\\lib\\site-packages\\sklearn\\preprocessing\\_encoders.py:174: UserWarning: Found unknown categories in columns [2] during transform. These unknown categories will be encoded as all zeros\n",
      "  UserWarning,\n",
      "C:\\Users\\maslo\\Anaconda3\\lib\\site-packages\\sklearn\\preprocessing\\_encoders.py:174: UserWarning: Found unknown categories in columns [1, 2, 3, 4] during transform. These unknown categories will be encoded as all zeros\n",
      "  UserWarning,\n"
     ]
    },
    {
     "name": "stdout",
     "output_type": "stream",
     "text": [
      "[0.7326467436599595, 0.6499304865938431, 0.7189281447345963, 0.7591355846774193, 0.7063604425567616]\n"
     ]
    },
    {
     "name": "stderr",
     "output_type": "stream",
     "text": [
      "C:\\Users\\maslo\\Anaconda3\\lib\\site-packages\\sklearn\\preprocessing\\_encoders.py:174: UserWarning: Found unknown categories in columns [1, 2, 3, 4] during transform. These unknown categories will be encoded as all zeros\n",
      "  UserWarning,\n",
      "C:\\Users\\maslo\\Anaconda3\\lib\\site-packages\\sklearn\\preprocessing\\_encoders.py:174: UserWarning: Found unknown categories in columns [3, 4, 5] during transform. These unknown categories will be encoded as all zeros\n",
      "  UserWarning,\n",
      "C:\\Users\\maslo\\Anaconda3\\lib\\site-packages\\sklearn\\preprocessing\\_encoders.py:174: UserWarning: Found unknown categories in columns [1, 2, 3, 4] during transform. These unknown categories will be encoded as all zeros\n",
      "  UserWarning,\n",
      "C:\\Users\\maslo\\Anaconda3\\lib\\site-packages\\sklearn\\preprocessing\\_encoders.py:174: UserWarning: Found unknown categories in columns [5] during transform. These unknown categories will be encoded as all zeros\n",
      "  UserWarning,\n",
      "C:\\Users\\maslo\\Anaconda3\\lib\\site-packages\\sklearn\\preprocessing\\_encoders.py:174: UserWarning: Found unknown categories in columns [1, 2, 3, 4] during transform. These unknown categories will be encoded as all zeros\n",
      "  UserWarning,\n",
      "C:\\Users\\maslo\\Anaconda3\\lib\\site-packages\\sklearn\\preprocessing\\_encoders.py:174: UserWarning: Found unknown categories in columns [2, 3, 4] during transform. These unknown categories will be encoded as all zeros\n",
      "  UserWarning,\n",
      "C:\\Users\\maslo\\Anaconda3\\lib\\site-packages\\sklearn\\preprocessing\\_encoders.py:174: UserWarning: Found unknown categories in columns [2] during transform. These unknown categories will be encoded as all zeros\n",
      "  UserWarning,\n",
      "C:\\Users\\maslo\\Anaconda3\\lib\\site-packages\\sklearn\\preprocessing\\_encoders.py:174: UserWarning: Found unknown categories in columns [1, 2, 3, 4] during transform. These unknown categories will be encoded as all zeros\n",
      "  UserWarning,\n"
     ]
    },
    {
     "name": "stdout",
     "output_type": "stream",
     "text": [
      "[0.7290153589713061, 0.6230585898709037, 0.6937019969278032, 0.725680443548387, 0.6834460699491374]\n"
     ]
    },
    {
     "name": "stderr",
     "output_type": "stream",
     "text": [
      "C:\\Users\\maslo\\Anaconda3\\lib\\site-packages\\sklearn\\preprocessing\\_encoders.py:174: UserWarning: Found unknown categories in columns [1, 2, 3, 4] during transform. These unknown categories will be encoded as all zeros\n",
      "  UserWarning,\n",
      "C:\\Users\\maslo\\Anaconda3\\lib\\site-packages\\sklearn\\preprocessing\\_encoders.py:174: UserWarning: Found unknown categories in columns [3, 4, 5] during transform. These unknown categories will be encoded as all zeros\n",
      "  UserWarning,\n",
      "C:\\Users\\maslo\\Anaconda3\\lib\\site-packages\\sklearn\\preprocessing\\_encoders.py:174: UserWarning: Found unknown categories in columns [1, 2, 3, 4] during transform. These unknown categories will be encoded as all zeros\n",
      "  UserWarning,\n",
      "C:\\Users\\maslo\\Anaconda3\\lib\\site-packages\\sklearn\\preprocessing\\_encoders.py:174: UserWarning: Found unknown categories in columns [5] during transform. These unknown categories will be encoded as all zeros\n",
      "  UserWarning,\n",
      "C:\\Users\\maslo\\Anaconda3\\lib\\site-packages\\sklearn\\preprocessing\\_encoders.py:174: UserWarning: Found unknown categories in columns [1, 2, 3, 4] during transform. These unknown categories will be encoded as all zeros\n",
      "  UserWarning,\n",
      "C:\\Users\\maslo\\Anaconda3\\lib\\site-packages\\sklearn\\preprocessing\\_encoders.py:174: UserWarning: Found unknown categories in columns [2, 3, 4] during transform. These unknown categories will be encoded as all zeros\n",
      "  UserWarning,\n",
      "C:\\Users\\maslo\\Anaconda3\\lib\\site-packages\\sklearn\\preprocessing\\_encoders.py:174: UserWarning: Found unknown categories in columns [2] during transform. These unknown categories will be encoded as all zeros\n",
      "  UserWarning,\n",
      "C:\\Users\\maslo\\Anaconda3\\lib\\site-packages\\sklearn\\preprocessing\\_encoders.py:174: UserWarning: Found unknown categories in columns [1, 2, 3, 4] during transform. These unknown categories will be encoded as all zeros\n",
      "  UserWarning,\n"
     ]
    },
    {
     "name": "stdout",
     "output_type": "stream",
     "text": [
      "[0.7304441004881534, 0.6454816285998013, 0.7055640894350572, 0.731413810483871, 0.6999632950553196]\n"
     ]
    },
    {
     "name": "stderr",
     "output_type": "stream",
     "text": [
      "C:\\Users\\maslo\\Anaconda3\\lib\\site-packages\\sklearn\\preprocessing\\_encoders.py:174: UserWarning: Found unknown categories in columns [1, 2, 3, 4] during transform. These unknown categories will be encoded as all zeros\n",
      "  UserWarning,\n",
      "C:\\Users\\maslo\\Anaconda3\\lib\\site-packages\\sklearn\\preprocessing\\_encoders.py:174: UserWarning: Found unknown categories in columns [3, 4, 5] during transform. These unknown categories will be encoded as all zeros\n",
      "  UserWarning,\n",
      "C:\\Users\\maslo\\Anaconda3\\lib\\site-packages\\sklearn\\preprocessing\\_encoders.py:174: UserWarning: Found unknown categories in columns [1, 2, 3, 4] during transform. These unknown categories will be encoded as all zeros\n",
      "  UserWarning,\n",
      "C:\\Users\\maslo\\Anaconda3\\lib\\site-packages\\sklearn\\preprocessing\\_encoders.py:174: UserWarning: Found unknown categories in columns [5] during transform. These unknown categories will be encoded as all zeros\n",
      "  UserWarning,\n",
      "C:\\Users\\maslo\\Anaconda3\\lib\\site-packages\\sklearn\\preprocessing\\_encoders.py:174: UserWarning: Found unknown categories in columns [1, 2, 3, 4] during transform. These unknown categories will be encoded as all zeros\n",
      "  UserWarning,\n",
      "C:\\Users\\maslo\\Anaconda3\\lib\\site-packages\\sklearn\\preprocessing\\_encoders.py:174: UserWarning: Found unknown categories in columns [2, 3, 4] during transform. These unknown categories will be encoded as all zeros\n",
      "  UserWarning,\n",
      "C:\\Users\\maslo\\Anaconda3\\lib\\site-packages\\sklearn\\preprocessing\\_encoders.py:174: UserWarning: Found unknown categories in columns [2] during transform. These unknown categories will be encoded as all zeros\n",
      "  UserWarning,\n",
      "C:\\Users\\maslo\\Anaconda3\\lib\\site-packages\\sklearn\\preprocessing\\_encoders.py:174: UserWarning: Found unknown categories in columns [1, 2, 3, 4] during transform. These unknown categories will be encoded as all zeros\n",
      "  UserWarning,\n"
     ]
    },
    {
     "name": "stdout",
     "output_type": "stream",
     "text": [
      "[0.7326467436599595, 0.6499304865938431, 0.7189281447345963, 0.7591355846774193, 0.7063604425567616]\n"
     ]
    },
    {
     "name": "stderr",
     "output_type": "stream",
     "text": [
      "C:\\Users\\maslo\\Anaconda3\\lib\\site-packages\\sklearn\\preprocessing\\_encoders.py:174: UserWarning: Found unknown categories in columns [1, 2, 3, 4] during transform. These unknown categories will be encoded as all zeros\n",
      "  UserWarning,\n",
      "C:\\Users\\maslo\\Anaconda3\\lib\\site-packages\\sklearn\\preprocessing\\_encoders.py:174: UserWarning: Found unknown categories in columns [3, 4, 5] during transform. These unknown categories will be encoded as all zeros\n",
      "  UserWarning,\n",
      "C:\\Users\\maslo\\Anaconda3\\lib\\site-packages\\sklearn\\preprocessing\\_encoders.py:174: UserWarning: Found unknown categories in columns [1, 2, 3, 4] during transform. These unknown categories will be encoded as all zeros\n",
      "  UserWarning,\n",
      "C:\\Users\\maslo\\Anaconda3\\lib\\site-packages\\sklearn\\preprocessing\\_encoders.py:174: UserWarning: Found unknown categories in columns [5] during transform. These unknown categories will be encoded as all zeros\n",
      "  UserWarning,\n",
      "C:\\Users\\maslo\\Anaconda3\\lib\\site-packages\\sklearn\\preprocessing\\_encoders.py:174: UserWarning: Found unknown categories in columns [1, 2, 3, 4] during transform. These unknown categories will be encoded as all zeros\n",
      "  UserWarning,\n",
      "C:\\Users\\maslo\\Anaconda3\\lib\\site-packages\\sklearn\\preprocessing\\_encoders.py:174: UserWarning: Found unknown categories in columns [2, 3, 4] during transform. These unknown categories will be encoded as all zeros\n",
      "  UserWarning,\n",
      "C:\\Users\\maslo\\Anaconda3\\lib\\site-packages\\sklearn\\preprocessing\\_encoders.py:174: UserWarning: Found unknown categories in columns [2] during transform. These unknown categories will be encoded as all zeros\n",
      "  UserWarning,\n",
      "C:\\Users\\maslo\\Anaconda3\\lib\\site-packages\\sklearn\\preprocessing\\_encoders.py:174: UserWarning: Found unknown categories in columns [1, 2, 3, 4] during transform. These unknown categories will be encoded as all zeros\n",
      "  UserWarning,\n"
     ]
    },
    {
     "name": "stdout",
     "output_type": "stream",
     "text": [
      "[0.7210977497321108, 0.649811320754717, 0.7146612049837856, 0.7414944556451613, 0.7001730375963504]\n"
     ]
    },
    {
     "name": "stderr",
     "output_type": "stream",
     "text": [
      "C:\\Users\\maslo\\Anaconda3\\lib\\site-packages\\sklearn\\preprocessing\\_encoders.py:174: UserWarning: Found unknown categories in columns [1, 2, 3, 4] during transform. These unknown categories will be encoded as all zeros\n",
      "  UserWarning,\n",
      "C:\\Users\\maslo\\Anaconda3\\lib\\site-packages\\sklearn\\preprocessing\\_encoders.py:174: UserWarning: Found unknown categories in columns [3, 4, 5] during transform. These unknown categories will be encoded as all zeros\n",
      "  UserWarning,\n",
      "C:\\Users\\maslo\\Anaconda3\\lib\\site-packages\\sklearn\\preprocessing\\_encoders.py:174: UserWarning: Found unknown categories in columns [1, 2, 3, 4] during transform. These unknown categories will be encoded as all zeros\n",
      "  UserWarning,\n",
      "C:\\Users\\maslo\\Anaconda3\\lib\\site-packages\\sklearn\\preprocessing\\_encoders.py:174: UserWarning: Found unknown categories in columns [5] during transform. These unknown categories will be encoded as all zeros\n",
      "  UserWarning,\n",
      "C:\\Users\\maslo\\Anaconda3\\lib\\site-packages\\sklearn\\preprocessing\\_encoders.py:174: UserWarning: Found unknown categories in columns [1, 2, 3, 4] during transform. These unknown categories will be encoded as all zeros\n",
      "  UserWarning,\n",
      "C:\\Users\\maslo\\Anaconda3\\lib\\site-packages\\sklearn\\preprocessing\\_encoders.py:174: UserWarning: Found unknown categories in columns [2, 3, 4] during transform. These unknown categories will be encoded as all zeros\n",
      "  UserWarning,\n",
      "C:\\Users\\maslo\\Anaconda3\\lib\\site-packages\\sklearn\\preprocessing\\_encoders.py:174: UserWarning: Found unknown categories in columns [2] during transform. These unknown categories will be encoded as all zeros\n",
      "  UserWarning,\n",
      "C:\\Users\\maslo\\Anaconda3\\lib\\site-packages\\sklearn\\preprocessing\\_encoders.py:174: UserWarning: Found unknown categories in columns [1, 2, 3, 4] during transform. These unknown categories will be encoded as all zeros\n",
      "  UserWarning,\n"
     ]
    },
    {
     "name": "stdout",
     "output_type": "stream",
     "text": [
      "[0.7252649124895821, 0.6469910625620655, 0.7207373271889401, 0.7482358870967741, 0.707618897802947]\n"
     ]
    },
    {
     "name": "stderr",
     "output_type": "stream",
     "text": [
      "C:\\Users\\maslo\\Anaconda3\\lib\\site-packages\\sklearn\\preprocessing\\_encoders.py:174: UserWarning: Found unknown categories in columns [1, 2, 3, 4] during transform. These unknown categories will be encoded as all zeros\n",
      "  UserWarning,\n",
      "C:\\Users\\maslo\\Anaconda3\\lib\\site-packages\\sklearn\\preprocessing\\_encoders.py:174: UserWarning: Found unknown categories in columns [3, 4, 5] during transform. These unknown categories will be encoded as all zeros\n",
      "  UserWarning,\n",
      "C:\\Users\\maslo\\Anaconda3\\lib\\site-packages\\sklearn\\preprocessing\\_encoders.py:174: UserWarning: Found unknown categories in columns [1, 2, 3, 4] during transform. These unknown categories will be encoded as all zeros\n",
      "  UserWarning,\n",
      "C:\\Users\\maslo\\Anaconda3\\lib\\site-packages\\sklearn\\preprocessing\\_encoders.py:174: UserWarning: Found unknown categories in columns [5] during transform. These unknown categories will be encoded as all zeros\n",
      "  UserWarning,\n",
      "C:\\Users\\maslo\\Anaconda3\\lib\\site-packages\\sklearn\\preprocessing\\_encoders.py:174: UserWarning: Found unknown categories in columns [1, 2, 3, 4] during transform. These unknown categories will be encoded as all zeros\n",
      "  UserWarning,\n",
      "C:\\Users\\maslo\\Anaconda3\\lib\\site-packages\\sklearn\\preprocessing\\_encoders.py:174: UserWarning: Found unknown categories in columns [2, 3, 4] during transform. These unknown categories will be encoded as all zeros\n",
      "  UserWarning,\n",
      "C:\\Users\\maslo\\Anaconda3\\lib\\site-packages\\sklearn\\preprocessing\\_encoders.py:174: UserWarning: Found unknown categories in columns [2] during transform. These unknown categories will be encoded as all zeros\n",
      "  UserWarning,\n",
      "C:\\Users\\maslo\\Anaconda3\\lib\\site-packages\\sklearn\\preprocessing\\_encoders.py:174: UserWarning: Found unknown categories in columns [1, 2, 3, 4] during transform. These unknown categories will be encoded as all zeros\n",
      "  UserWarning,\n"
     ]
    },
    {
     "name": "stdout",
     "output_type": "stream",
     "text": [
      "[0.7319323729015359, 0.6496921549155907, 0.7298856460146783, 0.7534022177419355, 0.7035289182528446]\n"
     ]
    },
    {
     "name": "stderr",
     "output_type": "stream",
     "text": [
      "C:\\Users\\maslo\\Anaconda3\\lib\\site-packages\\sklearn\\preprocessing\\_encoders.py:174: UserWarning: Found unknown categories in columns [1, 2, 3, 4] during transform. These unknown categories will be encoded as all zeros\n",
      "  UserWarning,\n",
      "C:\\Users\\maslo\\Anaconda3\\lib\\site-packages\\sklearn\\preprocessing\\_encoders.py:174: UserWarning: Found unknown categories in columns [3, 4, 5] during transform. These unknown categories will be encoded as all zeros\n",
      "  UserWarning,\n",
      "C:\\Users\\maslo\\Anaconda3\\lib\\site-packages\\sklearn\\preprocessing\\_encoders.py:174: UserWarning: Found unknown categories in columns [1, 2, 3, 4] during transform. These unknown categories will be encoded as all zeros\n",
      "  UserWarning,\n",
      "C:\\Users\\maslo\\Anaconda3\\lib\\site-packages\\sklearn\\preprocessing\\_encoders.py:174: UserWarning: Found unknown categories in columns [5] during transform. These unknown categories will be encoded as all zeros\n",
      "  UserWarning,\n",
      "C:\\Users\\maslo\\Anaconda3\\lib\\site-packages\\sklearn\\preprocessing\\_encoders.py:174: UserWarning: Found unknown categories in columns [1, 2, 3, 4] during transform. These unknown categories will be encoded as all zeros\n",
      "  UserWarning,\n",
      "C:\\Users\\maslo\\Anaconda3\\lib\\site-packages\\sklearn\\preprocessing\\_encoders.py:174: UserWarning: Found unknown categories in columns [2, 3, 4] during transform. These unknown categories will be encoded as all zeros\n",
      "  UserWarning,\n",
      "C:\\Users\\maslo\\Anaconda3\\lib\\site-packages\\sklearn\\preprocessing\\_encoders.py:174: UserWarning: Found unknown categories in columns [2] during transform. These unknown categories will be encoded as all zeros\n",
      "  UserWarning,\n",
      "C:\\Users\\maslo\\Anaconda3\\lib\\site-packages\\sklearn\\preprocessing\\_encoders.py:174: UserWarning: Found unknown categories in columns [1, 2, 3, 4] during transform. These unknown categories will be encoded as all zeros\n",
      "  UserWarning,\n"
     ]
    },
    {
     "name": "stdout",
     "output_type": "stream",
     "text": [
      "[0.7180616740088106, 0.6436146971201588, 0.7233657620754395, 0.7482988911290323, 0.7054690367573803]\n"
     ]
    },
    {
     "name": "stderr",
     "output_type": "stream",
     "text": [
      "C:\\Users\\maslo\\Anaconda3\\lib\\site-packages\\sklearn\\preprocessing\\_encoders.py:174: UserWarning: Found unknown categories in columns [1, 2, 3, 4] during transform. These unknown categories will be encoded as all zeros\n",
      "  UserWarning,\n",
      "C:\\Users\\maslo\\Anaconda3\\lib\\site-packages\\sklearn\\preprocessing\\_encoders.py:174: UserWarning: Found unknown categories in columns [3, 4, 5] during transform. These unknown categories will be encoded as all zeros\n",
      "  UserWarning,\n",
      "C:\\Users\\maslo\\Anaconda3\\lib\\site-packages\\sklearn\\preprocessing\\_encoders.py:174: UserWarning: Found unknown categories in columns [1, 2, 3, 4] during transform. These unknown categories will be encoded as all zeros\n",
      "  UserWarning,\n",
      "C:\\Users\\maslo\\Anaconda3\\lib\\site-packages\\sklearn\\preprocessing\\_encoders.py:174: UserWarning: Found unknown categories in columns [5] during transform. These unknown categories will be encoded as all zeros\n",
      "  UserWarning,\n",
      "C:\\Users\\maslo\\Anaconda3\\lib\\site-packages\\sklearn\\preprocessing\\_encoders.py:174: UserWarning: Found unknown categories in columns [1, 2, 3, 4] during transform. These unknown categories will be encoded as all zeros\n",
      "  UserWarning,\n",
      "C:\\Users\\maslo\\Anaconda3\\lib\\site-packages\\sklearn\\preprocessing\\_encoders.py:174: UserWarning: Found unknown categories in columns [2, 3, 4] during transform. These unknown categories will be encoded as all zeros\n",
      "  UserWarning,\n",
      "C:\\Users\\maslo\\Anaconda3\\lib\\site-packages\\sklearn\\preprocessing\\_encoders.py:174: UserWarning: Found unknown categories in columns [2] during transform. These unknown categories will be encoded as all zeros\n",
      "  UserWarning,\n",
      "C:\\Users\\maslo\\Anaconda3\\lib\\site-packages\\sklearn\\preprocessing\\_encoders.py:174: UserWarning: Found unknown categories in columns [1, 2, 3, 4] during transform. These unknown categories will be encoded as all zeros\n",
      "  UserWarning,\n"
     ]
    },
    {
     "name": "stdout",
     "output_type": "stream",
     "text": [
      "[0.7252649124895821, 0.6469910625620655, 0.7207373271889401, 0.7482358870967741, 0.707618897802947]\n"
     ]
    },
    {
     "name": "stderr",
     "output_type": "stream",
     "text": [
      "C:\\Users\\maslo\\Anaconda3\\lib\\site-packages\\sklearn\\preprocessing\\_encoders.py:174: UserWarning: Found unknown categories in columns [1, 2, 3, 4] during transform. These unknown categories will be encoded as all zeros\n",
      "  UserWarning,\n",
      "C:\\Users\\maslo\\Anaconda3\\lib\\site-packages\\sklearn\\preprocessing\\_encoders.py:174: UserWarning: Found unknown categories in columns [3, 4, 5] during transform. These unknown categories will be encoded as all zeros\n",
      "  UserWarning,\n",
      "C:\\Users\\maslo\\Anaconda3\\lib\\site-packages\\sklearn\\preprocessing\\_encoders.py:174: UserWarning: Found unknown categories in columns [1, 2, 3, 4] during transform. These unknown categories will be encoded as all zeros\n",
      "  UserWarning,\n",
      "C:\\Users\\maslo\\Anaconda3\\lib\\site-packages\\sklearn\\preprocessing\\_encoders.py:174: UserWarning: Found unknown categories in columns [5] during transform. These unknown categories will be encoded as all zeros\n",
      "  UserWarning,\n",
      "C:\\Users\\maslo\\Anaconda3\\lib\\site-packages\\sklearn\\preprocessing\\_encoders.py:174: UserWarning: Found unknown categories in columns [1, 2, 3, 4] during transform. These unknown categories will be encoded as all zeros\n",
      "  UserWarning,\n",
      "C:\\Users\\maslo\\Anaconda3\\lib\\site-packages\\sklearn\\preprocessing\\_encoders.py:174: UserWarning: Found unknown categories in columns [2, 3, 4] during transform. These unknown categories will be encoded as all zeros\n",
      "  UserWarning,\n",
      "C:\\Users\\maslo\\Anaconda3\\lib\\site-packages\\sklearn\\preprocessing\\_encoders.py:174: UserWarning: Found unknown categories in columns [2] during transform. These unknown categories will be encoded as all zeros\n",
      "  UserWarning,\n",
      "C:\\Users\\maslo\\Anaconda3\\lib\\site-packages\\sklearn\\preprocessing\\_encoders.py:174: UserWarning: Found unknown categories in columns [1, 2, 3, 4] during transform. These unknown categories will be encoded as all zeros\n",
      "  UserWarning,\n"
     ]
    },
    {
     "name": "stdout",
     "output_type": "stream",
     "text": [
      "[0.7319323729015359, 0.6496921549155907, 0.7298856460146783, 0.7534022177419355, 0.7035289182528446]\n"
     ]
    },
    {
     "name": "stderr",
     "output_type": "stream",
     "text": [
      "C:\\Users\\maslo\\Anaconda3\\lib\\site-packages\\sklearn\\preprocessing\\_encoders.py:174: UserWarning: Found unknown categories in columns [1, 2, 3, 4] during transform. These unknown categories will be encoded as all zeros\n",
      "  UserWarning,\n",
      "C:\\Users\\maslo\\Anaconda3\\lib\\site-packages\\sklearn\\preprocessing\\_encoders.py:174: UserWarning: Found unknown categories in columns [3, 4, 5] during transform. These unknown categories will be encoded as all zeros\n",
      "  UserWarning,\n",
      "C:\\Users\\maslo\\Anaconda3\\lib\\site-packages\\sklearn\\preprocessing\\_encoders.py:174: UserWarning: Found unknown categories in columns [1, 2, 3, 4] during transform. These unknown categories will be encoded as all zeros\n",
      "  UserWarning,\n",
      "C:\\Users\\maslo\\Anaconda3\\lib\\site-packages\\sklearn\\preprocessing\\_encoders.py:174: UserWarning: Found unknown categories in columns [5] during transform. These unknown categories will be encoded as all zeros\n",
      "  UserWarning,\n",
      "C:\\Users\\maslo\\Anaconda3\\lib\\site-packages\\sklearn\\preprocessing\\_encoders.py:174: UserWarning: Found unknown categories in columns [1, 2, 3, 4] during transform. These unknown categories will be encoded as all zeros\n",
      "  UserWarning,\n",
      "C:\\Users\\maslo\\Anaconda3\\lib\\site-packages\\sklearn\\preprocessing\\_encoders.py:174: UserWarning: Found unknown categories in columns [2, 3, 4] during transform. These unknown categories will be encoded as all zeros\n",
      "  UserWarning,\n",
      "C:\\Users\\maslo\\Anaconda3\\lib\\site-packages\\sklearn\\preprocessing\\_encoders.py:174: UserWarning: Found unknown categories in columns [2] during transform. These unknown categories will be encoded as all zeros\n",
      "  UserWarning,\n",
      "C:\\Users\\maslo\\Anaconda3\\lib\\site-packages\\sklearn\\preprocessing\\_encoders.py:174: UserWarning: Found unknown categories in columns [1, 2, 3, 4] during transform. These unknown categories will be encoded as all zeros\n",
      "  UserWarning,\n"
     ]
    },
    {
     "name": "stdout",
     "output_type": "stream",
     "text": [
      "[0.7241933563519466, 0.6371797418073485, 0.7260283324799454, 0.7505040322580645, 0.7047873734990299]\n"
     ]
    },
    {
     "name": "stderr",
     "output_type": "stream",
     "text": [
      "C:\\Users\\maslo\\Anaconda3\\lib\\site-packages\\sklearn\\preprocessing\\_encoders.py:174: UserWarning: Found unknown categories in columns [1, 2, 3, 4] during transform. These unknown categories will be encoded as all zeros\n",
      "  UserWarning,\n",
      "C:\\Users\\maslo\\Anaconda3\\lib\\site-packages\\sklearn\\preprocessing\\_encoders.py:174: UserWarning: Found unknown categories in columns [3, 4, 5] during transform. These unknown categories will be encoded as all zeros\n",
      "  UserWarning,\n",
      "C:\\Users\\maslo\\Anaconda3\\lib\\site-packages\\sklearn\\preprocessing\\_encoders.py:174: UserWarning: Found unknown categories in columns [1, 2, 3, 4] during transform. These unknown categories will be encoded as all zeros\n",
      "  UserWarning,\n",
      "C:\\Users\\maslo\\Anaconda3\\lib\\site-packages\\sklearn\\preprocessing\\_encoders.py:174: UserWarning: Found unknown categories in columns [5] during transform. These unknown categories will be encoded as all zeros\n",
      "  UserWarning,\n",
      "C:\\Users\\maslo\\Anaconda3\\lib\\site-packages\\sklearn\\preprocessing\\_encoders.py:174: UserWarning: Found unknown categories in columns [1, 2, 3, 4] during transform. These unknown categories will be encoded as all zeros\n",
      "  UserWarning,\n",
      "C:\\Users\\maslo\\Anaconda3\\lib\\site-packages\\sklearn\\preprocessing\\_encoders.py:174: UserWarning: Found unknown categories in columns [2, 3, 4] during transform. These unknown categories will be encoded as all zeros\n",
      "  UserWarning,\n",
      "C:\\Users\\maslo\\Anaconda3\\lib\\site-packages\\sklearn\\preprocessing\\_encoders.py:174: UserWarning: Found unknown categories in columns [2] during transform. These unknown categories will be encoded as all zeros\n",
      "  UserWarning,\n",
      "C:\\Users\\maslo\\Anaconda3\\lib\\site-packages\\sklearn\\preprocessing\\_encoders.py:174: UserWarning: Found unknown categories in columns [1, 2, 3, 4] during transform. These unknown categories will be encoded as all zeros\n",
      "  UserWarning,\n"
     ]
    },
    {
     "name": "stdout",
     "output_type": "stream",
     "text": [
      "[0.7252649124895821, 0.6469910625620655, 0.7207373271889401, 0.7482358870967741, 0.707618897802947]\n"
     ]
    },
    {
     "name": "stderr",
     "output_type": "stream",
     "text": [
      "C:\\Users\\maslo\\Anaconda3\\lib\\site-packages\\sklearn\\preprocessing\\_encoders.py:174: UserWarning: Found unknown categories in columns [1, 2, 3, 4] during transform. These unknown categories will be encoded as all zeros\n",
      "  UserWarning,\n",
      "C:\\Users\\maslo\\Anaconda3\\lib\\site-packages\\sklearn\\preprocessing\\_encoders.py:174: UserWarning: Found unknown categories in columns [3, 4, 5] during transform. These unknown categories will be encoded as all zeros\n",
      "  UserWarning,\n",
      "C:\\Users\\maslo\\Anaconda3\\lib\\site-packages\\sklearn\\preprocessing\\_encoders.py:174: UserWarning: Found unknown categories in columns [1, 2, 3, 4] during transform. These unknown categories will be encoded as all zeros\n",
      "  UserWarning,\n",
      "C:\\Users\\maslo\\Anaconda3\\lib\\site-packages\\sklearn\\preprocessing\\_encoders.py:174: UserWarning: Found unknown categories in columns [5] during transform. These unknown categories will be encoded as all zeros\n",
      "  UserWarning,\n",
      "C:\\Users\\maslo\\Anaconda3\\lib\\site-packages\\sklearn\\preprocessing\\_encoders.py:174: UserWarning: Found unknown categories in columns [1, 2, 3, 4] during transform. These unknown categories will be encoded as all zeros\n",
      "  UserWarning,\n",
      "C:\\Users\\maslo\\Anaconda3\\lib\\site-packages\\sklearn\\preprocessing\\_encoders.py:174: UserWarning: Found unknown categories in columns [2, 3, 4] during transform. These unknown categories will be encoded as all zeros\n",
      "  UserWarning,\n",
      "C:\\Users\\maslo\\Anaconda3\\lib\\site-packages\\sklearn\\preprocessing\\_encoders.py:174: UserWarning: Found unknown categories in columns [2] during transform. These unknown categories will be encoded as all zeros\n",
      "  UserWarning,\n",
      "C:\\Users\\maslo\\Anaconda3\\lib\\site-packages\\sklearn\\preprocessing\\_encoders.py:174: UserWarning: Found unknown categories in columns [1, 2, 3, 4] during transform. These unknown categories will be encoded as all zeros\n",
      "  UserWarning,\n"
     ]
    },
    {
     "name": "stdout",
     "output_type": "stream",
     "text": [
      "[0.7319323729015359, 0.6496921549155907, 0.7298856460146783, 0.7534022177419355, 0.7035289182528446]\n"
     ]
    },
    {
     "name": "stderr",
     "output_type": "stream",
     "text": [
      "C:\\Users\\maslo\\Anaconda3\\lib\\site-packages\\sklearn\\preprocessing\\_encoders.py:174: UserWarning: Found unknown categories in columns [1, 2, 3, 4] during transform. These unknown categories will be encoded as all zeros\n",
      "  UserWarning,\n",
      "C:\\Users\\maslo\\Anaconda3\\lib\\site-packages\\sklearn\\preprocessing\\_encoders.py:174: UserWarning: Found unknown categories in columns [3, 4, 5] during transform. These unknown categories will be encoded as all zeros\n",
      "  UserWarning,\n",
      "C:\\Users\\maslo\\Anaconda3\\lib\\site-packages\\sklearn\\preprocessing\\_encoders.py:174: UserWarning: Found unknown categories in columns [1, 2, 3, 4] during transform. These unknown categories will be encoded as all zeros\n",
      "  UserWarning,\n",
      "C:\\Users\\maslo\\Anaconda3\\lib\\site-packages\\sklearn\\preprocessing\\_encoders.py:174: UserWarning: Found unknown categories in columns [5] during transform. These unknown categories will be encoded as all zeros\n",
      "  UserWarning,\n",
      "C:\\Users\\maslo\\Anaconda3\\lib\\site-packages\\sklearn\\preprocessing\\_encoders.py:174: UserWarning: Found unknown categories in columns [1, 2, 3, 4] during transform. These unknown categories will be encoded as all zeros\n",
      "  UserWarning,\n",
      "C:\\Users\\maslo\\Anaconda3\\lib\\site-packages\\sklearn\\preprocessing\\_encoders.py:174: UserWarning: Found unknown categories in columns [2, 3, 4] during transform. These unknown categories will be encoded as all zeros\n",
      "  UserWarning,\n",
      "C:\\Users\\maslo\\Anaconda3\\lib\\site-packages\\sklearn\\preprocessing\\_encoders.py:174: UserWarning: Found unknown categories in columns [2] during transform. These unknown categories will be encoded as all zeros\n",
      "  UserWarning,\n",
      "C:\\Users\\maslo\\Anaconda3\\lib\\site-packages\\sklearn\\preprocessing\\_encoders.py:174: UserWarning: Found unknown categories in columns [1, 2, 3, 4] during transform. These unknown categories will be encoded as all zeros\n",
      "  UserWarning,\n"
     ]
    },
    {
     "name": "stdout",
     "output_type": "stream",
     "text": [
      "[0.7173770686986546, 0.6179940417080437, 0.6868748933265062, 0.7190020161290323, 0.6896334749095485]\n"
     ]
    },
    {
     "name": "stderr",
     "output_type": "stream",
     "text": [
      "C:\\Users\\maslo\\Anaconda3\\lib\\site-packages\\sklearn\\preprocessing\\_encoders.py:174: UserWarning: Found unknown categories in columns [1, 2, 3, 4] during transform. These unknown categories will be encoded as all zeros\n",
      "  UserWarning,\n",
      "C:\\Users\\maslo\\Anaconda3\\lib\\site-packages\\sklearn\\preprocessing\\_encoders.py:174: UserWarning: Found unknown categories in columns [3, 4, 5] during transform. These unknown categories will be encoded as all zeros\n",
      "  UserWarning,\n",
      "C:\\Users\\maslo\\Anaconda3\\lib\\site-packages\\sklearn\\preprocessing\\_encoders.py:174: UserWarning: Found unknown categories in columns [1, 2, 3, 4] during transform. These unknown categories will be encoded as all zeros\n",
      "  UserWarning,\n",
      "C:\\Users\\maslo\\Anaconda3\\lib\\site-packages\\sklearn\\preprocessing\\_encoders.py:174: UserWarning: Found unknown categories in columns [5] during transform. These unknown categories will be encoded as all zeros\n",
      "  UserWarning,\n",
      "C:\\Users\\maslo\\Anaconda3\\lib\\site-packages\\sklearn\\preprocessing\\_encoders.py:174: UserWarning: Found unknown categories in columns [1, 2, 3, 4] during transform. These unknown categories will be encoded as all zeros\n",
      "  UserWarning,\n",
      "C:\\Users\\maslo\\Anaconda3\\lib\\site-packages\\sklearn\\preprocessing\\_encoders.py:174: UserWarning: Found unknown categories in columns [2, 3, 4] during transform. These unknown categories will be encoded as all zeros\n",
      "  UserWarning,\n",
      "C:\\Users\\maslo\\Anaconda3\\lib\\site-packages\\sklearn\\preprocessing\\_encoders.py:174: UserWarning: Found unknown categories in columns [2] during transform. These unknown categories will be encoded as all zeros\n",
      "  UserWarning,\n",
      "C:\\Users\\maslo\\Anaconda3\\lib\\site-packages\\sklearn\\preprocessing\\_encoders.py:174: UserWarning: Found unknown categories in columns [1, 2, 3, 4] during transform. These unknown categories will be encoded as all zeros\n",
      "  UserWarning,\n"
     ]
    },
    {
     "name": "stdout",
     "output_type": "stream",
     "text": [
      "[0.7269615430408383, 0.6395233366434955, 0.7162997098480969, 0.7494959677419355, 0.6912065439672802]\n"
     ]
    },
    {
     "name": "stderr",
     "output_type": "stream",
     "text": [
      "C:\\Users\\maslo\\Anaconda3\\lib\\site-packages\\sklearn\\preprocessing\\_encoders.py:174: UserWarning: Found unknown categories in columns [1, 2, 3, 4] during transform. These unknown categories will be encoded as all zeros\n",
      "  UserWarning,\n",
      "C:\\Users\\maslo\\Anaconda3\\lib\\site-packages\\sklearn\\preprocessing\\_encoders.py:174: UserWarning: Found unknown categories in columns [3, 4, 5] during transform. These unknown categories will be encoded as all zeros\n",
      "  UserWarning,\n",
      "C:\\Users\\maslo\\Anaconda3\\lib\\site-packages\\sklearn\\preprocessing\\_encoders.py:174: UserWarning: Found unknown categories in columns [1, 2, 3, 4] during transform. These unknown categories will be encoded as all zeros\n",
      "  UserWarning,\n",
      "C:\\Users\\maslo\\Anaconda3\\lib\\site-packages\\sklearn\\preprocessing\\_encoders.py:174: UserWarning: Found unknown categories in columns [5] during transform. These unknown categories will be encoded as all zeros\n",
      "  UserWarning,\n",
      "C:\\Users\\maslo\\Anaconda3\\lib\\site-packages\\sklearn\\preprocessing\\_encoders.py:174: UserWarning: Found unknown categories in columns [1, 2, 3, 4] during transform. These unknown categories will be encoded as all zeros\n",
      "  UserWarning,\n",
      "C:\\Users\\maslo\\Anaconda3\\lib\\site-packages\\sklearn\\preprocessing\\_encoders.py:174: UserWarning: Found unknown categories in columns [2, 3, 4] during transform. These unknown categories will be encoded as all zeros\n",
      "  UserWarning,\n",
      "C:\\Users\\maslo\\Anaconda3\\lib\\site-packages\\sklearn\\preprocessing\\_encoders.py:174: UserWarning: Found unknown categories in columns [2] during transform. These unknown categories will be encoded as all zeros\n",
      "  UserWarning,\n",
      "C:\\Users\\maslo\\Anaconda3\\lib\\site-packages\\sklearn\\preprocessing\\_encoders.py:174: UserWarning: Found unknown categories in columns [1, 2, 3, 4] during transform. These unknown categories will be encoded as all zeros\n",
      "  UserWarning,\n"
     ]
    },
    {
     "name": "stdout",
     "output_type": "stream",
     "text": [
      "[0.7346112632456243, 0.6448857994041708, 0.7272913466461853, 0.7586315524193549, 0.7053641654868649]\n"
     ]
    },
    {
     "name": "stderr",
     "output_type": "stream",
     "text": [
      "C:\\Users\\maslo\\Anaconda3\\lib\\site-packages\\sklearn\\preprocessing\\_encoders.py:174: UserWarning: Found unknown categories in columns [1, 2, 3, 4] during transform. These unknown categories will be encoded as all zeros\n",
      "  UserWarning,\n",
      "C:\\Users\\maslo\\Anaconda3\\lib\\site-packages\\sklearn\\preprocessing\\_encoders.py:174: UserWarning: Found unknown categories in columns [3, 4, 5] during transform. These unknown categories will be encoded as all zeros\n",
      "  UserWarning,\n",
      "C:\\Users\\maslo\\Anaconda3\\lib\\site-packages\\sklearn\\preprocessing\\_encoders.py:174: UserWarning: Found unknown categories in columns [1, 2, 3, 4] during transform. These unknown categories will be encoded as all zeros\n",
      "  UserWarning,\n",
      "C:\\Users\\maslo\\Anaconda3\\lib\\site-packages\\sklearn\\preprocessing\\_encoders.py:174: UserWarning: Found unknown categories in columns [5] during transform. These unknown categories will be encoded as all zeros\n",
      "  UserWarning,\n",
      "C:\\Users\\maslo\\Anaconda3\\lib\\site-packages\\sklearn\\preprocessing\\_encoders.py:174: UserWarning: Found unknown categories in columns [1, 2, 3, 4] during transform. These unknown categories will be encoded as all zeros\n",
      "  UserWarning,\n",
      "C:\\Users\\maslo\\Anaconda3\\lib\\site-packages\\sklearn\\preprocessing\\_encoders.py:174: UserWarning: Found unknown categories in columns [2, 3, 4] during transform. These unknown categories will be encoded as all zeros\n",
      "  UserWarning,\n",
      "C:\\Users\\maslo\\Anaconda3\\lib\\site-packages\\sklearn\\preprocessing\\_encoders.py:174: UserWarning: Found unknown categories in columns [2] during transform. These unknown categories will be encoded as all zeros\n",
      "  UserWarning,\n",
      "C:\\Users\\maslo\\Anaconda3\\lib\\site-packages\\sklearn\\preprocessing\\_encoders.py:174: UserWarning: Found unknown categories in columns [1, 2, 3, 4] during transform. These unknown categories will be encoded as all zeros\n",
      "  UserWarning,\n"
     ]
    },
    {
     "name": "stdout",
     "output_type": "stream",
     "text": [
      "[0.729283248005715, 0.6369414101290963, 0.6968424645844, 0.7160408266129032, 0.6793036547637774]\n"
     ]
    },
    {
     "name": "stderr",
     "output_type": "stream",
     "text": [
      "C:\\Users\\maslo\\Anaconda3\\lib\\site-packages\\sklearn\\preprocessing\\_encoders.py:174: UserWarning: Found unknown categories in columns [1, 2, 3, 4] during transform. These unknown categories will be encoded as all zeros\n",
      "  UserWarning,\n",
      "C:\\Users\\maslo\\Anaconda3\\lib\\site-packages\\sklearn\\preprocessing\\_encoders.py:174: UserWarning: Found unknown categories in columns [3, 4, 5] during transform. These unknown categories will be encoded as all zeros\n",
      "  UserWarning,\n",
      "C:\\Users\\maslo\\Anaconda3\\lib\\site-packages\\sklearn\\preprocessing\\_encoders.py:174: UserWarning: Found unknown categories in columns [1, 2, 3, 4] during transform. These unknown categories will be encoded as all zeros\n",
      "  UserWarning,\n",
      "C:\\Users\\maslo\\Anaconda3\\lib\\site-packages\\sklearn\\preprocessing\\_encoders.py:174: UserWarning: Found unknown categories in columns [5] during transform. These unknown categories will be encoded as all zeros\n",
      "  UserWarning,\n",
      "C:\\Users\\maslo\\Anaconda3\\lib\\site-packages\\sklearn\\preprocessing\\_encoders.py:174: UserWarning: Found unknown categories in columns [1, 2, 3, 4] during transform. These unknown categories will be encoded as all zeros\n",
      "  UserWarning,\n",
      "C:\\Users\\maslo\\Anaconda3\\lib\\site-packages\\sklearn\\preprocessing\\_encoders.py:174: UserWarning: Found unknown categories in columns [2, 3, 4] during transform. These unknown categories will be encoded as all zeros\n",
      "  UserWarning,\n",
      "C:\\Users\\maslo\\Anaconda3\\lib\\site-packages\\sklearn\\preprocessing\\_encoders.py:174: UserWarning: Found unknown categories in columns [2] during transform. These unknown categories will be encoded as all zeros\n",
      "  UserWarning,\n",
      "C:\\Users\\maslo\\Anaconda3\\lib\\site-packages\\sklearn\\preprocessing\\_encoders.py:174: UserWarning: Found unknown categories in columns [1, 2, 3, 4] during transform. These unknown categories will be encoded as all zeros\n",
      "  UserWarning,\n"
     ]
    },
    {
     "name": "stdout",
     "output_type": "stream",
     "text": [
      "[0.7269615430408383, 0.6395233366434955, 0.7162997098480969, 0.7494959677419355, 0.6912065439672802]\n"
     ]
    },
    {
     "name": "stderr",
     "output_type": "stream",
     "text": [
      "C:\\Users\\maslo\\Anaconda3\\lib\\site-packages\\sklearn\\preprocessing\\_encoders.py:174: UserWarning: Found unknown categories in columns [1, 2, 3, 4] during transform. These unknown categories will be encoded as all zeros\n",
      "  UserWarning,\n",
      "C:\\Users\\maslo\\Anaconda3\\lib\\site-packages\\sklearn\\preprocessing\\_encoders.py:174: UserWarning: Found unknown categories in columns [3, 4, 5] during transform. These unknown categories will be encoded as all zeros\n",
      "  UserWarning,\n",
      "C:\\Users\\maslo\\Anaconda3\\lib\\site-packages\\sklearn\\preprocessing\\_encoders.py:174: UserWarning: Found unknown categories in columns [1, 2, 3, 4] during transform. These unknown categories will be encoded as all zeros\n",
      "  UserWarning,\n",
      "C:\\Users\\maslo\\Anaconda3\\lib\\site-packages\\sklearn\\preprocessing\\_encoders.py:174: UserWarning: Found unknown categories in columns [5] during transform. These unknown categories will be encoded as all zeros\n",
      "  UserWarning,\n",
      "C:\\Users\\maslo\\Anaconda3\\lib\\site-packages\\sklearn\\preprocessing\\_encoders.py:174: UserWarning: Found unknown categories in columns [1, 2, 3, 4] during transform. These unknown categories will be encoded as all zeros\n",
      "  UserWarning,\n",
      "C:\\Users\\maslo\\Anaconda3\\lib\\site-packages\\sklearn\\preprocessing\\_encoders.py:174: UserWarning: Found unknown categories in columns [2, 3, 4] during transform. These unknown categories will be encoded as all zeros\n",
      "  UserWarning,\n",
      "C:\\Users\\maslo\\Anaconda3\\lib\\site-packages\\sklearn\\preprocessing\\_encoders.py:174: UserWarning: Found unknown categories in columns [2] during transform. These unknown categories will be encoded as all zeros\n",
      "  UserWarning,\n",
      "C:\\Users\\maslo\\Anaconda3\\lib\\site-packages\\sklearn\\preprocessing\\_encoders.py:174: UserWarning: Found unknown categories in columns [1, 2, 3, 4] during transform. These unknown categories will be encoded as all zeros\n",
      "  UserWarning,\n"
     ]
    },
    {
     "name": "stdout",
     "output_type": "stream",
     "text": [
      "[0.7346112632456243, 0.6448857994041708, 0.7272913466461853, 0.7586315524193549, 0.7053641654868649]\n"
     ]
    },
    {
     "name": "stderr",
     "output_type": "stream",
     "text": [
      "C:\\Users\\maslo\\Anaconda3\\lib\\site-packages\\sklearn\\preprocessing\\_encoders.py:174: UserWarning: Found unknown categories in columns [1, 2, 3, 4] during transform. These unknown categories will be encoded as all zeros\n",
      "  UserWarning,\n",
      "C:\\Users\\maslo\\Anaconda3\\lib\\site-packages\\sklearn\\preprocessing\\_encoders.py:174: UserWarning: Found unknown categories in columns [3, 4, 5] during transform. These unknown categories will be encoded as all zeros\n",
      "  UserWarning,\n",
      "C:\\Users\\maslo\\Anaconda3\\lib\\site-packages\\sklearn\\preprocessing\\_encoders.py:174: UserWarning: Found unknown categories in columns [1, 2, 3, 4] during transform. These unknown categories will be encoded as all zeros\n",
      "  UserWarning,\n",
      "C:\\Users\\maslo\\Anaconda3\\lib\\site-packages\\sklearn\\preprocessing\\_encoders.py:174: UserWarning: Found unknown categories in columns [5] during transform. These unknown categories will be encoded as all zeros\n",
      "  UserWarning,\n",
      "C:\\Users\\maslo\\Anaconda3\\lib\\site-packages\\sklearn\\preprocessing\\_encoders.py:174: UserWarning: Found unknown categories in columns [1, 2, 3, 4] during transform. These unknown categories will be encoded as all zeros\n",
      "  UserWarning,\n",
      "C:\\Users\\maslo\\Anaconda3\\lib\\site-packages\\sklearn\\preprocessing\\_encoders.py:174: UserWarning: Found unknown categories in columns [2, 3, 4] during transform. These unknown categories will be encoded as all zeros\n",
      "  UserWarning,\n",
      "C:\\Users\\maslo\\Anaconda3\\lib\\site-packages\\sklearn\\preprocessing\\_encoders.py:174: UserWarning: Found unknown categories in columns [2] during transform. These unknown categories will be encoded as all zeros\n",
      "  UserWarning,\n",
      "C:\\Users\\maslo\\Anaconda3\\lib\\site-packages\\sklearn\\preprocessing\\_encoders.py:174: UserWarning: Found unknown categories in columns [1, 2, 3, 4] during transform. These unknown categories will be encoded as all zeros\n",
      "  UserWarning,\n"
     ]
    },
    {
     "name": "stdout",
     "output_type": "stream",
     "text": [
      "[0.7332718180735802, 0.6265342601787488, 0.7009045912271719, 0.7504410282258065, 0.6862775942530545]\n"
     ]
    },
    {
     "name": "stderr",
     "output_type": "stream",
     "text": [
      "C:\\Users\\maslo\\Anaconda3\\lib\\site-packages\\sklearn\\preprocessing\\_encoders.py:174: UserWarning: Found unknown categories in columns [1, 2, 3, 4] during transform. These unknown categories will be encoded as all zeros\n",
      "  UserWarning,\n",
      "C:\\Users\\maslo\\Anaconda3\\lib\\site-packages\\sklearn\\preprocessing\\_encoders.py:174: UserWarning: Found unknown categories in columns [3, 4, 5] during transform. These unknown categories will be encoded as all zeros\n",
      "  UserWarning,\n",
      "C:\\Users\\maslo\\Anaconda3\\lib\\site-packages\\sklearn\\preprocessing\\_encoders.py:174: UserWarning: Found unknown categories in columns [1, 2, 3, 4] during transform. These unknown categories will be encoded as all zeros\n",
      "  UserWarning,\n",
      "C:\\Users\\maslo\\Anaconda3\\lib\\site-packages\\sklearn\\preprocessing\\_encoders.py:174: UserWarning: Found unknown categories in columns [5] during transform. These unknown categories will be encoded as all zeros\n",
      "  UserWarning,\n",
      "C:\\Users\\maslo\\Anaconda3\\lib\\site-packages\\sklearn\\preprocessing\\_encoders.py:174: UserWarning: Found unknown categories in columns [1, 2, 3, 4] during transform. These unknown categories will be encoded as all zeros\n",
      "  UserWarning,\n",
      "C:\\Users\\maslo\\Anaconda3\\lib\\site-packages\\sklearn\\preprocessing\\_encoders.py:174: UserWarning: Found unknown categories in columns [2, 3, 4] during transform. These unknown categories will be encoded as all zeros\n",
      "  UserWarning,\n",
      "C:\\Users\\maslo\\Anaconda3\\lib\\site-packages\\sklearn\\preprocessing\\_encoders.py:174: UserWarning: Found unknown categories in columns [2] during transform. These unknown categories will be encoded as all zeros\n",
      "  UserWarning,\n",
      "C:\\Users\\maslo\\Anaconda3\\lib\\site-packages\\sklearn\\preprocessing\\_encoders.py:174: UserWarning: Found unknown categories in columns [1, 2, 3, 4] during transform. These unknown categories will be encoded as all zeros\n",
      "  UserWarning,\n"
     ]
    },
    {
     "name": "stdout",
     "output_type": "stream",
     "text": [
      "[0.7269615430408383, 0.6395233366434955, 0.7162997098480969, 0.7494959677419355, 0.6912065439672802]\n"
     ]
    },
    {
     "name": "stderr",
     "output_type": "stream",
     "text": [
      "C:\\Users\\maslo\\Anaconda3\\lib\\site-packages\\sklearn\\preprocessing\\_encoders.py:174: UserWarning: Found unknown categories in columns [1, 2, 3, 4] during transform. These unknown categories will be encoded as all zeros\n",
      "  UserWarning,\n",
      "C:\\Users\\maslo\\Anaconda3\\lib\\site-packages\\sklearn\\preprocessing\\_encoders.py:174: UserWarning: Found unknown categories in columns [3, 4, 5] during transform. These unknown categories will be encoded as all zeros\n",
      "  UserWarning,\n",
      "C:\\Users\\maslo\\Anaconda3\\lib\\site-packages\\sklearn\\preprocessing\\_encoders.py:174: UserWarning: Found unknown categories in columns [1, 2, 3, 4] during transform. These unknown categories will be encoded as all zeros\n",
      "  UserWarning,\n",
      "C:\\Users\\maslo\\Anaconda3\\lib\\site-packages\\sklearn\\preprocessing\\_encoders.py:174: UserWarning: Found unknown categories in columns [5] during transform. These unknown categories will be encoded as all zeros\n",
      "  UserWarning,\n",
      "C:\\Users\\maslo\\Anaconda3\\lib\\site-packages\\sklearn\\preprocessing\\_encoders.py:174: UserWarning: Found unknown categories in columns [1, 2, 3, 4] during transform. These unknown categories will be encoded as all zeros\n",
      "  UserWarning,\n",
      "C:\\Users\\maslo\\Anaconda3\\lib\\site-packages\\sklearn\\preprocessing\\_encoders.py:174: UserWarning: Found unknown categories in columns [2, 3, 4] during transform. These unknown categories will be encoded as all zeros\n",
      "  UserWarning,\n",
      "C:\\Users\\maslo\\Anaconda3\\lib\\site-packages\\sklearn\\preprocessing\\_encoders.py:174: UserWarning: Found unknown categories in columns [2] during transform. These unknown categories will be encoded as all zeros\n",
      "  UserWarning,\n",
      "C:\\Users\\maslo\\Anaconda3\\lib\\site-packages\\sklearn\\preprocessing\\_encoders.py:174: UserWarning: Found unknown categories in columns [1, 2, 3, 4] during transform. These unknown categories will be encoded as all zeros\n",
      "  UserWarning,\n"
     ]
    },
    {
     "name": "stdout",
     "output_type": "stream",
     "text": [
      "[0.7346112632456243, 0.6448857994041708, 0.7272913466461853, 0.7586315524193549, 0.7053641654868649]\n"
     ]
    },
    {
     "name": "stderr",
     "output_type": "stream",
     "text": [
      "C:\\Users\\maslo\\Anaconda3\\lib\\site-packages\\sklearn\\preprocessing\\_encoders.py:174: UserWarning: Found unknown categories in columns [1, 2, 3, 4] during transform. These unknown categories will be encoded as all zeros\n",
      "  UserWarning,\n",
      "C:\\Users\\maslo\\Anaconda3\\lib\\site-packages\\sklearn\\preprocessing\\_encoders.py:174: UserWarning: Found unknown categories in columns [3, 4, 5] during transform. These unknown categories will be encoded as all zeros\n",
      "  UserWarning,\n",
      "C:\\Users\\maslo\\Anaconda3\\lib\\site-packages\\sklearn\\preprocessing\\_encoders.py:174: UserWarning: Found unknown categories in columns [1, 2, 3, 4] during transform. These unknown categories will be encoded as all zeros\n",
      "  UserWarning,\n",
      "C:\\Users\\maslo\\Anaconda3\\lib\\site-packages\\sklearn\\preprocessing\\_encoders.py:174: UserWarning: Found unknown categories in columns [5] during transform. These unknown categories will be encoded as all zeros\n",
      "  UserWarning,\n",
      "C:\\Users\\maslo\\Anaconda3\\lib\\site-packages\\sklearn\\preprocessing\\_encoders.py:174: UserWarning: Found unknown categories in columns [1, 2, 3, 4] during transform. These unknown categories will be encoded as all zeros\n",
      "  UserWarning,\n",
      "C:\\Users\\maslo\\Anaconda3\\lib\\site-packages\\sklearn\\preprocessing\\_encoders.py:174: UserWarning: Found unknown categories in columns [2, 3, 4] during transform. These unknown categories will be encoded as all zeros\n",
      "  UserWarning,\n",
      "C:\\Users\\maslo\\Anaconda3\\lib\\site-packages\\sklearn\\preprocessing\\_encoders.py:174: UserWarning: Found unknown categories in columns [2] during transform. These unknown categories will be encoded as all zeros\n",
      "  UserWarning,\n",
      "C:\\Users\\maslo\\Anaconda3\\lib\\site-packages\\sklearn\\preprocessing\\_encoders.py:174: UserWarning: Found unknown categories in columns [1, 2, 3, 4] during transform. These unknown categories will be encoded as all zeros\n",
      "  UserWarning,\n"
     ]
    },
    {
     "name": "stdout",
     "output_type": "stream",
     "text": [
      "[0.717421716871056, 0.6493346573982125, 0.6846390168970814, 0.6898311491935485, 0.65232552042368]\n"
     ]
    },
    {
     "name": "stderr",
     "output_type": "stream",
     "text": [
      "C:\\Users\\maslo\\Anaconda3\\lib\\site-packages\\sklearn\\preprocessing\\_encoders.py:174: UserWarning: Found unknown categories in columns [1, 2, 3, 4] during transform. These unknown categories will be encoded as all zeros\n",
      "  UserWarning,\n",
      "C:\\Users\\maslo\\Anaconda3\\lib\\site-packages\\sklearn\\preprocessing\\_encoders.py:174: UserWarning: Found unknown categories in columns [3, 4, 5] during transform. These unknown categories will be encoded as all zeros\n",
      "  UserWarning,\n",
      "C:\\Users\\maslo\\Anaconda3\\lib\\site-packages\\sklearn\\preprocessing\\_encoders.py:174: UserWarning: Found unknown categories in columns [1, 2, 3, 4] during transform. These unknown categories will be encoded as all zeros\n",
      "  UserWarning,\n",
      "C:\\Users\\maslo\\Anaconda3\\lib\\site-packages\\sklearn\\preprocessing\\_encoders.py:174: UserWarning: Found unknown categories in columns [5] during transform. These unknown categories will be encoded as all zeros\n",
      "  UserWarning,\n",
      "C:\\Users\\maslo\\Anaconda3\\lib\\site-packages\\sklearn\\preprocessing\\_encoders.py:174: UserWarning: Found unknown categories in columns [1, 2, 3, 4] during transform. These unknown categories will be encoded as all zeros\n",
      "  UserWarning,\n",
      "C:\\Users\\maslo\\Anaconda3\\lib\\site-packages\\sklearn\\preprocessing\\_encoders.py:174: UserWarning: Found unknown categories in columns [2, 3, 4] during transform. These unknown categories will be encoded as all zeros\n",
      "  UserWarning,\n",
      "C:\\Users\\maslo\\Anaconda3\\lib\\site-packages\\sklearn\\preprocessing\\_encoders.py:174: UserWarning: Found unknown categories in columns [2] during transform. These unknown categories will be encoded as all zeros\n",
      "  UserWarning,\n",
      "C:\\Users\\maslo\\Anaconda3\\lib\\site-packages\\sklearn\\preprocessing\\_encoders.py:174: UserWarning: Found unknown categories in columns [1, 2, 3, 4] during transform. These unknown categories will be encoded as all zeros\n",
      "  UserWarning,\n"
     ]
    },
    {
     "name": "stdout",
     "output_type": "stream",
     "text": [
      "[0.7285688772472914, 0.6419463753723933, 0.7122546509643284, 0.7427545362903225, 0.6960830580462483]\n"
     ]
    },
    {
     "name": "stderr",
     "output_type": "stream",
     "text": [
      "C:\\Users\\maslo\\Anaconda3\\lib\\site-packages\\sklearn\\preprocessing\\_encoders.py:174: UserWarning: Found unknown categories in columns [1, 2, 3, 4] during transform. These unknown categories will be encoded as all zeros\n",
      "  UserWarning,\n",
      "C:\\Users\\maslo\\Anaconda3\\lib\\site-packages\\sklearn\\preprocessing\\_encoders.py:174: UserWarning: Found unknown categories in columns [3, 4, 5] during transform. These unknown categories will be encoded as all zeros\n",
      "  UserWarning,\n",
      "C:\\Users\\maslo\\Anaconda3\\lib\\site-packages\\sklearn\\preprocessing\\_encoders.py:174: UserWarning: Found unknown categories in columns [1, 2, 3, 4] during transform. These unknown categories will be encoded as all zeros\n",
      "  UserWarning,\n",
      "C:\\Users\\maslo\\Anaconda3\\lib\\site-packages\\sklearn\\preprocessing\\_encoders.py:174: UserWarning: Found unknown categories in columns [5] during transform. These unknown categories will be encoded as all zeros\n",
      "  UserWarning,\n",
      "C:\\Users\\maslo\\Anaconda3\\lib\\site-packages\\sklearn\\preprocessing\\_encoders.py:174: UserWarning: Found unknown categories in columns [1, 2, 3, 4] during transform. These unknown categories will be encoded as all zeros\n",
      "  UserWarning,\n",
      "C:\\Users\\maslo\\Anaconda3\\lib\\site-packages\\sklearn\\preprocessing\\_encoders.py:174: UserWarning: Found unknown categories in columns [2, 3, 4] during transform. These unknown categories will be encoded as all zeros\n",
      "  UserWarning,\n",
      "C:\\Users\\maslo\\Anaconda3\\lib\\site-packages\\sklearn\\preprocessing\\_encoders.py:174: UserWarning: Found unknown categories in columns [2] during transform. These unknown categories will be encoded as all zeros\n",
      "  UserWarning,\n",
      "C:\\Users\\maslo\\Anaconda3\\lib\\site-packages\\sklearn\\preprocessing\\_encoders.py:174: UserWarning: Found unknown categories in columns [1, 2, 3, 4] during transform. These unknown categories will be encoded as all zeros\n",
      "  UserWarning,\n"
     ]
    },
    {
     "name": "stdout",
     "output_type": "stream",
     "text": [
      "[0.7342540778664126, 0.645441906653426, 0.7275644307902372, 0.7584425403225806, 0.7069372345445966]\n"
     ]
    },
    {
     "name": "stderr",
     "output_type": "stream",
     "text": [
      "C:\\Users\\maslo\\Anaconda3\\lib\\site-packages\\sklearn\\preprocessing\\_encoders.py:174: UserWarning: Found unknown categories in columns [1, 2, 3, 4] during transform. These unknown categories will be encoded as all zeros\n",
      "  UserWarning,\n",
      "C:\\Users\\maslo\\Anaconda3\\lib\\site-packages\\sklearn\\preprocessing\\_encoders.py:174: UserWarning: Found unknown categories in columns [3, 4, 5] during transform. These unknown categories will be encoded as all zeros\n",
      "  UserWarning,\n",
      "C:\\Users\\maslo\\Anaconda3\\lib\\site-packages\\sklearn\\preprocessing\\_encoders.py:174: UserWarning: Found unknown categories in columns [1, 2, 3, 4] during transform. These unknown categories will be encoded as all zeros\n",
      "  UserWarning,\n",
      "C:\\Users\\maslo\\Anaconda3\\lib\\site-packages\\sklearn\\preprocessing\\_encoders.py:174: UserWarning: Found unknown categories in columns [5] during transform. These unknown categories will be encoded as all zeros\n",
      "  UserWarning,\n",
      "C:\\Users\\maslo\\Anaconda3\\lib\\site-packages\\sklearn\\preprocessing\\_encoders.py:174: UserWarning: Found unknown categories in columns [1, 2, 3, 4] during transform. These unknown categories will be encoded as all zeros\n",
      "  UserWarning,\n",
      "C:\\Users\\maslo\\Anaconda3\\lib\\site-packages\\sklearn\\preprocessing\\_encoders.py:174: UserWarning: Found unknown categories in columns [2, 3, 4] during transform. These unknown categories will be encoded as all zeros\n",
      "  UserWarning,\n",
      "C:\\Users\\maslo\\Anaconda3\\lib\\site-packages\\sklearn\\preprocessing\\_encoders.py:174: UserWarning: Found unknown categories in columns [2] during transform. These unknown categories will be encoded as all zeros\n",
      "  UserWarning,\n",
      "C:\\Users\\maslo\\Anaconda3\\lib\\site-packages\\sklearn\\preprocessing\\_encoders.py:174: UserWarning: Found unknown categories in columns [1, 2, 3, 4] during transform. These unknown categories will be encoded as all zeros\n",
      "  UserWarning,\n"
     ]
    },
    {
     "name": "stdout",
     "output_type": "stream",
     "text": [
      "[0.7194606500773901, 0.6272889771598809, 0.6935654548557775, 0.6871849798387096, 0.6817156939856326]\n"
     ]
    },
    {
     "name": "stderr",
     "output_type": "stream",
     "text": [
      "C:\\Users\\maslo\\Anaconda3\\lib\\site-packages\\sklearn\\preprocessing\\_encoders.py:174: UserWarning: Found unknown categories in columns [1, 2, 3, 4] during transform. These unknown categories will be encoded as all zeros\n",
      "  UserWarning,\n",
      "C:\\Users\\maslo\\Anaconda3\\lib\\site-packages\\sklearn\\preprocessing\\_encoders.py:174: UserWarning: Found unknown categories in columns [3, 4, 5] during transform. These unknown categories will be encoded as all zeros\n",
      "  UserWarning,\n",
      "C:\\Users\\maslo\\Anaconda3\\lib\\site-packages\\sklearn\\preprocessing\\_encoders.py:174: UserWarning: Found unknown categories in columns [1, 2, 3, 4] during transform. These unknown categories will be encoded as all zeros\n",
      "  UserWarning,\n",
      "C:\\Users\\maslo\\Anaconda3\\lib\\site-packages\\sklearn\\preprocessing\\_encoders.py:174: UserWarning: Found unknown categories in columns [5] during transform. These unknown categories will be encoded as all zeros\n",
      "  UserWarning,\n",
      "C:\\Users\\maslo\\Anaconda3\\lib\\site-packages\\sklearn\\preprocessing\\_encoders.py:174: UserWarning: Found unknown categories in columns [1, 2, 3, 4] during transform. These unknown categories will be encoded as all zeros\n",
      "  UserWarning,\n",
      "C:\\Users\\maslo\\Anaconda3\\lib\\site-packages\\sklearn\\preprocessing\\_encoders.py:174: UserWarning: Found unknown categories in columns [2, 3, 4] during transform. These unknown categories will be encoded as all zeros\n",
      "  UserWarning,\n",
      "C:\\Users\\maslo\\Anaconda3\\lib\\site-packages\\sklearn\\preprocessing\\_encoders.py:174: UserWarning: Found unknown categories in columns [2] during transform. These unknown categories will be encoded as all zeros\n",
      "  UserWarning,\n",
      "C:\\Users\\maslo\\Anaconda3\\lib\\site-packages\\sklearn\\preprocessing\\_encoders.py:174: UserWarning: Found unknown categories in columns [1, 2, 3, 4] during transform. These unknown categories will be encoded as all zeros\n",
      "  UserWarning,\n"
     ]
    },
    {
     "name": "stdout",
     "output_type": "stream",
     "text": [
      "[0.7285688772472914, 0.6419463753723933, 0.7122546509643284, 0.7427545362903225, 0.6960830580462483]\n"
     ]
    },
    {
     "name": "stderr",
     "output_type": "stream",
     "text": [
      "C:\\Users\\maslo\\Anaconda3\\lib\\site-packages\\sklearn\\preprocessing\\_encoders.py:174: UserWarning: Found unknown categories in columns [1, 2, 3, 4] during transform. These unknown categories will be encoded as all zeros\n",
      "  UserWarning,\n",
      "C:\\Users\\maslo\\Anaconda3\\lib\\site-packages\\sklearn\\preprocessing\\_encoders.py:174: UserWarning: Found unknown categories in columns [3, 4, 5] during transform. These unknown categories will be encoded as all zeros\n",
      "  UserWarning,\n",
      "C:\\Users\\maslo\\Anaconda3\\lib\\site-packages\\sklearn\\preprocessing\\_encoders.py:174: UserWarning: Found unknown categories in columns [1, 2, 3, 4] during transform. These unknown categories will be encoded as all zeros\n",
      "  UserWarning,\n",
      "C:\\Users\\maslo\\Anaconda3\\lib\\site-packages\\sklearn\\preprocessing\\_encoders.py:174: UserWarning: Found unknown categories in columns [5] during transform. These unknown categories will be encoded as all zeros\n",
      "  UserWarning,\n",
      "C:\\Users\\maslo\\Anaconda3\\lib\\site-packages\\sklearn\\preprocessing\\_encoders.py:174: UserWarning: Found unknown categories in columns [1, 2, 3, 4] during transform. These unknown categories will be encoded as all zeros\n",
      "  UserWarning,\n",
      "C:\\Users\\maslo\\Anaconda3\\lib\\site-packages\\sklearn\\preprocessing\\_encoders.py:174: UserWarning: Found unknown categories in columns [2, 3, 4] during transform. These unknown categories will be encoded as all zeros\n",
      "  UserWarning,\n",
      "C:\\Users\\maslo\\Anaconda3\\lib\\site-packages\\sklearn\\preprocessing\\_encoders.py:174: UserWarning: Found unknown categories in columns [2] during transform. These unknown categories will be encoded as all zeros\n",
      "  UserWarning,\n",
      "C:\\Users\\maslo\\Anaconda3\\lib\\site-packages\\sklearn\\preprocessing\\_encoders.py:174: UserWarning: Found unknown categories in columns [1, 2, 3, 4] during transform. These unknown categories will be encoded as all zeros\n",
      "  UserWarning,\n"
     ]
    },
    {
     "name": "stdout",
     "output_type": "stream",
     "text": [
      "[0.7342540778664126, 0.645441906653426, 0.7275644307902372, 0.7584425403225806, 0.7069372345445966]\n"
     ]
    },
    {
     "name": "stderr",
     "output_type": "stream",
     "text": [
      "C:\\Users\\maslo\\Anaconda3\\lib\\site-packages\\sklearn\\preprocessing\\_encoders.py:174: UserWarning: Found unknown categories in columns [1, 2, 3, 4] during transform. These unknown categories will be encoded as all zeros\n",
      "  UserWarning,\n",
      "C:\\Users\\maslo\\Anaconda3\\lib\\site-packages\\sklearn\\preprocessing\\_encoders.py:174: UserWarning: Found unknown categories in columns [3, 4, 5] during transform. These unknown categories will be encoded as all zeros\n",
      "  UserWarning,\n",
      "C:\\Users\\maslo\\Anaconda3\\lib\\site-packages\\sklearn\\preprocessing\\_encoders.py:174: UserWarning: Found unknown categories in columns [1, 2, 3, 4] during transform. These unknown categories will be encoded as all zeros\n",
      "  UserWarning,\n",
      "C:\\Users\\maslo\\Anaconda3\\lib\\site-packages\\sklearn\\preprocessing\\_encoders.py:174: UserWarning: Found unknown categories in columns [5] during transform. These unknown categories will be encoded as all zeros\n",
      "  UserWarning,\n",
      "C:\\Users\\maslo\\Anaconda3\\lib\\site-packages\\sklearn\\preprocessing\\_encoders.py:174: UserWarning: Found unknown categories in columns [1, 2, 3, 4] during transform. These unknown categories will be encoded as all zeros\n",
      "  UserWarning,\n",
      "C:\\Users\\maslo\\Anaconda3\\lib\\site-packages\\sklearn\\preprocessing\\_encoders.py:174: UserWarning: Found unknown categories in columns [2, 3, 4] during transform. These unknown categories will be encoded as all zeros\n",
      "  UserWarning,\n",
      "C:\\Users\\maslo\\Anaconda3\\lib\\site-packages\\sklearn\\preprocessing\\_encoders.py:174: UserWarning: Found unknown categories in columns [2] during transform. These unknown categories will be encoded as all zeros\n",
      "  UserWarning,\n",
      "C:\\Users\\maslo\\Anaconda3\\lib\\site-packages\\sklearn\\preprocessing\\_encoders.py:174: UserWarning: Found unknown categories in columns [1, 2, 3, 4] during transform. These unknown categories will be encoded as all zeros\n",
      "  UserWarning,\n"
     ]
    },
    {
     "name": "stdout",
     "output_type": "stream",
     "text": [
      "[0.7246398380759613, 0.6324925521350546, 0.6952551629970984, 0.7174899193548386, 0.6877457920402705]\n"
     ]
    },
    {
     "name": "stderr",
     "output_type": "stream",
     "text": [
      "C:\\Users\\maslo\\Anaconda3\\lib\\site-packages\\sklearn\\preprocessing\\_encoders.py:174: UserWarning: Found unknown categories in columns [1, 2, 3, 4] during transform. These unknown categories will be encoded as all zeros\n",
      "  UserWarning,\n",
      "C:\\Users\\maslo\\Anaconda3\\lib\\site-packages\\sklearn\\preprocessing\\_encoders.py:174: UserWarning: Found unknown categories in columns [3, 4, 5] during transform. These unknown categories will be encoded as all zeros\n",
      "  UserWarning,\n",
      "C:\\Users\\maslo\\Anaconda3\\lib\\site-packages\\sklearn\\preprocessing\\_encoders.py:174: UserWarning: Found unknown categories in columns [1, 2, 3, 4] during transform. These unknown categories will be encoded as all zeros\n",
      "  UserWarning,\n",
      "C:\\Users\\maslo\\Anaconda3\\lib\\site-packages\\sklearn\\preprocessing\\_encoders.py:174: UserWarning: Found unknown categories in columns [5] during transform. These unknown categories will be encoded as all zeros\n",
      "  UserWarning,\n",
      "C:\\Users\\maslo\\Anaconda3\\lib\\site-packages\\sklearn\\preprocessing\\_encoders.py:174: UserWarning: Found unknown categories in columns [1, 2, 3, 4] during transform. These unknown categories will be encoded as all zeros\n",
      "  UserWarning,\n",
      "C:\\Users\\maslo\\Anaconda3\\lib\\site-packages\\sklearn\\preprocessing\\_encoders.py:174: UserWarning: Found unknown categories in columns [2, 3, 4] during transform. These unknown categories will be encoded as all zeros\n",
      "  UserWarning,\n",
      "C:\\Users\\maslo\\Anaconda3\\lib\\site-packages\\sklearn\\preprocessing\\_encoders.py:174: UserWarning: Found unknown categories in columns [2] during transform. These unknown categories will be encoded as all zeros\n",
      "  UserWarning,\n",
      "C:\\Users\\maslo\\Anaconda3\\lib\\site-packages\\sklearn\\preprocessing\\_encoders.py:174: UserWarning: Found unknown categories in columns [1, 2, 3, 4] during transform. These unknown categories will be encoded as all zeros\n",
      "  UserWarning,\n"
     ]
    },
    {
     "name": "stdout",
     "output_type": "stream",
     "text": [
      "[0.7285688772472914, 0.6419463753723933, 0.7122546509643284, 0.7427545362903225, 0.6960830580462483]\n"
     ]
    },
    {
     "name": "stderr",
     "output_type": "stream",
     "text": [
      "C:\\Users\\maslo\\Anaconda3\\lib\\site-packages\\sklearn\\preprocessing\\_encoders.py:174: UserWarning: Found unknown categories in columns [1, 2, 3, 4] during transform. These unknown categories will be encoded as all zeros\n",
      "  UserWarning,\n",
      "C:\\Users\\maslo\\Anaconda3\\lib\\site-packages\\sklearn\\preprocessing\\_encoders.py:174: UserWarning: Found unknown categories in columns [3, 4, 5] during transform. These unknown categories will be encoded as all zeros\n",
      "  UserWarning,\n",
      "C:\\Users\\maslo\\Anaconda3\\lib\\site-packages\\sklearn\\preprocessing\\_encoders.py:174: UserWarning: Found unknown categories in columns [1, 2, 3, 4] during transform. These unknown categories will be encoded as all zeros\n",
      "  UserWarning,\n",
      "C:\\Users\\maslo\\Anaconda3\\lib\\site-packages\\sklearn\\preprocessing\\_encoders.py:174: UserWarning: Found unknown categories in columns [5] during transform. These unknown categories will be encoded as all zeros\n",
      "  UserWarning,\n",
      "C:\\Users\\maslo\\Anaconda3\\lib\\site-packages\\sklearn\\preprocessing\\_encoders.py:174: UserWarning: Found unknown categories in columns [1, 2, 3, 4] during transform. These unknown categories will be encoded as all zeros\n",
      "  UserWarning,\n",
      "C:\\Users\\maslo\\Anaconda3\\lib\\site-packages\\sklearn\\preprocessing\\_encoders.py:174: UserWarning: Found unknown categories in columns [2, 3, 4] during transform. These unknown categories will be encoded as all zeros\n",
      "  UserWarning,\n",
      "C:\\Users\\maslo\\Anaconda3\\lib\\site-packages\\sklearn\\preprocessing\\_encoders.py:174: UserWarning: Found unknown categories in columns [2] during transform. These unknown categories will be encoded as all zeros\n",
      "  UserWarning,\n",
      "C:\\Users\\maslo\\Anaconda3\\lib\\site-packages\\sklearn\\preprocessing\\_encoders.py:174: UserWarning: Found unknown categories in columns [1, 2, 3, 4] during transform. These unknown categories will be encoded as all zeros\n",
      "  UserWarning,\n"
     ]
    },
    {
     "name": "stdout",
     "output_type": "stream",
     "text": [
      "[0.7342540778664126, 0.645441906653426, 0.7275644307902372, 0.7584425403225806, 0.7069372345445966]\n"
     ]
    },
    {
     "name": "stderr",
     "output_type": "stream",
     "text": [
      "C:\\Users\\maslo\\Anaconda3\\lib\\site-packages\\sklearn\\preprocessing\\_encoders.py:174: UserWarning: Found unknown categories in columns [1, 2, 3, 4] during transform. These unknown categories will be encoded as all zeros\n",
      "  UserWarning,\n",
      "C:\\Users\\maslo\\Anaconda3\\lib\\site-packages\\sklearn\\preprocessing\\_encoders.py:174: UserWarning: Found unknown categories in columns [3, 4, 5] during transform. These unknown categories will be encoded as all zeros\n",
      "  UserWarning,\n",
      "C:\\Users\\maslo\\Anaconda3\\lib\\site-packages\\sklearn\\preprocessing\\_encoders.py:174: UserWarning: Found unknown categories in columns [1, 2, 3, 4] during transform. These unknown categories will be encoded as all zeros\n",
      "  UserWarning,\n",
      "C:\\Users\\maslo\\Anaconda3\\lib\\site-packages\\sklearn\\preprocessing\\_encoders.py:174: UserWarning: Found unknown categories in columns [5] during transform. These unknown categories will be encoded as all zeros\n",
      "  UserWarning,\n",
      "C:\\Users\\maslo\\Anaconda3\\lib\\site-packages\\sklearn\\preprocessing\\_encoders.py:174: UserWarning: Found unknown categories in columns [1, 2, 3, 4] during transform. These unknown categories will be encoded as all zeros\n",
      "  UserWarning,\n",
      "C:\\Users\\maslo\\Anaconda3\\lib\\site-packages\\sklearn\\preprocessing\\_encoders.py:174: UserWarning: Found unknown categories in columns [2, 3, 4] during transform. These unknown categories will be encoded as all zeros\n",
      "  UserWarning,\n",
      "C:\\Users\\maslo\\Anaconda3\\lib\\site-packages\\sklearn\\preprocessing\\_encoders.py:174: UserWarning: Found unknown categories in columns [2] during transform. These unknown categories will be encoded as all zeros\n",
      "  UserWarning,\n",
      "C:\\Users\\maslo\\Anaconda3\\lib\\site-packages\\sklearn\\preprocessing\\_encoders.py:174: UserWarning: Found unknown categories in columns [1, 2, 3, 4] during transform. These unknown categories will be encoded as all zeros\n",
      "  UserWarning,\n"
     ]
    },
    {
     "name": "stdout",
     "output_type": "stream",
     "text": [
      "[0.7221395404214789, 0.6484210526315789, 0.7204301075268817, 0.7362021169354838, 0.7005925226784122]\n"
     ]
    },
    {
     "name": "stderr",
     "output_type": "stream",
     "text": [
      "C:\\Users\\maslo\\Anaconda3\\lib\\site-packages\\sklearn\\preprocessing\\_encoders.py:174: UserWarning: Found unknown categories in columns [1, 2, 3, 4] during transform. These unknown categories will be encoded as all zeros\n",
      "  UserWarning,\n",
      "C:\\Users\\maslo\\Anaconda3\\lib\\site-packages\\sklearn\\preprocessing\\_encoders.py:174: UserWarning: Found unknown categories in columns [3, 4, 5] during transform. These unknown categories will be encoded as all zeros\n",
      "  UserWarning,\n",
      "C:\\Users\\maslo\\Anaconda3\\lib\\site-packages\\sklearn\\preprocessing\\_encoders.py:174: UserWarning: Found unknown categories in columns [1, 2, 3, 4] during transform. These unknown categories will be encoded as all zeros\n",
      "  UserWarning,\n",
      "C:\\Users\\maslo\\Anaconda3\\lib\\site-packages\\sklearn\\preprocessing\\_encoders.py:174: UserWarning: Found unknown categories in columns [5] during transform. These unknown categories will be encoded as all zeros\n",
      "  UserWarning,\n",
      "C:\\Users\\maslo\\Anaconda3\\lib\\site-packages\\sklearn\\preprocessing\\_encoders.py:174: UserWarning: Found unknown categories in columns [1, 2, 3, 4] during transform. These unknown categories will be encoded as all zeros\n",
      "  UserWarning,\n",
      "C:\\Users\\maslo\\Anaconda3\\lib\\site-packages\\sklearn\\preprocessing\\_encoders.py:174: UserWarning: Found unknown categories in columns [2, 3, 4] during transform. These unknown categories will be encoded as all zeros\n",
      "  UserWarning,\n",
      "C:\\Users\\maslo\\Anaconda3\\lib\\site-packages\\sklearn\\preprocessing\\_encoders.py:174: UserWarning: Found unknown categories in columns [2] during transform. These unknown categories will be encoded as all zeros\n",
      "  UserWarning,\n",
      "C:\\Users\\maslo\\Anaconda3\\lib\\site-packages\\sklearn\\preprocessing\\_encoders.py:174: UserWarning: Found unknown categories in columns [1, 2, 3, 4] during transform. These unknown categories will be encoded as all zeros\n",
      "  UserWarning,\n"
     ]
    },
    {
     "name": "stdout",
     "output_type": "stream",
     "text": [
      "[0.7292237171091798, 0.6474280039721946, 0.7231950844854069, 0.7465977822580645, 0.7019034135598553]\n"
     ]
    },
    {
     "name": "stderr",
     "output_type": "stream",
     "text": [
      "C:\\Users\\maslo\\Anaconda3\\lib\\site-packages\\sklearn\\preprocessing\\_encoders.py:174: UserWarning: Found unknown categories in columns [1, 2, 3, 4] during transform. These unknown categories will be encoded as all zeros\n",
      "  UserWarning,\n",
      "C:\\Users\\maslo\\Anaconda3\\lib\\site-packages\\sklearn\\preprocessing\\_encoders.py:174: UserWarning: Found unknown categories in columns [3, 4, 5] during transform. These unknown categories will be encoded as all zeros\n",
      "  UserWarning,\n",
      "C:\\Users\\maslo\\Anaconda3\\lib\\site-packages\\sklearn\\preprocessing\\_encoders.py:174: UserWarning: Found unknown categories in columns [1, 2, 3, 4] during transform. These unknown categories will be encoded as all zeros\n",
      "  UserWarning,\n",
      "C:\\Users\\maslo\\Anaconda3\\lib\\site-packages\\sklearn\\preprocessing\\_encoders.py:174: UserWarning: Found unknown categories in columns [5] during transform. These unknown categories will be encoded as all zeros\n",
      "  UserWarning,\n",
      "C:\\Users\\maslo\\Anaconda3\\lib\\site-packages\\sklearn\\preprocessing\\_encoders.py:174: UserWarning: Found unknown categories in columns [1, 2, 3, 4] during transform. These unknown categories will be encoded as all zeros\n",
      "  UserWarning,\n",
      "C:\\Users\\maslo\\Anaconda3\\lib\\site-packages\\sklearn\\preprocessing\\_encoders.py:174: UserWarning: Found unknown categories in columns [2, 3, 4] during transform. These unknown categories will be encoded as all zeros\n",
      "  UserWarning,\n",
      "C:\\Users\\maslo\\Anaconda3\\lib\\site-packages\\sklearn\\preprocessing\\_encoders.py:174: UserWarning: Found unknown categories in columns [2] during transform. These unknown categories will be encoded as all zeros\n",
      "  UserWarning,\n",
      "C:\\Users\\maslo\\Anaconda3\\lib\\site-packages\\sklearn\\preprocessing\\_encoders.py:174: UserWarning: Found unknown categories in columns [1, 2, 3, 4] during transform. These unknown categories will be encoded as all zeros\n",
      "  UserWarning,\n"
     ]
    },
    {
     "name": "stdout",
     "output_type": "stream",
     "text": [
      "[0.7266638885581617, 0.650446871896723, 0.7280081925243215, 0.7484879032258065, 0.7052068585810917]\n"
     ]
    },
    {
     "name": "stderr",
     "output_type": "stream",
     "text": [
      "C:\\Users\\maslo\\Anaconda3\\lib\\site-packages\\sklearn\\preprocessing\\_encoders.py:174: UserWarning: Found unknown categories in columns [1, 2, 3, 4] during transform. These unknown categories will be encoded as all zeros\n",
      "  UserWarning,\n",
      "C:\\Users\\maslo\\Anaconda3\\lib\\site-packages\\sklearn\\preprocessing\\_encoders.py:174: UserWarning: Found unknown categories in columns [3, 4, 5] during transform. These unknown categories will be encoded as all zeros\n",
      "  UserWarning,\n",
      "C:\\Users\\maslo\\Anaconda3\\lib\\site-packages\\sklearn\\preprocessing\\_encoders.py:174: UserWarning: Found unknown categories in columns [1, 2, 3, 4] during transform. These unknown categories will be encoded as all zeros\n",
      "  UserWarning,\n",
      "C:\\Users\\maslo\\Anaconda3\\lib\\site-packages\\sklearn\\preprocessing\\_encoders.py:174: UserWarning: Found unknown categories in columns [5] during transform. These unknown categories will be encoded as all zeros\n",
      "  UserWarning,\n",
      "C:\\Users\\maslo\\Anaconda3\\lib\\site-packages\\sklearn\\preprocessing\\_encoders.py:174: UserWarning: Found unknown categories in columns [1, 2, 3, 4] during transform. These unknown categories will be encoded as all zeros\n",
      "  UserWarning,\n",
      "C:\\Users\\maslo\\Anaconda3\\lib\\site-packages\\sklearn\\preprocessing\\_encoders.py:174: UserWarning: Found unknown categories in columns [2, 3, 4] during transform. These unknown categories will be encoded as all zeros\n",
      "  UserWarning,\n",
      "C:\\Users\\maslo\\Anaconda3\\lib\\site-packages\\sklearn\\preprocessing\\_encoders.py:174: UserWarning: Found unknown categories in columns [2] during transform. These unknown categories will be encoded as all zeros\n",
      "  UserWarning,\n",
      "C:\\Users\\maslo\\Anaconda3\\lib\\site-packages\\sklearn\\preprocessing\\_encoders.py:174: UserWarning: Found unknown categories in columns [1, 2, 3, 4] during transform. These unknown categories will be encoded as all zeros\n",
      "  UserWarning,\n"
     ]
    },
    {
     "name": "stdout",
     "output_type": "stream",
     "text": [
      "[0.7198773663531374, 0.6464746772591857, 0.7252090800477897, 0.7432585685483871, 0.708720046143359]\n"
     ]
    },
    {
     "name": "stderr",
     "output_type": "stream",
     "text": [
      "C:\\Users\\maslo\\Anaconda3\\lib\\site-packages\\sklearn\\preprocessing\\_encoders.py:174: UserWarning: Found unknown categories in columns [1, 2, 3, 4] during transform. These unknown categories will be encoded as all zeros\n",
      "  UserWarning,\n",
      "C:\\Users\\maslo\\Anaconda3\\lib\\site-packages\\sklearn\\preprocessing\\_encoders.py:174: UserWarning: Found unknown categories in columns [3, 4, 5] during transform. These unknown categories will be encoded as all zeros\n",
      "  UserWarning,\n",
      "C:\\Users\\maslo\\Anaconda3\\lib\\site-packages\\sklearn\\preprocessing\\_encoders.py:174: UserWarning: Found unknown categories in columns [1, 2, 3, 4] during transform. These unknown categories will be encoded as all zeros\n",
      "  UserWarning,\n",
      "C:\\Users\\maslo\\Anaconda3\\lib\\site-packages\\sklearn\\preprocessing\\_encoders.py:174: UserWarning: Found unknown categories in columns [5] during transform. These unknown categories will be encoded as all zeros\n",
      "  UserWarning,\n",
      "C:\\Users\\maslo\\Anaconda3\\lib\\site-packages\\sklearn\\preprocessing\\_encoders.py:174: UserWarning: Found unknown categories in columns [1, 2, 3, 4] during transform. These unknown categories will be encoded as all zeros\n",
      "  UserWarning,\n",
      "C:\\Users\\maslo\\Anaconda3\\lib\\site-packages\\sklearn\\preprocessing\\_encoders.py:174: UserWarning: Found unknown categories in columns [2, 3, 4] during transform. These unknown categories will be encoded as all zeros\n",
      "  UserWarning,\n",
      "C:\\Users\\maslo\\Anaconda3\\lib\\site-packages\\sklearn\\preprocessing\\_encoders.py:174: UserWarning: Found unknown categories in columns [2] during transform. These unknown categories will be encoded as all zeros\n",
      "  UserWarning,\n",
      "C:\\Users\\maslo\\Anaconda3\\lib\\site-packages\\sklearn\\preprocessing\\_encoders.py:174: UserWarning: Found unknown categories in columns [1, 2, 3, 4] during transform. These unknown categories will be encoded as all zeros\n",
      "  UserWarning,\n"
     ]
    },
    {
     "name": "stdout",
     "output_type": "stream",
     "text": [
      "[0.7292237171091798, 0.6474280039721946, 0.7231950844854069, 0.7465977822580645, 0.7019034135598553]\n"
     ]
    },
    {
     "name": "stderr",
     "output_type": "stream",
     "text": [
      "C:\\Users\\maslo\\Anaconda3\\lib\\site-packages\\sklearn\\preprocessing\\_encoders.py:174: UserWarning: Found unknown categories in columns [1, 2, 3, 4] during transform. These unknown categories will be encoded as all zeros\n",
      "  UserWarning,\n",
      "C:\\Users\\maslo\\Anaconda3\\lib\\site-packages\\sklearn\\preprocessing\\_encoders.py:174: UserWarning: Found unknown categories in columns [3, 4, 5] during transform. These unknown categories will be encoded as all zeros\n",
      "  UserWarning,\n",
      "C:\\Users\\maslo\\Anaconda3\\lib\\site-packages\\sklearn\\preprocessing\\_encoders.py:174: UserWarning: Found unknown categories in columns [1, 2, 3, 4] during transform. These unknown categories will be encoded as all zeros\n",
      "  UserWarning,\n",
      "C:\\Users\\maslo\\Anaconda3\\lib\\site-packages\\sklearn\\preprocessing\\_encoders.py:174: UserWarning: Found unknown categories in columns [5] during transform. These unknown categories will be encoded as all zeros\n",
      "  UserWarning,\n",
      "C:\\Users\\maslo\\Anaconda3\\lib\\site-packages\\sklearn\\preprocessing\\_encoders.py:174: UserWarning: Found unknown categories in columns [1, 2, 3, 4] during transform. These unknown categories will be encoded as all zeros\n",
      "  UserWarning,\n",
      "C:\\Users\\maslo\\Anaconda3\\lib\\site-packages\\sklearn\\preprocessing\\_encoders.py:174: UserWarning: Found unknown categories in columns [2, 3, 4] during transform. These unknown categories will be encoded as all zeros\n",
      "  UserWarning,\n",
      "C:\\Users\\maslo\\Anaconda3\\lib\\site-packages\\sklearn\\preprocessing\\_encoders.py:174: UserWarning: Found unknown categories in columns [2] during transform. These unknown categories will be encoded as all zeros\n",
      "  UserWarning,\n",
      "C:\\Users\\maslo\\Anaconda3\\lib\\site-packages\\sklearn\\preprocessing\\_encoders.py:174: UserWarning: Found unknown categories in columns [1, 2, 3, 4] during transform. These unknown categories will be encoded as all zeros\n",
      "  UserWarning,\n"
     ]
    },
    {
     "name": "stdout",
     "output_type": "stream",
     "text": [
      "[0.7266638885581617, 0.650446871896723, 0.7280081925243215, 0.7484879032258065, 0.7052068585810917]\n"
     ]
    },
    {
     "name": "stderr",
     "output_type": "stream",
     "text": [
      "C:\\Users\\maslo\\Anaconda3\\lib\\site-packages\\sklearn\\preprocessing\\_encoders.py:174: UserWarning: Found unknown categories in columns [1, 2, 3, 4] during transform. These unknown categories will be encoded as all zeros\n",
      "  UserWarning,\n",
      "C:\\Users\\maslo\\Anaconda3\\lib\\site-packages\\sklearn\\preprocessing\\_encoders.py:174: UserWarning: Found unknown categories in columns [3, 4, 5] during transform. These unknown categories will be encoded as all zeros\n",
      "  UserWarning,\n",
      "C:\\Users\\maslo\\Anaconda3\\lib\\site-packages\\sklearn\\preprocessing\\_encoders.py:174: UserWarning: Found unknown categories in columns [1, 2, 3, 4] during transform. These unknown categories will be encoded as all zeros\n",
      "  UserWarning,\n",
      "C:\\Users\\maslo\\Anaconda3\\lib\\site-packages\\sklearn\\preprocessing\\_encoders.py:174: UserWarning: Found unknown categories in columns [5] during transform. These unknown categories will be encoded as all zeros\n",
      "  UserWarning,\n",
      "C:\\Users\\maslo\\Anaconda3\\lib\\site-packages\\sklearn\\preprocessing\\_encoders.py:174: UserWarning: Found unknown categories in columns [1, 2, 3, 4] during transform. These unknown categories will be encoded as all zeros\n",
      "  UserWarning,\n",
      "C:\\Users\\maslo\\Anaconda3\\lib\\site-packages\\sklearn\\preprocessing\\_encoders.py:174: UserWarning: Found unknown categories in columns [2, 3, 4] during transform. These unknown categories will be encoded as all zeros\n",
      "  UserWarning,\n",
      "C:\\Users\\maslo\\Anaconda3\\lib\\site-packages\\sklearn\\preprocessing\\_encoders.py:174: UserWarning: Found unknown categories in columns [2] during transform. These unknown categories will be encoded as all zeros\n",
      "  UserWarning,\n",
      "C:\\Users\\maslo\\Anaconda3\\lib\\site-packages\\sklearn\\preprocessing\\_encoders.py:174: UserWarning: Found unknown categories in columns [1, 2, 3, 4] during transform. These unknown categories will be encoded as all zeros\n",
      "  UserWarning,\n"
     ]
    },
    {
     "name": "stdout",
     "output_type": "stream",
     "text": [
      "[0.7202345517323491, 0.6434558093346574, 0.7251749445297833, 0.7403603830645162, 0.7013266215720203]\n"
     ]
    },
    {
     "name": "stderr",
     "output_type": "stream",
     "text": [
      "C:\\Users\\maslo\\Anaconda3\\lib\\site-packages\\sklearn\\preprocessing\\_encoders.py:174: UserWarning: Found unknown categories in columns [1, 2, 3, 4] during transform. These unknown categories will be encoded as all zeros\n",
      "  UserWarning,\n",
      "C:\\Users\\maslo\\Anaconda3\\lib\\site-packages\\sklearn\\preprocessing\\_encoders.py:174: UserWarning: Found unknown categories in columns [3, 4, 5] during transform. These unknown categories will be encoded as all zeros\n",
      "  UserWarning,\n",
      "C:\\Users\\maslo\\Anaconda3\\lib\\site-packages\\sklearn\\preprocessing\\_encoders.py:174: UserWarning: Found unknown categories in columns [1, 2, 3, 4] during transform. These unknown categories will be encoded as all zeros\n",
      "  UserWarning,\n",
      "C:\\Users\\maslo\\Anaconda3\\lib\\site-packages\\sklearn\\preprocessing\\_encoders.py:174: UserWarning: Found unknown categories in columns [5] during transform. These unknown categories will be encoded as all zeros\n",
      "  UserWarning,\n",
      "C:\\Users\\maslo\\Anaconda3\\lib\\site-packages\\sklearn\\preprocessing\\_encoders.py:174: UserWarning: Found unknown categories in columns [1, 2, 3, 4] during transform. These unknown categories will be encoded as all zeros\n",
      "  UserWarning,\n",
      "C:\\Users\\maslo\\Anaconda3\\lib\\site-packages\\sklearn\\preprocessing\\_encoders.py:174: UserWarning: Found unknown categories in columns [2, 3, 4] during transform. These unknown categories will be encoded as all zeros\n",
      "  UserWarning,\n",
      "C:\\Users\\maslo\\Anaconda3\\lib\\site-packages\\sklearn\\preprocessing\\_encoders.py:174: UserWarning: Found unknown categories in columns [2] during transform. These unknown categories will be encoded as all zeros\n",
      "  UserWarning,\n",
      "C:\\Users\\maslo\\Anaconda3\\lib\\site-packages\\sklearn\\preprocessing\\_encoders.py:174: UserWarning: Found unknown categories in columns [1, 2, 3, 4] during transform. These unknown categories will be encoded as all zeros\n",
      "  UserWarning,\n"
     ]
    },
    {
     "name": "stdout",
     "output_type": "stream",
     "text": [
      "[0.7292237171091798, 0.6474280039721946, 0.7231950844854069, 0.7465977822580645, 0.7019034135598553]\n"
     ]
    },
    {
     "name": "stderr",
     "output_type": "stream",
     "text": [
      "C:\\Users\\maslo\\Anaconda3\\lib\\site-packages\\sklearn\\preprocessing\\_encoders.py:174: UserWarning: Found unknown categories in columns [1, 2, 3, 4] during transform. These unknown categories will be encoded as all zeros\n",
      "  UserWarning,\n",
      "C:\\Users\\maslo\\Anaconda3\\lib\\site-packages\\sklearn\\preprocessing\\_encoders.py:174: UserWarning: Found unknown categories in columns [3, 4, 5] during transform. These unknown categories will be encoded as all zeros\n",
      "  UserWarning,\n",
      "C:\\Users\\maslo\\Anaconda3\\lib\\site-packages\\sklearn\\preprocessing\\_encoders.py:174: UserWarning: Found unknown categories in columns [1, 2, 3, 4] during transform. These unknown categories will be encoded as all zeros\n",
      "  UserWarning,\n",
      "C:\\Users\\maslo\\Anaconda3\\lib\\site-packages\\sklearn\\preprocessing\\_encoders.py:174: UserWarning: Found unknown categories in columns [5] during transform. These unknown categories will be encoded as all zeros\n",
      "  UserWarning,\n",
      "C:\\Users\\maslo\\Anaconda3\\lib\\site-packages\\sklearn\\preprocessing\\_encoders.py:174: UserWarning: Found unknown categories in columns [1, 2, 3, 4] during transform. These unknown categories will be encoded as all zeros\n",
      "  UserWarning,\n",
      "C:\\Users\\maslo\\Anaconda3\\lib\\site-packages\\sklearn\\preprocessing\\_encoders.py:174: UserWarning: Found unknown categories in columns [2, 3, 4] during transform. These unknown categories will be encoded as all zeros\n",
      "  UserWarning,\n",
      "C:\\Users\\maslo\\Anaconda3\\lib\\site-packages\\sklearn\\preprocessing\\_encoders.py:174: UserWarning: Found unknown categories in columns [2] during transform. These unknown categories will be encoded as all zeros\n",
      "  UserWarning,\n",
      "C:\\Users\\maslo\\Anaconda3\\lib\\site-packages\\sklearn\\preprocessing\\_encoders.py:174: UserWarning: Found unknown categories in columns [1, 2, 3, 4] during transform. These unknown categories will be encoded as all zeros\n",
      "  UserWarning,\n"
     ]
    },
    {
     "name": "stdout",
     "output_type": "stream",
     "text": [
      "[0.7266638885581617, 0.650446871896723, 0.7280081925243215, 0.7484879032258065, 0.7052068585810917]\n"
     ]
    },
    {
     "name": "stderr",
     "output_type": "stream",
     "text": [
      "C:\\Users\\maslo\\Anaconda3\\lib\\site-packages\\sklearn\\preprocessing\\_encoders.py:174: UserWarning: Found unknown categories in columns [1, 2, 3, 4] during transform. These unknown categories will be encoded as all zeros\n",
      "  UserWarning,\n",
      "C:\\Users\\maslo\\Anaconda3\\lib\\site-packages\\sklearn\\preprocessing\\_encoders.py:174: UserWarning: Found unknown categories in columns [3, 4, 5] during transform. These unknown categories will be encoded as all zeros\n",
      "  UserWarning,\n",
      "C:\\Users\\maslo\\Anaconda3\\lib\\site-packages\\sklearn\\preprocessing\\_encoders.py:174: UserWarning: Found unknown categories in columns [1, 2, 3, 4] during transform. These unknown categories will be encoded as all zeros\n",
      "  UserWarning,\n",
      "C:\\Users\\maslo\\Anaconda3\\lib\\site-packages\\sklearn\\preprocessing\\_encoders.py:174: UserWarning: Found unknown categories in columns [5] during transform. These unknown categories will be encoded as all zeros\n",
      "  UserWarning,\n",
      "C:\\Users\\maslo\\Anaconda3\\lib\\site-packages\\sklearn\\preprocessing\\_encoders.py:174: UserWarning: Found unknown categories in columns [1, 2, 3, 4] during transform. These unknown categories will be encoded as all zeros\n",
      "  UserWarning,\n",
      "C:\\Users\\maslo\\Anaconda3\\lib\\site-packages\\sklearn\\preprocessing\\_encoders.py:174: UserWarning: Found unknown categories in columns [2, 3, 4] during transform. These unknown categories will be encoded as all zeros\n",
      "  UserWarning,\n",
      "C:\\Users\\maslo\\Anaconda3\\lib\\site-packages\\sklearn\\preprocessing\\_encoders.py:174: UserWarning: Found unknown categories in columns [2] during transform. These unknown categories will be encoded as all zeros\n",
      "  UserWarning,\n",
      "C:\\Users\\maslo\\Anaconda3\\lib\\site-packages\\sklearn\\preprocessing\\_encoders.py:174: UserWarning: Found unknown categories in columns [1, 2, 3, 4] during transform. These unknown categories will be encoded as all zeros\n",
      "  UserWarning,\n"
     ]
    },
    {
     "name": "stdout",
     "output_type": "stream",
     "text": [
      "[0.7226157875937611, 0.6213306852035749, 0.6907663423792456, 0.7210181451612903, 0.6926223061192386]\n"
     ]
    },
    {
     "name": "stderr",
     "output_type": "stream",
     "text": [
      "C:\\Users\\maslo\\Anaconda3\\lib\\site-packages\\sklearn\\preprocessing\\_encoders.py:174: UserWarning: Found unknown categories in columns [1, 2, 3, 4] during transform. These unknown categories will be encoded as all zeros\n",
      "  UserWarning,\n",
      "C:\\Users\\maslo\\Anaconda3\\lib\\site-packages\\sklearn\\preprocessing\\_encoders.py:174: UserWarning: Found unknown categories in columns [3, 4, 5] during transform. These unknown categories will be encoded as all zeros\n",
      "  UserWarning,\n",
      "C:\\Users\\maslo\\Anaconda3\\lib\\site-packages\\sklearn\\preprocessing\\_encoders.py:174: UserWarning: Found unknown categories in columns [1, 2, 3, 4] during transform. These unknown categories will be encoded as all zeros\n",
      "  UserWarning,\n",
      "C:\\Users\\maslo\\Anaconda3\\lib\\site-packages\\sklearn\\preprocessing\\_encoders.py:174: UserWarning: Found unknown categories in columns [5] during transform. These unknown categories will be encoded as all zeros\n",
      "  UserWarning,\n",
      "C:\\Users\\maslo\\Anaconda3\\lib\\site-packages\\sklearn\\preprocessing\\_encoders.py:174: UserWarning: Found unknown categories in columns [1, 2, 3, 4] during transform. These unknown categories will be encoded as all zeros\n",
      "  UserWarning,\n",
      "C:\\Users\\maslo\\Anaconda3\\lib\\site-packages\\sklearn\\preprocessing\\_encoders.py:174: UserWarning: Found unknown categories in columns [2, 3, 4] during transform. These unknown categories will be encoded as all zeros\n",
      "  UserWarning,\n",
      "C:\\Users\\maslo\\Anaconda3\\lib\\site-packages\\sklearn\\preprocessing\\_encoders.py:174: UserWarning: Found unknown categories in columns [2] during transform. These unknown categories will be encoded as all zeros\n",
      "  UserWarning,\n",
      "C:\\Users\\maslo\\Anaconda3\\lib\\site-packages\\sklearn\\preprocessing\\_encoders.py:174: UserWarning: Found unknown categories in columns [1, 2, 3, 4] during transform. These unknown categories will be encoded as all zeros\n",
      "  UserWarning,\n"
     ]
    },
    {
     "name": "stdout",
     "output_type": "stream",
     "text": [
      "[0.7282712227646149, 0.6384905660377358, 0.7200887523468168, 0.7474798387096775, 0.7014314928425358]\n"
     ]
    },
    {
     "name": "stderr",
     "output_type": "stream",
     "text": [
      "C:\\Users\\maslo\\Anaconda3\\lib\\site-packages\\sklearn\\preprocessing\\_encoders.py:174: UserWarning: Found unknown categories in columns [1, 2, 3, 4] during transform. These unknown categories will be encoded as all zeros\n",
      "  UserWarning,\n",
      "C:\\Users\\maslo\\Anaconda3\\lib\\site-packages\\sklearn\\preprocessing\\_encoders.py:174: UserWarning: Found unknown categories in columns [3, 4, 5] during transform. These unknown categories will be encoded as all zeros\n",
      "  UserWarning,\n",
      "C:\\Users\\maslo\\Anaconda3\\lib\\site-packages\\sklearn\\preprocessing\\_encoders.py:174: UserWarning: Found unknown categories in columns [1, 2, 3, 4] during transform. These unknown categories will be encoded as all zeros\n",
      "  UserWarning,\n",
      "C:\\Users\\maslo\\Anaconda3\\lib\\site-packages\\sklearn\\preprocessing\\_encoders.py:174: UserWarning: Found unknown categories in columns [5] during transform. These unknown categories will be encoded as all zeros\n",
      "  UserWarning,\n",
      "C:\\Users\\maslo\\Anaconda3\\lib\\site-packages\\sklearn\\preprocessing\\_encoders.py:174: UserWarning: Found unknown categories in columns [1, 2, 3, 4] during transform. These unknown categories will be encoded as all zeros\n",
      "  UserWarning,\n",
      "C:\\Users\\maslo\\Anaconda3\\lib\\site-packages\\sklearn\\preprocessing\\_encoders.py:174: UserWarning: Found unknown categories in columns [2, 3, 4] during transform. These unknown categories will be encoded as all zeros\n",
      "  UserWarning,\n",
      "C:\\Users\\maslo\\Anaconda3\\lib\\site-packages\\sklearn\\preprocessing\\_encoders.py:174: UserWarning: Found unknown categories in columns [2] during transform. These unknown categories will be encoded as all zeros\n",
      "  UserWarning,\n",
      "C:\\Users\\maslo\\Anaconda3\\lib\\site-packages\\sklearn\\preprocessing\\_encoders.py:174: UserWarning: Found unknown categories in columns [1, 2, 3, 4] during transform. These unknown categories will be encoded as all zeros\n",
      "  UserWarning,\n"
     ]
    },
    {
     "name": "stdout",
     "output_type": "stream",
     "text": [
      "[0.7356232884867246, 0.642025819265144, 0.7331967912613073, 0.7535282258064516, 0.7073042839914006]\n"
     ]
    },
    {
     "name": "stderr",
     "output_type": "stream",
     "text": [
      "C:\\Users\\maslo\\Anaconda3\\lib\\site-packages\\sklearn\\preprocessing\\_encoders.py:174: UserWarning: Found unknown categories in columns [1, 2, 3, 4] during transform. These unknown categories will be encoded as all zeros\n",
      "  UserWarning,\n",
      "C:\\Users\\maslo\\Anaconda3\\lib\\site-packages\\sklearn\\preprocessing\\_encoders.py:174: UserWarning: Found unknown categories in columns [3, 4, 5] during transform. These unknown categories will be encoded as all zeros\n",
      "  UserWarning,\n",
      "C:\\Users\\maslo\\Anaconda3\\lib\\site-packages\\sklearn\\preprocessing\\_encoders.py:174: UserWarning: Found unknown categories in columns [1, 2, 3, 4] during transform. These unknown categories will be encoded as all zeros\n",
      "  UserWarning,\n",
      "C:\\Users\\maslo\\Anaconda3\\lib\\site-packages\\sklearn\\preprocessing\\_encoders.py:174: UserWarning: Found unknown categories in columns [5] during transform. These unknown categories will be encoded as all zeros\n",
      "  UserWarning,\n",
      "C:\\Users\\maslo\\Anaconda3\\lib\\site-packages\\sklearn\\preprocessing\\_encoders.py:174: UserWarning: Found unknown categories in columns [1, 2, 3, 4] during transform. These unknown categories will be encoded as all zeros\n",
      "  UserWarning,\n",
      "C:\\Users\\maslo\\Anaconda3\\lib\\site-packages\\sklearn\\preprocessing\\_encoders.py:174: UserWarning: Found unknown categories in columns [2, 3, 4] during transform. These unknown categories will be encoded as all zeros\n",
      "  UserWarning,\n",
      "C:\\Users\\maslo\\Anaconda3\\lib\\site-packages\\sklearn\\preprocessing\\_encoders.py:174: UserWarning: Found unknown categories in columns [2] during transform. These unknown categories will be encoded as all zeros\n",
      "  UserWarning,\n",
      "C:\\Users\\maslo\\Anaconda3\\lib\\site-packages\\sklearn\\preprocessing\\_encoders.py:174: UserWarning: Found unknown categories in columns [1, 2, 3, 4] during transform. These unknown categories will be encoded as all zeros\n",
      "  UserWarning,\n"
     ]
    },
    {
     "name": "stdout",
     "output_type": "stream",
     "text": [
      "[0.7232408620073818, 0.6346772591857001, 0.7079023724185015, 0.7215221774193548, 0.693880761365424]\n"
     ]
    },
    {
     "name": "stderr",
     "output_type": "stream",
     "text": [
      "C:\\Users\\maslo\\Anaconda3\\lib\\site-packages\\sklearn\\preprocessing\\_encoders.py:174: UserWarning: Found unknown categories in columns [1, 2, 3, 4] during transform. These unknown categories will be encoded as all zeros\n",
      "  UserWarning,\n",
      "C:\\Users\\maslo\\Anaconda3\\lib\\site-packages\\sklearn\\preprocessing\\_encoders.py:174: UserWarning: Found unknown categories in columns [3, 4, 5] during transform. These unknown categories will be encoded as all zeros\n",
      "  UserWarning,\n",
      "C:\\Users\\maslo\\Anaconda3\\lib\\site-packages\\sklearn\\preprocessing\\_encoders.py:174: UserWarning: Found unknown categories in columns [1, 2, 3, 4] during transform. These unknown categories will be encoded as all zeros\n",
      "  UserWarning,\n",
      "C:\\Users\\maslo\\Anaconda3\\lib\\site-packages\\sklearn\\preprocessing\\_encoders.py:174: UserWarning: Found unknown categories in columns [5] during transform. These unknown categories will be encoded as all zeros\n",
      "  UserWarning,\n",
      "C:\\Users\\maslo\\Anaconda3\\lib\\site-packages\\sklearn\\preprocessing\\_encoders.py:174: UserWarning: Found unknown categories in columns [1, 2, 3, 4] during transform. These unknown categories will be encoded as all zeros\n",
      "  UserWarning,\n",
      "C:\\Users\\maslo\\Anaconda3\\lib\\site-packages\\sklearn\\preprocessing\\_encoders.py:174: UserWarning: Found unknown categories in columns [2, 3, 4] during transform. These unknown categories will be encoded as all zeros\n",
      "  UserWarning,\n",
      "C:\\Users\\maslo\\Anaconda3\\lib\\site-packages\\sklearn\\preprocessing\\_encoders.py:174: UserWarning: Found unknown categories in columns [2] during transform. These unknown categories will be encoded as all zeros\n",
      "  UserWarning,\n",
      "C:\\Users\\maslo\\Anaconda3\\lib\\site-packages\\sklearn\\preprocessing\\_encoders.py:174: UserWarning: Found unknown categories in columns [1, 2, 3, 4] during transform. These unknown categories will be encoded as all zeros\n",
      "  UserWarning,\n"
     ]
    },
    {
     "name": "stdout",
     "output_type": "stream",
     "text": [
      "[0.7282712227646149, 0.6384905660377358, 0.7200887523468168, 0.7474798387096775, 0.7014314928425358]\n"
     ]
    },
    {
     "name": "stderr",
     "output_type": "stream",
     "text": [
      "C:\\Users\\maslo\\Anaconda3\\lib\\site-packages\\sklearn\\preprocessing\\_encoders.py:174: UserWarning: Found unknown categories in columns [1, 2, 3, 4] during transform. These unknown categories will be encoded as all zeros\n",
      "  UserWarning,\n",
      "C:\\Users\\maslo\\Anaconda3\\lib\\site-packages\\sklearn\\preprocessing\\_encoders.py:174: UserWarning: Found unknown categories in columns [3, 4, 5] during transform. These unknown categories will be encoded as all zeros\n",
      "  UserWarning,\n",
      "C:\\Users\\maslo\\Anaconda3\\lib\\site-packages\\sklearn\\preprocessing\\_encoders.py:174: UserWarning: Found unknown categories in columns [1, 2, 3, 4] during transform. These unknown categories will be encoded as all zeros\n",
      "  UserWarning,\n",
      "C:\\Users\\maslo\\Anaconda3\\lib\\site-packages\\sklearn\\preprocessing\\_encoders.py:174: UserWarning: Found unknown categories in columns [5] during transform. These unknown categories will be encoded as all zeros\n",
      "  UserWarning,\n",
      "C:\\Users\\maslo\\Anaconda3\\lib\\site-packages\\sklearn\\preprocessing\\_encoders.py:174: UserWarning: Found unknown categories in columns [1, 2, 3, 4] during transform. These unknown categories will be encoded as all zeros\n",
      "  UserWarning,\n",
      "C:\\Users\\maslo\\Anaconda3\\lib\\site-packages\\sklearn\\preprocessing\\_encoders.py:174: UserWarning: Found unknown categories in columns [2, 3, 4] during transform. These unknown categories will be encoded as all zeros\n",
      "  UserWarning,\n",
      "C:\\Users\\maslo\\Anaconda3\\lib\\site-packages\\sklearn\\preprocessing\\_encoders.py:174: UserWarning: Found unknown categories in columns [2] during transform. These unknown categories will be encoded as all zeros\n",
      "  UserWarning,\n",
      "C:\\Users\\maslo\\Anaconda3\\lib\\site-packages\\sklearn\\preprocessing\\_encoders.py:174: UserWarning: Found unknown categories in columns [1, 2, 3, 4] during transform. These unknown categories will be encoded as all zeros\n",
      "  UserWarning,\n"
     ]
    },
    {
     "name": "stdout",
     "output_type": "stream",
     "text": [
      "[0.7356232884867246, 0.642025819265144, 0.7331967912613073, 0.7535282258064516, 0.7073042839914006]\n"
     ]
    },
    {
     "name": "stderr",
     "output_type": "stream",
     "text": [
      "C:\\Users\\maslo\\Anaconda3\\lib\\site-packages\\sklearn\\preprocessing\\_encoders.py:174: UserWarning: Found unknown categories in columns [1, 2, 3, 4] during transform. These unknown categories will be encoded as all zeros\n",
      "  UserWarning,\n",
      "C:\\Users\\maslo\\Anaconda3\\lib\\site-packages\\sklearn\\preprocessing\\_encoders.py:174: UserWarning: Found unknown categories in columns [3, 4, 5] during transform. These unknown categories will be encoded as all zeros\n",
      "  UserWarning,\n",
      "C:\\Users\\maslo\\Anaconda3\\lib\\site-packages\\sklearn\\preprocessing\\_encoders.py:174: UserWarning: Found unknown categories in columns [1, 2, 3, 4] during transform. These unknown categories will be encoded as all zeros\n",
      "  UserWarning,\n",
      "C:\\Users\\maslo\\Anaconda3\\lib\\site-packages\\sklearn\\preprocessing\\_encoders.py:174: UserWarning: Found unknown categories in columns [5] during transform. These unknown categories will be encoded as all zeros\n",
      "  UserWarning,\n",
      "C:\\Users\\maslo\\Anaconda3\\lib\\site-packages\\sklearn\\preprocessing\\_encoders.py:174: UserWarning: Found unknown categories in columns [1, 2, 3, 4] during transform. These unknown categories will be encoded as all zeros\n",
      "  UserWarning,\n",
      "C:\\Users\\maslo\\Anaconda3\\lib\\site-packages\\sklearn\\preprocessing\\_encoders.py:174: UserWarning: Found unknown categories in columns [2, 3, 4] during transform. These unknown categories will be encoded as all zeros\n",
      "  UserWarning,\n",
      "C:\\Users\\maslo\\Anaconda3\\lib\\site-packages\\sklearn\\preprocessing\\_encoders.py:174: UserWarning: Found unknown categories in columns [2] during transform. These unknown categories will be encoded as all zeros\n",
      "  UserWarning,\n",
      "C:\\Users\\maslo\\Anaconda3\\lib\\site-packages\\sklearn\\preprocessing\\_encoders.py:174: UserWarning: Found unknown categories in columns [1, 2, 3, 4] during transform. These unknown categories will be encoded as all zeros\n",
      "  UserWarning,\n"
     ]
    },
    {
     "name": "stdout",
     "output_type": "stream",
     "text": [
      "[0.7305929277294916, 0.633167825223436, 0.6989247311827956, 0.7389742943548387, 0.6949294740705784]\n"
     ]
    },
    {
     "name": "stderr",
     "output_type": "stream",
     "text": [
      "C:\\Users\\maslo\\Anaconda3\\lib\\site-packages\\sklearn\\preprocessing\\_encoders.py:174: UserWarning: Found unknown categories in columns [1, 2, 3, 4] during transform. These unknown categories will be encoded as all zeros\n",
      "  UserWarning,\n",
      "C:\\Users\\maslo\\Anaconda3\\lib\\site-packages\\sklearn\\preprocessing\\_encoders.py:174: UserWarning: Found unknown categories in columns [3, 4, 5] during transform. These unknown categories will be encoded as all zeros\n",
      "  UserWarning,\n",
      "C:\\Users\\maslo\\Anaconda3\\lib\\site-packages\\sklearn\\preprocessing\\_encoders.py:174: UserWarning: Found unknown categories in columns [1, 2, 3, 4] during transform. These unknown categories will be encoded as all zeros\n",
      "  UserWarning,\n",
      "C:\\Users\\maslo\\Anaconda3\\lib\\site-packages\\sklearn\\preprocessing\\_encoders.py:174: UserWarning: Found unknown categories in columns [5] during transform. These unknown categories will be encoded as all zeros\n",
      "  UserWarning,\n",
      "C:\\Users\\maslo\\Anaconda3\\lib\\site-packages\\sklearn\\preprocessing\\_encoders.py:174: UserWarning: Found unknown categories in columns [1, 2, 3, 4] during transform. These unknown categories will be encoded as all zeros\n",
      "  UserWarning,\n",
      "C:\\Users\\maslo\\Anaconda3\\lib\\site-packages\\sklearn\\preprocessing\\_encoders.py:174: UserWarning: Found unknown categories in columns [2, 3, 4] during transform. These unknown categories will be encoded as all zeros\n",
      "  UserWarning,\n",
      "C:\\Users\\maslo\\Anaconda3\\lib\\site-packages\\sklearn\\preprocessing\\_encoders.py:174: UserWarning: Found unknown categories in columns [2] during transform. These unknown categories will be encoded as all zeros\n",
      "  UserWarning,\n",
      "C:\\Users\\maslo\\Anaconda3\\lib\\site-packages\\sklearn\\preprocessing\\_encoders.py:174: UserWarning: Found unknown categories in columns [1, 2, 3, 4] during transform. These unknown categories will be encoded as all zeros\n",
      "  UserWarning,\n"
     ]
    },
    {
     "name": "stdout",
     "output_type": "stream",
     "text": [
      "[0.7282712227646149, 0.6384905660377358, 0.7200887523468168, 0.7474798387096775, 0.7014314928425358]\n"
     ]
    },
    {
     "name": "stderr",
     "output_type": "stream",
     "text": [
      "C:\\Users\\maslo\\Anaconda3\\lib\\site-packages\\sklearn\\preprocessing\\_encoders.py:174: UserWarning: Found unknown categories in columns [1, 2, 3, 4] during transform. These unknown categories will be encoded as all zeros\n",
      "  UserWarning,\n",
      "C:\\Users\\maslo\\Anaconda3\\lib\\site-packages\\sklearn\\preprocessing\\_encoders.py:174: UserWarning: Found unknown categories in columns [3, 4, 5] during transform. These unknown categories will be encoded as all zeros\n",
      "  UserWarning,\n",
      "C:\\Users\\maslo\\Anaconda3\\lib\\site-packages\\sklearn\\preprocessing\\_encoders.py:174: UserWarning: Found unknown categories in columns [1, 2, 3, 4] during transform. These unknown categories will be encoded as all zeros\n",
      "  UserWarning,\n",
      "C:\\Users\\maslo\\Anaconda3\\lib\\site-packages\\sklearn\\preprocessing\\_encoders.py:174: UserWarning: Found unknown categories in columns [5] during transform. These unknown categories will be encoded as all zeros\n",
      "  UserWarning,\n",
      "C:\\Users\\maslo\\Anaconda3\\lib\\site-packages\\sklearn\\preprocessing\\_encoders.py:174: UserWarning: Found unknown categories in columns [1, 2, 3, 4] during transform. These unknown categories will be encoded as all zeros\n",
      "  UserWarning,\n",
      "C:\\Users\\maslo\\Anaconda3\\lib\\site-packages\\sklearn\\preprocessing\\_encoders.py:174: UserWarning: Found unknown categories in columns [2, 3, 4] during transform. These unknown categories will be encoded as all zeros\n",
      "  UserWarning,\n",
      "C:\\Users\\maslo\\Anaconda3\\lib\\site-packages\\sklearn\\preprocessing\\_encoders.py:174: UserWarning: Found unknown categories in columns [2] during transform. These unknown categories will be encoded as all zeros\n",
      "  UserWarning,\n",
      "C:\\Users\\maslo\\Anaconda3\\lib\\site-packages\\sklearn\\preprocessing\\_encoders.py:174: UserWarning: Found unknown categories in columns [1, 2, 3, 4] during transform. These unknown categories will be encoded as all zeros\n",
      "  UserWarning,\n"
     ]
    },
    {
     "name": "stdout",
     "output_type": "stream",
     "text": [
      "[0.7356232884867246, 0.642025819265144, 0.7331967912613073, 0.7535282258064516, 0.7073042839914006]\n"
     ]
    }
   ],
   "source": [
    "# колхозим кросс валидацию\n",
    "use_features_2 = start_categories_original + \\\n",
    "                 start_numeric_features + \\\n",
    "                 new_date_categories_original + \\\n",
    "                 new_features + \\\n",
    "                 new_categories #+ new_add_categories_original\n",
    "\n",
    "# попробовать оставить эти фичи?\n",
    "use_features_2 = [\n",
    "    col for col in use_features_2 \n",
    "    if 'Secret_dwarf_info' not in col\n",
    "]\n",
    "\n",
    "X = df[use_features_2]\n",
    "y = df['Default']\n",
    "\n",
    "param_grid = {\n",
    "    'classifier__n_estimators': [10, 50, 100, 200],\n",
    "    'classifier__max_depth': [None, 5, 10],\n",
    "    'classifier__min_samples_split': [2, 5, 10],\n",
    "    'classifier__min_samples_leaf': [1, 5, 10],\n",
    "    # 'classification__max_features': ['auto', 'sqrt', 'log2'],\n",
    "    # 'classification__criterion': ['gini', 'entropy'],\n",
    "    # 'classification__bootstrap': [True, False]\n",
    "}\n",
    "\n",
    "values = list(param_grid.values())\n",
    "combinations = list(itertools.product(*values))\n",
    "\n",
    "param_combinations = [\n",
    "    dict(zip(param_grid.keys(), combination)) \n",
    "    for combination in combinations\n",
    "]\n",
    "\n",
    "scores = []\n",
    "for combination in param_combinations:\n",
    "    # print(combination)\n",
    "    X_train_2, \\\n",
    "    y_train_2, \\\n",
    "    X_test_2, \\\n",
    "    y_test_2, \\\n",
    "    avg_score_2, \\\n",
    "    model_2, \\\n",
    "    start_categories_encoder_2, \\\n",
    "    new_date_categories_encoder_2, \\\n",
    "    use_features_2 = learn_rf(X, y, 30, combination)\n",
    "    scores.append(avg_score_2)"
   ]
  },
  {
   "cell_type": "code",
   "execution_count": null,
   "metadata": {},
   "outputs": [],
   "source": [
    "# берем argmax массива scores и по этому индексу вынимаем параметры из param_combinations"
   ]
  },
  {
   "cell_type": "code",
   "execution_count": 133,
   "metadata": {},
   "outputs": [
    {
     "data": {
      "text/plain": [
       "<sklearn.calibration.CalibrationDisplay at 0x1bbddc15888>"
      ]
     },
     "execution_count": 133,
     "metadata": {},
     "output_type": "execute_result"
    },
    {
     "data": {
      "image/png": "[encoded data removed]",
      "text/plain": [
       "<Figure size 432x288 with 1 Axes>"
      ]
     },
     "metadata": {
      "needs_background": "light"
     },
     "output_type": "display_data"
    }
   ],
   "source": [
    "calibration = CalibratedClassifierCV(model, cv=3, method='sigmoid')\n",
    "calibration.fit(X_train[use_features], y_train)\n",
    "CalibrationDisplay.from_predictions(y_test, \n",
    "                                    calibration.predict_proba(X_test[use_features])[:,1],\n",
    "                                    n_bins=15)"
   ]
  },
  {
   "cell_type": "markdown",
   "metadata": {},
   "source": [
    "# Применение модели"
   ]
  },
  {
   "cell_type": "code",
   "execution_count": 134,
   "metadata": {},
   "outputs": [],
   "source": [
    "test = pd.read_csv(\"C:/Users/maslo/курсы/karpov_start_ml/5_module/6_lesson/materials/test.csv\")"
   ]
  },
  {
   "cell_type": "code",
   "execution_count": 135,
   "metadata": {},
   "outputs": [],
   "source": [
    "# всё что нужно сделать с датасетом чтобы применить модель\n",
    "test['Successful_deals_count'] = test['Successful_deals_count'].fillna(0)\n",
    "test['Region'] = test['Region'].fillna('Tavern_district_3')\n",
    "test['Secret_dwarf_info_1'] = test['Secret_dwarf_info_1'].fillna('unknown').astype(str)\n",
    "test['Secret_dwarf_info_2'] = test['Secret_dwarf_info_2'].fillna('unknown').astype(str)\n",
    "test['Secret_dwarf_info_3'] = test['Secret_dwarf_info_3'].fillna('unknown').astype(str)\n",
    "test['Deal_date'] = pd.to_datetime(test['Deal_date'], format='%Y-%m-%d')\n",
    "test['First_deal_date'] = pd.to_datetime(test['First_deal_date'], format='%Y-%m-%d')\n",
    "test['First_default_date'] = pd.to_datetime(test['First_default_date'], format='%Y-%m-%d')"
   ]
  },
  {
   "cell_type": "code",
   "execution_count": 136,
   "metadata": {},
   "outputs": [],
   "source": [
    "# энкодер обычных категорий\n",
    "start_categories_original = [\n",
    "    'Region',\n",
    "    'Tavern',\n",
    "    'Hashed_deal_detail_2',\n",
    "    'Hashed_deal_detail_3',\n",
    "    'Hashed_deal_detail_4',\n",
    "    'Gender'\n",
    "]\n",
    "test = apply_category_encoder(test, start_categories_original, start_categories_encoder)"
   ]
  },
  {
   "cell_type": "code",
   "execution_count": 137,
   "metadata": {},
   "outputs": [],
   "source": [
    "test['Deal_date_dayofweek'] = test['Deal_date'].dt.dayofweek\n",
    "test['First_deal_date_dayofweek'] = test['First_deal_date'].dt.dayofweek\n",
    "test['First_default_date_dayofweek'] = test['First_default_date'].dt.dayofweek\n",
    "test['Deal_date_month'] = test['Deal_date'].dt.month\n",
    "test['First_deal_date_month'] = test['First_deal_date'].dt.month\n",
    "test['First_default_date_month'] = test['First_default_date'].dt.month\n",
    "\n",
    "new_date_categories_original = [\n",
    "    'Deal_date_dayofweek', \n",
    "    'First_deal_date_dayofweek', \n",
    "    'First_default_date_dayofweek', \n",
    "    'Deal_date_month', \n",
    "    'First_deal_date_month', \n",
    "    'First_default_date_month'\n",
    "]\n",
    "# энкодер категорий для дат\n",
    "test = apply_category_encoder(\n",
    "    test, \n",
    "    new_date_categories_original,\n",
    "    new_date_categories_encoder\n",
    ")\n",
    "\n",
    "# остальные фичи\n",
    "test['deals_period'] = (test['Deal_date'] - test['First_deal_date']).dt.days\n",
    "test['first_default_period'] = (test['Deal_date'] - test['First_default_date']).dt.days\n",
    "test['first_default_period'] = test['first_default_period'].fillna(0)\n",
    "test['first_default_period_group'] = np.ceil(test['first_default_period'] / 30)\n",
    "test['was_defaulted'] = (~test['first_default_period'].isna()).astype(int)\n",
    "\n",
    "# test = apply_category_encoder(test, ['first_default_period_group',], new_add_categories_encoder)"
   ]
  },
  {
   "cell_type": "code",
   "execution_count": 138,
   "metadata": {},
   "outputs": [],
   "source": [
    "test['Prediction'] = calibration.predict_proba(test[use_features])[:,1]"
   ]
  },
  {
   "cell_type": "code",
   "execution_count": 200,
   "metadata": {},
   "outputs": [],
   "source": [
    "#формируем сабмит\n",
    "test[['Deal_id', 'Prediction']].to_csv('C:/Users/maslo/курсы/karpov_start_ml/5_module/6_lesson/out.csv', index=False)"
   ]
  },
  {
   "cell_type": "markdown",
   "metadata": {},
   "source": [
    "# Анализ тестовых данных"
   ]
  },
  {
   "cell_type": "code",
   "execution_count": 128,
   "metadata": {},
   "outputs": [],
   "source": [
    "# забегая вперед можно сказать что точность на тестовых данных не устроила на бейслайне\n",
    "# так что надо найти различия в раcпределении тестовых и трейне, что-то сделать по этому поводу"
   ]
  },
  {
   "cell_type": "code",
   "execution_count": 129,
   "metadata": {},
   "outputs": [
    {
     "data": {
      "text/plain": [
       "3.2032355915065724"
      ]
     },
     "execution_count": 129,
     "metadata": {},
     "output_type": "execute_result"
    }
   ],
   "source": [
    "len(df) / len(test)"
   ]
  },
  {
   "cell_type": "code",
   "execution_count": 130,
   "metadata": {},
   "outputs": [
    {
     "name": "stdout",
     "output_type": "stream",
     "text": [
      "Secret_dwarf_info_1  count_x  count_y    scale\n",
      "                7.5        3        4 2.402427\n",
      "Secret_dwarf_info_2  count_x  count_y    scale\n",
      "                1.0        2        1 6.406471\n",
      "                2.0        1        1 3.203236\n",
      "Tavern  count_x  count_y  scale\n",
      "    61        3      NaN    NaN\n",
      "    77        2      NaN    NaN\n",
      "    79        7      NaN    NaN\n",
      "    81        2      NaN    NaN\n",
      "Tavern  count_x  count_y    scale\n",
      "    39       68    108.0 2.016852\n",
      "    43        6      6.0 3.203236\n",
      "    44        1      1.0 3.203236\n",
      "    45       11     11.0 3.203236\n",
      "    47        3      1.0 9.609707\n",
      "    58        1      1.0 3.203236\n",
      "Hashed_deal_detail_2  count_x  count_y  scale\n",
      "                  17        2      NaN    NaN\n",
      "                  18        1      NaN    NaN\n",
      "                  25        1      NaN    NaN\n",
      "                  28        1      NaN    NaN\n",
      "                  33        1      NaN    NaN\n",
      "Hashed_deal_detail_2  count_x  count_y    scale\n",
      "                  12        3      1.0 9.609707\n",
      "                   7        5      5.0 3.203236\n",
      "Hashed_deal_detail_3  count_x  count_y  scale\n",
      "                  30        1      NaN    NaN\n",
      "                  34        1      NaN    NaN\n",
      "                  38        1      NaN    NaN\n",
      "Hashed_deal_detail_3  count_x  count_y    scale\n",
      "                  16       24     31.0 2.479924\n",
      "                  19       14     18.0 2.491405\n",
      "                  21        7     10.0 2.242265\n",
      "                  22        6      3.0 6.406471\n",
      "                  23        6      6.0 3.203236\n",
      "                  24        4      2.0 6.406471\n",
      "                  25        4      2.0 6.406471\n",
      "                  26        1      1.0 3.203236\n",
      "Hashed_deal_detail_4  count_x  count_y  scale\n",
      "                22.5        1      NaN    NaN\n",
      "                23.5        1      NaN    NaN\n",
      "                25.5        1      NaN    NaN\n",
      "Hashed_deal_detail_4  count_x  count_y    scale\n",
      "                10.5       10     14.0 2.288025\n",
      "                13.5        8      7.0 3.660841\n",
      "                15.5        1      1.0 3.203236\n",
      "                17.5        3      2.0 4.804853\n",
      "                19.5        1      1.0 3.203236\n",
      "                21.5        1      1.0 3.203236\n",
      "Deal_date_month  count_x  count_y     scale\n",
      "             10      522       97 17.238031\n",
      "             11      283      200  4.532578\n",
      "             12      178      209  2.728115\n"
     ]
    }
   ],
   "source": [
    "# скопом просто проверим и аномалии выведем\n",
    "# значения которые есть в тесте но нет в трейне\n",
    "# значения которых относительно общего объема больше в тесте чем в трейне\n",
    "train_len = len(df)\n",
    "test_len = len(test)\n",
    "\n",
    "for feature in cat_features:\n",
    "    # print(feature)\n",
    "    test_stat = test.groupby(feature)['Deal_id'].count().reset_index().rename(columns={'Deal_id':'count'})\n",
    "    test_stat[feature] = test_stat[feature].astype(str)\n",
    "    train_stat = df.groupby(feature)['Deal_id'].count().reset_index().rename(columns={'Deal_id':'count'})\n",
    "    train_stat[feature] = train_stat[feature].astype(str)\n",
    "    stat_match = pd.merge(test_stat, train_stat, on=feature, how='left')\n",
    "    stat_match['scale_test'] = stat_match['count_x'] / test_len\n",
    "    stat_match['scale_train'] = stat_match['count_y'] / train_len\n",
    "    stat_match['scale'] = stat_match['scale_test'] / stat_match['scale_train']\n",
    "    out_nan = stat_match[stat_match['count_y'].isna()][[feature, 'count_x', 'count_y', 'scale']]\n",
    "    out_anomaly = stat_match[stat_match['scale'] > 2][[feature, 'count_x', 'count_y', 'scale']]\n",
    "    if len(out_nan) > 0:\n",
    "        print(out_nan.to_string(index=False))\n",
    "    if len(out_anomaly) > 0:\n",
    "        print(out_anomaly.to_string(index=False))"
   ]
  },
  {
   "cell_type": "code",
   "execution_count": null,
   "metadata": {},
   "outputs": [],
   "source": [
    "# Здесь интересно доминирование значения 10 для атрибута Deal_date_month в тестовом датасете"
   ]
  },
  {
   "cell_type": "code",
   "execution_count": 146,
   "metadata": {},
   "outputs": [
    {
     "name": "stdout",
     "output_type": "stream",
     "text": [
      "Secret_dwarf_info_1  count_x  count_y\n",
      "                2.5        4      NaN\n",
      "                9.5        1      NaN\n",
      "Secret_dwarf_info_3  count_x  count_y\n",
      "                8.0        1      NaN\n",
      "Tavern  count_x  count_y\n",
      "    10        2      NaN\n",
      "     2        5      NaN\n",
      "    22        5      NaN\n",
      "    23      192      NaN\n",
      "Hashed_deal_detail_2  count_x  count_y\n",
      "                  13        2      NaN\n",
      "                  19        1      NaN\n",
      "                  20        1      NaN\n",
      "                  21        1      NaN\n",
      "                  78        1      NaN\n",
      "Hashed_deal_detail_3  count_x  count_y\n",
      "                  29        2      NaN\n",
      "Hashed_deal_detail_4  count_x  count_y\n",
      "                16.5        1      NaN\n",
      "                32.5        1      NaN\n",
      "                37.5        1      NaN\n",
      "First_default_date_dayofweek  count_x  count_y\n",
      "                         2.0        1      NaN\n",
      "                         3.0        2      NaN\n",
      "Deal_date_month  count_x  count_y\n",
      "              2      182      NaN\n",
      "              3      310      NaN\n",
      "              4      296      NaN\n",
      "              5      317      NaN\n",
      "              6      286      NaN\n",
      "              7      266      NaN\n",
      "              8      421      NaN\n",
      "              9      448      NaN\n"
     ]
    }
   ],
   "source": [
    "# проверим значения которые есть в трейне но нет в тесте\n",
    "train_len = len(df)\n",
    "test_len = len(test)\n",
    "\n",
    "for feature in cat_features:\n",
    "    # print(feature)\n",
    "    test_stat = test.groupby(feature)['Deal_id'].count().reset_index().rename(columns={'Deal_id':'count'})\n",
    "    test_stat[feature] = test_stat[feature].astype(str)\n",
    "    train_stat = df.groupby(feature)['Deal_id'].count().reset_index().rename(columns={'Deal_id':'count'})\n",
    "    train_stat[feature] = train_stat[feature].astype(str)\n",
    "    stat_match = pd.merge(train_stat, test_stat, on=feature, how='left')\n",
    "    out_nan = stat_match[stat_match['count_y'].isna()]\n",
    "    if len(out_nan) > 0:\n",
    "        print(out_nan.to_string(index=False))"
   ]
  }
 ],
 "metadata": {
  "kernelspec": {
   "display_name": "Python 3",
   "language": "python",
   "name": "python3"
  },
  "language_info": {
   "codemirror_mode": {
    "name": "ipython",
    "version": 3
   },
   "file_extension": ".py",
   "mimetype": "text/x-python",
   "name": "python",
   "nbconvert_exporter": "python",
   "pygments_lexer": "ipython3",
   "version": "3.7.4"
  }
 },
 "nbformat": 4,
 "nbformat_minor": 2
}
