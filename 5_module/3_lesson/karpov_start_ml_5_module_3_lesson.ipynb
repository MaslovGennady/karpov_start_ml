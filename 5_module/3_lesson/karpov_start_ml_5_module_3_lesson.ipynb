{
 "cells": [
  {
   "cell_type": "code",
   "execution_count": 7,
   "metadata": {},
   "outputs": [],
   "source": [
    "def merge(a, b):\n",
    "    \n",
    "    # merges two sorted arrays\n",
    "    \n",
    "    if a is None or len(a) == 0:\n",
    "        return b\n",
    "    if b is None or len(b) == 0:\n",
    "        return a\n",
    "    \n",
    "    res = []\n",
    "    a_ind = 0\n",
    "    b_ind = 0\n",
    "    \n",
    "    while a_ind < len(a):\n",
    "        if b_ind >= len(b) or a[a_ind] <= b[b_ind]:\n",
    "            res.append(a[a_ind])\n",
    "            a_ind += 1\n",
    "        else:\n",
    "            res.append(b[b_ind])\n",
    "            b_ind += 1\n",
    "    \n",
    "    if b_ind < len(b):\n",
    "        for i in range(b_ind, len(b)):\n",
    "            res.append(b[b_ind])\n",
    "            \n",
    "    return res"
   ]
  },
  {
   "cell_type": "code",
   "execution_count": 6,
   "metadata": {},
   "outputs": [
    {
     "data": {
      "text/plain": [
       "[1, 2, 3, 5, 6, 7, 8, 13]"
      ]
     },
     "execution_count": 6,
     "metadata": {},
     "output_type": "execute_result"
    }
   ],
   "source": [
    "#a = [1, 3, 5, 8], b = [2, 6, 7, 13] =>[1, 2, 3, 5, 6, 7, 8, 13]\n",
    "merge(a = [1, 3, 5, 8], b = [2, 6, 7, 13])"
   ]
  },
  {
   "cell_type": "code",
   "execution_count": 8,
   "metadata": {},
   "outputs": [
    {
     "data": {
      "text/plain": [
       "[-5, 0, 1, 1, 4, 9]"
      ]
     },
     "execution_count": 8,
     "metadata": {},
     "output_type": "execute_result"
    }
   ],
   "source": [
    "#a = [-5, 0, 4, 9], b = [1, 1] => [-5, 0, 1, 1, 4, 9]\n",
    "merge(a = [-5, 0, 4, 9], b = [1, 1])"
   ]
  },
  {
   "cell_type": "code",
   "execution_count": 9,
   "metadata": {},
   "outputs": [
    {
     "data": {
      "text/plain": [
       "[]"
      ]
     },
     "execution_count": 9,
     "metadata": {},
     "output_type": "execute_result"
    }
   ],
   "source": [
    "#a = [], b = [] => []\n",
    "merge(a = [], b = [])"
   ]
  },
  {
   "cell_type": "code",
   "execution_count": 10,
   "metadata": {},
   "outputs": [
    {
     "data": {
      "text/plain": [
       "[1, 2, 3]"
      ]
     },
     "execution_count": 10,
     "metadata": {},
     "output_type": "execute_result"
    }
   ],
   "source": [
    "#a = [], b = [1, 2, 3] => [1, 2, 3]\n",
    "merge(a = [], b = [1, 2, 3])"
   ]
  },
  {
   "cell_type": "code",
   "execution_count": null,
   "metadata": {},
   "outputs": [],
   "source": []
  },
  {
   "cell_type": "code",
   "execution_count": null,
   "metadata": {},
   "outputs": [],
   "source": []
  },
  {
   "cell_type": "code",
   "execution_count": 33,
   "metadata": {},
   "outputs": [],
   "source": [
    "def is_subsequence(s, t):\n",
    "    if s is None or len(s) == 0 or t is None or len(t) == 0:\n",
    "        return False\n",
    "    s_ind = 0\n",
    "    for t_char in t:\n",
    "        if t_char == s[s_ind]:\n",
    "            s_ind += 1\n",
    "            if s_ind == len(s):\n",
    "                return True\n",
    "\n",
    "    if s_ind == len(s):\n",
    "        return True\n",
    "    else:\n",
    "        return False"
   ]
  },
  {
   "cell_type": "code",
   "execution_count": 34,
   "metadata": {},
   "outputs": [
    {
     "data": {
      "text/plain": [
       "True"
      ]
     },
     "execution_count": 34,
     "metadata": {},
     "output_type": "execute_result"
    }
   ],
   "source": [
    "# s = \"abd\", t = \"aiebkgdle\"\n",
    "is_subsequence(s = \"abd\", t = \"aiebkgdle\")"
   ]
  },
  {
   "cell_type": "code",
   "execution_count": 35,
   "metadata": {},
   "outputs": [
    {
     "data": {
      "text/plain": [
       "False"
      ]
     },
     "execution_count": 35,
     "metadata": {},
     "output_type": "execute_result"
    }
   ],
   "source": [
    "# s = \"axe\", t = \"abgirx\"\n",
    "is_subsequence(s = \"axe\", t = \"abgirx\")"
   ]
  },
  {
   "cell_type": "code",
   "execution_count": null,
   "metadata": {},
   "outputs": [],
   "source": []
  },
  {
   "cell_type": "code",
   "execution_count": null,
   "metadata": {},
   "outputs": [],
   "source": []
  },
  {
   "cell_type": "code",
   "execution_count": 41,
   "metadata": {},
   "outputs": [],
   "source": [
    "def maj_element(nums):\n",
    "    if nums is None or len(nums) == 0:\n",
    "        return None\n",
    "    counter = {}\n",
    "    maj_cnt = len(nums) // 2 if len(nums) > 1 else 1\n",
    "    for elem in nums:\n",
    "        new_cnt = counter.get(elem, 0) + 1\n",
    "        counter[elem] = new_cnt\n",
    "        if new_cnt == maj_cnt:\n",
    "            return elem"
   ]
  },
  {
   "cell_type": "code",
   "execution_count": 42,
   "metadata": {},
   "outputs": [
    {
     "data": {
      "text/plain": [
       "5"
      ]
     },
     "execution_count": 42,
     "metadata": {},
     "output_type": "execute_result"
    }
   ],
   "source": [
    "maj_element(nums = [3, 5, 5, 1])"
   ]
  },
  {
   "cell_type": "code",
   "execution_count": 43,
   "metadata": {},
   "outputs": [
    {
     "data": {
      "text/plain": [
       "0"
      ]
     },
     "execution_count": 43,
     "metadata": {},
     "output_type": "execute_result"
    }
   ],
   "source": [
    "maj_element(nums = [0, 1, 1, 1, 0, 0, 0, 0])"
   ]
  },
  {
   "cell_type": "code",
   "execution_count": 45,
   "metadata": {},
   "outputs": [
    {
     "data": {
      "text/plain": [
       "0"
      ]
     },
     "execution_count": 45,
     "metadata": {},
     "output_type": "execute_result"
    }
   ],
   "source": [
    "maj_element(nums = [0])"
   ]
  },
  {
   "cell_type": "code",
   "execution_count": null,
   "metadata": {},
   "outputs": [],
   "source": []
  },
  {
   "cell_type": "code",
   "execution_count": null,
   "metadata": {},
   "outputs": [],
   "source": []
  },
  {
   "cell_type": "code",
   "execution_count": 164,
   "metadata": {},
   "outputs": [],
   "source": [
    "class Node:\n",
    "    def __init__(self, value, next=None):\n",
    "        self.value = value\n",
    "        self.next = next"
   ]
  },
  {
   "cell_type": "code",
   "execution_count": 165,
   "metadata": {},
   "outputs": [],
   "source": [
    "head = Node(1, next=Node(2, next=Node(3, next=Node(4, next=Node(5, next=Node(6))))))"
   ]
  },
  {
   "cell_type": "code",
   "execution_count": 166,
   "metadata": {},
   "outputs": [],
   "source": [
    "def init_list(data):\n",
    "    if data is None or len(data) == 0:\n",
    "        return None\n",
    "    head = Node(value=data[0])\n",
    "    curr = head\n",
    "    for elem in data[1:]:\n",
    "        curr.next = Node(value=elem)\n",
    "        curr = curr.next\n",
    "    return head"
   ]
  },
  {
   "cell_type": "code",
   "execution_count": 167,
   "metadata": {},
   "outputs": [],
   "source": [
    "head = init_list([1,2,3,4,5,6])"
   ]
  },
  {
   "cell_type": "code",
   "execution_count": 168,
   "metadata": {},
   "outputs": [
    {
     "data": {
      "text/plain": [
       "<__main__.Node at 0x19628b4a6c8>"
      ]
     },
     "execution_count": 168,
     "metadata": {},
     "output_type": "execute_result"
    }
   ],
   "source": [
    "head.next"
   ]
  },
  {
   "cell_type": "code",
   "execution_count": 169,
   "metadata": {},
   "outputs": [],
   "source": [
    "def print_list(head):\n",
    "    if head is None:\n",
    "        print(None)\n",
    "        return\n",
    "    out = []\n",
    "    while head:\n",
    "        out.append(head.value)\n",
    "        head = head.next\n",
    "    print(out)"
   ]
  },
  {
   "cell_type": "code",
   "execution_count": 170,
   "metadata": {},
   "outputs": [
    {
     "name": "stdout",
     "output_type": "stream",
     "text": [
      "[1, 2, 3, 4, 5, 6]\n"
     ]
    }
   ],
   "source": [
    "print_list(head)"
   ]
  },
  {
   "cell_type": "code",
   "execution_count": 171,
   "metadata": {},
   "outputs": [],
   "source": [
    "def rotate_right(head, k):\n",
    "    \n",
    "    if head is None:\n",
    "        return None\n",
    "    \n",
    "    if k == 0:\n",
    "        return head\n",
    "    \n",
    "    list_len = 0\n",
    "    orig_head = head\n",
    "    last = None\n",
    "    new_head = None\n",
    "    \n",
    "    while head:\n",
    "        list_len += 1\n",
    "        head = head.next\n",
    "    \n",
    "    if list_len == 1 or k == list_len:\n",
    "        return orig_head\n",
    "    \n",
    "    head = orig_head\n",
    "    \n",
    "    step = 0\n",
    "    while head:\n",
    "        step += 1\n",
    "        curr = head\n",
    "        if head.next is None:\n",
    "            last = head\n",
    "        head = head.next\n",
    "        if step == list_len - k:\n",
    "            new_head = curr.next\n",
    "            curr.next = None\n",
    "            \n",
    "    last.next = orig_head\n",
    "        \n",
    "    return new_head"
   ]
  },
  {
   "cell_type": "code",
   "execution_count": 176,
   "metadata": {},
   "outputs": [],
   "source": [
    "head = rotate_right(head, 2)"
   ]
  },
  {
   "cell_type": "code",
   "execution_count": 177,
   "metadata": {},
   "outputs": [
    {
     "name": "stdout",
     "output_type": "stream",
     "text": [
      "[1, 2, 3, 4, 5, 6]\n"
     ]
    }
   ],
   "source": [
    "print_list(head)"
   ]
  },
  {
   "cell_type": "code",
   "execution_count": 178,
   "metadata": {},
   "outputs": [
    {
     "name": "stdout",
     "output_type": "stream",
     "text": [
      "[1]\n"
     ]
    }
   ],
   "source": [
    "head = init_list([1])\n",
    "print_list(rotate_right(head, 2))"
   ]
  },
  {
   "cell_type": "code",
   "execution_count": 179,
   "metadata": {},
   "outputs": [
    {
     "name": "stdout",
     "output_type": "stream",
     "text": [
      "None\n"
     ]
    }
   ],
   "source": [
    "head = init_list([])\n",
    "print_list(rotate_right(head, 2))"
   ]
  },
  {
   "cell_type": "code",
   "execution_count": 180,
   "metadata": {},
   "outputs": [
    {
     "name": "stdout",
     "output_type": "stream",
     "text": [
      "None\n"
     ]
    }
   ],
   "source": [
    "head = init_list(None)\n",
    "print_list(rotate_right(head, 2))"
   ]
  },
  {
   "cell_type": "code",
   "execution_count": 181,
   "metadata": {},
   "outputs": [
    {
     "name": "stdout",
     "output_type": "stream",
     "text": [
      "[1, 2, 3]\n"
     ]
    }
   ],
   "source": [
    "head = init_list([1,2,3])\n",
    "print_list(rotate_right(head, 3))"
   ]
  },
  {
   "cell_type": "code",
   "execution_count": null,
   "metadata": {},
   "outputs": [],
   "source": []
  },
  {
   "cell_type": "code",
   "execution_count": null,
   "metadata": {},
   "outputs": [],
   "source": []
  },
  {
   "cell_type": "code",
   "execution_count": 63,
   "metadata": {},
   "outputs": [],
   "source": [
    "def color_sort(nums):\n",
    "    \n",
    "    if nums is None or len(nums) == 0:\n",
    "        return None\n",
    "    \n",
    "    if len(nums) == 1:\n",
    "        return nums\n",
    "\n",
    "    pos = 0\n",
    "    \n",
    "    for color in [0, 1]:\n",
    "        \n",
    "        end_color = 0\n",
    "        start = pos \n",
    "            \n",
    "        for idx in range(start, len(nums)):\n",
    "            pos = idx\n",
    "            if nums[idx] == color:\n",
    "                continue\n",
    "            else:\n",
    "                for idx_inner in range(pos + 1, len(nums)):\n",
    "                    if nums[idx_inner] == color:\n",
    "                        # меняем idx элемент (правильный цвет) с pos элементом (неправильный цвет)\n",
    "                        #print(f'color={color}', f'pos={pos}', nums)\n",
    "                        nums[idx_inner], nums[pos] = nums[pos], nums[idx_inner]\n",
    "                        #print(f'color={color}', f'pos={pos}', nums)\n",
    "                        break\n",
    "                    if nums[idx_inner] != color and idx_inner == len(nums) - 1:\n",
    "                        end_color = 1\n",
    "                        \n",
    "            if end_color == 1:\n",
    "                break\n",
    "                        \n",
    "            \n",
    "    return nums     "
   ]
  },
  {
   "cell_type": "code",
   "execution_count": 64,
   "metadata": {},
   "outputs": [
    {
     "data": {
      "text/plain": [
       "[0, 1, 2]"
      ]
     },
     "execution_count": 64,
     "metadata": {},
     "output_type": "execute_result"
    }
   ],
   "source": [
    "color_sort([0, 1, 2])"
   ]
  },
  {
   "cell_type": "code",
   "execution_count": 60,
   "metadata": {},
   "outputs": [
    {
     "name": "stdout",
     "output_type": "stream",
     "text": [
      "color=0 pos=0 [2, 0, 1, 0, 2]\n",
      "color=0 pos=0 [0, 2, 1, 0, 2]\n",
      "color=0 pos=1 [0, 2, 1, 0, 2]\n",
      "color=0 pos=1 [0, 0, 1, 2, 2]\n"
     ]
    },
    {
     "data": {
      "text/plain": [
       "[0, 0, 1, 2, 2]"
      ]
     },
     "execution_count": 60,
     "metadata": {},
     "output_type": "execute_result"
    }
   ],
   "source": [
    "color_sort([2, 0, 1, 0, 2])"
   ]
  },
  {
   "cell_type": "code",
   "execution_count": 61,
   "metadata": {},
   "outputs": [
    {
     "name": "stdout",
     "output_type": "stream",
     "text": [
      "color=0 pos=0 [2, 1, 0]\n",
      "color=0 pos=0 [0, 1, 2]\n"
     ]
    },
    {
     "data": {
      "text/plain": [
       "[0, 1, 2]"
      ]
     },
     "execution_count": 61,
     "metadata": {},
     "output_type": "execute_result"
    }
   ],
   "source": [
    "color_sort([2, 1, 0])"
   ]
  },
  {
   "cell_type": "code",
   "execution_count": 62,
   "metadata": {},
   "outputs": [
    {
     "name": "stdout",
     "output_type": "stream",
     "text": [
      "color=0 pos=0 [2, 1, 1, 0, 0, 2, 2]\n",
      "color=0 pos=0 [0, 1, 1, 2, 0, 2, 2]\n",
      "color=0 pos=1 [0, 1, 1, 2, 0, 2, 2]\n",
      "color=0 pos=1 [0, 0, 1, 2, 1, 2, 2]\n",
      "color=1 pos=3 [0, 0, 1, 2, 1, 2, 2]\n",
      "color=1 pos=3 [0, 0, 1, 1, 2, 2, 2]\n"
     ]
    },
    {
     "data": {
      "text/plain": [
       "[0, 0, 1, 1, 2, 2, 2]"
      ]
     },
     "execution_count": 62,
     "metadata": {},
     "output_type": "execute_result"
    }
   ],
   "source": [
    "color_sort([2, 1, 1, 0, 0, 2, 2])"
   ]
  },
  {
   "cell_type": "code",
   "execution_count": 66,
   "metadata": {},
   "outputs": [
    {
     "data": {
      "text/plain": [
       "[0, 0, 0, 0, 0, 0, 0, 0, 1, 1, 1, 1, 1, 1, 1, 1, 2, 2, 2, 2, 2, 2, 2, 2]"
      ]
     },
     "execution_count": 66,
     "metadata": {},
     "output_type": "execute_result"
    }
   ],
   "source": [
    "color_sort([0,1,2,0,1,2,0,1,2,0,1,2,0,1,2,0,1,2,0,1,2,0,1,2])"
   ]
  }
 ],
 "metadata": {
  "kernelspec": {
   "display_name": "Python 3",
   "language": "python",
   "name": "python3"
  },
  "language_info": {
   "codemirror_mode": {
    "name": "ipython",
    "version": 3
   },
   "file_extension": ".py",
   "mimetype": "text/x-python",
   "name": "python",
   "nbconvert_exporter": "python",
   "pygments_lexer": "ipython3",
   "version": "3.7.4"
  }
 },
 "nbformat": 4,
 "nbformat_minor": 2
}
