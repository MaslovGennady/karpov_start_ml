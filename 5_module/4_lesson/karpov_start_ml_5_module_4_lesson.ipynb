{
 "cells": [
  {
   "cell_type": "code",
   "execution_count": 46,
   "metadata": {},
   "outputs": [],
   "source": [
    "class Node:\n",
    "    def __init__(self, val=0, left=None, right=None):\n",
    "        self.val = val\n",
    "        self.left = left\n",
    "        self.right = right"
   ]
  },
  {
   "cell_type": "code",
   "execution_count": 100,
   "metadata": {},
   "outputs": [],
   "source": [
    "# Tree 1\n",
    "head_1 = Node(val=1, left=Node(2), right=Node(3))\n",
    "\n",
    "# Tree 2\n",
    "head_2 = Node(val=1, left=None, right=Node(3))\n"
   ]
  },
  {
   "cell_type": "code",
   "execution_count": 101,
   "metadata": {},
   "outputs": [],
   "source": [
    "def are_trees_equal(head_1, head_2):\n",
    "    equal = True\n",
    "    if (head_1 is not None and head_2 is None) or \\\n",
    "        (head_1 is None and head_2 is not None) or \\\n",
    "        (head_1 is not None and head_2 is not None and head_1.val != head_2.val):\n",
    "        equal = False\n",
    "    if equal and head_1 is not None and head_2 is not None:\n",
    "        equal = are_trees_equal(head_1.left, head_2.left)\n",
    "        if equal:\n",
    "            equal = are_trees_equal(head_1.right, head_2.right)\n",
    "    return equal"
   ]
  },
  {
   "cell_type": "code",
   "execution_count": 102,
   "metadata": {},
   "outputs": [
    {
     "data": {
      "text/plain": [
       "False"
      ]
     },
     "execution_count": 102,
     "metadata": {},
     "output_type": "execute_result"
    }
   ],
   "source": [
    "diff_count = 0\n",
    "are_trees_equal(head_1, head_2)"
   ]
  },
  {
   "cell_type": "code",
   "execution_count": null,
   "metadata": {},
   "outputs": [],
   "source": []
  },
  {
   "cell_type": "code",
   "execution_count": null,
   "metadata": {},
   "outputs": [],
   "source": []
  },
  {
   "cell_type": "code",
   "execution_count": 127,
   "metadata": {},
   "outputs": [],
   "source": [
    "class Node:\n",
    "    def __init__(self, val=0, left=None, right=None):\n",
    "        self.val = val\n",
    "        self.left = left\n",
    "        self.right = right"
   ]
  },
  {
   "cell_type": "code",
   "execution_count": 128,
   "metadata": {},
   "outputs": [],
   "source": [
    "head = Node(val=1, left=Node(2), right=Node(3))\n",
    "head.left.left = Node(4)\n",
    "head.left.right = Node(5)\n",
    "head.right.left = Node(6)\n",
    "head.right.right = Node(7)"
   ]
  },
  {
   "cell_type": "code",
   "execution_count": 129,
   "metadata": {},
   "outputs": [],
   "source": [
    "def invert_tree(head):\n",
    "    if head is not None:\n",
    "        head.left, head.right = head.right, head.left\n",
    "        head.left = invert_tree(head.left)\n",
    "        head.right = invert_tree(head.right)\n",
    "    return head"
   ]
  },
  {
   "cell_type": "code",
   "execution_count": 130,
   "metadata": {},
   "outputs": [],
   "source": [
    "head = invert_tree(head)"
   ]
  },
  {
   "cell_type": "code",
   "execution_count": 131,
   "metadata": {},
   "outputs": [
    {
     "data": {
      "text/plain": [
       "(3, 2, 7, 6, 5, 4)"
      ]
     },
     "execution_count": 131,
     "metadata": {},
     "output_type": "execute_result"
    }
   ],
   "source": [
    "head.left.val, head.right.val, head.left.left.val, head.left.right.val, head.right.left.val, head.right.right.val"
   ]
  },
  {
   "cell_type": "code",
   "execution_count": null,
   "metadata": {},
   "outputs": [],
   "source": []
  },
  {
   "cell_type": "code",
   "execution_count": null,
   "metadata": {},
   "outputs": [],
   "source": []
  },
  {
   "cell_type": "code",
   "execution_count": 1,
   "metadata": {},
   "outputs": [],
   "source": [
    "def drown(board):\n",
    "    if not board:\n",
    "        return board\n",
    "\n",
    "    m, n = len(board), len(board[0])\n",
    "    directions = [(0, 1), (0, -1), (1, 0), (-1, 0)]\n",
    "\n",
    "    # Функция для BFS\n",
    "    def bfs(i, j):\n",
    "        queue = [(i, j),]\n",
    "        board[i][j] = '#'  # Помечаем как не подлежащий затоплению\n",
    "        \n",
    "        while queue:\n",
    "            x, y = queue[0]\n",
    "            queue = queue[1:]\n",
    "            for dx, dy in directions:\n",
    "                nx, ny = x + dx, y + dy\n",
    "                if 0 <= nx < m and 0 <= ny < n and board[nx][ny] == 'O':\n",
    "                    board[nx][ny] = '#'  # Помечаем как не подлежащий затоплению\n",
    "                    queue.append((nx, ny))\n",
    "\n",
    "    # BFS для всех 'O' на краях\n",
    "    for i in range(m):\n",
    "        for j in range(n):\n",
    "            if (i == 0 or j == 0 or i == m - 1 or j == n - 1) and board[i][j] == 'O':\n",
    "                bfs(i, j)\n",
    "\n",
    "    # Затопляем остальные 'O'\n",
    "    for i in range(m):\n",
    "        for j in range(n):\n",
    "            if board[i][j] == 'O':\n",
    "                board[i][j] = 'X'  # Затопляем\n",
    "            elif board[i][j] == '#':\n",
    "                board[i][j] = 'O'  # Возвращаем обратно\n",
    "\n",
    "    return board"
   ]
  },
  {
   "cell_type": "code",
   "execution_count": 3,
   "metadata": {},
   "outputs": [
    {
     "data": {
      "text/plain": [
       "[['X', 'X', 'X', 'X'],\n",
       " ['X', 'X', 'X', 'X'],\n",
       " ['X', 'X', 'X', 'X'],\n",
       " ['X', 'O', 'X', 'X']]"
      ]
     },
     "execution_count": 3,
     "metadata": {},
     "output_type": "execute_result"
    }
   ],
   "source": [
    "board = [\n",
    "    ['X', 'X', 'X', 'X'],\n",
    "    ['X', 'O', 'O', 'X'],\n",
    "    ['X', 'X', 'O', 'X'],\n",
    "    ['X', 'O', 'X', 'X']\n",
    "]\n",
    "drown(board)"
   ]
  },
  {
   "cell_type": "code",
   "execution_count": null,
   "metadata": {},
   "outputs": [],
   "source": []
  },
  {
   "cell_type": "code",
   "execution_count": null,
   "metadata": {},
   "outputs": [],
   "source": []
  },
  {
   "cell_type": "code",
   "execution_count": 4,
   "metadata": {},
   "outputs": [],
   "source": [
    "class Node:\n",
    "    def __init__(self, val=0, left=None, right=None):\n",
    "        self.val = val\n",
    "        self.left = left\n",
    "        self.right = right"
   ]
  },
  {
   "cell_type": "code",
   "execution_count": 5,
   "metadata": {},
   "outputs": [],
   "source": [
    "def kth_smallest(root: Node, k: int) -> int:\n",
    "    stack = []\n",
    "    current = root\n",
    "    count = 0\n",
    "\n",
    "    while True:\n",
    "        # Идем в самый левый узел\n",
    "        while current:\n",
    "            stack.append(current)\n",
    "            current = current.left\n",
    "\n",
    "        # Если стек пуст, значит, мы обошли все элементы\n",
    "        if not stack:\n",
    "            break\n",
    "\n",
    "        # Извлекаем верхний элемент из стека\n",
    "        node = stack.pop()\n",
    "        count += 1\n",
    "\n",
    "        # Если это k-ый элемент, возвращаем его значение\n",
    "        if count == k:\n",
    "            return node.val\n",
    "\n",
    "        # Переходим к правому поддереву\n",
    "        current = node.right\n",
    "\n",
    "    # Если k больше количества элементов в дереве\n",
    "    return None"
   ]
  },
  {
   "cell_type": "code",
   "execution_count": null,
   "metadata": {},
   "outputs": [],
   "source": []
  }
 ],
 "metadata": {
  "kernelspec": {
   "display_name": "Python 3",
   "language": "python",
   "name": "python3"
  },
  "language_info": {
   "codemirror_mode": {
    "name": "ipython",
    "version": 3
   },
   "file_extension": ".py",
   "mimetype": "text/x-python",
   "name": "python",
   "nbconvert_exporter": "python",
   "pygments_lexer": "ipython3",
   "version": "3.7.4"
  }
 },
 "nbformat": 4,
 "nbformat_minor": 2
}
