{
 "cells": [
  {
   "cell_type": "code",
   "execution_count": 50,
   "metadata": {},
   "outputs": [],
   "source": [
    "def merge(a, b):\n",
    "    \n",
    "    # merges two sorted arrays\n",
    "    \n",
    "    if a is None or len(a) == 0:\n",
    "        return b\n",
    "    if b is None or len(b) == 0:\n",
    "        return a\n",
    "    \n",
    "    res = []\n",
    "    a_ind = 0\n",
    "    b_ind = 0\n",
    "    \n",
    "    while a_ind < len(a):\n",
    "        if b_ind >= len(b) or a[a_ind] <= b[b_ind]:\n",
    "            res.append(a[a_ind])\n",
    "            print(f'added a = {a[a_ind]}')\n",
    "            a_ind += 1\n",
    "        else:\n",
    "            res.append(b[b_ind])\n",
    "            print(f'added b = {b[b_ind]}')\n",
    "            b_ind += 1\n",
    "    \n",
    "    if b_ind < len(b):\n",
    "        for i in range(b_ind, len(b)):\n",
    "            print(f'last added b = {b[b_ind]} ind = {b_ind}')\n",
    "            res.append(b[i])\n",
    "            \n",
    "    return res"
   ]
  },
  {
   "cell_type": "code",
   "execution_count": 26,
   "metadata": {},
   "outputs": [
    {
     "data": {
      "text/plain": [
       "[1]"
      ]
     },
     "execution_count": 26,
     "metadata": {},
     "output_type": "execute_result"
    }
   ],
   "source": [
    "merge([1,], None)"
   ]
  },
  {
   "cell_type": "code",
   "execution_count": 27,
   "metadata": {},
   "outputs": [
    {
     "data": {
      "text/plain": [
       "[1]"
      ]
     },
     "execution_count": 27,
     "metadata": {},
     "output_type": "execute_result"
    }
   ],
   "source": [
    "merge(None, [1,])"
   ]
  },
  {
   "cell_type": "code",
   "execution_count": 28,
   "metadata": {},
   "outputs": [
    {
     "data": {
      "text/plain": [
       "[1, 2]"
      ]
     },
     "execution_count": 28,
     "metadata": {},
     "output_type": "execute_result"
    }
   ],
   "source": [
    "merge([2,], [1,])"
   ]
  },
  {
   "cell_type": "code",
   "execution_count": 29,
   "metadata": {},
   "outputs": [
    {
     "data": {
      "text/plain": [
       "[1, 2, 3]"
      ]
     },
     "execution_count": 29,
     "metadata": {},
     "output_type": "execute_result"
    }
   ],
   "source": [
    "merge([2,3], [1,])"
   ]
  },
  {
   "cell_type": "code",
   "execution_count": 3,
   "metadata": {},
   "outputs": [
    {
     "data": {
      "text/plain": [
       "[1, 2]"
      ]
     },
     "execution_count": 3,
     "metadata": {},
     "output_type": "execute_result"
    }
   ],
   "source": [
    "merge([1,], [2,])"
   ]
  },
  {
   "cell_type": "code",
   "execution_count": 51,
   "metadata": {},
   "outputs": [
    {
     "name": "stdout",
     "output_type": "stream",
     "text": [
      "added a = 1\n",
      "last added b = 1 ind = 0\n",
      "last added b = 1 ind = 0\n"
     ]
    },
    {
     "data": {
      "text/plain": [
       "[1, 1, 5]"
      ]
     },
     "execution_count": 51,
     "metadata": {},
     "output_type": "execute_result"
    }
   ],
   "source": [
    "merge([1,], [1,5])"
   ]
  },
  {
   "cell_type": "code",
   "execution_count": 54,
   "metadata": {},
   "outputs": [],
   "source": [
    "def merge_sort(arr):\n",
    "    #print(f'merge_sort in={arr}')\n",
    "    if arr is None or len(arr) == 0:\n",
    "        return arr\n",
    "    \n",
    "    def merge(a, b):\n",
    "        #print(f'merge in a={a}, b={b}')\n",
    "        # merges two sorted arrays\n",
    "        \n",
    "        if a is None or len(a) == 0:\n",
    "            return b\n",
    "        if b is None or len(b) == 0:\n",
    "            return a\n",
    "        \n",
    "        res = []\n",
    "        a_ind = 0\n",
    "        b_ind = 0\n",
    "        \n",
    "        while a_ind < len(a):\n",
    "            if b_ind >= len(b) or a[a_ind] <= b[b_ind]:\n",
    "                res.append(a[a_ind])\n",
    "                a_ind += 1\n",
    "            else:\n",
    "                res.append(b[b_ind])\n",
    "                b_ind += 1\n",
    "        \n",
    "        if b_ind < len(b):\n",
    "            for i in range(b_ind, len(b)):\n",
    "                res.append(b[i])\n",
    "          \n",
    "        #print(f'merge out res={res}')\n",
    "        return res\n",
    "    \n",
    "    if len(arr) > 1:\n",
    "        arr = merge(merge_sort(arr[:len(arr) // 2]), merge_sort(arr[len(arr) // 2:]))\n",
    "    else:\n",
    "        return arr\n",
    "        #print(f'merge_sort out={arr}')\n",
    "        \n",
    "    #print(f'merge_sort out={arr}')\n",
    "    return arr "
   ]
  },
  {
   "cell_type": "code",
   "execution_count": 19,
   "metadata": {},
   "outputs": [
    {
     "data": {
      "text/plain": [
       "[-5, -4, -3, -2, -1, 1, 2, 3]"
      ]
     },
     "execution_count": 19,
     "metadata": {},
     "output_type": "execute_result"
    }
   ],
   "source": [
    "merge_sort([3,2,1,-1,-2,-3,-4,-5])"
   ]
  },
  {
   "cell_type": "code",
   "execution_count": 22,
   "metadata": {},
   "outputs": [],
   "source": [
    "merge_sort(None)"
   ]
  },
  {
   "cell_type": "code",
   "execution_count": 21,
   "metadata": {},
   "outputs": [
    {
     "data": {
      "text/plain": [
       "[]"
      ]
     },
     "execution_count": 21,
     "metadata": {},
     "output_type": "execute_result"
    }
   ],
   "source": [
    "merge_sort([])"
   ]
  },
  {
   "cell_type": "code",
   "execution_count": 23,
   "metadata": {},
   "outputs": [
    {
     "data": {
      "text/plain": [
       "[1]"
      ]
     },
     "execution_count": 23,
     "metadata": {},
     "output_type": "execute_result"
    }
   ],
   "source": [
    "merge_sort([1,])"
   ]
  },
  {
   "cell_type": "code",
   "execution_count": 24,
   "metadata": {},
   "outputs": [
    {
     "data": {
      "text/plain": [
       "[1, 2]"
      ]
     },
     "execution_count": 24,
     "metadata": {},
     "output_type": "execute_result"
    }
   ],
   "source": [
    "merge_sort([1,2])"
   ]
  },
  {
   "cell_type": "code",
   "execution_count": 55,
   "metadata": {},
   "outputs": [
    {
     "data": {
      "text/plain": [
       "[1, 1, 1, 2, 3, 3, 3, 5, 6, 7, 8]"
      ]
     },
     "execution_count": 55,
     "metadata": {},
     "output_type": "execute_result"
    }
   ],
   "source": [
    "merge_sort([2,3,1,5,1,3,1,3,6,7,8])"
   ]
  },
  {
   "cell_type": "code",
   "execution_count": null,
   "metadata": {},
   "outputs": [],
   "source": []
  },
  {
   "cell_type": "code",
   "execution_count": null,
   "metadata": {},
   "outputs": [],
   "source": []
  },
  {
   "cell_type": "code",
   "execution_count": 94,
   "metadata": {},
   "outputs": [],
   "source": [
    "import pprint"
   ]
  },
  {
   "cell_type": "code",
   "execution_count": 107,
   "metadata": {},
   "outputs": [],
   "source": [
    "def p_print(data, info):\n",
    "    print(info)\n",
    "    for list_ in data:\n",
    "        print(list_)\n",
    "    print()"
   ]
  },
  {
   "cell_type": "code",
   "execution_count": 179,
   "metadata": {},
   "outputs": [],
   "source": [
    "# минимальная стоимость это\n",
    "# grid[i][j] = min(grid[i-1][j], grid[i][j-1]) + grid[i][j] \n",
    "\n",
    "def min_path(grid):\n",
    "    \n",
    "    if grid is None or len(grid) == 0 or grid[0] is None or len(grid[0]) == 0:\n",
    "        return None\n",
    "    \n",
    "    for i in range(1, len(grid[0])):\n",
    "        grid[0][i] = grid[0][i] + grid[0][i-1]\n",
    "        #p_print(grid, '')\n",
    "    \n",
    "    for i in range(1, len(grid)):\n",
    "        grid[i][0] = grid[i][0] + grid[i-1][0]\n",
    "        #p_print(grid, '')\n",
    "    \n",
    "    for i in range(1, len(grid)):\n",
    "        for j in range(1, len(grid[0])):\n",
    "            grid[i][j] = min(grid[i][j-1], grid[i-1][j]) + grid[i][j]\n",
    "            # p_print(grid, '')\n",
    "    \n",
    "    return grid[len(grid) - 1][len(grid[0]) - 1]"
   ]
  },
  {
   "cell_type": "code",
   "execution_count": 180,
   "metadata": {},
   "outputs": [
    {
     "data": {
      "text/plain": [
       "8"
      ]
     },
     "execution_count": 180,
     "metadata": {},
     "output_type": "execute_result"
    }
   ],
   "source": [
    "min_path(\n",
    "    [\n",
    "        [1, 3, 1],\n",
    "        [1, 5, 1],\n",
    "        [4, 2, 1],\n",
    "        [4, 2, 1],\n",
    "    ]\n",
    ")"
   ]
  },
  {
   "cell_type": "code",
   "execution_count": 181,
   "metadata": {},
   "outputs": [
    {
     "data": {
      "text/plain": [
       "10"
      ]
     },
     "execution_count": 181,
     "metadata": {},
     "output_type": "execute_result"
    }
   ],
   "source": [
    "min_path(\n",
    "    [\n",
    "        [1, 2, 3],\n",
    "        [1, 2, 3],\n",
    "        [1, 2, 3],\n",
    "        [1, 2, 3],\n",
    "        [1, 2, 3],\n",
    "    ]\n",
    ")"
   ]
  },
  {
   "cell_type": "code",
   "execution_count": null,
   "metadata": {},
   "outputs": [],
   "source": []
  },
  {
   "cell_type": "code",
   "execution_count": null,
   "metadata": {},
   "outputs": [],
   "source": []
  },
  {
   "cell_type": "code",
   "execution_count": 8,
   "metadata": {},
   "outputs": [],
   "source": [
    "def last_stone(stones):\n",
    "    import heapq\n",
    "    # Создаем кучу из камней\n",
    "    stones = [-stone for stone in stones]  # Используем отрицательные значения для макс-кучи\n",
    "    heapq.heapify(stones)\n",
    "\n",
    "    while len(stones) > 1:\n",
    "        # Извлекаем два самых тяжелых камня\n",
    "        x = -heapq.heappop(stones)\n",
    "        y = -heapq.heappop(stones)\n",
    "\n",
    "        # Если веса камней не равны, добавляем новый камень\n",
    "        if x != y:\n",
    "            heapq.heappush(stones, -abs(y - x))\n",
    "\n",
    "    # Если остался один камень, возвращаем его вес, иначе возвращаем 0\n",
    "    return -stones[0] if stones else 0"
   ]
  },
  {
   "cell_type": "code",
   "execution_count": 9,
   "metadata": {},
   "outputs": [
    {
     "data": {
      "text/plain": [
       "0"
      ]
     },
     "execution_count": 9,
     "metadata": {},
     "output_type": "execute_result"
    }
   ],
   "source": [
    "last_stone([1,1,2,2])"
   ]
  },
  {
   "cell_type": "code",
   "execution_count": 10,
   "metadata": {},
   "outputs": [
    {
     "data": {
      "text/plain": [
       "1"
      ]
     },
     "execution_count": 10,
     "metadata": {},
     "output_type": "execute_result"
    }
   ],
   "source": [
    "last_stone([1,1,2,2,3])"
   ]
  },
  {
   "cell_type": "code",
   "execution_count": 11,
   "metadata": {},
   "outputs": [
    {
     "data": {
      "text/plain": [
       "0"
      ]
     },
     "execution_count": 11,
     "metadata": {},
     "output_type": "execute_result"
    }
   ],
   "source": [
    "last_stone([])"
   ]
  },
  {
   "cell_type": "code",
   "execution_count": null,
   "metadata": {},
   "outputs": [],
   "source": []
  },
  {
   "cell_type": "code",
   "execution_count": null,
   "metadata": {},
   "outputs": [],
   "source": []
  },
  {
   "cell_type": "code",
   "execution_count": 28,
   "metadata": {},
   "outputs": [],
   "source": [
    "def kth_largest(array, k):\n",
    "    \n",
    "    if array is None or len(array) == 0:\n",
    "        return None\n",
    "    \n",
    "    import random\n",
    "    \n",
    "    def quickselect(array, k):\n",
    "    \n",
    "        if len(array) == 1:\n",
    "            return - array[0]\n",
    "    \n",
    "        # Выбираем случайный опорный элемент\n",
    "        pivot_index = random.randint(0, len(array) - 1)\n",
    "        pivot = array[pivot_index]\n",
    "    \n",
    "        # Разделяем массив на три части\n",
    "        left = [x for i, x in enumerate(array) if x < pivot and i != pivot_index]\n",
    "        middle = [x for x in array if x == pivot]\n",
    "        right = [x for i, x in enumerate(array) if x > pivot and i != pivot_index]\n",
    "    \n",
    "        # Рекурсивно ищем k-й наименьший элемент\n",
    "        if k <= len(left):\n",
    "            return quickselect(left, k)\n",
    "        elif k <= len(left) + len(middle):\n",
    "            return - middle[0]\n",
    "        else:\n",
    "            return quickselect(right, k - len(left) - len(middle))\n",
    "\n",
    "    # Преобразуем задачу в поиск k-го наименьшего элемента в массиве, перевернутом по значению\n",
    "    return quickselect([-x for x in array], k)\n",
    "\n"
   ]
  },
  {
   "cell_type": "code",
   "execution_count": 29,
   "metadata": {},
   "outputs": [
    {
     "data": {
      "text/plain": [
       "2"
      ]
     },
     "execution_count": 29,
     "metadata": {},
     "output_type": "execute_result"
    }
   ],
   "source": [
    "kth_largest([1,2,3,4], 3)"
   ]
  },
  {
   "cell_type": "code",
   "execution_count": 30,
   "metadata": {},
   "outputs": [],
   "source": [
    "kth_largest([], 3)"
   ]
  },
  {
   "cell_type": "code",
   "execution_count": null,
   "metadata": {},
   "outputs": [],
   "source": []
  }
 ],
 "metadata": {
  "kernelspec": {
   "display_name": "Python 3",
   "language": "python",
   "name": "python3"
  },
  "language_info": {
   "codemirror_mode": {
    "name": "ipython",
    "version": 3
   },
   "file_extension": ".py",
   "mimetype": "text/x-python",
   "name": "python",
   "nbconvert_exporter": "python",
   "pygments_lexer": "ipython3",
   "version": "3.7.4"
  }
 },
 "nbformat": 4,
 "nbformat_minor": 2
}
